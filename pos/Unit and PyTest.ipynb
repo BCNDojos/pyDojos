{
 "metadata": {
  "celltoolbar": "Slideshow",
  "name": "",
  "signature": "sha256:8bb5e557235ba176c73cb10376007601f9a1785698faaf01636e3b300ec941c4"
 },
 "nbformat": 3,
 "nbformat_minor": 0,
 "worksheets": [
  {
   "cells": [
    {
     "cell_type": "markdown",
     "metadata": {
      "slideshow": {
       "slide_type": "slide"
      }
     },
     "source": [
      "# UNITTEST Y PYTEST"
     ]
    },
    {
     "cell_type": "markdown",
     "metadata": {
      "slideshow": {
       "slide_type": "fragment"
      }
     },
     "source": [
      "En este dojo, vamos a trabajar sobre una kata en la que vamos a escribir la l\u00f3gica de un terminal punto de venta. La idea es desarrollar la kata primero en unittest, y luego ver c\u00f3mo encaja pytest."
     ]
    },
    {
     "cell_type": "markdown",
     "metadata": {
      "slideshow": {
       "slide_type": "slide"
      }
     },
     "source": [
      "## Primer pomodoro: La clase TPV"
     ]
    },
    {
     "cell_type": "markdown",
     "metadata": {
      "slideshow": {
       "slide_type": "fragment"
      }
     },
     "source": [
      "En el primer pomodoro, plantearemos una primera aproximaci\u00f3n a la clase TPV. Por un lado, es necesario definir un m\u00e9todo para a\u00f1adir productos a la compra. De momento, ser\u00e1 suficiente con el siguiente prototipo:\n",
      "\n",
      "    pos.add(codigo, cantidad)\n",
      "\n",
      "    >>> pos = POS()\n",
      "    >>> pos.scan('293002910392', 2)\n",
      "    >>> pos.scan('098364849832', 10)\n",
      "\n",
      "Adem\u00e1s, tambi\u00e9n es necesario definir una forma de ver la lista de la compra:\n",
      "\n",
      "    pos.list()\n",
      "\n",
      "    >>> pos.list()\n",
      "    [('293002910392', 2), ('098364849832', 10)]\n",
      "\n",
      "Por supuesto, es necesario que los art\u00edculos que se a\u00f1adan con `scan` se puedan ver en la salida de `list`."
     ]
    },
    {
     "cell_type": "markdown",
     "metadata": {
      "slideshow": {
       "slide_type": "subslide"
      }
     },
     "source": [
      "Una posible soluci\u00f3n podr\u00eda ser, utilizando el siguiente test:"
     ]
    },
    {
     "cell_type": "code",
     "collapsed": false,
     "input": [
      "%%writefile test_pos.py\n",
      "import unittest\n",
      "from pos import POS\n",
      "\n",
      "class TestPOS(unittest.TestCase):\n",
      "    def test_simple_list(self):\n",
      "        pos = POS()\n",
      "        pos.scan('293002910392', 2)\n",
      "        result = pos.list()\n",
      "        self.assertEqual(len(result), 1)\n",
      "        self.assertEqual(result[0][0], '293002910392')\n",
      "        self.assertEqual(result[0][1], 2)\n",
      "        pos.scan('098364849832', 10)\n",
      "        self.assertEqual(len(result), 2)\n",
      "        self.assertEqual(result[1][0], '098364849832')\n",
      "        self.assertEqual(result[1][1], 10)\n",
      "        \n",
      "if __name__ == '__main__':\n",
      "    unittest.main()"
     ],
     "language": "python",
     "metadata": {
      "slideshow": {
       "slide_type": "fragment"
      }
     },
     "outputs": [
      {
       "output_type": "stream",
       "stream": "stdout",
       "text": [
        "Writing test_pos.py\n"
       ]
      }
     ],
     "prompt_number": 1
    },
    {
     "cell_type": "markdown",
     "metadata": {
      "slideshow": {
       "slide_type": "fragment"
      }
     },
     "source": [
      "Con el c\u00f3digo b\u00e1sico siguiente:"
     ]
    },
    {
     "cell_type": "code",
     "collapsed": false,
     "input": [
      "%%writefile pos.py\n",
      "class POS(object):\n",
      "    def scan(self, code, quantity):\n",
      "        pass\n",
      "    \n",
      "    def list(self):\n",
      "        return []"
     ],
     "language": "python",
     "metadata": {
      "slideshow": {
       "slide_type": "fragment"
      }
     },
     "outputs": [
      {
       "output_type": "stream",
       "stream": "stdout",
       "text": [
        "Writing pos.py\n"
       ]
      }
     ],
     "prompt_number": 2
    },
    {
     "cell_type": "markdown",
     "metadata": {
      "slideshow": {
       "slide_type": "subslide"
      }
     },
     "source": [
      "Que nos dar\u00e1 un resultado negativo:"
     ]
    },
    {
     "cell_type": "code",
     "collapsed": false,
     "input": [
      "%%bash\n",
      "python test_pos.py"
     ],
     "language": "python",
     "metadata": {
      "slideshow": {
       "slide_type": "fragment"
      }
     },
     "outputs": [
      {
       "output_type": "stream",
       "stream": "stderr",
       "text": [
        "F\n",
        "======================================================================\n",
        "FAIL: test_simple_list (__main__.TestPOS)\n",
        "----------------------------------------------------------------------\n",
        "Traceback (most recent call last):\n",
        "  File \"test_pos.py\", line 9, in test_simple_list\n",
        "    self.assertEqual(len(result), 1)\n",
        "AssertionError: 0 != 1\n",
        "\n",
        "----------------------------------------------------------------------\n",
        "Ran 1 test in 0.000s\n",
        "\n",
        "FAILED (failures=1)\n"
       ]
      }
     ],
     "prompt_number": 3
    },
    {
     "cell_type": "markdown",
     "metadata": {
      "slideshow": {
       "slide_type": "subslide"
      }
     },
     "source": [
      "Llegar al siguiente c\u00f3digo:"
     ]
    },
    {
     "cell_type": "code",
     "collapsed": false,
     "input": [
      "%%writefile POS.py\n",
      "class POS(object):\n",
      "    def __init__(self):\n",
      "        self.scanned = []\n",
      "        \n",
      "    def scan(self, code, quantity):\n",
      "        self.scanned.append((code, quantity))\n",
      "        \n",
      "    def list(self):\n",
      "        return self.scanned"
     ],
     "language": "python",
     "metadata": {
      "slideshow": {
       "slide_type": "fragment"
      }
     },
     "outputs": [
      {
       "output_type": "stream",
       "stream": "stdout",
       "text": [
        "Overwriting POS.py\n"
       ]
      }
     ],
     "prompt_number": 4
    },
    {
     "cell_type": "markdown",
     "metadata": {
      "slideshow": {
       "slide_type": "subslide"
      }
     },
     "source": [
      "Que podemos probar con:"
     ]
    },
    {
     "cell_type": "code",
     "collapsed": false,
     "input": [
      "%%bash\n",
      "python test_pos.py"
     ],
     "language": "python",
     "metadata": {
      "slideshow": {
       "slide_type": "fragment"
      }
     },
     "outputs": [
      {
       "output_type": "stream",
       "stream": "stderr",
       "text": [
        ".\n",
        "----------------------------------------------------------------------\n",
        "Ran 1 test in 0.000s\n",
        "\n",
        "OK\n"
       ]
      }
     ],
     "prompt_number": 5
    },
    {
     "cell_type": "markdown",
     "metadata": {
      "slideshow": {
       "slide_type": "slide"
      }
     },
     "source": [
      "## Segundo Pomodoro: Los art\u00edculos"
     ]
    },
    {
     "cell_type": "markdown",
     "metadata": {
      "slideshow": {
       "slide_type": "fragment"
      }
     },
     "source": [
      "Al ver la salida del m\u00e9todo `list`, se ve claramente que el art\u00edculo no queda identificado, tampoco se conoce ni su precio unitario ni el precio para la cantidad adquirida, as\u00ed que vamos a modificar el c\u00f3digo para que el m\u00e9todo `list` se comporte de otra forma posible, es decir, sin dejar de hacer lo anterior:\n",
      "\n",
      "    >>> pos.list()\n",
      "    [('293002910392', 2, 5.00, 10.00), ('098364849832', 10, 0.95, 9.50)]\n"
     ]
    },
    {
     "cell_type": "markdown",
     "metadata": {
      "slideshow": {
       "slide_type": "subslide"
      }
     },
     "source": [
      "Para esto, podr\u00edamos haber a\u00f1adido el siguiente test:"
     ]
    },
    {
     "cell_type": "code",
     "collapsed": false,
     "input": [
      "%%writefile test_pos.py\n",
      "import unittest\n",
      "from pos import POS\n",
      "\n",
      "class TestPOS(unittest.TestCase):\n",
      "    def setUp(self):\n",
      "        prices = None\n",
      "        test_name = self.id().split('.')[-1]\n",
      "        if test_name == 'test_priced_list':\n",
      "            prices = {\n",
      "                '293002910392': 5.00,\n",
      "                '098364849832': 0.95,\n",
      "            }\n",
      "        self.pos = POS(prices)\n",
      "        \n",
      "    def test_simple_list(self):\n",
      "        self.pos.scan('293002910392', 2)\n",
      "        result = self.pos.list()\n",
      "        self.assertEqual(len(result), 1)\n",
      "        self.assertEqual(result[0][0], '293002910392')\n",
      "        self.assertEqual(result[0][1], 2)\n",
      "        self.pos.scan('098364849832', 10)\n",
      "        result = self.pos.list()\n",
      "        self.assertEqual(len(result), 2)\n",
      "        self.assertEqual(result[1][0], '098364849832')\n",
      "        self.assertEqual(result[1][1], 10)\n",
      "\n",
      "    def test_priced_list(self):\n",
      "        self.pos.scan('293002910392', 2)\n",
      "        result = self.pos.list()\n",
      "        self.assertEqual(len(result), 1)\n",
      "        self.assertEqual(result[0][0], '293002910392')\n",
      "        self.assertEqual(result[0][1], 2)\n",
      "        self.assertEqual(result[0][2], 5.00)\n",
      "        self.assertEqual(result[0][3], 10.00)\n",
      "        self.pos.scan('098364849832', 10)\n",
      "        result = self.pos.list()\n",
      "        self.assertEqual(len(result), 2)\n",
      "        self.assertEqual(result[1][0], '098364849832')\n",
      "        self.assertEqual(result[1][1], 10)\n",
      "        self.assertEqual(result[1][2], 0.95)\n",
      "        self.assertEqual(result[1][3], 9.50)\n",
      "        \n",
      "if __name__ == '__main__':\n",
      "    unittest.main()"
     ],
     "language": "python",
     "metadata": {
      "slideshow": {
       "slide_type": "fragment"
      }
     },
     "outputs": [
      {
       "output_type": "stream",
       "stream": "stdout",
       "text": [
        "Overwriting test_pos.py\n"
       ]
      }
     ],
     "prompt_number": 6
    },
    {
     "cell_type": "markdown",
     "metadata": {
      "slideshow": {
       "slide_type": "subslide"
      }
     },
     "source": [
      "Con el siguiente c\u00f3digo base modificado:"
     ]
    },
    {
     "cell_type": "code",
     "collapsed": false,
     "input": [
      "%%writefile POS.py\n",
      "class POS(object):\n",
      "    def __init__(self, prices=None):\n",
      "        self.scanned = []\n",
      "        self.prices = {}\n",
      "        \n",
      "    def scan(self, code, quantity):\n",
      "        self.scanned.append((code, quantity))\n",
      "        \n",
      "    def list(self):\n",
      "        if self.prices is None:\n",
      "            return self.scanned\n",
      "        else:\n",
      "            return [('', 0, 0, 0), ('', 0, 0, 0)]"
     ],
     "language": "python",
     "metadata": {
      "slideshow": {
       "slide_type": "fragment"
      }
     },
     "outputs": [
      {
       "output_type": "stream",
       "stream": "stdout",
       "text": [
        "Overwriting POS.py\n"
       ]
      }
     ],
     "prompt_number": 7
    },
    {
     "cell_type": "markdown",
     "metadata": {
      "slideshow": {
       "slide_type": "subslide"
      }
     },
     "source": [
      "Verificamos que el c\u00f3digo actual no valida el nuevo test:"
     ]
    },
    {
     "cell_type": "code",
     "collapsed": false,
     "input": [
      "%%bash\n",
      "python test_pos.py"
     ],
     "language": "python",
     "metadata": {
      "slideshow": {
       "slide_type": "fragment"
      }
     },
     "outputs": [
      {
       "output_type": "stream",
       "stream": "stderr",
       "text": [
        "FF\n",
        "======================================================================\n",
        "FAIL: test_priced_list (__main__.TestPOS)\n",
        "----------------------------------------------------------------------\n",
        "Traceback (most recent call last):\n",
        "  File \"test_pos.py\", line 30, in test_priced_list\n",
        "    self.assertEqual(len(result), 1)\n",
        "AssertionError: 2 != 1\n",
        "\n",
        "======================================================================\n",
        "FAIL: test_simple_list (__main__.TestPOS)\n",
        "----------------------------------------------------------------------\n",
        "Traceback (most recent call last):\n",
        "  File \"test_pos.py\", line 18, in test_simple_list\n",
        "    self.assertEqual(len(result), 1)\n",
        "AssertionError: 2 != 1\n",
        "\n",
        "----------------------------------------------------------------------\n",
        "Ran 2 tests in 0.001s\n",
        "\n",
        "FAILED (failures=2)\n"
       ]
      }
     ],
     "prompt_number": 8
    },
    {
     "cell_type": "markdown",
     "metadata": {
      "slideshow": {
       "slide_type": "subslide"
      }
     },
     "source": [
      "Llegando a \u00e9ste c\u00f3digo:"
     ]
    },
    {
     "cell_type": "code",
     "collapsed": false,
     "input": [
      "%%writefile POS.py\n",
      "class POS(object):\n",
      "    def __init__(self, prices = None):\n",
      "        self.scanned = []\n",
      "        self.prices = prices\n",
      "        \n",
      "    def scan(self, code, quantity):\n",
      "        self.scanned.append((code, quantity))\n",
      "\n",
      "    def get_line(self, product):\n",
      "        return product[0], product[1], self.prices[product[0]], self.prices[product[0]] * product[1]\n",
      "\n",
      "    def list(self):\n",
      "        if self.prices is None:\n",
      "            return self.scanned\n",
      "        return [self.get_line(product) for product in self.scanned]"
     ],
     "language": "python",
     "metadata": {
      "slideshow": {
       "slide_type": "fragment"
      }
     },
     "outputs": [
      {
       "output_type": "stream",
       "stream": "stdout",
       "text": [
        "Overwriting POS.py\n"
       ]
      }
     ],
     "prompt_number": 9
    },
    {
     "cell_type": "markdown",
     "metadata": {
      "slideshow": {
       "slide_type": "subslide"
      }
     },
     "source": [
      "Con el siguiente resultado:"
     ]
    },
    {
     "cell_type": "code",
     "collapsed": false,
     "input": [
      "%%bash\n",
      "python test_pos.py"
     ],
     "language": "python",
     "metadata": {
      "slideshow": {
       "slide_type": "fragment"
      }
     },
     "outputs": [
      {
       "output_type": "stream",
       "stream": "stderr",
       "text": [
        "..\n",
        "----------------------------------------------------------------------\n",
        "Ran 2 tests in 0.000s\n",
        "\n",
        "OK\n"
       ]
      }
     ],
     "prompt_number": 10
    },
    {
     "cell_type": "markdown",
     "metadata": {
      "slideshow": {
       "slide_type": "slide"
      }
     },
     "source": [
      "## Tercer Pomodoro: El almac\u00e9n"
     ]
    },
    {
     "cell_type": "markdown",
     "metadata": {
      "slideshow": {
       "slide_type": "fragment"
      }
     },
     "source": [
      "El tercer promodoro, consistir\u00e1 en permitir que, al escanear cada producto, se informe de la cantidad y del producto, al almac\u00e9n, mediante un interfaz interno. El interfaz, por la parte que nos interesa, provee un m\u00e9todo `lock` que permite indicar una cantidad de unidades de un producto que dejan de estar a la venta:\n",
      "\n",
      "    >>> store = Store()\n",
      "    >>> store.lock('293002910392', 2)\n",
      "\n",
      "Por supuesto, se quiere que este evento se produzca al escanear el producto en la compra."
     ]
    },
    {
     "cell_type": "markdown",
     "metadata": {
      "slideshow": {
       "slide_type": "fragment"
      }
     },
     "source": [
      "Una buena forma de comprobar que se invoca al m\u00e9todo del interfaz, es definir el interfaz como un *mocking*, para lo que necesitaremos el siguiente c\u00f3digo:"
     ]
    },
    {
     "cell_type": "code",
     "collapsed": false,
     "input": [
      "%%writefile store.py\n",
      "class Store(object):\n",
      "    def lock(self, code, quantity):\n",
      "        pass"
     ],
     "language": "python",
     "metadata": {
      "slideshow": {
       "slide_type": "fragment"
      }
     },
     "outputs": [
      {
       "output_type": "stream",
       "stream": "stdout",
       "text": [
        "Writing store.py\n"
       ]
      }
     ],
     "prompt_number": 11
    },
    {
     "cell_type": "markdown",
     "metadata": {
      "slideshow": {
       "slide_type": "subslide"
      }
     },
     "source": [
      "Sobre el que podremos modificar el test para implementar el *mocking*:"
     ]
    },
    {
     "cell_type": "code",
     "collapsed": false,
     "input": [
      "%%writefile test_pos.py\n",
      "import unittest\n",
      "from unittest.mock import patch\n",
      "from pos import POS\n",
      "import store\n",
      "\n",
      "class TestPOS(unittest.TestCase):\n",
      "    def setUp(self):\n",
      "        prices = None\n",
      "        test_name = self.id().split('.')[-1]\n",
      "        if test_name == 'test_priced_list':\n",
      "            prices = {\n",
      "                '293002910392': 5.00,\n",
      "                '098364849832': 0.95,\n",
      "            }\n",
      "        self.pos = POS(prices)\n",
      "        \n",
      "    @patch.object(store.Store, 'lock', return_value = None)\n",
      "    def test_simple_list(self, mock_store):\n",
      "        self.pos.scan('293002910392', 2)\n",
      "        result = self.pos.list()\n",
      "        self.assertEqual(len(result), 1)\n",
      "        self.assertEqual(result[0][0], '293002910392')\n",
      "        self.assertEqual(result[0][1], 2)\n",
      "        mock_store.assert_called_with('293002910392', 2)\n",
      "        self.pos.scan('098364849832', 10)\n",
      "        result = self.pos.list()\n",
      "        self.assertEqual(len(result), 2)\n",
      "        self.assertEqual(result[1][0], '098364849832')\n",
      "        self.assertEqual(result[1][1], 10)\n",
      "        mock_store.assert_called_with('098364849832', 10)\n",
      "\n",
      "    @patch.object(store.Store, 'lock', return_value = None)\n",
      "    def test_priced_list(self, mock_store):\n",
      "        self.pos.scan('293002910392', 2)\n",
      "        result = self.pos.list()\n",
      "        self.assertEqual(len(result), 1)\n",
      "        self.assertEqual(result[0][0], '293002910392')\n",
      "        self.assertEqual(result[0][1], 2)\n",
      "        self.assertEqual(result[0][2], 5.00)\n",
      "        self.assertEqual(result[0][3], 10.00)\n",
      "        mock_store.assert_called_with('293002910392', 2)\n",
      "        self.pos.scan('098364849832', 10)\n",
      "        result = self.pos.list()\n",
      "        self.assertEqual(len(result), 2)\n",
      "        self.assertEqual(result[1][0], '098364849832')\n",
      "        self.assertEqual(result[1][1], 10)\n",
      "        self.assertEqual(result[1][2], 0.95)\n",
      "        self.assertEqual(result[1][3], 9.50)\n",
      "        mock_store.assert_called_with('098364849832', 10)\n",
      "\n",
      "if __name__ == '__main__':\n",
      "    unittest.main()"
     ],
     "language": "python",
     "metadata": {
      "slideshow": {
       "slide_type": "fragment"
      }
     },
     "outputs": [
      {
       "output_type": "stream",
       "stream": "stdout",
       "text": [
        "Overwriting test_pos.py\n"
       ]
      }
     ],
     "prompt_number": 12
    },
    {
     "cell_type": "markdown",
     "metadata": {
      "slideshow": {
       "slide_type": "subslide"
      }
     },
     "source": [
      "Del que obtendremos el siguiente resultado:"
     ]
    },
    {
     "cell_type": "code",
     "collapsed": false,
     "input": [
      "%%bash\n",
      "python test_pos.py"
     ],
     "language": "python",
     "metadata": {
      "slideshow": {
       "slide_type": "fragment"
      }
     },
     "outputs": [
      {
       "output_type": "stream",
       "stream": "stderr",
       "text": [
        "FF\n",
        "======================================================================\n",
        "FAIL: test_priced_list (__main__.TestPOS)\n",
        "----------------------------------------------------------------------\n",
        "Traceback (most recent call last):\n",
        "  File \"/Users/ifosch/.miniconda3/lib/python3.4/unittest/mock.py\", line 1136, in patched\n",
        "    return func(*args, **keywargs)\n",
        "  File \"test_pos.py\", line 41, in test_priced_list\n",
        "    mock_store.assert_called_with('293002910392', 2)\n",
        "  File \"/Users/ifosch/.miniconda3/lib/python3.4/unittest/mock.py\", line 762, in assert_called_with\n",
        "    raise AssertionError('Expected call: %s\\nNot called' % (expected,))\n",
        "AssertionError: Expected call: lock('293002910392', 2)\n",
        "Not called\n",
        "\n",
        "======================================================================\n",
        "FAIL: test_simple_list (__main__.TestPOS)\n",
        "----------------------------------------------------------------------\n",
        "Traceback (most recent call last):\n",
        "  File \"/Users/ifosch/.miniconda3/lib/python3.4/unittest/mock.py\", line 1136, in patched\n",
        "    return func(*args, **keywargs)\n",
        "  File \"test_pos.py\", line 24, in test_simple_list\n",
        "    mock_store.assert_called_with('293002910392', 2)\n",
        "  File \"/Users/ifosch/.miniconda3/lib/python3.4/unittest/mock.py\", line 762, in assert_called_with\n",
        "    raise AssertionError('Expected call: %s\\nNot called' % (expected,))\n",
        "AssertionError: Expected call: lock('293002910392', 2)\n",
        "Not called\n",
        "\n",
        "----------------------------------------------------------------------\n",
        "Ran 2 tests in 0.002s\n",
        "\n",
        "FAILED (failures=2)\n"
       ]
      }
     ],
     "prompt_number": 13
    },
    {
     "cell_type": "markdown",
     "metadata": {
      "slideshow": {
       "slide_type": "subslide"
      }
     },
     "source": [
      "Pero que se podr\u00e1 resolver con el c\u00f3digo siguiente:"
     ]
    },
    {
     "cell_type": "code",
     "collapsed": false,
     "input": [
      "%%writefile POS.py\n",
      "from store import Store\n",
      "\n",
      "class POS(object):\n",
      "    def __init__(self, prices = None):\n",
      "        self.scanned = []\n",
      "        self.prices = prices\n",
      "\n",
      "    def scan(self, code, quantity):\n",
      "        self.scanned.append((code, quantity))\n",
      "        store = Store()\n",
      "        store.lock(code, quantity)\n",
      "\n",
      "    def get_line(self, product):\n",
      "        return product[0], product[1], self.prices[product[0]], self.prices[product[0]] * product[1]\n",
      "\n",
      "    def list(self):\n",
      "        if self.prices is None:\n",
      "            return self.scanned\n",
      "        return [self.get_line(product) for product in self.scanned]"
     ],
     "language": "python",
     "metadata": {
      "slideshow": {
       "slide_type": "fragment"
      }
     },
     "outputs": [
      {
       "output_type": "stream",
       "stream": "stdout",
       "text": [
        "Overwriting POS.py\n"
       ]
      }
     ],
     "prompt_number": 14
    },
    {
     "cell_type": "markdown",
     "metadata": {
      "slideshow": {
       "slide_type": "subslide"
      }
     },
     "source": [
      "Comprob\u00e1ndolo:"
     ]
    },
    {
     "cell_type": "code",
     "collapsed": false,
     "input": [
      "%%bash\n",
      "python test_pos.py"
     ],
     "language": "python",
     "metadata": {
      "slideshow": {
       "slide_type": "fragment"
      }
     },
     "outputs": [
      {
       "output_type": "stream",
       "stream": "stderr",
       "text": [
        "..\n",
        "----------------------------------------------------------------------\n",
        "Ran 2 tests in 0.001s\n",
        "\n",
        "OK\n"
       ]
      }
     ],
     "prompt_number": 15
    },
    {
     "cell_type": "code",
     "collapsed": false,
     "input": [
      "%%bash\n",
      "py.test"
     ],
     "language": "python",
     "metadata": {},
     "outputs": [
      {
       "output_type": "stream",
       "stream": "stdout",
       "text": [
        "======================================== test session starts ========================================\n",
        "platform darwin -- Python 3.3.5 -- py-1.4.26 -- pytest-2.6.4\n",
        "collected 2 items\n",
        "\n",
        "test_pos.py ..\n",
        "\n",
        "===================================== 2 passed in 0.04 seconds ======================================\n"
       ]
      }
     ],
     "prompt_number": 16
    },
    {
     "cell_type": "code",
     "collapsed": false,
     "input": [],
     "language": "python",
     "metadata": {
      "slideshow": {
       "slide_type": "skip"
      }
     },
     "outputs": []
    }
   ],
   "metadata": {}
  }
 ]
}