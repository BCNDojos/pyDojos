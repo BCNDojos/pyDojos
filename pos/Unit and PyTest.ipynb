{
 "metadata": {
  "celltoolbar": "Slideshow",
  "name": "",
  "signature": "sha256:ab05d0c63fc85e09ca059d67e221a0eb26ec1de7b4842165cc563cb8492ad8f6"
 },
 "nbformat": 3,
 "nbformat_minor": 0,
 "worksheets": [
  {
   "cells": [
    {
     "cell_type": "markdown",
     "metadata": {
      "slideshow": {
       "slide_type": "slide"
      }
     },
     "source": [
      "# UNITTEST Y PYTEST"
     ]
    },
    {
     "cell_type": "markdown",
     "metadata": {
      "slideshow": {
       "slide_type": "fragment"
      }
     },
     "source": [
      "En este dojo, vamos a trabajar sobre una kata en la que vamos a escribir la l\u00f3gica de un terminal punto de venta. La idea es desarrollar la kata primero en unittest, y luego ver c\u00f3mo encaja pytest."
     ]
    },
    {
     "cell_type": "markdown",
     "metadata": {
      "slideshow": {
       "slide_type": "slide"
      }
     },
     "source": [
      "## Primer pomodoro: La clase TPV"
     ]
    },
    {
     "cell_type": "markdown",
     "metadata": {
      "slideshow": {
       "slide_type": "fragment"
      }
     },
     "source": [
      "En el primer pomodoro, plantearemos una primera aproximaci\u00f3n a la clase TPV. Por un lado, es necesario definir un m\u00e9todo para a\u00f1adir productos a la compra. De momento, ser\u00e1 suficiente con el siguiente prototipo:\n",
      "\n",
      "    tpv.add(codigo, cantidad)\n",
      "\n",
      "    >>> tpv = TPV()\n",
      "    >>> tpv.add(293002910392, 2)\n",
      "    >>> tpv.add(098364849832, 10)\n",
      "\n",
      "Adem\u00e1s, tambi\u00e9n es necesario definir otro m\u00e9todo para ver la lista de la compra:\n",
      "\n",
      "    tpv.list()\n",
      "\n",
      "    >>> tpv.list()\n",
      "    {293002910392: 2, 098364849832: 10}"
     ]
    },
    {
     "cell_type": "code",
     "collapsed": false,
     "input": [],
     "language": "python",
     "metadata": {},
     "outputs": []
    }
   ],
   "metadata": {}
  }
 ]
}