{
 "metadata": {
  "celltoolbar": "Slideshow",
  "name": "",
  "signature": "sha256:42c58cc78139eb94a8bbe64a9d3bbf63af9d5b24ba071880cdd3ca0a42a07efd"
 },
 "nbformat": 3,
 "nbformat_minor": 0,
 "worksheets": [
  {
   "cells": [
    {
     "cell_type": "markdown",
     "metadata": {
      "slideshow": {
       "slide_type": "slide"
      }
     },
     "source": [
      "# *Frameworks* de test: unittest y py.test"
     ]
    },
    {
     "cell_type": "markdown",
     "metadata": {
      "slideshow": {
       "slide_type": "fragment"
      }
     },
     "source": [
      "En este dojo, vamos a trabajar sobre una kata en la que vamos a escribir la l\u00f3gica de un terminal punto de venta. La idea es desarrollar la kata primero en unittest, y luego ver c\u00f3mo encaja pytest."
     ]
    },
    {
     "cell_type": "markdown",
     "metadata": {
      "slideshow": {
       "slide_type": "slide"
      }
     },
     "source": [
      "## Primer pomodoro: La clase POS"
     ]
    },
    {
     "cell_type": "markdown",
     "metadata": {
      "slideshow": {
       "slide_type": "-"
      }
     },
     "source": [
      "En el primer pomodoro, plantearemos una primera aproximaci\u00f3n a la clase POS. Por un lado, es necesario definir un m\u00e9todo para a\u00f1adir productos a la compra. De momento, ser\u00e1 suficiente con el siguiente prototipo:\n",
      "\n",
      "    pos.scan(codigo, cantidad)\n",
      "\n",
      "    >>> pos = POS()\n",
      "    >>> pos.scan('293002910392', 2)\n",
      "    >>> pos.scan('098364849832', 10)\n",
      "\n",
      "Adem\u00e1s, tambi\u00e9n es necesario definir una forma de ver la lista de la compra:\n",
      "\n",
      "    pos.list()\n",
      "\n",
      "    >>> pos.list()\n",
      "    [('293002910392', 2), ('098364849832', 10)]\n",
      "\n",
      "Por supuesto, es necesario que los art\u00edculos que se a\u00f1adan con `scan` se puedan ver en la salida de `list`."
     ]
    },
    {
     "cell_type": "markdown",
     "metadata": {
      "slideshow": {
       "slide_type": "subslide"
      }
     },
     "source": [
      "Una posible soluci\u00f3n podr\u00eda ser, utilizando el siguiente test:"
     ]
    },
    {
     "cell_type": "code",
     "collapsed": false,
     "input": [
      "%%writefile test_pos.py\n",
      "import unittest\n",
      "from pos import POS\n",
      "\n",
      "class TestPOS(unittest.TestCase):\n",
      "    def test_simple_list(self):\n",
      "        pos = POS()\n",
      "        pos.scan('293002910392', 2)\n",
      "        self.assertEqual(len(pos.list()), 1)\n",
      "        pos.scan('098364849832', 10)\n",
      "        result = pos.list()\n",
      "        self.assertEqual(len(result), 2)\n",
      "        self.assertEqual(result[0][0], '293002910392')\n",
      "        self.assertEqual(result[0][1], 2)\n",
      "        self.assertEqual(result[1][0], '098364849832')\n",
      "        self.assertEqual(result[1][1], 10)\n",
      "        \n",
      "if __name__ == '__main__':\n",
      "    unittest.main()"
     ],
     "language": "python",
     "metadata": {
      "slideshow": {
       "slide_type": "fragment"
      }
     },
     "outputs": [
      {
       "output_type": "stream",
       "stream": "stdout",
       "text": [
        "Writing test_pos.py\n"
       ]
      }
     ],
     "prompt_number": 1
    },
    {
     "cell_type": "markdown",
     "metadata": {
      "slideshow": {
       "slide_type": "subslide"
      }
     },
     "source": [
      "Con el c\u00f3digo b\u00e1sico siguiente:"
     ]
    },
    {
     "cell_type": "code",
     "collapsed": false,
     "input": [
      "%%writefile pos.py\n",
      "class POS(object):\n",
      "    def scan(self, code, quantity):\n",
      "        pass\n",
      "    \n",
      "    def list(self):\n",
      "        return []"
     ],
     "language": "python",
     "metadata": {
      "slideshow": {
       "slide_type": "fragment"
      }
     },
     "outputs": [
      {
       "output_type": "stream",
       "stream": "stdout",
       "text": [
        "Writing pos.py\n"
       ]
      }
     ],
     "prompt_number": 2
    },
    {
     "cell_type": "markdown",
     "metadata": {
      "slideshow": {
       "slide_type": "subslide"
      }
     },
     "source": [
      "Que nos dar\u00e1 un resultado negativo:"
     ]
    },
    {
     "cell_type": "code",
     "collapsed": false,
     "input": [
      "%%bash\n",
      "python test_pos.py"
     ],
     "language": "python",
     "metadata": {
      "slideshow": {
       "slide_type": "fragment"
      }
     },
     "outputs": [
      {
       "output_type": "stream",
       "stream": "stderr",
       "text": [
        "F\n",
        "======================================================================\n",
        "FAIL: test_simple_list (__main__.TestPOS)\n",
        "----------------------------------------------------------------------\n",
        "Traceback (most recent call last):\n",
        "  File \"test_pos.py\", line 8, in test_simple_list\n",
        "    self.assertEqual(len(pos.list()), 1)\n",
        "AssertionError: 0 != 1\n",
        "\n",
        "----------------------------------------------------------------------\n",
        "Ran 1 test in 0.000s\n",
        "\n",
        "FAILED (failures=1)\n"
       ]
      }
     ],
     "prompt_number": 3
    },
    {
     "cell_type": "markdown",
     "metadata": {
      "slideshow": {
       "slide_type": "subslide"
      }
     },
     "source": [
      "Llegar al siguiente c\u00f3digo:"
     ]
    },
    {
     "cell_type": "code",
     "collapsed": false,
     "input": [
      "%%writefile POS.py\n",
      "class POS(object):\n",
      "    def __init__(self):\n",
      "        self.scanned = []\n",
      "        \n",
      "    def scan(self, code, quantity):\n",
      "        self.scanned.append((code, quantity))\n",
      "        \n",
      "    def list(self):\n",
      "        return self.scanned"
     ],
     "language": "python",
     "metadata": {
      "slideshow": {
       "slide_type": "fragment"
      }
     },
     "outputs": [
      {
       "output_type": "stream",
       "stream": "stdout",
       "text": [
        "Overwriting POS.py\n"
       ]
      }
     ],
     "prompt_number": 4
    },
    {
     "cell_type": "markdown",
     "metadata": {
      "slideshow": {
       "slide_type": "subslide"
      }
     },
     "source": [
      "Que podemos probar con:"
     ]
    },
    {
     "cell_type": "code",
     "collapsed": false,
     "input": [
      "%%bash\n",
      "python test_pos.py"
     ],
     "language": "python",
     "metadata": {
      "slideshow": {
       "slide_type": "fragment"
      }
     },
     "outputs": [
      {
       "output_type": "stream",
       "stream": "stderr",
       "text": [
        ".\n",
        "----------------------------------------------------------------------\n",
        "Ran 1 test in 0.000s\n",
        "\n",
        "OK\n"
       ]
      }
     ],
     "prompt_number": 5
    },
    {
     "cell_type": "markdown",
     "metadata": {
      "slideshow": {
       "slide_type": "slide"
      }
     },
     "source": [
      "## Segundo pomodoro: Los art\u00edculos"
     ]
    },
    {
     "cell_type": "markdown",
     "metadata": {
      "slideshow": {
       "slide_type": "-"
      }
     },
     "source": [
      "Al ver la salida del m\u00e9todo `list`, no se ven ni los precios unitarios ni los precios para las cantidades adquiridas, as\u00ed que vamos a modificar el c\u00f3digo para que el m\u00e9todo `list` se comporte de otra forma posible, es decir, sin dejar de hacer lo anterior:\n",
      "\n",
      "    >>> pos.list()\n",
      "    [('293002910392', 2, 5.0, 10.0), ('098364849832', 10, 0.95, 9.5)]\n",
      "\n",
      "Supondremos que la clase POS contendr\u00e1 un diccionario con el precio unitario para cada producto:\n",
      "\n",
      "    prices = { '293002910392': 5.0, '098364849832': 0.95,}\n",
      "    \n",
      "Para el caso sin precios, prices valdr\u00e1 `None`."
     ]
    },
    {
     "cell_type": "markdown",
     "metadata": {
      "slideshow": {
       "slide_type": "subslide"
      }
     },
     "source": [
      "Para esto, podr\u00edamos haber a\u00f1adido el siguiente test:"
     ]
    },
    {
     "cell_type": "code",
     "collapsed": false,
     "input": [
      "%%writefile test_pos.py\n",
      "import unittest\n",
      "from pos import POS\n",
      "\n",
      "class TestPOS(unittest.TestCase):\n",
      "    def setUp(self):\n",
      "        prices = None\n",
      "        test_name = self.id().split('.')[-1]\n",
      "        if test_name == 'test_priced_list':\n",
      "            prices = {\n",
      "                '293002910392': 5.00,\n",
      "                '098364849832': 0.95,\n",
      "            }\n",
      "        self.pos = POS(prices)\n",
      "        \n",
      "    def test_simple_list(self):\n",
      "        self.pos.scan('293002910392', 2)\n",
      "        self.assertEqual(len(self.pos.list()), 1)\n",
      "        self.pos.scan('098364849832', 10)\n",
      "        result = self.pos.list()\n",
      "        self.assertEqual(len(result), 2)\n",
      "        self.assertEqual(result[0][0], '293002910392')\n",
      "        self.assertEqual(result[0][1], 2)\n",
      "        self.assertEqual(result[1][0], '098364849832')\n",
      "        self.assertEqual(result[1][1], 10)\n",
      "\n",
      "    def test_priced_list(self):\n",
      "        self.pos.scan('293002910392', 2)\n",
      "        self.assertEqual(len(self.pos.list()), 1)\n",
      "        self.pos.scan('098364849832', 10)\n",
      "        result = self.pos.list()\n",
      "        self.assertEqual(len(result), 2)\n",
      "        self.assertEqual(result[0][0], '293002910392')\n",
      "        self.assertEqual(result[0][1], 2)\n",
      "        self.assertEqual(result[0][2], 5.0)\n",
      "        self.assertEqual(result[0][3], 10.0)\n",
      "        self.assertEqual(result[1][0], '098364849832')\n",
      "        self.assertEqual(result[1][1], 10)\n",
      "        self.assertEqual(result[1][2], 0.95)\n",
      "        self.assertEqual(result[1][3], 9.5)\n",
      "        \n",
      "if __name__ == '__main__':\n",
      "    unittest.main()"
     ],
     "language": "python",
     "metadata": {
      "slideshow": {
       "slide_type": "fragment"
      }
     },
     "outputs": [
      {
       "output_type": "stream",
       "stream": "stdout",
       "text": [
        "Overwriting test_pos.py\n"
       ]
      }
     ],
     "prompt_number": 6
    },
    {
     "cell_type": "markdown",
     "metadata": {
      "slideshow": {
       "slide_type": "subslide"
      }
     },
     "source": [
      "Con el siguiente c\u00f3digo base modificado:"
     ]
    },
    {
     "cell_type": "code",
     "collapsed": false,
     "input": [
      "%%writefile POS.py\n",
      "class POS(object):\n",
      "    def __init__(self, prices=None):\n",
      "        self.scanned = []\n",
      "        self.prices = prices\n",
      "        \n",
      "    def scan(self, code, quantity):\n",
      "        self.scanned.append((code, quantity))\n",
      "        \n",
      "    def list(self):\n",
      "        if self.prices is None:\n",
      "            return self.scanned\n",
      "        else:\n",
      "            return [('', 0, 0, 0) for product in self.scanned]"
     ],
     "language": "python",
     "metadata": {
      "slideshow": {
       "slide_type": "fragment"
      }
     },
     "outputs": [
      {
       "output_type": "stream",
       "stream": "stdout",
       "text": [
        "Overwriting POS.py\n"
       ]
      }
     ],
     "prompt_number": 7
    },
    {
     "cell_type": "markdown",
     "metadata": {
      "slideshow": {
       "slide_type": "subslide"
      }
     },
     "source": [
      "Verificamos que el c\u00f3digo actual no valida el nuevo test:"
     ]
    },
    {
     "cell_type": "code",
     "collapsed": false,
     "input": [
      "%%bash\n",
      "python test_pos.py"
     ],
     "language": "python",
     "metadata": {
      "slideshow": {
       "slide_type": "fragment"
      }
     },
     "outputs": [
      {
       "output_type": "stream",
       "stream": "stderr",
       "text": [
        "F.\n",
        "======================================================================\n",
        "FAIL: test_priced_list (__main__.TestPOS)\n",
        "----------------------------------------------------------------------\n",
        "Traceback (most recent call last):\n",
        "  File \"test_pos.py\", line 32, in test_priced_list\n",
        "    self.assertEqual(result[0][0], '293002910392')\n",
        "AssertionError: '' != '293002910392'\n",
        "+ 293002910392\n",
        "\n",
        "----------------------------------------------------------------------\n",
        "Ran 2 tests in 0.000s\n",
        "\n",
        "FAILED (failures=1)\n"
       ]
      }
     ],
     "prompt_number": 8
    },
    {
     "cell_type": "markdown",
     "metadata": {
      "slideshow": {
       "slide_type": "subslide"
      }
     },
     "source": [
      "Llegando a \u00e9ste c\u00f3digo:"
     ]
    },
    {
     "cell_type": "code",
     "collapsed": false,
     "input": [
      "%%writefile POS.py\n",
      "class POS(object):\n",
      "    def __init__(self, prices = None):\n",
      "        self.scanned = []\n",
      "        self.prices = prices\n",
      "        \n",
      "    def scan(self, code, quantity):\n",
      "        self.scanned.append((code, quantity))\n",
      "\n",
      "    def get_line(self, product):\n",
      "        return product[0], product[1], self.prices[product[0]], self.prices[product[0]] * product[1]\n",
      "\n",
      "    def list(self):\n",
      "        if self.prices is None:\n",
      "            return self.scanned\n",
      "        return [self.get_line(product) for product in self.scanned]"
     ],
     "language": "python",
     "metadata": {
      "slideshow": {
       "slide_type": "fragment"
      }
     },
     "outputs": [
      {
       "output_type": "stream",
       "stream": "stdout",
       "text": [
        "Overwriting POS.py\n"
       ]
      }
     ],
     "prompt_number": 9
    },
    {
     "cell_type": "markdown",
     "metadata": {
      "slideshow": {
       "slide_type": "subslide"
      }
     },
     "source": [
      "Con el siguiente resultado:"
     ]
    },
    {
     "cell_type": "code",
     "collapsed": false,
     "input": [
      "%%bash\n",
      "python test_pos.py"
     ],
     "language": "python",
     "metadata": {
      "slideshow": {
       "slide_type": "fragment"
      }
     },
     "outputs": [
      {
       "output_type": "stream",
       "stream": "stderr",
       "text": [
        "..\n",
        "----------------------------------------------------------------------\n",
        "Ran 2 tests in 0.000s\n",
        "\n",
        "OK\n"
       ]
      }
     ],
     "prompt_number": 10
    },
    {
     "cell_type": "markdown",
     "metadata": {
      "slideshow": {
       "slide_type": "slide"
      }
     },
     "source": [
      "## Tercer Pomodoro: El almac\u00e9n"
     ]
    },
    {
     "cell_type": "markdown",
     "metadata": {
      "slideshow": {
       "slide_type": "-"
      }
     },
     "source": [
      "El tercer promodoro, consistir\u00e1 en permitir que, al escanear cada producto, se informe de la cantidad y del producto, al almac\u00e9n, mediante un interfaz interno. El interfaz, por la parte que nos interesa, provee un m\u00e9todo `lock` que permite indicar una cantidad de unidades de un producto que dejan de estar a la venta:\n",
      "\n",
      "    >>> store = Store()\n",
      "    >>> store.lock('293002910392', 2)\n",
      "\n",
      "Por supuesto, se quiere que este evento se produzca al escanear el producto en la compra."
     ]
    },
    {
     "cell_type": "markdown",
     "metadata": {
      "slideshow": {
       "slide_type": "fragment"
      }
     },
     "source": [
      "Una buena forma de comprobar que se invoca al m\u00e9todo del interfaz, es definir el interfaz como un *mocking*, para lo que necesitaremos el siguiente c\u00f3digo:"
     ]
    },
    {
     "cell_type": "code",
     "collapsed": false,
     "input": [
      "%%writefile store.py\n",
      "class Store(object):\n",
      "    def lock(self, code, quantity):\n",
      "        pass"
     ],
     "language": "python",
     "metadata": {
      "slideshow": {
       "slide_type": "fragment"
      }
     },
     "outputs": [
      {
       "output_type": "stream",
       "stream": "stdout",
       "text": [
        "Writing store.py\n"
       ]
      }
     ],
     "prompt_number": 11
    },
    {
     "cell_type": "markdown",
     "metadata": {
      "slideshow": {
       "slide_type": "subslide"
      }
     },
     "source": [
      "Sobre el que podremos modificar el test para implementar el *mocking*:"
     ]
    },
    {
     "cell_type": "code",
     "collapsed": false,
     "input": [
      "%%writefile test_pos.py\n",
      "import unittest\n",
      "from unittest.mock import patch\n",
      "from pos import POS\n",
      "import store\n",
      "\n",
      "class TestPOS(unittest.TestCase):\n",
      "    def setUp(self):\n",
      "        prices = None\n",
      "        test_name = self.id().split('.')[-1]\n",
      "        if test_name == 'test_priced_list':\n",
      "            prices = {\n",
      "                '293002910392': 5.0,\n",
      "                '098364849832': 0.95,\n",
      "            }\n",
      "        self.pos = POS(prices)\n",
      "        \n",
      "    @patch.object(store.Store, 'lock', return_value = None)\n",
      "    def test_simple_list(self, mock_store):\n",
      "        self.pos.scan('293002910392', 2)\n",
      "        mock_store.assert_called_with('293002910392', 2)\n",
      "        self.assertEqual(len(self.pos.list()), 1)\n",
      "        self.pos.scan('098364849832', 10)\n",
      "        mock_store.assert_called_with('098364849832', 10)\n",
      "        result = self.pos.list()\n",
      "        self.assertEqual(len(result), 2)\n",
      "        self.assertEqual(result[0][0], '293002910392')\n",
      "        self.assertEqual(result[0][1], 2)\n",
      "        self.assertEqual(result[1][0], '098364849832')\n",
      "        self.assertEqual(result[1][1], 10)\n",
      "\n",
      "    @patch.object(store.Store, 'lock', return_value = None)\n",
      "    def test_priced_list(self, mock_store):\n",
      "        self.pos.scan('293002910392', 2)\n",
      "        mock_store.assert_called_with('293002910392', 2)\n",
      "        self.assertEqual(len(self.pos.list()), 1)\n",
      "        self.pos.scan('098364849832', 10)\n",
      "        mock_store.assert_called_with('098364849832', 10)\n",
      "        result = self.pos.list()\n",
      "        self.assertEqual(len(result), 2)\n",
      "        self.assertEqual(result[0][0], '293002910392')\n",
      "        self.assertEqual(result[0][1], 2)\n",
      "        self.assertEqual(result[0][2], 5.0)\n",
      "        self.assertEqual(result[0][3], 10.0)\n",
      "        self.assertEqual(result[1][0], '098364849832')\n",
      "        self.assertEqual(result[1][1], 10)\n",
      "        self.assertEqual(result[1][2], 0.95)\n",
      "        self.assertEqual(result[1][3], 9.5)\n",
      "\n",
      "if __name__ == '__main__':\n",
      "    unittest.main()"
     ],
     "language": "python",
     "metadata": {
      "slideshow": {
       "slide_type": "fragment"
      }
     },
     "outputs": [
      {
       "output_type": "stream",
       "stream": "stdout",
       "text": [
        "Overwriting test_pos.py\n"
       ]
      }
     ],
     "prompt_number": 12
    },
    {
     "cell_type": "markdown",
     "metadata": {
      "slideshow": {
       "slide_type": "subslide"
      }
     },
     "source": [
      "Del que obtendremos el siguiente resultado:"
     ]
    },
    {
     "cell_type": "code",
     "collapsed": false,
     "input": [
      "%%bash\n",
      "python test_pos.py"
     ],
     "language": "python",
     "metadata": {
      "slideshow": {
       "slide_type": "fragment"
      }
     },
     "outputs": [
      {
       "output_type": "stream",
       "stream": "stderr",
       "text": [
        "FF\n",
        "======================================================================\n",
        "FAIL: test_priced_list (__main__.TestPOS)\n",
        "----------------------------------------------------------------------\n",
        "Traceback (most recent call last):\n",
        "  File \"/Users/ifosch/.miniconda3/lib/python3.4/unittest/mock.py\", line 1136, in patched\n",
        "    return func(*args, **keywargs)\n",
        "  File \"test_pos.py\", line 34, in test_priced_list\n",
        "    mock_store.assert_called_with('293002910392', 2)\n",
        "  File \"/Users/ifosch/.miniconda3/lib/python3.4/unittest/mock.py\", line 762, in assert_called_with\n",
        "    raise AssertionError('Expected call: %s\\nNot called' % (expected,))\n",
        "AssertionError: Expected call: lock('293002910392', 2)\n",
        "Not called\n",
        "\n",
        "======================================================================\n",
        "FAIL: test_simple_list (__main__.TestPOS)\n",
        "----------------------------------------------------------------------\n",
        "Traceback (most recent call last):\n",
        "  File \"/Users/ifosch/.miniconda3/lib/python3.4/unittest/mock.py\", line 1136, in patched\n",
        "    return func(*args, **keywargs)\n",
        "  File \"test_pos.py\", line 20, in test_simple_list\n",
        "    mock_store.assert_called_with('293002910392', 2)\n",
        "  File \"/Users/ifosch/.miniconda3/lib/python3.4/unittest/mock.py\", line 762, in assert_called_with\n",
        "    raise AssertionError('Expected call: %s\\nNot called' % (expected,))\n",
        "AssertionError: Expected call: lock('293002910392', 2)\n",
        "Not called\n",
        "\n",
        "----------------------------------------------------------------------\n",
        "Ran 2 tests in 0.002s\n",
        "\n",
        "FAILED (failures=2)\n"
       ]
      }
     ],
     "prompt_number": 13
    },
    {
     "cell_type": "markdown",
     "metadata": {
      "slideshow": {
       "slide_type": "subslide"
      }
     },
     "source": [
      "Pero que se podr\u00e1 resolver con el c\u00f3digo siguiente:"
     ]
    },
    {
     "cell_type": "code",
     "collapsed": false,
     "input": [
      "%%writefile POS.py\n",
      "from store import Store\n",
      "\n",
      "class POS(object):\n",
      "    def __init__(self, prices = None):\n",
      "        self.scanned = []\n",
      "        self.prices = prices\n",
      "\n",
      "    def scan(self, code, quantity):\n",
      "        self.scanned.append((code, quantity))\n",
      "        store = Store()\n",
      "        store.lock(code, quantity)\n",
      "\n",
      "    def get_line(self, product):\n",
      "        return product[0], product[1], self.prices[product[0]], self.prices[product[0]] * product[1]\n",
      "\n",
      "    def list(self):\n",
      "        if self.prices is None:\n",
      "            return self.scanned\n",
      "        return [self.get_line(product) for product in self.scanned]"
     ],
     "language": "python",
     "metadata": {
      "slideshow": {
       "slide_type": "fragment"
      }
     },
     "outputs": [
      {
       "output_type": "stream",
       "stream": "stdout",
       "text": [
        "Overwriting POS.py\n"
       ]
      }
     ],
     "prompt_number": 14
    },
    {
     "cell_type": "markdown",
     "metadata": {
      "slideshow": {
       "slide_type": "subslide"
      }
     },
     "source": [
      "Comprob\u00e1ndolo:"
     ]
    },
    {
     "cell_type": "code",
     "collapsed": false,
     "input": [
      "%%bash\n",
      "python test_pos.py"
     ],
     "language": "python",
     "metadata": {
      "slideshow": {
       "slide_type": "fragment"
      }
     },
     "outputs": [
      {
       "output_type": "stream",
       "stream": "stderr",
       "text": [
        "..\n",
        "----------------------------------------------------------------------\n",
        "Ran 2 tests in 0.001s\n",
        "\n",
        "OK\n"
       ]
      }
     ],
     "prompt_number": 15
    },
    {
     "cell_type": "markdown",
     "metadata": {
      "slideshow": {
       "slide_type": "slide"
      }
     },
     "source": [
      "## Y ahora, vamos con py.test"
     ]
    },
    {
     "cell_type": "markdown",
     "metadata": {
      "slideshow": {
       "slide_type": "-"
      }
     },
     "source": [
      "En primer lugar, hay que se\u00f1alar que `py.test` es una librer\u00eda muy extensa y con funcionalidades y usos bastante variados. Adem\u00e1s, \u00e9ste documento no pretende ser un curso de `py.test`, por lo que recomendamos que os document\u00e9is en profundidad sobre `py.test`. Lo que se explica aqu\u00ed es un poco m\u00e1s de lo necesario para continuar con el dojo."
     ]
    },
    {
     "cell_type": "markdown",
     "metadata": {
      "slideshow": {
       "slide_type": "subslide"
      }
     },
     "source": [
      "Ahora, Veamos qu\u00e9 ventajas nos aporta `py.test`:\n",
      "\n",
      "* El c\u00f3digo de los tests ser\u00e1 mucho m\u00e1s *pythonic* y, tambi\u00e9n, mucho m\u00e1s corto.\n",
      "* No necesitamos gestionar el c\u00f3digo de ejecuci\u00f3n principal (`if __name__...`), basta con que las funciones y m\u00f3dulos de test empiecen con `test_`.\n",
      "* Para hacer las evaluaciones, utiliza la funci\u00f3n `assert`, b\u00e1sica del lenguaje: `assert 2 == 1 + 1`.\n",
      "* Las *fixtures*, los elementos de soporte para el test, son mucho m\u00e1s sencillas de preparar, m\u00e1s modulares, y trae algunos interesantes para funciones bastante gen\u00e9ricas.\n",
      "* Permite configuraci\u00f3n de los tests por directorios.\n",
      "* Dispone de muchos plugins para tests en condiciones m\u00e1s complejas: Bajo *frameworks* como Django, o Twisted, que proveen funcionalidades de cobertura de c\u00f3digo, capturar la salida del m\u00f3dulo `logging`, para distribuir los tests en diferentes procesadores,..."
     ]
    },
    {
     "cell_type": "markdown",
     "metadata": {
      "slideshow": {
       "slide_type": "subslide"
      }
     },
     "source": [
      "Adem\u00e1s, `py.test` es 100% compatible y integrable con `unittest`, especialmente si los ficheros de test se llaman `test_*`:"
     ]
    },
    {
     "cell_type": "code",
     "collapsed": false,
     "input": [
      "%%bash\n",
      "py.test"
     ],
     "language": "python",
     "metadata": {
      "slideshow": {
       "slide_type": "fragment"
      }
     },
     "outputs": [
      {
       "output_type": "stream",
       "stream": "stdout",
       "text": [
        "====================== test session starts =======================\n",
        "platform darwin -- Python 3.3.5 -- py-1.4.26 -- pytest-2.6.4\n",
        "collected 2 items\n",
        "\n",
        "test_pos.py ..\n",
        "\n",
        "==================== 2 passed in 0.04 seconds ====================\n"
       ]
      }
     ],
     "prompt_number": 16
    },
    {
     "cell_type": "markdown",
     "metadata": {
      "slideshow": {
       "slide_type": "subslide"
      }
     },
     "source": [
      "Aunque si no se llaman as\u00ed, siempre podemos invocar a `py.test` indic\u00e1ndole cu\u00e1l es el fichero que los contiene:"
     ]
    },
    {
     "cell_type": "code",
     "collapsed": false,
     "input": [
      "%%bash\n",
      "cp test_pos.py tests.py\n",
      "py.test tests.py"
     ],
     "language": "python",
     "metadata": {
      "slideshow": {
       "slide_type": "fragment"
      }
     },
     "outputs": [
      {
       "output_type": "stream",
       "stream": "stdout",
       "text": [
        "====================== test session starts =======================\n",
        "platform darwin -- Python 3.3.5 -- py-1.4.26 -- pytest-2.6.4\n",
        "collected 2 items\n",
        "\n",
        "tests.py ..\n",
        "\n",
        "==================== 2 passed in 0.02 seconds ====================\n"
       ]
      }
     ],
     "prompt_number": 17
    },
    {
     "cell_type": "markdown",
     "metadata": {
      "slideshow": {
       "slide_type": "slide"
      }
     },
     "source": [
      "## *Crash course* de py.test"
     ]
    },
    {
     "cell_type": "markdown",
     "metadata": {
      "slideshow": {
       "slide_type": "-"
      }
     },
     "source": [
      "De cara a poder repetir los tests con `py.test`, vamos a ver c\u00f3mo se hace un *assert*. Pongamos que tenemos el siguiente contenido en un fichero llamado `test_sample.py`:\n",
      "\n",
      "    import pytest\n",
      "    \n",
      "    def func(x):\n",
      "        return x + 1\n",
      "\n",
      "    def test_answer():\n",
      "        assert func(3) == 5"
     ]
    },
    {
     "cell_type": "markdown",
     "metadata": {
      "slideshow": {
       "slide_type": "subslide"
      }
     },
     "source": [
      "Y ejecutamos `py.test`:\n",
      "\n",
      "    $ py.test\n",
      "    =========================== test session starts ============================\n",
      "    platform darwin -- Python 3.3.5 -- py-1.4.26 -- pytest-2.6.4\n",
      "    collected 1 items\n",
      "\n",
      "    test_sample.py F\n",
      "\n",
      "    ================================= FAILURES =================================\n",
      "    _______________________________ test_answer ________________________________\n",
      "\n",
      "        def test_answer():\n",
      "    >       assert func(3) == 5\n",
      "    E       assert 4 == 5\n",
      "    E        +  where 4 = func(3)\n",
      "\n",
      "    test_sample.py:5: AssertionError\n",
      "    ========================= 1 failed in 0.01 seconds ========================="
     ]
    },
    {
     "cell_type": "markdown",
     "metadata": {
      "slideshow": {
       "slide_type": "subslide"
      }
     },
     "source": [
      "Para controlar una excepci\u00f3n, utilizar\u00edamos lo siguiente:\n",
      "\n",
      "    def f():\n",
      "        raise SystemExit(1)\n",
      "\n",
      "    def test_mytest():\n",
      "        with pytest.raises(SystemExit):\n",
      "            f()\n"
     ]
    },
    {
     "cell_type": "markdown",
     "metadata": {
      "slideshow": {
       "slide_type": "slide"
      }
     },
     "source": [
      "### Fixtures con py.test"
     ]
    },
    {
     "cell_type": "markdown",
     "metadata": {
      "slideshow": {
       "slide_type": "-"
      }
     },
     "source": [
      "Con `py.test` no se suelen utilizar las *fixtures* con m\u00e9todos como `setUp` o `tearDown`, en su lugar se pueden hacer funciones decoradas con ciertas funcionalidades:\n",
      "\n",
      "    import pytest\n",
      "\n",
      "    @pytest.fixture(params=[0, 1], ids=[\"spam\", \"ham\"])\n",
      "    def a(request):\n",
      "        return request.param\n",
      "\n",
      "    def test_a(a):\n",
      "        pass\n",
      "\n",
      "    def idfn(fixture_value):\n",
      "        if fixture_value == 0:\n",
      "            return \"eggs\"\n",
      "        else:\n",
      "            return None\n",
      "\n",
      "    @pytest.fixture(params=[0, 1], ids=idfn)\n",
      "    def b(request):\n",
      "        return request.param\n",
      "\n",
      "    def test_b(b):\n",
      "        pass\n",
      "        \n",
      "Para poder compartir las funciones de *fixture* entre diferentes ficheros de test, conviene ponerlas en el fichero `conftest.py` del m\u00f3dulo donde est\u00e1n los tests."
     ]
    },
    {
     "cell_type": "markdown",
     "metadata": {
      "slideshow": {
       "slide_type": "subslide"
      }
     },
     "source": [
      "El resultado de esos tests ser\u00eda:\n",
      "\n",
      "    $ py.test --collect-only\n",
      "    ========================== test session starts ==========================\n",
      "    platform linux2 -- Python 2.7.6 -- py-1.4.25.dev2 -- pytest-2.6.0.dev1\n",
      "    plugins: xdist\n",
      "    collected 4 items\n",
      "    <Module 'test_ids.py'>\n",
      "      <Function 'test_a[spam]'>\n",
      "      <Function 'test_a[ham]'>\n",
      "      <Function 'test_b[eggs]'>\n",
      "      <Function 'test_b[1]'>\n",
      "\n",
      "    ===========================  in 0.05 seconds ============================"
     ]
    },
    {
     "cell_type": "markdown",
     "metadata": {
      "slideshow": {
       "slide_type": "subslide"
      }
     },
     "source": [
      "### *Mocking* con py.test"
     ]
    },
    {
     "cell_type": "markdown",
     "metadata": {
      "slideshow": {
       "slide_type": "-"
      }
     },
     "source": [
      "Para hacer *mocking* con `py.test` hay varias t\u00e9cnicas. La que veremos aqu\u00ed se llama *Monkey Patching* que consiste en sobreescribir c\u00f3digo de clases y funciones ya existentes:\n",
      "\n",
      "    import os.path\n",
      "    import pytest\n",
      "    \n",
      "    def getssh(): # pseudo application code\n",
      "        return os.path.join(os.path.expanduser(\"~admin\"), '.ssh')\n",
      "\n",
      "    def test_mytest(monkeypatch):\n",
      "        def mockreturn(path):\n",
      "            return '/abc'\n",
      "        monkeypatch.setattr(os.path, 'expanduser', mockreturn)\n",
      "        x = getssh()\n",
      "        assert x == '/abc/.ssh'\n",
      "\n",
      "Si separ\u00e1semos el test y el c\u00f3digo en dos ficheros distintos, se podr\u00eda sobreescribir `expanduser` sin importar os.path con la siguiente l\u00ednea:\n",
      "\n",
      "    monkeypatch.setattr('os.path.expanduser', mockreturn)"
     ]
    },
    {
     "cell_type": "markdown",
     "metadata": {
      "slideshow": {
       "slide_type": "subslide"
      }
     },
     "source": [
      "El resultado ser\u00eda:\n",
      "\n",
      "    $ py.test monkey.py\n",
      "    ======================================== test session starts ========================================\n",
      "    platform darwin -- Python 3.3.5 -- py-1.4.26 -- pytest-2.6.4\n",
      "    collected 1 items\n",
      "\n",
      "    monkey.py .\n",
      "\n",
      "    ===================================== 1 passed in 0.01 seconds ======================================\n",
      "    \n",
      "Hay que tener presente que el *Monkey Patching* no garantiza la evaluaci\u00f3n de que no se haya ejecutado. Para hacer habr\u00eda que combinar `py.test` con `unittest.mock` o usar el plugin `pytest-mock`."
     ]
    },
    {
     "cell_type": "markdown",
     "metadata": {
      "slideshow": {
       "slide_type": "slide"
      }
     },
     "source": [
      "## Primer pomodoro: La clase POS"
     ]
    },
    {
     "cell_type": "markdown",
     "metadata": {},
     "source": [
      "En el primer pomodoro, plantearemos una primera aproximaci\u00f3n a la clase POS. Por un lado, es necesario definir un m\u00e9todo para a\u00f1adir productos a la compra. De momento, ser\u00e1 suficiente con el siguiente prototipo:\n",
      "\n",
      "    pos.scan(codigo, cantidad)\n",
      "\n",
      "    >>> pos = POS()\n",
      "    >>> pos.scan('293002910392', 2)\n",
      "    >>> pos.scan('098364849832', 10)\n",
      "\n",
      "Adem\u00e1s, tambi\u00e9n es necesario definir una forma de ver la lista de la compra:\n",
      "\n",
      "    pos.list()\n",
      "\n",
      "    >>> pos.list()\n",
      "    [('293002910392', 2), ('098364849832', 10)]\n",
      "\n",
      "Por supuesto, es necesario que los art\u00edculos que se a\u00f1adan con `scan` se puedan ver en la salida de `list`."
     ]
    },
    {
     "cell_type": "markdown",
     "metadata": {
      "slideshow": {
       "slide_type": "subslide"
      }
     },
     "source": [
      "En esta ocasi\u00f3n, habr\u00edamos escrito el test de la siguiente manera:"
     ]
    },
    {
     "cell_type": "code",
     "collapsed": false,
     "input": [
      "%%writefile test_pytest_pos.py\n",
      "import pytest\n",
      "from pos import POS\n",
      "\n",
      "def test_simple_list():\n",
      "    pos = POS()\n",
      "    pos.scan('293002910392', 2)\n",
      "    assert len(pos.list()) == 1\n",
      "    pos.scan('098364849832', 10)\n",
      "    result = pos.list()\n",
      "    assert len(result) == 2\n",
      "    assert result[0][0] == '293002910392'\n",
      "    assert result[0][1] == 2\n",
      "    assert result[1][0] == '098364849832'\n",
      "    assert result[1][1] == 10"
     ],
     "language": "python",
     "metadata": {
      "slideshow": {
       "slide_type": "fragment"
      }
     },
     "outputs": [
      {
       "output_type": "stream",
       "stream": "stdout",
       "text": [
        "Writing test_pytest_pos.py\n"
       ]
      }
     ],
     "prompt_number": 18
    },
    {
     "cell_type": "markdown",
     "metadata": {
      "slideshow": {
       "slide_type": "subslide"
      }
     },
     "source": [
      "Que, con el mismo c\u00f3digo base inicial:"
     ]
    },
    {
     "cell_type": "code",
     "collapsed": false,
     "input": [
      "%%writefile pos.py\n",
      "class POS(object):\n",
      "    def scan(self, code, quantity):\n",
      "        pass\n",
      "    \n",
      "    def list(self):\n",
      "        return []"
     ],
     "language": "python",
     "metadata": {
      "slideshow": {
       "slide_type": "fragment"
      }
     },
     "outputs": [
      {
       "output_type": "stream",
       "stream": "stdout",
       "text": [
        "Overwriting pos.py\n"
       ]
      }
     ],
     "prompt_number": 19
    },
    {
     "cell_type": "markdown",
     "metadata": {
      "slideshow": {
       "slide_type": "subslide"
      }
     },
     "source": [
      "Nos fallar\u00eda el test:"
     ]
    },
    {
     "cell_type": "code",
     "collapsed": false,
     "input": [
      "%%bash\n",
      "py.test test_pytest_pos.py"
     ],
     "language": "python",
     "metadata": {
      "slideshow": {
       "slide_type": "fragment"
      }
     },
     "outputs": [
      {
       "output_type": "stream",
       "stream": "stdout",
       "text": [
        "====================== test session starts =======================\n",
        "platform darwin -- Python 3.3.5 -- py-1.4.26 -- pytest-2.6.4\n",
        "collected 1 items\n",
        "\n",
        "test_pytest_pos.py F\n",
        "\n",
        "============================ FAILURES ============================\n",
        "________________________ test_simple_list ________________________\n",
        "\n",
        "    def test_simple_list():\n",
        "        pos = POS()\n",
        "        pos.scan('293002910392', 2)\n",
        ">       assert len(pos.list()) == 1\n",
        "E       assert 0 == 1\n",
        "E        +  where 0 = len([])\n",
        "E        +    where [] = <bound method POS.list of <pos.POS object at 0x1030e1b50>>()\n",
        "E        +      where <bound method POS.list of <pos.POS object at 0x1030e1b50>> = <pos.POS object at 0x1030e1b50>.list\n",
        "\n",
        "test_pytest_pos.py:7: AssertionError\n",
        "==================== 1 failed in 0.01 seconds ====================\n"
       ]
      }
     ],
     "prompt_number": 20
    },
    {
     "cell_type": "markdown",
     "metadata": {
      "slideshow": {
       "slide_type": "subslide"
      }
     },
     "source": [
      "Y con el mismo c\u00f3digo soluci\u00f3n, del primer pomodoro:"
     ]
    },
    {
     "cell_type": "code",
     "collapsed": false,
     "input": [
      "%%writefile POS.py\n",
      "class POS(object):\n",
      "    def __init__(self):\n",
      "        self.scanned = []\n",
      "        \n",
      "    def scan(self, code, quantity):\n",
      "        self.scanned.append((code, quantity))\n",
      "        \n",
      "    def list(self):\n",
      "        return self.scanned"
     ],
     "language": "python",
     "metadata": {
      "slideshow": {
       "slide_type": "fragment"
      }
     },
     "outputs": [
      {
       "output_type": "stream",
       "stream": "stdout",
       "text": [
        "Overwriting POS.py\n"
       ]
      }
     ],
     "prompt_number": 21
    },
    {
     "cell_type": "markdown",
     "metadata": {
      "slideshow": {
       "slide_type": "subslide"
      }
     },
     "source": [
      "Lo pasar\u00eda:"
     ]
    },
    {
     "cell_type": "code",
     "collapsed": false,
     "input": [
      "%%bash\n",
      "py.test test_pytest_pos.py"
     ],
     "language": "python",
     "metadata": {
      "slideshow": {
       "slide_type": "fragment"
      }
     },
     "outputs": [
      {
       "output_type": "stream",
       "stream": "stdout",
       "text": [
        "====================== test session starts =======================\n",
        "platform darwin -- Python 3.3.5 -- py-1.4.26 -- pytest-2.6.4\n",
        "collected 1 items\n",
        "\n",
        "test_pytest_pos.py .\n",
        "\n",
        "==================== 1 passed in 0.01 seconds ====================\n"
       ]
      }
     ],
     "prompt_number": 22
    },
    {
     "cell_type": "markdown",
     "metadata": {
      "slideshow": {
       "slide_type": "slide"
      }
     },
     "source": [
      "## Segundo pomodoro: Los art\u00edculos"
     ]
    },
    {
     "cell_type": "markdown",
     "metadata": {},
     "source": [
      "Al ver la salida del m\u00e9todo `list`, no se ven ni los precios unitarios ni los precios para las cantidades adquiridas, as\u00ed que vamos a modificar el c\u00f3digo para que el m\u00e9todo `list` se comporte de otra forma posible, es decir, sin dejar de hacer lo anterior:\n",
      "\n",
      "    >>> pos.list()\n",
      "    [('293002910392', 2, 5.0, 10.0), ('098364849832', 10, 0.95, 9.5)]\n",
      "\n",
      "Supondremos que la clase POS contendr\u00e1 un diccionario con el precio unitario para cada producto:\n",
      "\n",
      "    prices = { '293002910392': 5.0, '098364849832': 0.95,}\n",
      "    \n",
      "Para el caso sin precios, prices valdr\u00e1 `None`."
     ]
    },
    {
     "cell_type": "markdown",
     "metadata": {
      "slideshow": {
       "slide_type": "subslide"
      }
     },
     "source": [
      "Para resolverlo, hemos creado una fixture con los precios de los art\u00edculos:"
     ]
    },
    {
     "cell_type": "code",
     "collapsed": false,
     "input": [
      "%%writefile conftest.py\n",
      "import pytest\n",
      "\n",
      "@pytest.fixture\n",
      "def article_prices():\n",
      "    return {\n",
      "                '293002910392': 5.0,\n",
      "                '098364849832': 0.95,\n",
      "    }"
     ],
     "language": "python",
     "metadata": {
      "slideshow": {
       "slide_type": "fragment"
      }
     },
     "outputs": [
      {
       "output_type": "stream",
       "stream": "stdout",
       "text": [
        "Writing conftest.py\n"
       ]
      }
     ],
     "prompt_number": 23
    },
    {
     "cell_type": "markdown",
     "metadata": {
      "slideshow": {
       "slide_type": "subslide"
      }
     },
     "source": [
      "Modificando el test de forma similar a como se hizo en el segundo pomodoro:"
     ]
    },
    {
     "cell_type": "code",
     "collapsed": false,
     "input": [
      "%%writefile test_pytest_pos.py\n",
      "import pytest\n",
      "from pos import POS\n",
      "\n",
      "def test_simple_list():\n",
      "    pos = POS()\n",
      "    pos.scan('293002910392', 2)\n",
      "    assert len(pos.list()) == 1\n",
      "    pos.scan('098364849832', 10)\n",
      "    result = pos.list()\n",
      "    assert len(result) == 2\n",
      "    assert result[0][0] == '293002910392'\n",
      "    assert result[0][1] == 2\n",
      "    assert result[1][0] == '098364849832'\n",
      "    assert result[1][1] == 10\n",
      "    \n",
      "def test_priced_list(article_prices):\n",
      "    pos = POS(article_prices)\n",
      "    pos.scan('293002910392', 2)\n",
      "    assert len(pos.list()) == 1\n",
      "    pos.scan('098364849832', 10)\n",
      "    result = pos.list()\n",
      "    assert len(result) == 2\n",
      "    assert result[0][0] == '293002910392'\n",
      "    assert result[0][1] == 2\n",
      "    assert result[0][2] == 5.0\n",
      "    assert result[0][3] == 10.0\n",
      "    assert result[1][0] == '098364849832'\n",
      "    assert result[1][1] == 10\n",
      "    assert result[1][2] == 0.95\n",
      "    assert result[1][3] == 9.5"
     ],
     "language": "python",
     "metadata": {
      "slideshow": {
       "slide_type": "fragment"
      }
     },
     "outputs": [
      {
       "output_type": "stream",
       "stream": "stdout",
       "text": [
        "Overwriting test_pytest_pos.py\n"
       ]
      }
     ],
     "prompt_number": 24
    },
    {
     "cell_type": "markdown",
     "metadata": {
      "slideshow": {
       "slide_type": "subslide"
      }
     },
     "source": [
      "Y con un c\u00f3digo base como el que usamos con unittest:"
     ]
    },
    {
     "cell_type": "code",
     "collapsed": false,
     "input": [
      "%%writefile POS.py\n",
      "class POS(object):\n",
      "    def __init__(self, prices=None):\n",
      "        self.scanned = []\n",
      "        self.prices = prices\n",
      "        \n",
      "    def scan(self, code, quantity):\n",
      "        self.scanned.append((code, quantity))\n",
      "        \n",
      "    def list(self):\n",
      "        if self.prices is None:\n",
      "            return self.scanned\n",
      "        else:\n",
      "            return [('', 0, 0, 0) for product in self.scanned]"
     ],
     "language": "python",
     "metadata": {
      "slideshow": {
       "slide_type": "fragment"
      }
     },
     "outputs": [
      {
       "output_type": "stream",
       "stream": "stdout",
       "text": [
        "Overwriting POS.py\n"
       ]
      }
     ],
     "prompt_number": 25
    },
    {
     "cell_type": "markdown",
     "metadata": {
      "slideshow": {
       "slide_type": "subslide"
      }
     },
     "source": [
      "Tenemos un test que falla, sin romper el anterior:"
     ]
    },
    {
     "cell_type": "code",
     "collapsed": false,
     "input": [
      "%%bash\n",
      "py.test test_pytest_pos.py"
     ],
     "language": "python",
     "metadata": {
      "slideshow": {
       "slide_type": "fragment"
      }
     },
     "outputs": [
      {
       "output_type": "stream",
       "stream": "stdout",
       "text": [
        "====================== test session starts =======================\n",
        "platform darwin -- Python 3.3.5 -- py-1.4.26 -- pytest-2.6.4\n",
        "collected 2 items\n",
        "\n",
        "test_pytest_pos.py .F\n",
        "\n",
        "============================ FAILURES ============================\n",
        "________________________ test_priced_list ________________________\n",
        "\n",
        "article_prices = {'098364849832': 0.95, '293002910392': 5.0}\n",
        "\n",
        "    def test_priced_list(article_prices):\n",
        "        pos = POS(article_prices)\n",
        "        pos.scan('293002910392', 2)\n",
        "        assert len(pos.list()) == 1\n",
        "        pos.scan('098364849832', 10)\n",
        "        result = pos.list()\n",
        "        assert len(result) == 2\n",
        ">       assert result[0][0] == '293002910392'\n",
        "E       assert '' == '293002910392'\n",
        "E         + 293002910392\n",
        "\n",
        "test_pytest_pos.py:23: AssertionError\n",
        "=============== 1 failed, 1 passed in 0.02 seconds ===============\n"
       ]
      }
     ],
     "prompt_number": 26
    },
    {
     "cell_type": "markdown",
     "metadata": {
      "slideshow": {
       "slide_type": "subslide"
      }
     },
     "source": [
      "Y con la misma soluci\u00f3n que para la otra librer\u00eda:"
     ]
    },
    {
     "cell_type": "code",
     "collapsed": false,
     "input": [
      "%%writefile POS.py\n",
      "class POS(object):\n",
      "    def __init__(self, prices = None):\n",
      "        self.scanned = []\n",
      "        self.prices = prices\n",
      "        \n",
      "    def scan(self, code, quantity):\n",
      "        self.scanned.append((code, quantity))\n",
      "\n",
      "    def get_line(self, product):\n",
      "        return product[0], product[1], self.prices[product[0]], self.prices[product[0]] * product[1]\n",
      "\n",
      "    def list(self):\n",
      "        if self.prices is None:\n",
      "            return self.scanned\n",
      "        return [self.get_line(product) for product in self.scanned]"
     ],
     "language": "python",
     "metadata": {
      "slideshow": {
       "slide_type": "fragment"
      }
     },
     "outputs": [
      {
       "output_type": "stream",
       "stream": "stdout",
       "text": [
        "Overwriting POS.py\n"
       ]
      }
     ],
     "prompt_number": 27
    },
    {
     "cell_type": "markdown",
     "metadata": {
      "slideshow": {
       "slide_type": "subslide"
      }
     },
     "source": [
      "Se puede resolver igualmente:"
     ]
    },
    {
     "cell_type": "code",
     "collapsed": false,
     "input": [
      "%%bash\n",
      "py.test test_pytest_pos.py"
     ],
     "language": "python",
     "metadata": {
      "slideshow": {
       "slide_type": "fragment"
      }
     },
     "outputs": [
      {
       "output_type": "stream",
       "stream": "stdout",
       "text": [
        "====================== test session starts =======================\n",
        "platform darwin -- Python 3.3.5 -- py-1.4.26 -- pytest-2.6.4\n",
        "collected 2 items\n",
        "\n",
        "test_pytest_pos.py ..\n",
        "\n",
        "==================== 2 passed in 0.01 seconds ====================\n"
       ]
      }
     ],
     "prompt_number": 28
    },
    {
     "cell_type": "markdown",
     "metadata": {
      "slideshow": {
       "slide_type": "slide"
      }
     },
     "source": [
      "## Tercer Pomodoro: El almac\u00e9n"
     ]
    },
    {
     "cell_type": "markdown",
     "metadata": {},
     "source": [
      "El tercer promodoro, consistir\u00e1 en permitir que, al escanear cada producto, se informe de la cantidad y del producto, al almac\u00e9n, mediante un interfaz interno. El interfaz, por la parte que nos interesa, provee un m\u00e9todo `lock` que permite indicar una cantidad de unidades de un producto que dejan de estar a la venta:\n",
      "\n",
      "    >>> store = Store()\n",
      "    >>> store.lock('293002910392', 2)\n",
      "\n",
      "Por supuesto, se quiere que este evento se produzca al escanear el producto en la compra."
     ]
    },
    {
     "cell_type": "markdown",
     "metadata": {
      "slideshow": {
       "slide_type": "subslide"
      }
     },
     "source": [
      "Veamos c\u00f3mo hacer el *fixture* para el mocking en `conftest.py`:"
     ]
    },
    {
     "cell_type": "code",
     "collapsed": false,
     "input": [
      "%%writefile conftest.py\n",
      "import pytest\n",
      "\n",
      "@pytest.fixture\n",
      "def article_prices():\n",
      "    return {\n",
      "                '293002910392': 5.0,\n",
      "                '098364849832': 0.95,\n",
      "    }\n",
      "\n",
      "@pytest.fixture\n",
      "def mock_store(request, monkeypatch):\n",
      "    locked = [('293002910392', 2), ('098364849832', 10)]\n",
      "    def mocklock(pos, code, quantity):\n",
      "        if (code, quantity) not in locked:\n",
      "            pytest.fail('Locked items not valid')\n",
      "        return None\n",
      "    monkeypatch.setattr('store.Store.lock', mocklock)"
     ],
     "language": "python",
     "metadata": {
      "slideshow": {
       "slide_type": "fragment"
      }
     },
     "outputs": [
      {
       "output_type": "stream",
       "stream": "stdout",
       "text": [
        "Overwriting conftest.py\n"
       ]
      }
     ],
     "prompt_number": 29
    },
    {
     "cell_type": "markdown",
     "metadata": {
      "slideshow": {
       "slide_type": "subslide"
      }
     },
     "source": [
      "A\u00f1adimos al test lo siguiente:"
     ]
    },
    {
     "cell_type": "code",
     "collapsed": false,
     "input": [
      "%%writefile test_pytest_pos.py\n",
      "import pytest\n",
      "from pos import POS\n",
      "\n",
      "def test_simple_list(mock_store):\n",
      "    pos = POS()\n",
      "    pos.scan('293002910392', 2)\n",
      "    assert len(pos.list()) == 1\n",
      "    pos.scan('098364849832', 10)\n",
      "    result = pos.list()\n",
      "    assert len(result) == 2\n",
      "    assert result[0][0] == '293002910392'\n",
      "    assert result[0][1] == 2\n",
      "    assert result[1][0] == '098364849832'\n",
      "    assert result[1][1] == 10\n",
      "    \n",
      "def test_priced_list(article_prices, mock_store):\n",
      "    pos = POS(article_prices)\n",
      "    pos.scan('293002910392', 2)\n",
      "    assert len(pos.list()) == 1\n",
      "    pos.scan('098364849832', 10)\n",
      "    result = pos.list()\n",
      "    assert len(result) == 2\n",
      "    assert result[0][0] == '293002910392'\n",
      "    assert result[0][1] == 2\n",
      "    assert result[0][2] == 5.0\n",
      "    assert result[0][3] == 10.0\n",
      "    assert result[1][0] == '098364849832'\n",
      "    assert result[1][1] == 10\n",
      "    assert result[1][2] == 0.95\n",
      "    assert result[1][3] == 9.5"
     ],
     "language": "python",
     "metadata": {
      "slideshow": {
       "slide_type": "fragment"
      }
     },
     "outputs": [
      {
       "output_type": "stream",
       "stream": "stdout",
       "text": [
        "Overwriting test_pytest_pos.py\n"
       ]
      }
     ],
     "prompt_number": 30
    },
    {
     "cell_type": "markdown",
     "metadata": {
      "slideshow": {
       "slide_type": "subslide"
      }
     },
     "source": [
      "Que con la soluci\u00f3n que ten\u00edamos:"
     ]
    },
    {
     "cell_type": "code",
     "collapsed": false,
     "input": [
      "%%writefile POS.py\n",
      "from store import Store\n",
      "\n",
      "class POS(object):\n",
      "    def __init__(self, prices = None):\n",
      "        self.scanned = []\n",
      "        self.prices = prices\n",
      "\n",
      "    def scan(self, code, quantity):\n",
      "        self.scanned.append((code, quantity))\n",
      "        store = Store()\n",
      "        store.lock(code, quantity)\n",
      "\n",
      "    def get_line(self, product):\n",
      "        return product[0], product[1], self.prices[product[0]], self.prices[product[0]] * product[1]\n",
      "\n",
      "    def list(self):\n",
      "        if self.prices is None:\n",
      "            return self.scanned\n",
      "        return [self.get_line(product) for product in self.scanned]"
     ],
     "language": "python",
     "metadata": {
      "slideshow": {
       "slide_type": "fragment"
      }
     },
     "outputs": [
      {
       "output_type": "stream",
       "stream": "stdout",
       "text": [
        "Overwriting POS.py\n"
       ]
      }
     ],
     "prompt_number": 31
    },
    {
     "cell_type": "markdown",
     "metadata": {
      "slideshow": {
       "slide_type": "subslide"
      }
     },
     "source": [
      "Podemos probar que funciona:"
     ]
    },
    {
     "cell_type": "code",
     "collapsed": false,
     "input": [
      "%%bash\n",
      "py.test test_pytest_pos.py"
     ],
     "language": "python",
     "metadata": {
      "slideshow": {
       "slide_type": "fragment"
      }
     },
     "outputs": [
      {
       "output_type": "stream",
       "stream": "stdout",
       "text": [
        "====================== test session starts =======================\n",
        "platform darwin -- Python 3.3.5 -- py-1.4.26 -- pytest-2.6.4\n",
        "collected 2 items\n",
        "\n",
        "test_pytest_pos.py ..\n",
        "\n",
        "==================== 2 passed in 0.02 seconds ====================\n"
       ]
      }
     ],
     "prompt_number": 32
    },
    {
     "cell_type": "markdown",
     "metadata": {
      "slideshow": {
       "slide_type": "slide"
      }
     },
     "source": [
      "## Preguntas"
     ]
    },
    {
     "cell_type": "code",
     "collapsed": false,
     "input": [],
     "language": "python",
     "metadata": {
      "slideshow": {
       "slide_type": "skip"
      }
     },
     "outputs": []
    }
   ],
   "metadata": {}
  }
 ]
}