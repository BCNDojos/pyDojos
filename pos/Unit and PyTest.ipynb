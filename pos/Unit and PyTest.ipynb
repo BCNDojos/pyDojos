{
 "metadata": {
  "celltoolbar": "Slideshow",
  "name": "",
  "signature": "sha256:ca763e7d97bafcac1ab6330043fceabaf95aedd1f4fdc81e02ac56dccbc38a33"
 },
 "nbformat": 3,
 "nbformat_minor": 0,
 "worksheets": [
  {
   "cells": [
    {
     "cell_type": "markdown",
     "metadata": {
      "slideshow": {
       "slide_type": "slide"
      }
     },
     "source": [
      "# UNITTEST Y PYTEST"
     ]
    },
    {
     "cell_type": "markdown",
     "metadata": {
      "slideshow": {
       "slide_type": "fragment"
      }
     },
     "source": [
      "En este dojo, vamos a trabajar sobre una kata en la que vamos a escribir la l\u00f3gica de un terminal punto de venta. La idea es desarrollar la kata primero en unittest, y luego ver c\u00f3mo encaja pytest."
     ]
    },
    {
     "cell_type": "markdown",
     "metadata": {
      "slideshow": {
       "slide_type": "slide"
      }
     },
     "source": [
      "## Primer pomodoro: La clase TPV"
     ]
    },
    {
     "cell_type": "markdown",
     "metadata": {
      "slideshow": {
       "slide_type": "fragment"
      }
     },
     "source": [
      "En el primer pomodoro, plantearemos una primera aproximaci\u00f3n a la clase TPV. Por un lado, es necesario definir un m\u00e9todo para a\u00f1adir productos a la compra. De momento, ser\u00e1 suficiente con el siguiente prototipo:\n",
      "\n",
      "    tpv.add(codigo, cantidad)\n",
      "\n",
      "    >>> tpv = TPV()\n",
      "    >>> tpv.scan('293002910392', 2)\n",
      "    >>> tpv.scan('098364849832', 10)\n",
      "\n",
      "Adem\u00e1s, tambi\u00e9n es necesario definir una forma de ver la lista de la compra:\n",
      "\n",
      "    tpv.list()\n",
      "\n",
      "    >>> tpv.list()\n",
      "    [('293002910392', 2), ('098364849832', 10)]\n",
      "\n",
      "Por supuesto, es necesario que los art\u00edculos que se a\u00f1adan con `scan` se puedan ver en la salida de `list`."
     ]
    },
    {
     "cell_type": "markdown",
     "metadata": {
      "slideshow": {
       "slide_type": "subslide"
      }
     },
     "source": [
      "Una posible soluci\u00f3n podr\u00eda ser, utilizando el siguiente test:"
     ]
    },
    {
     "cell_type": "code",
     "collapsed": false,
     "input": [
      "import unittest\n",
      "\n",
      "class TestTPV(unittest.TestCase):\n",
      "    def test_simple_list(self):\n",
      "        tpv = TPV()\n",
      "        tpv.scan('293002910392', 2)\n",
      "        self.assertEqual(len(tpv.list()), 1)\n",
      "        self.assertEqual(tpv.list()[0][0], '293002910392')\n",
      "        self.assertEqual(tpv.list()[0][1], 2)\n",
      "        tpv.scan('098364849832', 10)\n",
      "        self.assertEqual(len(tpv.list()), 2)\n",
      "        self.assertEqual(tpv.list()[1][0], '098364849832')\n",
      "        self.assertEqual(tpv.list()[1][1], 10)"
     ],
     "language": "python",
     "metadata": {
      "slideshow": {
       "slide_type": "fragment"
      }
     },
     "outputs": [],
     "prompt_number": 1
    },
    {
     "cell_type": "markdown",
     "metadata": {
      "slideshow": {
       "slide_type": "fragment"
      }
     },
     "source": [
      "Con el c\u00f3digo b\u00e1sico siguiente:"
     ]
    },
    {
     "cell_type": "code",
     "collapsed": false,
     "input": [
      "class TPV(object):\n",
      "    def scan(self, code, quantity):\n",
      "        pass\n",
      "    \n",
      "    def list(self):\n",
      "        return []"
     ],
     "language": "python",
     "metadata": {
      "slideshow": {
       "slide_type": "fragment"
      }
     },
     "outputs": [],
     "prompt_number": 2
    },
    {
     "cell_type": "markdown",
     "metadata": {
      "slideshow": {
       "slide_type": "subslide"
      }
     },
     "source": [
      "Que nos dar\u00e1 un resultado negativo:"
     ]
    },
    {
     "cell_type": "code",
     "collapsed": false,
     "input": [
      "suite = unittest.TestLoader().loadTestsFromTestCase(TestTPV)\n",
      "unittest.TextTestRunner(verbosity=2).run(suite)"
     ],
     "language": "python",
     "metadata": {
      "slideshow": {
       "slide_type": "fragment"
      }
     },
     "outputs": [
      {
       "output_type": "stream",
       "stream": "stderr",
       "text": [
        "test_simple_list (__main__.TestTPV) ... "
       ]
      },
      {
       "output_type": "stream",
       "stream": "stderr",
       "text": [
        "FAIL\n",
        "\n",
        "======================================================================\n",
        "FAIL: test_simple_list (__main__.TestTPV)\n",
        "----------------------------------------------------------------------\n",
        "Traceback (most recent call last):\n",
        "  File \"<ipython-input-1-8ab2dcd122e9>\", line 7, in test_simple_list\n",
        "    self.assertEqual(len(tpv.list()), 1)\n",
        "AssertionError: 0 != 1\n",
        "\n",
        "----------------------------------------------------------------------\n",
        "Ran 1 test in 0.001s\n",
        "\n",
        "FAILED (failures=1)\n"
       ]
      },
      {
       "metadata": {},
       "output_type": "pyout",
       "prompt_number": 3,
       "text": [
        "<unittest.runner.TextTestResult run=1 errors=0 failures=1>"
       ]
      }
     ],
     "prompt_number": 3
    },
    {
     "cell_type": "markdown",
     "metadata": {
      "slideshow": {
       "slide_type": "subslide"
      }
     },
     "source": [
      "Llegar al siguiente c\u00f3digo:"
     ]
    },
    {
     "cell_type": "code",
     "collapsed": false,
     "input": [
      "class TPV(object):\n",
      "    def __init__(self):\n",
      "        self.scanned = []\n",
      "        \n",
      "    def scan(self, code, quantity):\n",
      "        self.scanned.append((code, quantity))\n",
      "        \n",
      "    def list(self):\n",
      "        return self.scanned"
     ],
     "language": "python",
     "metadata": {
      "slideshow": {
       "slide_type": "fragment"
      }
     },
     "outputs": [],
     "prompt_number": 4
    },
    {
     "cell_type": "markdown",
     "metadata": {
      "slideshow": {
       "slide_type": "subslide"
      }
     },
     "source": [
      "Que podemos probar con:"
     ]
    },
    {
     "cell_type": "code",
     "collapsed": false,
     "input": [
      "suite = unittest.TestLoader().loadTestsFromTestCase(TestTPV)\n",
      "unittest.TextTestRunner(verbosity=2).run(suite)"
     ],
     "language": "python",
     "metadata": {
      "slideshow": {
       "slide_type": "fragment"
      }
     },
     "outputs": [
      {
       "output_type": "stream",
       "stream": "stderr",
       "text": [
        "test_simple_list (__main__.TestTPV) ... "
       ]
      },
      {
       "output_type": "stream",
       "stream": "stderr",
       "text": [
        "ok\n",
        "\n",
        "----------------------------------------------------------------------\n",
        "Ran 1 test in 0.001s\n",
        "\n",
        "OK\n"
       ]
      },
      {
       "metadata": {},
       "output_type": "pyout",
       "prompt_number": 5,
       "text": [
        "<unittest.runner.TextTestResult run=1 errors=0 failures=0>"
       ]
      }
     ],
     "prompt_number": 5
    },
    {
     "cell_type": "markdown",
     "metadata": {
      "slideshow": {
       "slide_type": "slide"
      }
     },
     "source": [
      "## Segundo Pomodoro: Los art\u00edculos"
     ]
    },
    {
     "cell_type": "markdown",
     "metadata": {
      "slideshow": {
       "slide_type": "fragment"
      }
     },
     "source": [
      "Al ver la salida del m\u00e9todo `list`, se ve claramente que el art\u00edculo no queda identificado, tampoco se conoce ni su precio unitario ni el precio para la cantidad adquirida, as\u00ed que vamos a modificar el c\u00f3digo para que el m\u00e9todo list se comporte de otra forma:\n",
      "\n",
      "    >>> tpv.list()\n",
      "    [('293002910392', 2, 5.00, 10.00), ('098364849832', 10, 0.95, 9.50)]\n"
     ]
    },
    {
     "cell_type": "markdown",
     "metadata": {
      "slideshow": {
       "slide_type": "subslide"
      }
     },
     "source": [
      "Para esto, podr\u00edamos haber a\u00f1adido el siguiente test:"
     ]
    },
    {
     "cell_type": "code",
     "collapsed": false,
     "input": [
      "class TestTPV(unittest.TestCase):\n",
      "    def setUp(self):\n",
      "        prices = None\n",
      "        test_name = self.id().split('.')[-1]\n",
      "        if test_name == 'test_priced_list':\n",
      "            prices = {\n",
      "                '293002910392': 5.00,\n",
      "                '098364849832': 0.95,\n",
      "            }\n",
      "        self.tpv = TPV(prices)\n",
      "        \n",
      "    def test_simple_list(self):\n",
      "        self.tpv.scan('293002910392', 2)\n",
      "        self.assertEqual(len(self.tpv.list()), 1)\n",
      "        self.assertEqual(self.tpv.list()[0][0], '293002910392')\n",
      "        self.assertEqual(self.tpv.list()[0][1], 2)\n",
      "        self.tpv.scan('098364849832', 10)\n",
      "        self.assertEqual(len(self.tpv.list()), 2)\n",
      "        self.assertEqual(self.tpv.list()[1][0], '098364849832')\n",
      "        self.assertEqual(self.tpv.list()[1][1], 10)\n",
      "\n",
      "    def test_priced_list(self):\n",
      "        self.tpv.scan('293002910392', 2)\n",
      "        self.assertEqual(len(self.tpv.list()), 1)\n",
      "        self.assertEqual(self.tpv.list()[0][0], '293002910392')\n",
      "        self.assertEqual(self.tpv.list()[0][1], 2)\n",
      "        self.assertEqual(self.tpv.list()[0][2], 5.00)\n",
      "        self.assertEqual(self.tpv.list()[0][3], 10.00)\n",
      "        self.tpv.scan('098364849832', 10)\n",
      "        self.assertEqual(len(self.tpv.list()), 2)\n",
      "        self.assertEqual(self.tpv.list()[1][0], '098364849832')\n",
      "        self.assertEqual(self.tpv.list()[1][1], 10)\n",
      "        self.assertEqual(self.tpv.list()[1][2], 0.95)\n",
      "        self.assertEqual(self.tpv.list()[1][3], 9.50)"
     ],
     "language": "python",
     "metadata": {
      "slideshow": {
       "slide_type": "fragment"
      }
     },
     "outputs": [],
     "prompt_number": 6
    },
    {
     "cell_type": "markdown",
     "metadata": {
      "slideshow": {
       "slide_type": "subslide"
      }
     },
     "source": [
      "Verificamos que el c\u00f3digo actual no valida el nuevo test:"
     ]
    },
    {
     "cell_type": "code",
     "collapsed": false,
     "input": [
      "suite = unittest.TestLoader().loadTestsFromTestCase(TestTPV)\n",
      "unittest.TextTestRunner(verbosity=2).run(suite)"
     ],
     "language": "python",
     "metadata": {},
     "outputs": [
      {
       "output_type": "stream",
       "stream": "stderr",
       "text": [
        "test_priced_list (__main__.TestTPV) ... "
       ]
      },
      {
       "output_type": "stream",
       "stream": "stderr",
       "text": [
        "ERROR\n",
        "test_simple_list (__main__.TestTPV) ... "
       ]
      },
      {
       "output_type": "stream",
       "stream": "stderr",
       "text": [
        "ERROR\n",
        "\n",
        "======================================================================\n",
        "ERROR: test_priced_list (__main__.TestTPV)\n",
        "----------------------------------------------------------------------\n",
        "Traceback (most recent call last):\n",
        "  File \"<ipython-input-6-cd197c7cbd39>\", line 10, in setUp\n",
        "    self.tpv = TPV(prices)\n",
        "TypeError: __init__() takes 1 positional argument but 2 were given\n",
        "\n",
        "======================================================================\n",
        "ERROR: test_simple_list (__main__.TestTPV)\n",
        "----------------------------------------------------------------------\n",
        "Traceback (most recent call last):\n",
        "  File \"<ipython-input-6-cd197c7cbd39>\", line 10, in setUp\n",
        "    self.tpv = TPV(prices)\n",
        "TypeError: __init__() takes 1 positional argument but 2 were given\n",
        "\n",
        "----------------------------------------------------------------------\n",
        "Ran 2 tests in 0.001s\n",
        "\n",
        "FAILED (errors=2)\n"
       ]
      },
      {
       "metadata": {},
       "output_type": "pyout",
       "prompt_number": 7,
       "text": [
        "<unittest.runner.TextTestResult run=2 errors=2 failures=0>"
       ]
      }
     ],
     "prompt_number": 7
    },
    {
     "cell_type": "markdown",
     "metadata": {
      "slideshow": {
       "slide_type": "subslide"
      }
     },
     "source": [
      "Llegando a \u00e9ste c\u00f3digo:"
     ]
    },
    {
     "cell_type": "code",
     "collapsed": false,
     "input": [
      "class TPV(object):\n",
      "    def __init__(self, prices = None):\n",
      "        self.scanned = []\n",
      "        self.prices = prices\n",
      "        \n",
      "    def scan(self, code, quantity):\n",
      "        self.scanned.append((code, quantity))\n",
      "\n",
      "    def get_line(self, product):\n",
      "        return product[0], product[1], self.prices[product[0]], self.prices[product[0]] * product[1]\n",
      "\n",
      "    def list(self):\n",
      "        if self.prices is None:\n",
      "            return self.scanned\n",
      "        return [self.get_line(product) for product in self.scanned]"
     ],
     "language": "python",
     "metadata": {
      "slideshow": {
       "slide_type": "fragment"
      }
     },
     "outputs": [],
     "prompt_number": 8
    },
    {
     "cell_type": "markdown",
     "metadata": {
      "slideshow": {
       "slide_type": "subslide"
      }
     },
     "source": [
      "Con el siguiente resultado:"
     ]
    },
    {
     "cell_type": "code",
     "collapsed": false,
     "input": [
      "suite = unittest.TestLoader().loadTestsFromTestCase(TestTPV)\n",
      "unittest.TextTestRunner(verbosity=2).run(suite)"
     ],
     "language": "python",
     "metadata": {
      "slideshow": {
       "slide_type": "fragment"
      }
     },
     "outputs": [
      {
       "output_type": "stream",
       "stream": "stderr",
       "text": [
        "test_priced_list (__main__.TestTPV) ... "
       ]
      },
      {
       "output_type": "stream",
       "stream": "stderr",
       "text": [
        "ok\n",
        "test_simple_list (__main__.TestTPV) ... "
       ]
      },
      {
       "output_type": "stream",
       "stream": "stderr",
       "text": [
        "ok\n",
        "\n",
        "----------------------------------------------------------------------\n",
        "Ran 2 tests in 0.001s\n",
        "\n",
        "OK\n"
       ]
      },
      {
       "metadata": {},
       "output_type": "pyout",
       "prompt_number": 9,
       "text": [
        "<unittest.runner.TextTestResult run=2 errors=0 failures=0>"
       ]
      }
     ],
     "prompt_number": 9
    },
    {
     "cell_type": "markdown",
     "metadata": {
      "slideshow": {
       "slide_type": "slide"
      }
     },
     "source": [
      "## Tercer Pomodoro: El almac\u00e9n"
     ]
    },
    {
     "cell_type": "markdown",
     "metadata": {
      "slideshow": {
       "slide_type": "fragment"
      }
     },
     "source": [
      "El tercer promodoro, consistir\u00e1 en permitir que, al escanear cada producto, se informe de la cantidad y del producto, al almac\u00e9n, mediante un interfaz interno. El interfaz, por la parte que nos interesa, provee un m\u00e9todo `lock` que permite indicar una cantidad de unidades de un producto que dejan de estar a la venta:\n",
      "\n",
      "    >>> almacen = Almacen()\n",
      "    >>> almacen.remove('293002910392', 2)\n",
      "\n",
      "Por supuesto, se quiere que este evento se produzca al escanear el producto en la compra."
     ]
    },
    {
     "cell_type": "markdown",
     "metadata": {
      "slideshow": {
       "slide_type": "fragment"
      }
     },
     "source": [
      "Una buena forma de comprobar que se invoca al m\u00e9todo del interfaz, es definir el interfaz como un *mocking*, para lo que necesitaremos el siguiente c\u00f3digo:"
     ]
    },
    {
     "cell_type": "code",
     "collapsed": false,
     "input": [
      "class Almacen(object):\n",
      "    def remove(self, code, quantity):\n",
      "        pass"
     ],
     "language": "python",
     "metadata": {
      "slideshow": {
       "slide_type": "fragment"
      }
     },
     "outputs": [],
     "prompt_number": 10
    },
    {
     "cell_type": "markdown",
     "metadata": {
      "slideshow": {
       "slide_type": "subslide"
      }
     },
     "source": [
      "Sobre el que podremos modificar el test para implementar el *mocking*:"
     ]
    },
    {
     "cell_type": "code",
     "collapsed": false,
     "input": [
      "from unittest.mock import patch\n",
      "\n",
      "class TestTPV(unittest.TestCase):\n",
      "    def setUp(self):\n",
      "        prices = None\n",
      "        test_name = self.id().split('.')[-1]\n",
      "        if test_name == 'test_priced_list':\n",
      "            prices = {\n",
      "                '293002910392': 5.00,\n",
      "                '098364849832': 0.95,\n",
      "            }\n",
      "        self.tpv = TPV(prices)\n",
      "        \n",
      "    @patch.object(Almacen, 'remove', return_value = None)\n",
      "    def test_simple_list(self, mock_almacen):\n",
      "        self.tpv.scan('293002910392', 2)\n",
      "        mock_almacen.assert_called_with('293002910392', 2)\n",
      "        self.assertEqual(len(self.tpv.list()), 1)\n",
      "        self.assertEqual(self.tpv.list()[0][0], '293002910392')\n",
      "        self.assertEqual(self.tpv.list()[0][1], 2)\n",
      "        self.tpv.scan('098364849832', 10)\n",
      "        self.assertEqual(len(self.tpv.list()), 2)\n",
      "        self.assertEqual(self.tpv.list()[1][0], '098364849832')\n",
      "        self.assertEqual(self.tpv.list()[1][1], 10)\n",
      "        mock_almacen.assert_called_with('098364849832', 10)\n",
      "\n",
      "    @patch.object(Almacen, 'remove', return_value = None)\n",
      "    def test_priced_list(self, mock_almacen):\n",
      "        self.tpv.scan('293002910392', 2)\n",
      "        self.assertEqual(len(self.tpv.list()), 1)\n",
      "        self.assertEqual(self.tpv.list()[0][0], '293002910392')\n",
      "        self.assertEqual(self.tpv.list()[0][1], 2)\n",
      "        self.assertEqual(self.tpv.list()[0][2], 5.00)\n",
      "        self.assertEqual(self.tpv.list()[0][3], 10.00)\n",
      "        mock_almacen.assert_called_with('293002910392', 2)\n",
      "        self.tpv.scan('098364849832', 10)\n",
      "        self.assertEqual(len(self.tpv.list()), 2)\n",
      "        self.assertEqual(self.tpv.list()[1][0], '098364849832')\n",
      "        self.assertEqual(self.tpv.list()[1][1], 10)\n",
      "        self.assertEqual(self.tpv.list()[1][2], 0.95)\n",
      "        self.assertEqual(self.tpv.list()[1][3], 9.50)\n",
      "        mock_almacen.assert_called_with('098364849832', 10)"
     ],
     "language": "python",
     "metadata": {
      "slideshow": {
       "slide_type": "fragment"
      }
     },
     "outputs": [],
     "prompt_number": 11
    },
    {
     "cell_type": "markdown",
     "metadata": {
      "slideshow": {
       "slide_type": "subslide"
      }
     },
     "source": [
      "Del que obtendremos el siguiente resultado:"
     ]
    },
    {
     "cell_type": "code",
     "collapsed": false,
     "input": [
      "suite = unittest.TestLoader().loadTestsFromTestCase(TestTPV)\n",
      "unittest.TextTestRunner(verbosity=2).run(suite)"
     ],
     "language": "python",
     "metadata": {
      "slideshow": {
       "slide_type": "fragment"
      }
     },
     "outputs": [
      {
       "output_type": "stream",
       "stream": "stderr",
       "text": [
        "test_priced_list (__main__.TestTPV) ... "
       ]
      },
      {
       "output_type": "stream",
       "stream": "stderr",
       "text": [
        "FAIL\n",
        "test_simple_list (__main__.TestTPV) ... "
       ]
      },
      {
       "output_type": "stream",
       "stream": "stderr",
       "text": [
        "FAIL\n",
        "\n",
        "======================================================================\n",
        "FAIL: test_priced_list (__main__.TestTPV)\n",
        "----------------------------------------------------------------------\n",
        "Traceback (most recent call last):\n",
        "  File \"/Users/ifosch/.miniconda3/envs/pytest/lib/python3.3/unittest/mock.py\", line 1087, in patched\n",
        "    return func(*args, **keywargs)\n",
        "  File \"<ipython-input-11-2abcd3b5310c>\", line 35, in test_priced_list\n",
        "    mock_almacen.assert_called_with('293002910392', 2)\n",
        "  File \"/Users/ifosch/.miniconda3/envs/pytest/lib/python3.3/unittest/mock.py\", line 722, in assert_called_with\n",
        "    raise AssertionError('Expected call: %s\\nNot called' % (expected,))\n",
        "AssertionError: Expected call: remove('293002910392', 2)\n",
        "Not called\n",
        "\n",
        "======================================================================\n",
        "FAIL: test_simple_list (__main__.TestTPV)\n",
        "----------------------------------------------------------------------\n",
        "Traceback (most recent call last):\n",
        "  File \"/Users/ifosch/.miniconda3/envs/pytest/lib/python3.3/unittest/mock.py\", line 1087, in patched\n",
        "    return func(*args, **keywargs)\n",
        "  File \"<ipython-input-11-2abcd3b5310c>\", line 17, in test_simple_list\n",
        "    mock_almacen.assert_called_with('293002910392', 2)\n",
        "  File \"/Users/ifosch/.miniconda3/envs/pytest/lib/python3.3/unittest/mock.py\", line 722, in assert_called_with\n",
        "    raise AssertionError('Expected call: %s\\nNot called' % (expected,))\n",
        "AssertionError: Expected call: remove('293002910392', 2)\n",
        "Not called\n",
        "\n",
        "----------------------------------------------------------------------\n",
        "Ran 2 tests in 0.003s\n",
        "\n",
        "FAILED (failures=2)\n"
       ]
      },
      {
       "metadata": {},
       "output_type": "pyout",
       "prompt_number": 12,
       "text": [
        "<unittest.runner.TextTestResult run=2 errors=0 failures=2>"
       ]
      }
     ],
     "prompt_number": 12
    },
    {
     "cell_type": "markdown",
     "metadata": {},
     "source": [
      "Pero que se podr\u00e1 resolver con el c\u00f3digo siguiente:"
     ]
    },
    {
     "cell_type": "code",
     "collapsed": false,
     "input": [
      "class TPV(object):\n",
      "    def __init__(self, prices = None):\n",
      "        self.scanned = []\n",
      "        self.prices = prices\n",
      "\n",
      "    def scan(self, code, quantity):\n",
      "        self.scanned.append((code, quantity))\n",
      "        almacen = Almacen()\n",
      "        almacen.remove(code, quantity)\n",
      "\n",
      "    def get_line(self, product):\n",
      "        return product[0], product[1], self.prices[product[0]], self.prices[product[0]] * product[1]\n",
      "\n",
      "    def list(self):\n",
      "        if self.prices is None:\n",
      "            return self.scanned\n",
      "        return [self.get_line(product) for product in self.scanned]"
     ],
     "language": "python",
     "metadata": {},
     "outputs": [],
     "prompt_number": 13
    },
    {
     "cell_type": "markdown",
     "metadata": {},
     "source": [
      "Comprob\u00e1ndolo:"
     ]
    },
    {
     "cell_type": "code",
     "collapsed": false,
     "input": [
      "suite = unittest.TestLoader().loadTestsFromTestCase(TestTPV)\n",
      "unittest.TextTestRunner(verbosity=2).run(suite)"
     ],
     "language": "python",
     "metadata": {},
     "outputs": [
      {
       "output_type": "stream",
       "stream": "stderr",
       "text": [
        "test_priced_list (__main__.TestTPV) ... "
       ]
      },
      {
       "output_type": "stream",
       "stream": "stderr",
       "text": [
        "ok\n",
        "test_simple_list (__main__.TestTPV) ... "
       ]
      },
      {
       "output_type": "stream",
       "stream": "stderr",
       "text": [
        "ok\n",
        "\n",
        "----------------------------------------------------------------------\n",
        "Ran 2 tests in 0.001s\n",
        "\n",
        "OK\n"
       ]
      },
      {
       "metadata": {},
       "output_type": "pyout",
       "prompt_number": 14,
       "text": [
        "<unittest.runner.TextTestResult run=2 errors=0 failures=0>"
       ]
      }
     ],
     "prompt_number": 14
    },
    {
     "cell_type": "code",
     "collapsed": false,
     "input": [],
     "language": "python",
     "metadata": {
      "slideshow": {
       "slide_type": "skip"
      }
     },
     "outputs": [],
     "prompt_number": 14
    }
   ],
   "metadata": {}
  }
 ]
}