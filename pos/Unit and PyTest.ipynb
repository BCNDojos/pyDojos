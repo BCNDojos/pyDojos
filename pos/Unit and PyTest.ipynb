{
 "metadata": {
  "celltoolbar": "Slideshow",
  "name": "",
  "signature": "sha256:027e9016cde950b4685fbc0256e369be8e2aae7c1117cd938bd0bd4e09230b59"
 },
 "nbformat": 3,
 "nbformat_minor": 0,
 "worksheets": [
  {
   "cells": [
    {
     "cell_type": "markdown",
     "metadata": {
      "slideshow": {
       "slide_type": "slide"
      }
     },
     "source": [
      "# UNITTEST Y PYTEST"
     ]
    },
    {
     "cell_type": "markdown",
     "metadata": {
      "slideshow": {
       "slide_type": "fragment"
      }
     },
     "source": [
      "En este dojo, vamos a trabajar sobre una kata en la que vamos a escribir la l\u00f3gica de un terminal punto de venta. La idea es desarrollar la kata primero en unittest, y luego ver c\u00f3mo encaja pytest."
     ]
    },
    {
     "cell_type": "markdown",
     "metadata": {
      "slideshow": {
       "slide_type": "slide"
      }
     },
     "source": [
      "## Primer pomodoro: La clase TPV"
     ]
    },
    {
     "cell_type": "markdown",
     "metadata": {
      "slideshow": {
       "slide_type": "fragment"
      }
     },
     "source": [
      "En el primer pomodoro, plantearemos una primera aproximaci\u00f3n a la clase TPV. Por un lado, es necesario definir un m\u00e9todo para a\u00f1adir productos a la compra. De momento, ser\u00e1 suficiente con el siguiente prototipo:\n",
      "\n",
      "    tpv.add(codigo, cantidad)\n",
      "\n",
      "    >>> tpv = TPV()\n",
      "    >>> tpv.add('293002910392', 2)\n",
      "    >>> tpv.add('098364849832', 10)\n",
      "\n",
      "Adem\u00e1s, tambi\u00e9n es necesario definir una forma de ver la lista de la compra:\n",
      "\n",
      "    tpv.list()\n",
      "\n",
      "    >>> tpv.list()\n",
      "    [('293002910392', 2), ('098364849832', 10)]\n",
      "\n",
      "Por supuesto, es necesario que los art\u00edculos que se a\u00f1adan con `add` se puedan ver en la salida de `list`."
     ]
    },
    {
     "cell_type": "markdown",
     "metadata": {
      "slideshow": {
       "slide_type": "subslide"
      }
     },
     "source": [
      "Una posible soluci\u00f3n podr\u00eda ser, utilizando el siguiente test:"
     ]
    },
    {
     "cell_type": "code",
     "collapsed": false,
     "input": [
      "import unittest\n",
      "\n",
      "class TestTPV(unittest.TestCase):\n",
      "    def test_simple_list(self):\n",
      "        tpv = TPV()\n",
      "        tpv.add('293002910392', 2)\n",
      "        self.assertEqual(len(tpv.list()), 1)\n",
      "        self.assertEqual(tpv.list()[0][0], '293002910392')\n",
      "        self.assertEqual(tpv.list()[0][1], 2)\n",
      "        tpv.add('098364849832', 10)\n",
      "        self.assertEqual(len(tpv.list()), 2)\n",
      "        self.assertEqual(tpv.list()[1][0], '098364849832')\n",
      "        self.assertEqual(tpv.list()[1][1], 10)"
     ],
     "language": "python",
     "metadata": {
      "slideshow": {
       "slide_type": "fragment"
      }
     },
     "outputs": [],
     "prompt_number": 29
    },
    {
     "cell_type": "markdown",
     "metadata": {
      "slideshow": {
       "slide_type": "subslide"
      }
     },
     "source": [
      "Llegar al siguiente c\u00f3digo:"
     ]
    },
    {
     "cell_type": "code",
     "collapsed": false,
     "input": [
      "class TPV(object):\n",
      "    def __init__(self):\n",
      "        self.scanned = []\n",
      "        \n",
      "    def add(self, code, quantity):\n",
      "        self.scanned.append((code, quantity))\n",
      "        \n",
      "    def list(self):\n",
      "        return self.scanned"
     ],
     "language": "python",
     "metadata": {
      "slideshow": {
       "slide_type": "fragment"
      }
     },
     "outputs": [],
     "prompt_number": 30
    },
    {
     "cell_type": "markdown",
     "metadata": {
      "slideshow": {
       "slide_type": "subslide"
      }
     },
     "source": [
      "Que podemos probar con:"
     ]
    },
    {
     "cell_type": "code",
     "collapsed": false,
     "input": [
      "suite = unittest.TestLoader().loadTestsFromTestCase(TestTPV)\n",
      "unittest.TextTestRunner(verbosity=2).run(suite)"
     ],
     "language": "python",
     "metadata": {
      "slideshow": {
       "slide_type": "fragment"
      }
     },
     "outputs": [
      {
       "output_type": "stream",
       "stream": "stderr",
       "text": [
        "test_simple_list (__main__.TestTPV) ... "
       ]
      },
      {
       "output_type": "stream",
       "stream": "stderr",
       "text": [
        "ok\n",
        "\n",
        "----------------------------------------------------------------------\n",
        "Ran 1 test in 0.001s\n",
        "\n",
        "OK\n"
       ]
      },
      {
       "metadata": {},
       "output_type": "pyout",
       "prompt_number": 31,
       "text": [
        "<unittest.runner.TextTestResult run=1 errors=0 failures=0>"
       ]
      }
     ],
     "prompt_number": 31
    },
    {
     "cell_type": "markdown",
     "metadata": {
      "slideshow": {
       "slide_type": "slide"
      }
     },
     "source": [
      "## Segundo Pomodoro: Los art\u00edculos"
     ]
    },
    {
     "cell_type": "markdown",
     "metadata": {
      "slideshow": {
       "slide_type": "fragment"
      }
     },
     "source": [
      "Al ver la salida del m\u00e9todo `list`, se ve claramente que el art\u00edculo no queda identificado, tampoco se conoce ni su precio unitario ni el precio para la cantidad adquirida, ni, tampoco, el precio total, as\u00ed que vamos a modificar el c\u00f3digo para que el m\u00e9todo list se comporte de otra forma:\n",
      "\n",
      "    >>> tpv.list()\n",
      "    [('293002910392', 2, 5.00, 10.00), ('098364849832', 10, 0.95, 9.50)], 19.50\n"
     ]
    },
    {
     "cell_type": "markdown",
     "metadata": {
      "slideshow": {
       "slide_type": "subslide"
      }
     },
     "source": [
      "Para esto, podr\u00edamos haber a\u00f1adido el siguiente test:"
     ]
    },
    {
     "cell_type": "code",
     "collapsed": false,
     "input": [
      "class TestTPV(unittest.TestCase):\n",
      "    def test_simple_list(self):\n",
      "        tpv = TPV()\n",
      "        tpv.add('293002910392', 2)\n",
      "        self.assertEqual(len(tpv.list()), 1)\n",
      "        self.assertEqual(tpv.list()[0][0], '293002910392')\n",
      "        self.assertEqual(tpv.list()[0][1], 2)\n",
      "        tpv.add('098364849832', 10)\n",
      "        self.assertEqual(len(tpv.list()), 2)\n",
      "        self.assertEqual(tpv.list()[1][0], '098364849832')\n",
      "        self.assertEqual(tpv.list()[1][1], 10)\n",
      "\n",
      "    def test_priced_list(self):\n",
      "        prices = {\n",
      "            '293002910392': 5.00,\n",
      "            '098364849832': 0.95,\n",
      "        }\n",
      "        tpv = TPV(prices)\n",
      "        tpv.add('293002910392', 2)\n",
      "        self.assertEqual(len(tpv.list()), 1)\n",
      "        self.assertEqual(tpv.list()[0][0], '293002910392')\n",
      "        self.assertEqual(tpv.list()[0][1], 2)\n",
      "        self.assertEqual(tpv.list()[0][2], 5.00)\n",
      "        tpv.add('098364849832', 10)\n",
      "        self.assertEqual(len(tpv.list()), 2)\n",
      "        self.assertEqual(tpv.list()[1][0], '098364849832')\n",
      "        self.assertEqual(tpv.list()[1][1], 10)\n",
      "        self.assertEqual(tpv.list()[1][2], 0.95)"
     ],
     "language": "python",
     "metadata": {
      "slideshow": {
       "slide_type": "fragment"
      }
     },
     "outputs": [],
     "prompt_number": 40
    },
    {
     "cell_type": "markdown",
     "metadata": {
      "slideshow": {
       "slide_type": "subslide"
      }
     },
     "source": [
      "Llegando a \u00e9ste c\u00f3digo:"
     ]
    },
    {
     "cell_type": "code",
     "collapsed": false,
     "input": [
      "class TPV(object):\n",
      "    def __init__(self, prices = None):\n",
      "        self.scanned = []\n",
      "        self.prices = prices\n",
      "        \n",
      "    def add(self, code, quantity):\n",
      "        self.scanned.append((code, quantity))\n",
      "\n",
      "    def list(self):\n",
      "        if self.prices is None:\n",
      "            return self.scanned\n",
      "        return [(product[0], product[1], self.prices[product[0]]) for product in self.scanned]"
     ],
     "language": "python",
     "metadata": {
      "slideshow": {
       "slide_type": "fragment"
      }
     },
     "outputs": [],
     "prompt_number": 45
    },
    {
     "cell_type": "markdown",
     "metadata": {
      "slideshow": {
       "slide_type": "subslide"
      }
     },
     "source": [
      "Con el siguiente resultado:"
     ]
    },
    {
     "cell_type": "code",
     "collapsed": false,
     "input": [
      "suite = unittest.TestLoader().loadTestsFromTestCase(TestTPV)\n",
      "unittest.TextTestRunner(verbosity=2).run(suite)"
     ],
     "language": "python",
     "metadata": {
      "slideshow": {
       "slide_type": "fragment"
      }
     },
     "outputs": [
      {
       "output_type": "stream",
       "stream": "stderr",
       "text": [
        "test_priced_list (__main__.TestTPV) ... "
       ]
      },
      {
       "output_type": "stream",
       "stream": "stderr",
       "text": [
        "ok\n",
        "test_simple_list (__main__.TestTPV) ... "
       ]
      },
      {
       "output_type": "stream",
       "stream": "stderr",
       "text": [
        "ok\n",
        "\n",
        "----------------------------------------------------------------------\n",
        "Ran 2 tests in 0.001s\n",
        "\n",
        "OK\n"
       ]
      },
      {
       "metadata": {},
       "output_type": "pyout",
       "prompt_number": 46,
       "text": [
        "<unittest.runner.TextTestResult run=2 errors=0 failures=0>"
       ]
      }
     ],
     "prompt_number": 46
    },
    {
     "cell_type": "code",
     "collapsed": false,
     "input": [],
     "language": "python",
     "metadata": {
      "slideshow": {
       "slide_type": "skip"
      }
     },
     "outputs": []
    }
   ],
   "metadata": {}
  }
 ]
}