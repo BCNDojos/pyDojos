{
 "cells": [
  {
   "cell_type": "markdown",
   "metadata": {},
   "source": [
    "# Basic TDD, Python, and py.test introduction dojo - Weather Kata"
   ]
  },
  {
   "cell_type": "markdown",
   "metadata": {},
   "source": [
    "## About this session\n",
    "This notebook is intended to facilitate a Dojo on a very simple Kata for beginners to Python and py.test.\n",
    "\n",
    "**DISCLAIMER**:\n",
    "This content introduces basic Python usage enough to solve the proposed kata, which might not be the most appropriate for many real world cases.\n",
    "Some of the code used here to solve the kata could be improved by adding more adequate tools and libraries, like, for example, data munching, which could be improved a lot by using libraries like `numpy`, or `pandas`. However, showing how to use these, which are not plain basic Python, is not the goal of this session.\n",
    "\n",
    "The goal of this session is to show up TDD techniques, using pretty much standard and basic Python, explaining just what's required to solve the proposed Kata.\n",
    "\n",
    "This session is driven with many steps, so the audience is expected to fit just what's required, not trying to get extra bonus.\n",
    "This is not a competition, not a contest, there is no price."
   ]
  },
  {
   "cell_type": "markdown",
   "metadata": {},
   "source": [
    "## Requirements\n",
    "The audience setup should be based on Python 3.x, and it should include `py.test` and `pytest-benchmark`.\n",
    "Some level of programming knowledge might be required.\n",
    "Since Python is pretty readable and clear, the code should be easy to understand."
   ]
  },
  {
   "cell_type": "markdown",
   "metadata": {},
   "source": [
    "## Details about contents in this document\n",
    "Some contents in this document, like the two following cells, are not part of the content.\n",
    "These are tricks and tips to make the execution of the code easier.\n",
    "\n",
    "Also, some of the cells containing code start with `%%...` lines.\n",
    "Just omit these when copying code."
   ]
  },
  {
   "cell_type": "code",
   "execution_count": 1,
   "metadata": {
    "collapsed": false
   },
   "outputs": [
    {
     "data": {
      "application/javascript": [
       "\n",
       "IPython.keyboard_manager.command_shortcuts.add_shortcut('9', {\n",
       "    help: 'Clear all output',               // This text will show up on the help page (CTRL-M h or ESC h)\n",
       "    handler: function (event) {             // Function that gets invoked\n",
       "        if (IPython.notebook.mode == 'command') {\n",
       "            IPython.notebook.clear_all_output();\n",
       "            return false;\n",
       "        }\n",
       "        return true;\n",
       "    }\n",
       "});"
      ],
      "text/plain": [
       "<IPython.core.display.Javascript object>"
      ]
     },
     "metadata": {},
     "output_type": "display_data"
    }
   ],
   "source": [
    "%%javascript\n",
    "\n",
    "IPython.keyboard_manager.command_shortcuts.add_shortcut('9', {\n",
    "    help: 'Clear all output',               // This text will show up on the help page (CTRL-M h or ESC h)\n",
    "    handler: function (event) {             // Function that gets invoked\n",
    "        if (IPython.notebook.mode == 'command') {\n",
    "            IPython.notebook.clear_all_output();\n",
    "            return false;\n",
    "        }\n",
    "        return true;\n",
    "    }\n",
    "});"
   ]
  },
  {
   "cell_type": "code",
   "execution_count": 2,
   "metadata": {
    "collapsed": false
   },
   "outputs": [],
   "source": [
    "%%bash\n",
    "rm *.py*"
   ]
  },
  {
   "cell_type": "markdown",
   "metadata": {},
   "source": [
    "# Software testing"
   ]
  },
  {
   "cell_type": "markdown",
   "metadata": {},
   "source": [
    "Testing is a software development technique used to ensure the software being built accomplishes certain requirements and satisfy the expected features.\n",
    "By writing tests, programmers ensure code runs as expected.\n",
    "In many development methodologies, tests are run when code needs to be checked.\n",
    "\n",
    "When a bug is identified and it can be reproduced, it's pretty usual to write a test reproducing the bug, to ensure future modifications will not cause the bug to appear anymore.\n",
    "\n",
    "As well, some points of view might consider the tests as part of the code documentation, allowing contributors and developers, to learn how the software built can be used.\n",
    "In some cases, tests might be even better and usually much updated than proper documentation.\n",
    "Some approaches skip writing this documentation, even commenting code itself, and the resulting code is still easy to be used by just reviewing the tests.\n",
    "\n",
    "Writing tests can be pretty difficult, since the testing code should not be a copy or version of the working code.\n",
    "For example, writing a test for a function doing an addition on two numbers, should never do the actual addition, but providing two numbers to the function, and expecting the number which is the result of the addition:"
   ]
  },
  {
   "cell_type": "markdown",
   "metadata": {},
   "source": [
    "```python\n",
    "def addition(number1, number2):\n",
    "    return number1 + number2\n",
    "\n",
    "def bad_test_addition():\n",
    "    assert addition(2,3) == 2 + 3 # Bad test, it contains the actual working code\n",
    "\n",
    "def test_addition():\n",
    "    assert addition(2,3) == 5\n",
    "```"
   ]
  },
  {
   "cell_type": "markdown",
   "metadata": {},
   "source": [
    "By the way, in order to increase the testing related vocabulary, these numbers, i.e. `2`,`3`, and `5`, would be called **fixtures**.\n",
    "A fixture is a fixed entity, value, or data structure providing static input and output for testing a function is working.\n",
    "\n",
    "This is another of the most common pitfalls of writing tests.\n",
    "In some cases, using calculations and software for testing the functions, can cause tests to have flaky results, having them eventually passing or randomly failing, and causing tests not to be trusted.\n",
    "\n",
    "A recommended way of writing tests is by applying the AAA pattern:\n",
    "1. **Arrange**: Create and setup all required elements, fixtures, and other stuff required for the function to run.\n",
    "2. **Act**: Execute the actual function or code being tested.\n",
    "3. **Assert**: Check the values got from the execution of the tested software, have the effects expected."
   ]
  },
  {
   "cell_type": "markdown",
   "metadata": {},
   "source": [
    "# Test Driven Development"
   ]
  },
  {
   "cell_type": "markdown",
   "metadata": {},
   "source": [
    "Test Driven Development is an agile methodology to build software, based on writing tests first, even before the actual working code really exists.\n",
    "Then these tests are run, expecting to fail, just to proceed with modifying, or creating the code in such a way, a second run of the tests pass, showing the code is enough to satisfy requirements.\n",
    "\n",
    "This technique is not always useful when writing real software, but in certain cases, it provides some benefits.\n",
    "As explained when talking about tests as documentation, one of the outcomes of TDD when writing real software, is the ability to delay writing actual documentation, since the tests are already there to document how the software works.\n",
    "\n",
    "Another outcome of doing TDD, instead of writing tests on already working code, is the fact that the code cover most of the required functions and features.\n",
    "It also tends to help on keeping complexity away."
   ]
  },
  {
   "cell_type": "markdown",
   "metadata": {},
   "source": [
    "When doing TDD, the software engineering process goes iteratively over a cycle composed by three steps:\n",
    "1. **Red**: Developers write or modify tests, adding a new requirement, so when run, they fail.\n",
    "This execution must actually be done, to ensure the new or changed test is now failing.\n",
    "2. **Green**: Developers write or modify the code itself, to satisfy all the tests, making them pass when run.\n",
    "Of course, this second execution must also be actually done.\n",
    "And, naturally, all previous tests and assertions, should be still passing.\n",
    "3. **Refactor**: Optionally, when there is some possible optimization, or improvement, to be done on the proper code, and whenever all current tests are passing (**Green**), developers can refactor the code, so the improvement is applied.\n",
    "This third step also implies running the tests, to ensure the new improved code still passes them."
   ]
  },
  {
   "cell_type": "markdown",
   "metadata": {},
   "source": [
    "# Dojos"
   ]
  },
  {
   "cell_type": "markdown",
   "metadata": {},
   "source": [
    "A coding dojo is a coding session where the audience is challenged to solve a trivial problem using some techniques or tools which are to be practiced.\n",
    "The problem is trivial, so not getting to the solution is not the main goal, but to understand and practice these techniques or tools.\n",
    "\n",
    "There are many kinds of dojos with very different focuses.\n",
    "This session will focus on applying TDD, but also including some peeks on Python and py.test features."
   ]
  },
  {
   "cell_type": "markdown",
   "metadata": {},
   "source": [
    "The goals of a coding dojo session are:\n",
    "1. **Have fun**\n",
    "2. **Learn something new**\n",
    "4. **Practice something new**\n",
    "3. **Share knowledge**"
   ]
  },
  {
   "cell_type": "markdown",
   "metadata": {},
   "source": [
    "In order to make the session coherent, time boxing is usually applied on challenges that can be iteratively solved.\n",
    "This iterations are limited in time, but should be easy to get the results in time.\n",
    "Between iterations, some discussions on the steps followed, techniques applied, tools used, and problems found, usually happen."
   ]
  },
  {
   "cell_type": "markdown",
   "metadata": {},
   "source": [
    "Also it's pretty common to work in pairs, practicing pair programming.\n",
    "Pair programming is a coding technique that improves collaboration and communication between team members.\n",
    "\n",
    "One good way to apply pair programming is applying this procedure:\n",
    "1. First developer writes a test focusing on some new feature or requirement.\n",
    "This developer must ensure all language requirements are satisfied, i.e. modules and functions exists, syntax is correct.\n",
    "And then, he runs the tests ensuring these fail.\n",
    "At this stage, he passes the keyboard to the second developer.\n",
    "2. The second developer modifies the code under test in order to satisfy the test not passing.\n",
    "Once he's happy with the code, runs the tests.\n",
    "If the tests don't pass, the code needs more work.\n",
    "Else, he can choose to refactor, for improvements, or to add one more assertion or one new test, for more requirements.\n",
    "Again, ensure the new assertion or test fails when run, and passing the keyboard to the first developer back.\n",
    "3. Repeat until all features are satisfied."
   ]
  },
  {
   "cell_type": "markdown",
   "metadata": {},
   "source": [
    "Sometimes dojos, like this one, are focused on getting in-depth practice or learning.\n",
    "Also when doing TDD and baby stept when the problem is not very clear or highly complex, helps keeping good, clean and simple code."
   ]
  },
  {
   "cell_type": "markdown",
   "metadata": {},
   "source": [
    "At the end of the session, it's pretty common to run a small and fast retrospective where everyone can point on aspects that can be improved, or what they enjoyed or learnt.\n",
    "In these dojos, we appreciate feedback to improve further sessions."
   ]
  },
  {
   "cell_type": "markdown",
   "metadata": {},
   "source": [
    "Finally, the challenge proposed, following the martial arts metaphor, is called kata.\n",
    "As explained before, this is usually relatively simple and easy, but sometimes, it is not.\n",
    "This kata is simple enough, though."
   ]
  },
  {
   "cell_type": "markdown",
   "metadata": {},
   "source": [
    "# Weather data kata"
   ]
  },
  {
   "cell_type": "markdown",
   "metadata": {},
   "source": [
    "The goal of this exercise is to get a program reading the `weather.dat` file and printing the day and minimum temperature values for the day with the lowest minimum temperature within the month depicted in the file.\n",
    "The program should work like this:\n",
    "\n",
    "    python weather.py\n",
    "    9 32"
   ]
  },
  {
   "cell_type": "markdown",
   "metadata": {},
   "source": [
    "Contents for the `weather.dat` file are tabular space-separated data for weather measurements for a month in a place.\n",
    "The file has a header line, followed by an empty line, each month's day data, and a last line with month's mean values for some of the columns.\n",
    "The data lines contain the number of the day of the month, in the first column, and the minimum temperature for this day in the third column.\n",
    "\n",
    "The contents look like these:"
   ]
  },
  {
   "cell_type": "code",
   "execution_count": null,
   "metadata": {
    "collapsed": false
   },
   "outputs": [],
   "source": [
    "# %load weather.dat\n",
    "  Dy MxT   MnT   AvT   HDDay  AvDP 1HrP TPcpn WxType PDir AvSp Dir MxS SkyC MxR MnR AvSLP\n",
    "\n",
    "   1  88    59    74          53.8       0.00 F       280  9.6 270  17  1.6  93 23 1004.5\n",
    "   2  79    63    71          46.5       0.00         330  8.7 340  23  3.3  70 28 1004.5\n",
    "   3  77    55    66          39.6       0.00         350  5.0 350   9  2.8  59 24 1016.8\n",
    "   4  77    59    68          51.1       0.00         110  9.1 130  12  8.6  62 40 1021.1\n",
    "   5  90    66    78          68.3       0.00 TFH     220  8.3 260  12  6.9  84 55 1014.4\n",
    "   6  81    61    71          63.7       0.00 RFH     030  6.2 030  13  9.7  93 60 1012.7\n",
    "   7  73    57    65          53.0       0.00 RF      050  9.5 050  17  5.3  90 48 1021.8\n",
    "   8  75    54    65          50.0       0.00 FH      160  4.2 150  10  2.6  93 41 1026.3\n",
    "   9  86    32*   59       6  61.5       0.00         240  7.6 220  12  6.0  78 46 1018.6\n",
    "  10  84    64    74          57.5       0.00 F       210  6.6 050   9  3.4  84 40 1019.0\n",
    "  11  91    59    75          66.3       0.00 H       250  7.1 230  12  2.5  93 45 1012.6\n",
    "  12  88    73    81          68.7       0.00 RTH     250  8.1 270  21  7.9  94 51 1007.0\n",
    "  13  70    59    65          55.0       0.00 H       150  3.0 150   8 10.0  83 59 1012.6\n",
    "  14  61    59    60       5  55.9       0.00 RF      060  6.7 080   9 10.0  93 87 1008.6\n",
    "  15  64    55    60       5  54.9       0.00 F       040  4.3 200   7  9.6  96 70 1006.1\n",
    "  16  79    59    69          56.7       0.00 F       250  7.6 240  21  7.8  87 44 1007.0\n",
    "  17  81    57    69          51.7       0.00 T       260  9.1 270  29* 5.2  90 34 1012.5\n",
    "  18  82    52    67          52.6       0.00         230  4.0 190  12  5.0  93 34 1021.3\n",
    "  19  81    61    71          58.9       0.00 H       250  5.2 230  12  5.3  87 44 1028.5\n",
    "  20  84    57    71          58.9       0.00 FH      150  6.3 160  13  3.6  90 43 1032.5\n",
    "  21  86    59    73          57.7       0.00 F       240  6.1 250  12  1.0  87 35 1030.7\n",
    "  22  90    64    77          61.1       0.00 H       250  6.4 230   9  0.2  78 38 1026.4\n",
    "  23  90    68    79          63.1       0.00 H       240  8.3 230  12  0.2  68 42 1021.3\n",
    "  24  90    77    84          67.5       0.00 H       350  8.5 010  14  6.9  74 48 1018.2\n",
    "  25  90    72    81          61.3       0.00         190  4.9 230   9  5.6  81 29 1019.6\n",
    "  26  97*   64    81          70.4       0.00 H       050  5.1 200  12  4.0 107 45 1014.9\n",
    "  27  91    72    82          69.7       0.00 RTH     250 12.1 230  17  7.1  90 47 1009.0\n",
    "  28  84    68    76          65.6       0.00 RTFH    280  7.6 340  16  7.0 100 51 1011.0\n",
    "  29  88    66    77          59.7       0.00         040  5.4 020   9  5.3  84 33 1020.6\n",
    "  30  90    45    68          63.6       0.00 H       240  6.0 220  17  4.8 200 41 1022.7\n",
    "  mo  82.9  60.5  71.7    16  58.8       0.00              6.9          5.3\n"
   ]
  },
  {
   "cell_type": "markdown",
   "metadata": {},
   "source": [
    "# Introduction to py.test"
   ]
  },
  {
   "cell_type": "markdown",
   "metadata": {},
   "source": [
    "While not being included in Python's standard library, `py.test` is one of the most simple, powerful, and idiomatic testing libraries.\n",
    "\n",
    "It makes use of Python's native `assert` statement, it's really easy to write tests faster.\n",
    "It also integrates with other testing libraries, like `unittest` from the standard library, or the commonly used `nosetest`, and others.\n",
    "So if applied on existing project using these, `py.test` is able to detect the tests and run these.\n",
    "\n",
    "It also includes a lot of goodies, like `capsys`, which will be used later in this session, `monkeypatching`, and there are many plugins for it adding many capabilities and features."
   ]
  },
  {
   "cell_type": "markdown",
   "metadata": {},
   "source": [
    "For example, consider this test and function:"
   ]
  },
  {
   "cell_type": "code",
   "execution_count": 3,
   "metadata": {
    "collapsed": false
   },
   "outputs": [
    {
     "name": "stdout",
     "output_type": "stream",
     "text": [
      "Writing test_demo.py\n"
     ]
    }
   ],
   "source": [
    "%%writefile test_demo.py\n",
    "def multiply(number1, number2):\n",
    "    return number1 + number2\n",
    "\n",
    "def test_multiply():\n",
    "    result = multiply(5,6)\n",
    "    assert result == 30"
   ]
  },
  {
   "cell_type": "markdown",
   "metadata": {},
   "source": [
    "When we want to run this test, we might use this command:"
   ]
  },
  {
   "cell_type": "code",
   "execution_count": 4,
   "metadata": {
    "collapsed": false
   },
   "outputs": [
    {
     "name": "stdout",
     "output_type": "stream",
     "text": [
      "=============================================================================================== test session starts ===============================================================================================\n",
      "platform darwin -- Python 3.5.1, pytest-2.9.1, py-1.4.31, pluggy-0.3.1\n",
      "benchmark: 3.0.0 (defaults: timer=time.perf_counter disable_gc=False min_rounds=5 min_time=5.00us max_time=1.00s calibration_precision=10 warmup=False warmup_iterations=100000)\n",
      "rootdir: /Users/ifosch/src/github.com/BCNDojos/pyDojos/factor-out, inifile: \n",
      "plugins: benchmark-3.0.0\n",
      "collected 1 items\n",
      "\n",
      "test_demo.py F\n",
      "\n",
      "==================================================================================================== FAILURES =====================================================================================================\n",
      "__________________________________________________________________________________________________ test_multiply __________________________________________________________________________________________________\n",
      "\n",
      "    def test_multiply():\n",
      "        result = multiply(5,6)\n",
      ">       assert result == 30\n",
      "E       assert 11 == 30\n",
      "\n",
      "test_demo.py:6: AssertionError\n",
      "============================================================================================ 1 failed in 0.02 seconds =============================================================================================\n"
     ]
    }
   ],
   "source": [
    "%%bash\n",
    "py.test ."
   ]
  },
  {
   "cell_type": "markdown",
   "metadata": {},
   "source": [
    "In this output, py.test shows it caught the file `test_demo.py` and run the function `test_multiply`, since it starts with `test_`, and it print an `F` close to the file name, indicating it just contained one test function that failed to pass.\n",
    "It also shows what was the assertion with the value got from the Act part of the test, and the fixture expected to be.\n",
    "It also shows it got an `AssertionError`, meaning the assert statement could not pass.\n",
    "If the test run would failed for any other reason, i.e. any kind of error or exception, it would be there as well."
   ]
  },
  {
   "cell_type": "code",
   "execution_count": 5,
   "metadata": {
    "collapsed": false
   },
   "outputs": [
    {
     "name": "stdout",
     "output_type": "stream",
     "text": [
      "Overwriting test_demo.py\n"
     ]
    }
   ],
   "source": [
    "%%writefile test_demo.py\n",
    "def multiply(number1, number2):\n",
    "    return number1 * number2\n",
    "\n",
    "def test_multiply():\n",
    "    result = multiply(5,6)\n",
    "    assert result == 30"
   ]
  },
  {
   "cell_type": "markdown",
   "metadata": {},
   "source": [
    "Once the function is fixed, let's run the test again:"
   ]
  },
  {
   "cell_type": "code",
   "execution_count": 6,
   "metadata": {
    "collapsed": false
   },
   "outputs": [
    {
     "name": "stdout",
     "output_type": "stream",
     "text": [
      "=============================================================================================== test session starts ===============================================================================================\n",
      "platform darwin -- Python 3.5.1, pytest-2.9.1, py-1.4.31, pluggy-0.3.1\n",
      "benchmark: 3.0.0 (defaults: timer=time.perf_counter disable_gc=False min_rounds=5 min_time=5.00us max_time=1.00s calibration_precision=10 warmup=False warmup_iterations=100000)\n",
      "rootdir: /Users/ifosch/src/github.com/BCNDojos/pyDojos/factor-out, inifile: \n",
      "plugins: benchmark-3.0.0\n",
      "collected 1 items\n",
      "\n",
      "test_demo.py .\n",
      "\n",
      "============================================================================================ 1 passed in 0.01 seconds =============================================================================================\n"
     ]
    }
   ],
   "source": [
    "%%bash\n",
    "py.test ."
   ]
  },
  {
   "cell_type": "markdown",
   "metadata": {},
   "source": [
    "Now the point by the file name, indicates that the one and only test function found passed ok."
   ]
  },
  {
   "cell_type": "code",
   "execution_count": 7,
   "metadata": {
    "collapsed": false
   },
   "outputs": [],
   "source": [
    "%%bash\n",
    "rm test_demo.py"
   ]
  },
  {
   "cell_type": "markdown",
   "metadata": {},
   "source": [
    "# Bootstrapping the solution with py.test"
   ]
  },
  {
   "cell_type": "markdown",
   "metadata": {},
   "source": [
    "To start with the code, following Test Driven Development, the `test_weather.py` file should be created with the following contents:"
   ]
  },
  {
   "cell_type": "markdown",
   "metadata": {
    "collapsed": false
   },
   "source": [
    "```python\n",
    "import weather\n",
    "\n",
    "def test_process_weather():\n",
    "    weather.process()\n",
    "```"
   ]
  },
  {
   "cell_type": "code",
   "execution_count": 8,
   "metadata": {
    "collapsed": false
   },
   "outputs": [
    {
     "name": "stdout",
     "output_type": "stream",
     "text": [
      "Writing test_weather.py\n"
     ]
    }
   ],
   "source": [
    "%%writefile test_weather.py\n",
    "import weather\n",
    "\n",
    "def test_process_weather():\n",
    "    weather.process()"
   ]
  },
  {
   "cell_type": "markdown",
   "metadata": {},
   "source": [
    "Once created, running the tests should make it break with an error, since there is no such `weather` module, yet:"
   ]
  },
  {
   "cell_type": "code",
   "execution_count": 9,
   "metadata": {
    "collapsed": false
   },
   "outputs": [
    {
     "name": "stdout",
     "output_type": "stream",
     "text": [
      "=============================================================================================== test session starts ===============================================================================================\n",
      "platform darwin -- Python 3.5.1, pytest-2.9.1, py-1.4.31, pluggy-0.3.1\n",
      "benchmark: 3.0.0 (defaults: timer=time.perf_counter disable_gc=False min_rounds=5 min_time=5.00us max_time=1.00s calibration_precision=10 warmup=False warmup_iterations=100000)\n",
      "rootdir: /Users/ifosch/src/github.com/BCNDojos/pyDojos/factor-out, inifile: \n",
      "plugins: benchmark-3.0.0\n",
      "collected 0 items / 1 errors\n",
      "\n",
      "===================================================================================================== ERRORS ======================================================================================================\n",
      "________________________________________________________________________________________ ERROR collecting test_weather.py _________________________________________________________________________________________\n",
      "test_weather.py:1: in <module>\n",
      "    import weather\n",
      "E   ImportError: No module named 'weather'\n",
      "============================================================================================= 1 error in 0.01 seconds =============================================================================================\n"
     ]
    }
   ],
   "source": [
    "%%bash\n",
    "py.test test_weather.py"
   ]
  },
  {
   "cell_type": "markdown",
   "metadata": {},
   "source": [
    "So next step to take is to create a trivial module, which will do actually nothing:"
   ]
  },
  {
   "cell_type": "markdown",
   "metadata": {
    "collapsed": false
   },
   "source": [
    "```python\n",
    "def process():\n",
    "    pass\n",
    "```"
   ]
  },
  {
   "cell_type": "code",
   "execution_count": 10,
   "metadata": {
    "collapsed": false
   },
   "outputs": [
    {
     "name": "stdout",
     "output_type": "stream",
     "text": [
      "Writing weather.py\n"
     ]
    }
   ],
   "source": [
    "%%writefile weather.py\n",
    "def process():\n",
    "    pass"
   ]
  },
  {
   "cell_type": "markdown",
   "metadata": {},
   "source": [
    "With the `weather.py` module created, test should pass ok, now:"
   ]
  },
  {
   "cell_type": "code",
   "execution_count": 11,
   "metadata": {
    "collapsed": false
   },
   "outputs": [
    {
     "name": "stdout",
     "output_type": "stream",
     "text": [
      "=============================================================================================== test session starts ===============================================================================================\n",
      "platform darwin -- Python 3.5.1, pytest-2.9.1, py-1.4.31, pluggy-0.3.1\n",
      "benchmark: 3.0.0 (defaults: timer=time.perf_counter disable_gc=False min_rounds=5 min_time=5.00us max_time=1.00s calibration_precision=10 warmup=False warmup_iterations=100000)\n",
      "rootdir: /Users/ifosch/src/github.com/BCNDojos/pyDojos/factor-out, inifile: \n",
      "plugins: benchmark-3.0.0\n",
      "collected 1 items\n",
      "\n",
      "test_weather.py .\n",
      "\n",
      "============================================================================================ 1 passed in 0.01 seconds =============================================================================================\n"
     ]
    }
   ],
   "source": [
    "%%bash\n",
    "py.test test_weather.py"
   ]
  },
  {
   "cell_type": "markdown",
   "metadata": {},
   "source": [
    "# Files with Python (I)"
   ]
  },
  {
   "cell_type": "markdown",
   "metadata": {},
   "source": [
    "Opening a file in Python is as easy as to use the `open(filename[, mode[, buffering]])` function.\n",
    "The mode parameter is a string indicating how the file is to be open, being `'r'`, i.e. read only, when omitted.\n",
    "The buffering parameter is a number indicating which buffering mechanism should be used when accessing or writing the file.\n",
    "By default, it uses system default.\n",
    "On success, it returns a `file` object, that can be used to access or write the file, depending on the mode used.\n",
    "\n",
    "The two last arguments are not meaningful for the whole exercise, but the documentation is pretty extensive on all possible values.\n",
    "\n",
    "As usual, files need to be closed when the work has finished.\n",
    "Python, as many other languages and interpreters, closes all files once the execution finished.\n",
    "Anyway, it's considered a bad practice to keep a file open when it's not needed anymore.\n",
    "Also, this might imply memory consumption and performance issues.\n",
    "The way to close a file is to use the close method of the file object open returned:"
   ]
  },
  {
   "cell_type": "markdown",
   "metadata": {},
   "source": [
    "```python\n",
    "    myfile = open('myfile.dat')\n",
    "    ...\n",
    "    myfile.close()\n",
    "```"
   ]
  },
  {
   "cell_type": "markdown",
   "metadata": {},
   "source": [
    "File objects provide also a `readlines` method to read all lines, separated by new line characters, and getting these in a iterable list, which is pretty useful for the purpose of this exercise.\n",
    "Each line is a string which includes the new line character at the end.\n",
    "\n",
    "So the following code gets all the lines from a file:"
   ]
  },
  {
   "cell_type": "markdown",
   "metadata": {},
   "source": [
    "```python\n",
    "    myfile = open('myfile.dat')\n",
    "    mylines = file.readlines()\n",
    "    myfile.close()\n",
    "```"
   ]
  },
  {
   "cell_type": "markdown",
   "metadata": {},
   "source": [
    "# Printing strings with Python"
   ]
  },
  {
   "cell_type": "markdown",
   "metadata": {},
   "source": [
    "In Python, printing a string is as easy as use the `print` function:"
   ]
  },
  {
   "cell_type": "code",
   "execution_count": 12,
   "metadata": {
    "collapsed": false
   },
   "outputs": [
    {
     "name": "stdout",
     "output_type": "stream",
     "text": [
      "Hello\n"
     ]
    }
   ],
   "source": [
    "print(\"Hello\")"
   ]
  },
  {
   "cell_type": "markdown",
   "metadata": {},
   "source": [
    "The `print` function used like this, adds a new line character when printing.\n",
    "\n",
    "When formatting data into string, the `format` string method can be used.\n",
    "It accepts parameters which will be replacing each `{}` occurrence in the string, in the same order.\n",
    "Notice that the quantity of `{}` in the string must match the number of parameters passed:"
   ]
  },
  {
   "cell_type": "code",
   "execution_count": 13,
   "metadata": {
    "collapsed": false
   },
   "outputs": [
    {
     "name": "stdout",
     "output_type": "stream",
     "text": [
      "Hello pythonist\n",
      "Hello nice pythonist\n"
     ]
    }
   ],
   "source": [
    "name = 'pythonist'\n",
    "print(\"Hello {}\".format(name))\n",
    "adjective = \"nice\"\n",
    "print(\"Hello {} {}\".format(adjective, name))"
   ]
  },
  {
   "cell_type": "markdown",
   "metadata": {},
   "source": [
    "# Capturing output with py.test"
   ]
  },
  {
   "cell_type": "markdown",
   "metadata": {},
   "source": [
    "When using py.test with code that prints something to the output, `capsys` comes to be useful.\n",
    "The `capsys` fixture is a tool to capture standard and error output caused by the function in memory, so it's dangerous when the output can be too big, or not very useful when it should be output to a file.\n",
    "It is used by passing it to the test function as parameter, invoking the tested function, and using the `capsys.readouterr` function to get those:"
   ]
  },
  {
   "cell_type": "markdown",
   "metadata": {},
   "source": [
    "```python\n",
    "    def test_demo(capsys):\n",
    "        print(\"Hello\")\n",
    "        out, err = capsys.readouterr()\n",
    "        assert out == \"Hello\\n\"\n",
    "```"
   ]
  },
  {
   "cell_type": "markdown",
   "metadata": {},
   "source": [
    "Notice the output includes a new line character."
   ]
  },
  {
   "cell_type": "markdown",
   "metadata": {},
   "source": [
    "# Lists with Python"
   ]
  },
  {
   "cell_type": "markdown",
   "metadata": {},
   "source": [
    "Lists are arrays in Python and can be created with `[]`, which may enclose the elements:"
   ]
  },
  {
   "cell_type": "code",
   "execution_count": 14,
   "metadata": {
    "collapsed": false
   },
   "outputs": [
    {
     "name": "stdout",
     "output_type": "stream",
     "text": [
      "[]\n",
      "[1, 2, 3]\n"
     ]
    }
   ],
   "source": [
    "a = []\n",
    "b = [1, 2, 3,]\n",
    "print(a)\n",
    "print(b)"
   ]
  },
  {
   "cell_type": "markdown",
   "metadata": {},
   "source": [
    "In order to get the lenght of the list, Python provides the `len` function:"
   ]
  },
  {
   "cell_type": "code",
   "execution_count": 15,
   "metadata": {
    "collapsed": false
   },
   "outputs": [
    {
     "name": "stdout",
     "output_type": "stream",
     "text": [
      "0\n",
      "3\n"
     ]
    }
   ],
   "source": [
    "print(len(a))\n",
    "print(len(b))"
   ]
  },
  {
   "cell_type": "markdown",
   "metadata": {},
   "source": [
    "Python's lists are indexed starting by 0, and these can be sliced to access specific items, as well, as sublists:"
   ]
  },
  {
   "cell_type": "code",
   "execution_count": 16,
   "metadata": {
    "collapsed": false
   },
   "outputs": [
    {
     "name": "stdout",
     "output_type": "stream",
     "text": [
      "1\n",
      "[2]\n",
      "[2, 3]\n",
      "[1, 3]\n",
      "[3, 2, 1]\n"
     ]
    }
   ],
   "source": [
    "print(b[0])\n",
    "print(b[1:2])\n",
    "print(b[1:])\n",
    "print(b[::2])\n",
    "print(b[::-1])"
   ]
  },
  {
   "cell_type": "markdown",
   "metadata": {},
   "source": [
    "# Strings with Python"
   ]
  },
  {
   "cell_type": "markdown",
   "metadata": {},
   "source": [
    "Strings in Python are enclosed by `\"` and can be treated as lists of characters:"
   ]
  },
  {
   "cell_type": "code",
   "execution_count": 17,
   "metadata": {
    "collapsed": false
   },
   "outputs": [
    {
     "name": "stdout",
     "output_type": "stream",
     "text": [
      "\n",
      "Hello\n",
      "0\n",
      "5\n",
      "Hlo\n"
     ]
    }
   ],
   "source": [
    "a = \"\"\n",
    "b = \"Hello\"\n",
    "print(a)\n",
    "print(b)\n",
    "print(len(a))\n",
    "print(len(b))\n",
    "print(b[::2])"
   ]
  },
  {
   "cell_type": "markdown",
   "metadata": {},
   "source": [
    "Python's strings provides some useful methods, like `startswith`:"
   ]
  },
  {
   "cell_type": "code",
   "execution_count": 18,
   "metadata": {
    "collapsed": false
   },
   "outputs": [
    {
     "name": "stdout",
     "output_type": "stream",
     "text": [
      "Hello\n"
     ]
    }
   ],
   "source": [
    "if b.startswith(\"H\"):\n",
    "    print(b)"
   ]
  },
  {
   "cell_type": "markdown",
   "metadata": {},
   "source": [
    "`split`, returning a list of substrings splitting by the string parameter passed:"
   ]
  },
  {
   "cell_type": "code",
   "execution_count": 19,
   "metadata": {
    "collapsed": false
   },
   "outputs": [
    {
     "name": "stdout",
     "output_type": "stream",
     "text": [
      "['1', '2', '3']\n",
      "['Hello', 'Bye']\n"
     ]
    }
   ],
   "source": [
    "print(\"1-2-3\".split(\"-\"))\n",
    "print(\"Hello123Bye\".split(\"123\"))"
   ]
  },
  {
   "cell_type": "markdown",
   "metadata": {},
   "source": [
    "`join`, that allows to concatenate strings in a list, as first argument, with the string the method is called on:"
   ]
  },
  {
   "cell_type": "code",
   "execution_count": 20,
   "metadata": {
    "collapsed": false
   },
   "outputs": [
    {
     "data": {
      "text/plain": [
       "'1-2-3'"
      ]
     },
     "execution_count": 20,
     "metadata": {},
     "output_type": "execute_result"
    }
   ],
   "source": [
    "\"-\".join([\"1\", \"2\", \"3\"])"
   ]
  },
  {
   "cell_type": "markdown",
   "metadata": {},
   "source": [
    "or `strip`, which strips the string passed as argument, or space and new line by default, from the beginning and end of the string on which it's called:"
   ]
  },
  {
   "cell_type": "code",
   "execution_count": 21,
   "metadata": {
    "collapsed": false
   },
   "outputs": [
    {
     "name": "stdout",
     "output_type": "stream",
     "text": [
      "This ia a line starting with a space\n",
      " line \n",
      "line\n"
     ]
    }
   ],
   "source": [
    "print(\" This ia a line starting with a space\\n\".strip())\n",
    "print(\"New line New\".strip(\"New\"))\n",
    "print(\"New line New\".strip(\"New\").strip())"
   ]
  },
  {
   "cell_type": "markdown",
   "metadata": {},
   "source": [
    "# First iteration"
   ]
  },
  {
   "cell_type": "markdown",
   "metadata": {},
   "source": [
    "The first iteration will focus on load data lines from the file.\n",
    "The approach chosen is pretty simple, just read lines from the file, and print them all.\n",
    "\n",
    "**This should take not more than 40 minutes.**"
   ]
  },
  {
   "cell_type": "markdown",
   "metadata": {},
   "source": [
    "## Regular expressions in Python (I)"
   ]
  },
  {
   "cell_type": "markdown",
   "metadata": {},
   "source": [
    "Regular expressions is a pattern matching and data extraction technique in which a string defining a pattern with a specific language is used to process a variable string over automata.\n",
    "This automaton is a mathematical object, a finite-state machine, that takes inputs to operate on ending in a final state. Concretely, a regular expression automaton takes two strings, one pattern, and another one containing data, and walks over the second checking the first.\n",
    "The pattern string is what is called a regular expression."
   ]
  },
  {
   "cell_type": "markdown",
   "metadata": {},
   "source": [
    "Regular expressions uses a set of special characters and constructs to determine what the pattern matches, or what doesn't. Some examples:\n",
    "* `[a-z]` matches one single character which can be any lower case alphabet letter.\n",
    "* `[a-zA-Z]*` matches with any amount (`*`) of occurrences of any lower or upper case alphabet letter.\n",
    "* `[0-9]+ [a-z]*` will match with at least one or more (`+`) occurrences of digits followed by a space and any amount of lower case letters.\n",
    "* `.*` matches any string with any amount of elements, even an empty string.\n",
    "\n",
    "In Python, regular expression strings are differentiated by enclosing them with `r\"\"`, like in `r\"[a-z]*\"`.\n",
    "In order to process these, the `re` module is used.\n",
    "This module provides two functions:\n",
    "* `search`, which checks for the pattern anywhere in the string.\n",
    "* `match`, which will match only when the pattern matches at the beginning of the string.\n",
    "\n",
    "When there is no match, the return value of both is `None`, otherwise, they return a match object."
   ]
  },
  {
   "cell_type": "code",
   "execution_count": 22,
   "metadata": {
    "collapsed": false
   },
   "outputs": [
    {
     "name": "stdout",
     "output_type": "stream",
     "text": [
      "It matches with search!\n"
     ]
    }
   ],
   "source": [
    "import re\n",
    "\n",
    "a = \"this is 1 2 3 4 500\"\n",
    "regexp = r\"[0-9 ]+\"\n",
    "\n",
    "match = re.search(regexp, a)\n",
    "if match:\n",
    "    print(\"It matches with search!\")\n",
    "match = re.match(regexp, a)\n",
    "if match:\n",
    "    print(\"It matches with match!\")"
   ]
  },
  {
   "cell_type": "markdown",
   "metadata": {},
   "source": [
    "# Second iteration"
   ]
  },
  {
   "cell_type": "markdown",
   "metadata": {},
   "source": [
    "In this second iteration, the program should be able to skip header and empty lines, printing only data lines.\n",
    "\n",
    "**This should be easily completed in 20 minutes.**"
   ]
  },
  {
   "cell_type": "markdown",
   "metadata": {},
   "source": [
    "# Regular expressions in Python (II)"
   ]
  },
  {
   "cell_type": "markdown",
   "metadata": {},
   "source": [
    "A little bit more on regular expressions:\n",
    "* `()` allows to get particular matching groups as part of the result, enabling for extracting data in a list.\n",
    "* `(?P<id>any_regex)` enables to get these groups in a key-value structure (called dictionaries in Python).\n",
    "* `\\s` represents any space-like character, like spaces, or new lines."
   ]
  },
  {
   "cell_type": "code",
   "execution_count": 23,
   "metadata": {
    "collapsed": false
   },
   "outputs": [
    {
     "name": "stdout",
     "output_type": "stream",
     "text": [
      "Guido from Netherlands was born in 1956\n"
     ]
    }
   ],
   "source": [
    "a = \"Name: Guido, Country: Netherlands, Year of birth: 1956\"\n",
    "pattern = r\"Name: (?P<name>[a-zA-Z]+), Country: (?P<country>[a-zA-Z]+), Year of birth: (?P<year>[0-9]+)\"\n",
    "match = re.match(pattern, a)\n",
    "if match:\n",
    "    print(\"{} from {} was born in {}\".format(match.group('name'), match.group('country'), match.group('year')))"
   ]
  },
  {
   "cell_type": "markdown",
   "metadata": {},
   "source": [
    "# Third iteration"
   ]
  },
  {
   "cell_type": "markdown",
   "metadata": {},
   "source": [
    "The third iteration should allow to get data using grouping in regular expressions, and finishing by reducing the numer of lines to the correct output, i.e. day and minimum temperature for the day with minimum temperature.\n",
    "\n",
    "**This shouldn't take more than 15 minutes**"
   ]
  },
  {
   "cell_type": "markdown",
   "metadata": {},
   "source": [
    "# Files with Python (II)"
   ]
  },
  {
   "cell_type": "markdown",
   "metadata": {},
   "source": [
    "As discussed before, a file object should be closed within Python, for performance reasons when not sure about the size of the file. But there is a way of opening a file and ensuring correct closing behavior, using a `with` block:"
   ]
  },
  {
   "cell_type": "markdown",
   "metadata": {},
   "source": [
    "```python\n",
    "    with open('myfile') as data_file:\n",
    "        ...\n",
    "```"
   ]
  },
  {
   "cell_type": "markdown",
   "metadata": {},
   "source": [
    "Here, Python will close the file once the with block is finished."
   ]
  },
  {
   "cell_type": "markdown",
   "metadata": {},
   "source": [
    "# First refactor"
   ]
  },
  {
   "cell_type": "markdown",
   "metadata": {},
   "source": [
    "In the last iteration, the code should be easily modified to be more idiomatic and efficient when opening and closing the file, without causing the tests to fail.\n",
    "\n",
    "**This should be accomplished in 10 minutes.**"
   ]
  },
  {
   "cell_type": "markdown",
   "metadata": {},
   "source": [
    "# Files with Python (III)"
   ]
  },
  {
   "cell_type": "markdown",
   "metadata": {},
   "source": [
    "When reading the file lines, usage of the `readlines` method is discouraged, specially when the lenght of the lines and the amount of lines is not very well known. So, another way of reading lines is needed, instead of `readlines`:"
   ]
  },
  {
   "cell_type": "markdown",
   "metadata": {},
   "source": [
    "```python\n",
    "    for line in data_file:\n",
    "        ...\n",
    "```"
   ]
  },
  {
   "cell_type": "markdown",
   "metadata": {},
   "source": [
    "This makes reading lines much more efficient, since the file keeps iterating over the file without loading the whole content in memory."
   ]
  },
  {
   "cell_type": "markdown",
   "metadata": {},
   "source": [
    "# Second refactor"
   ]
  },
  {
   "cell_type": "markdown",
   "metadata": {},
   "source": [
    "The way the lines are being read must be refactored to ensure it is memory efficient and faster.\n",
    "\n",
    "**This should not take more than 10 minutes.**"
   ]
  },
  {
   "cell_type": "markdown",
   "metadata": {},
   "source": [
    "# Exceptions in Python"
   ]
  },
  {
   "cell_type": "markdown",
   "metadata": {},
   "source": [
    "Python code can raise exceptions and errors, and these can be controlled by using the `try ... except` construct:"
   ]
  },
  {
   "cell_type": "code",
   "execution_count": 24,
   "metadata": {
    "collapsed": false
   },
   "outputs": [
    {
     "name": "stdout",
     "output_type": "stream",
     "text": [
      "Operation is not valid\n"
     ]
    }
   ],
   "source": [
    "try:\n",
    "    a = 1 / 0\n",
    "except ZeroDivisionError:\n",
    "    print(\"Operation is not valid\")"
   ]
  },
  {
   "cell_type": "markdown",
   "metadata": {},
   "source": [
    "There is a very particular error Python, defined as `ValueError` can raise when types are not matching appropriately:"
   ]
  },
  {
   "cell_type": "code",
   "execution_count": 25,
   "metadata": {
    "collapsed": false
   },
   "outputs": [
    {
     "name": "stdout",
     "output_type": "stream",
     "text": [
      "10\n"
     ]
    },
    {
     "ename": "ValueError",
     "evalue": "invalid literal for int() with base 10: 'Hello'",
     "output_type": "error",
     "traceback": [
      "\u001b[0;31m---------------------------------------------------------------------------\u001b[0m",
      "\u001b[0;31mValueError\u001b[0m                                Traceback (most recent call last)",
      "\u001b[0;32m<ipython-input-25-eda733313bc1>\u001b[0m in \u001b[0;36m<module>\u001b[0;34m()\u001b[0m\n\u001b[1;32m      2\u001b[0m \u001b[0mmy_string\u001b[0m \u001b[0;34m=\u001b[0m \u001b[0;34m\"Hello\"\u001b[0m\u001b[0;34m\u001b[0m\u001b[0m\n\u001b[1;32m      3\u001b[0m \u001b[0mprint\u001b[0m\u001b[0;34m(\u001b[0m\u001b[0mint\u001b[0m\u001b[0;34m(\u001b[0m\u001b[0mmy_integer_string\u001b[0m\u001b[0;34m)\u001b[0m\u001b[0;34m)\u001b[0m\u001b[0;34m\u001b[0m\u001b[0m\n\u001b[0;32m----> 4\u001b[0;31m \u001b[0mprint\u001b[0m\u001b[0;34m(\u001b[0m\u001b[0mint\u001b[0m\u001b[0;34m(\u001b[0m\u001b[0mmy_string\u001b[0m\u001b[0;34m)\u001b[0m\u001b[0;34m)\u001b[0m\u001b[0;34m\u001b[0m\u001b[0m\n\u001b[0m",
      "\u001b[0;31mValueError\u001b[0m: invalid literal for int() with base 10: 'Hello'"
     ]
    }
   ],
   "source": [
    "my_integer_string = \"10\"\n",
    "my_string = \"Hello\"\n",
    "print(int(my_integer_string))\n",
    "print(int(my_string))"
   ]
  },
  {
   "cell_type": "code",
   "execution_count": 26,
   "metadata": {
    "collapsed": false
   },
   "outputs": [
    {
     "name": "stdout",
     "output_type": "stream",
     "text": [
      "my_string doesn't represent an integer\n"
     ]
    }
   ],
   "source": [
    "try:\n",
    "    print(int(my_string))\n",
    "except ValueError:\n",
    "    print(\"my_string doesn't represent an integer\")"
   ]
  },
  {
   "cell_type": "markdown",
   "metadata": {},
   "source": [
    "# Test benchmarking"
   ]
  },
  {
   "cell_type": "markdown",
   "metadata": {},
   "source": [
    "Benchmarking is a set of techniques and methodologies to provide insight on software performance.\n",
    "Usually, it consists in running the software several times, timing and/or sizing it, and providing some stats on these metrics.\n",
    "\n",
    "There is a plugin to benchmark functions in py.test, called pytest-benchmark:"
   ]
  },
  {
   "cell_type": "code",
   "execution_count": 27,
   "metadata": {
    "collapsed": false
   },
   "outputs": [
    {
     "name": "stdout",
     "output_type": "stream",
     "text": [
      "Writing test_benchmark.py\n"
     ]
    }
   ],
   "source": [
    "%%writefile test_benchmark.py\n",
    "import time\n",
    "\n",
    "def variable_time_function(seconds=0.001):\n",
    "    time.sleep(seconds)\n",
    "    return 123\n",
    "\n",
    "def test_variable_time_function(benchmark):\n",
    "    result = benchmark(variable_time_function)\n",
    "    assert result == 123"
   ]
  },
  {
   "cell_type": "code",
   "execution_count": 28,
   "metadata": {
    "collapsed": false
   },
   "outputs": [
    {
     "name": "stdout",
     "output_type": "stream",
     "text": [
      "=============================================================================================== test session starts ===============================================================================================\n",
      "platform darwin -- Python 3.5.1, pytest-2.9.1, py-1.4.31, pluggy-0.3.1\n",
      "benchmark: 3.0.0 (defaults: timer=time.perf_counter disable_gc=False min_rounds=5 min_time=5.00us max_time=1.00s calibration_precision=10 warmup=False warmup_iterations=100000)\n",
      "rootdir: /Users/ifosch/src/github.com/BCNDojos/pyDojos/factor-out, inifile: \n",
      "plugins: benchmark-3.0.0\n",
      "collected 1 items\n",
      "\n",
      "test_benchmark.py .\n",
      "\n",
      "\n",
      "\r",
      "Computing stats ...\r",
      "Computing stats ... group 1/1\r",
      "Computing stats ... group 1/1: min\r",
      "Computing stats ... group 1/1: min (1/1)\r",
      "Computing stats ... group 1/1: min (1/1)\r",
      "Computing stats ... group 1/1: max\r",
      "Computing stats ... group 1/1: max (1/1)\r",
      "Computing stats ... group 1/1: max (1/1)\r",
      "Computing stats ... group 1/1: mean\r",
      "Computing stats ... group 1/1: mean (1/1)\r",
      "Computing stats ... group 1/1: mean (1/1)\r",
      "Computing stats ... group 1/1: median\r",
      "Computing stats ... group 1/1: median (1/1)\r",
      "Computing stats ... group 1/1: median (1/1)\r",
      "Computing stats ... group 1/1: iqr\r",
      "Computing stats ... group 1/1: iqr (1/1)\r",
      "Computing stats ... group 1/1: iqr (1/1)\r",
      "Computing stats ... group 1/1: stddev\r",
      "Computing stats ... group 1/1: stddev (1/1)\r",
      "Computing stats ... group 1/1: stddev (1/1)\r",
      "Computing stats ... group 1/1: stddev: outliers\r",
      "Computing stats ... group 1/1: stddev: outliers (1/1)\r",
      "Computing stats ... group 1/1: stddev: rounds\r",
      "Computing stats ... group 1/1: stddev: rounds (1/1)\r",
      "Computing stats ... group 1/1: stddev: iterations\r",
      "Computing stats ... group 1/1: stddev: iterations (1/1)\r",
      "---------------------------------------------- benchmark: 1 tests ---------------------------------------------\n",
      "Name (time in ms)                  Min     Max    Mean  StdDev  Median     IQR  Outliers(*)  Rounds  Iterations\n",
      "---------------------------------------------------------------------------------------------------------------\n",
      "test_variable_time_function     1.0092  2.2404  1.2238  0.1201  1.2535  0.1879        273;1     713           1\n",
      "---------------------------------------------------------------------------------------------------------------\n",
      "\n",
      "(*) Outliers: 1 Standard Deviation from Mean; 1.5 IQR (InterQuartile Range) from 1st Quartile and 3rd Quartile.\n",
      "============================================================================================ 1 passed in 1.90 seconds =============================================================================================\n"
     ]
    }
   ],
   "source": [
    "%%bash\n",
    "py.test test_benchmark.py"
   ]
  },
  {
   "cell_type": "markdown",
   "metadata": {},
   "source": [
    "This py.test run took slightly more time and its output is including a table with some timing statistics.\n",
    "\n",
    "`Rounds` shows how many times the function was executed.\n",
    "`Min`, `Max`, `Mean`, `StdDev`, and `Median` show corresponding statistics for this set of runs.\n",
    "`IQR` is the distance between the first and third quartile.\n",
    "`Outliers` is the quantity of samples the execution time for the function took more than 1 time the standard deviation.\n",
    "\n",
    "With very slow functions, usually, standard stadistics are enough to see the improvement.\n",
    "However, with so fast functions, those are not enough, but then, when having low values for the IQR and Outliers metrics can point to mean some possible improvement, if the function is used frequently."
   ]
  },
  {
   "cell_type": "markdown",
   "metadata": {},
   "source": [
    "**WARNING**: The combined usage of `capsys` and `benchmark` is not recommended, since the output is printed on each round and the number of rounds is variable, so it could make the output assertion invalid."
   ]
  },
  {
   "cell_type": "code",
   "execution_count": 29,
   "metadata": {
    "collapsed": true
   },
   "outputs": [],
   "source": [
    "%%bash\n",
    "rm test_benchmark.py"
   ]
  },
  {
   "cell_type": "markdown",
   "metadata": {},
   "source": [
    "# Third refactor"
   ]
  },
  {
   "cell_type": "markdown",
   "metadata": {},
   "source": [
    "The usage of `re` module might be overkill for splitting the data in the lines as required for this case.\n",
    "In this refactor the usage of the py.test benchmark plugin can help to view possible time optimization.\n",
    "\n",
    "Some pitfalls this change might imply are:\n",
    "* Some numbers in the columns are marked with an `*`.\n",
    "* Watch out with header and empty lines.\n",
    "\n",
    "**This should take not more than 15 minutes.**"
   ]
  }
 ],
 "metadata": {
  "kernelspec": {
   "display_name": "Python 3",
   "language": "python",
   "name": "python3"
  },
  "language_info": {
   "codemirror_mode": {
    "name": "ipython",
    "version": 3
   },
   "file_extension": ".py",
   "mimetype": "text/x-python",
   "name": "python",
   "nbconvert_exporter": "python",
   "pygments_lexer": "ipython3",
   "version": "3.5.1"
  }
 },
 "nbformat": 4,
 "nbformat_minor": 0
}
