{
 "cells": [
  {
   "cell_type": "code",
   "execution_count": 1,
   "metadata": {
    "collapsed": false
   },
   "outputs": [
    {
     "data": {
      "application/javascript": [
       "\n",
       "IPython.keyboard_manager.command_shortcuts.add_shortcut('9', {\n",
       "    help: 'Clear all output',               // This text will show up on the help page (CTRL-M h or ESC h)\n",
       "    handler: function (event) {             // Function that gets invoked\n",
       "        if (IPython.notebook.mode == 'command') {\n",
       "            IPython.notebook.clear_all_output();\n",
       "            return false;\n",
       "        }\n",
       "        return true;\n",
       "    }\n",
       "});"
      ],
      "text/plain": [
       "<IPython.core.display.Javascript object>"
      ]
     },
     "metadata": {},
     "output_type": "display_data"
    }
   ],
   "source": [
    "%%javascript\n",
    "\n",
    "IPython.keyboard_manager.command_shortcuts.add_shortcut('9', {\n",
    "    help: 'Clear all output',               // This text will show up on the help page (CTRL-M h or ESC h)\n",
    "    handler: function (event) {             // Function that gets invoked\n",
    "        if (IPython.notebook.mode == 'command') {\n",
    "            IPython.notebook.clear_all_output();\n",
    "            return false;\n",
    "        }\n",
    "        return true;\n",
    "    }\n",
    "});"
   ]
  },
  {
   "cell_type": "code",
   "execution_count": 2,
   "metadata": {
    "collapsed": false
   },
   "outputs": [],
   "source": [
    "%%bash\n",
    "rm *.py*"
   ]
  },
  {
   "cell_type": "markdown",
   "metadata": {},
   "source": [
    "## Rationale for weather data munging"
   ]
  },
  {
   "cell_type": "markdown",
   "metadata": {},
   "source": [
    "The goal of this exercise is to get a program reading the `weather.dat` file and printing the day and minimum temperature values for the day with the lowest minimum temperature within the month depicted in the file.\n",
    "The program should work like this:\n",
    "\n",
    "    python weather.py\n",
    "    9 32"
   ]
  },
  {
   "cell_type": "markdown",
   "metadata": {},
   "source": [
    "Contents for the `weather.dat` file are tabular space-separated data for weather measurements for a month in a place.\n",
    "The file has a header line, followed by an empty line, each month's day data, and a last line with month's mean values for some of the columns.\n",
    "The data lines contain the number of the day of the month, in the first column, and the minimum temperature for this day in the third column.\n",
    "\n",
    "The contents look like these:"
   ]
  },
  {
   "cell_type": "code",
   "execution_count": null,
   "metadata": {
    "collapsed": false
   },
   "outputs": [],
   "source": [
    "# %load weather.dat\n",
    "  Dy MxT   MnT   AvT   HDDay  AvDP 1HrP TPcpn WxType PDir AvSp Dir MxS SkyC MxR MnR AvSLP\n",
    "\n",
    "   1  88    59    74          53.8       0.00 F       280  9.6 270  17  1.6  93 23 1004.5\n",
    "   2  79    63    71          46.5       0.00         330  8.7 340  23  3.3  70 28 1004.5\n",
    "   3  77    55    66          39.6       0.00         350  5.0 350   9  2.8  59 24 1016.8\n",
    "   4  77    59    68          51.1       0.00         110  9.1 130  12  8.6  62 40 1021.1\n",
    "   5  90    66    78          68.3       0.00 TFH     220  8.3 260  12  6.9  84 55 1014.4\n",
    "   6  81    61    71          63.7       0.00 RFH     030  6.2 030  13  9.7  93 60 1012.7\n",
    "   7  73    57    65          53.0       0.00 RF      050  9.5 050  17  5.3  90 48 1021.8\n",
    "   8  75    54    65          50.0       0.00 FH      160  4.2 150  10  2.6  93 41 1026.3\n",
    "   9  86    32*   59       6  61.5       0.00         240  7.6 220  12  6.0  78 46 1018.6\n",
    "  10  84    64    74          57.5       0.00 F       210  6.6 050   9  3.4  84 40 1019.0\n",
    "  11  91    59    75          66.3       0.00 H       250  7.1 230  12  2.5  93 45 1012.6\n",
    "  12  88    73    81          68.7       0.00 RTH     250  8.1 270  21  7.9  94 51 1007.0\n",
    "  13  70    59    65          55.0       0.00 H       150  3.0 150   8 10.0  83 59 1012.6\n",
    "  14  61    59    60       5  55.9       0.00 RF      060  6.7 080   9 10.0  93 87 1008.6\n",
    "  15  64    55    60       5  54.9       0.00 F       040  4.3 200   7  9.6  96 70 1006.1\n",
    "  16  79    59    69          56.7       0.00 F       250  7.6 240  21  7.8  87 44 1007.0\n",
    "  17  81    57    69          51.7       0.00 T       260  9.1 270  29* 5.2  90 34 1012.5\n",
    "  18  82    52    67          52.6       0.00         230  4.0 190  12  5.0  93 34 1021.3\n",
    "  19  81    61    71          58.9       0.00 H       250  5.2 230  12  5.3  87 44 1028.5\n",
    "  20  84    57    71          58.9       0.00 FH      150  6.3 160  13  3.6  90 43 1032.5\n",
    "  21  86    59    73          57.7       0.00 F       240  6.1 250  12  1.0  87 35 1030.7\n",
    "  22  90    64    77          61.1       0.00 H       250  6.4 230   9  0.2  78 38 1026.4\n",
    "  23  90    68    79          63.1       0.00 H       240  8.3 230  12  0.2  68 42 1021.3\n",
    "  24  90    77    84          67.5       0.00 H       350  8.5 010  14  6.9  74 48 1018.2\n",
    "  25  90    72    81          61.3       0.00         190  4.9 230   9  5.6  81 29 1019.6\n",
    "  26  97*   64    81          70.4       0.00 H       050  5.1 200  12  4.0 107 45 1014.9\n",
    "  27  91    72    82          69.7       0.00 RTH     250 12.1 230  17  7.1  90 47 1009.0\n",
    "  28  84    68    76          65.6       0.00 RTFH    280  7.6 340  16  7.0 100 51 1011.0\n",
    "  29  88    66    77          59.7       0.00         040  5.4 020   9  5.3  84 33 1020.6\n",
    "  30  90    45    68          63.6       0.00 H       240  6.0 220  17  4.8 200 41 1022.7\n",
    "  mo  82.9  60.5  71.7    16  58.8       0.00              6.9          5.3\n"
   ]
  },
  {
   "cell_type": "markdown",
   "metadata": {},
   "source": [
    "## Bootstrapping code base"
   ]
  },
  {
   "cell_type": "markdown",
   "metadata": {},
   "source": [
    "To start with the code, following Test Driven Development, we'll first create the `test_weather.py` file with the following contents:"
   ]
  },
  {
   "cell_type": "markdown",
   "metadata": {
    "collapsed": false
   },
   "source": [
    "```python\n",
    "import weather\n",
    "\n",
    "def test_process_weather():\n",
    "    weather.process()\n",
    "```"
   ]
  },
  {
   "cell_type": "code",
   "execution_count": 3,
   "metadata": {
    "collapsed": false
   },
   "outputs": [
    {
     "name": "stdout",
     "output_type": "stream",
     "text": [
      "Writing test_weather.py\n"
     ]
    }
   ],
   "source": [
    "%%writefile test_weather.py\n",
    "import weather\n",
    "\n",
    "def test_process_weather():\n",
    "    weather.process()"
   ]
  },
  {
   "cell_type": "markdown",
   "metadata": {},
   "source": [
    "Once created, running the tests should make it break with an error, since there is no such `weather` module, yet:"
   ]
  },
  {
   "cell_type": "code",
   "execution_count": 4,
   "metadata": {
    "collapsed": false
   },
   "outputs": [
    {
     "name": "stdout",
     "output_type": "stream",
     "text": [
      "=============================================================================================== test session starts ===============================================================================================\n",
      "platform darwin -- Python 3.5.1, pytest-2.9.1, py-1.4.31, pluggy-0.3.1\n",
      "benchmark: 3.0.0 (defaults: timer=time.perf_counter disable_gc=False min_rounds=5 min_time=5.00us max_time=1.00s calibration_precision=10 warmup=False warmup_iterations=100000)\n",
      "rootdir: /Users/ifosch/src/github.com/BCNDojos/pyDojos/factor-out, inifile: \n",
      "plugins: benchmark-3.0.0\n",
      "collected 0 items / 1 errors\n",
      "\n",
      "===================================================================================================== ERRORS ======================================================================================================\n",
      "________________________________________________________________________________________ ERROR collecting test_weather.py _________________________________________________________________________________________\n",
      "test_weather.py:1: in <module>\n",
      "    import weather\n",
      "E   ImportError: No module named 'weather'\n",
      "============================================================================================= 1 error in 0.01 seconds =============================================================================================\n"
     ]
    }
   ],
   "source": [
    "%%bash\n",
    "py.test test_weather.py"
   ]
  },
  {
   "cell_type": "markdown",
   "metadata": {},
   "source": [
    "So next step we'll take is to create a trivial module, which will do actually nothing:"
   ]
  },
  {
   "cell_type": "markdown",
   "metadata": {
    "collapsed": false
   },
   "source": [
    "```python\n",
    "def process():\n",
    "    pass\n",
    "    ```"
   ]
  },
  {
   "cell_type": "code",
   "execution_count": 5,
   "metadata": {
    "collapsed": false
   },
   "outputs": [
    {
     "name": "stdout",
     "output_type": "stream",
     "text": [
      "Writing weather.py\n"
     ]
    }
   ],
   "source": [
    "%%writefile weather.py\n",
    "def process():\n",
    "    pass"
   ]
  },
  {
   "cell_type": "markdown",
   "metadata": {},
   "source": [
    "With the `weather.py` module created, test should pass ok, now:"
   ]
  },
  {
   "cell_type": "code",
   "execution_count": 6,
   "metadata": {
    "collapsed": false
   },
   "outputs": [
    {
     "name": "stdout",
     "output_type": "stream",
     "text": [
      "=============================================================================================== test session starts ===============================================================================================\n",
      "platform darwin -- Python 3.5.1, pytest-2.9.1, py-1.4.31, pluggy-0.3.1\n",
      "benchmark: 3.0.0 (defaults: timer=time.perf_counter disable_gc=False min_rounds=5 min_time=5.00us max_time=1.00s calibration_precision=10 warmup=False warmup_iterations=100000)\n",
      "rootdir: /Users/ifosch/src/github.com/BCNDojos/pyDojos/factor-out, inifile: \n",
      "plugins: benchmark-3.0.0\n",
      "collected 1 items\n",
      "\n",
      "test_weather.py .\n",
      "\n",
      "============================================================================================ 1 passed in 0.00 seconds =============================================================================================\n"
     ]
    }
   ],
   "source": [
    "%%bash\n",
    "py.test test_weather.py"
   ]
  },
  {
   "cell_type": "markdown",
   "metadata": {},
   "source": [
    "## Data reading iteration"
   ]
  },
  {
   "cell_type": "markdown",
   "metadata": {},
   "source": [
    "In that first iteration, we'll focus on load data lines from the file.\n",
    "The approach chosen is pretty simple, just read lines from the file, and print them all."
   ]
  },
  {
   "cell_type": "markdown",
   "metadata": {},
   "source": [
    "So for the first test, we'll check the function prints the content of the file stripping lines, when called.\n",
    "In order to do that check the output of the script with py.test, we'll be using the `capsys` plugin, which allows the test environment to keep standard output and error in memory, and enables the test to check these afterwards:"
   ]
  },
  {
   "cell_type": "markdown",
   "metadata": {
    "collapsed": false
   },
   "source": [
    "```python\n",
    "import weather\n",
    "\n",
    "def test_process_weather(capsys):\n",
    "    weather.process()\n",
    "    out, err = capsys.readouterr()\n",
    "    assert out.startswith(\"Dy\")\n",
    "```"
   ]
  },
  {
   "cell_type": "code",
   "execution_count": 7,
   "metadata": {
    "collapsed": false
   },
   "outputs": [
    {
     "name": "stdout",
     "output_type": "stream",
     "text": [
      "Overwriting test_weather.py\n"
     ]
    }
   ],
   "source": [
    "%%writefile test_weather.py\n",
    "import weather\n",
    "\n",
    "def test_process_weather(capsys):\n",
    "    weather.process()\n",
    "    out, err = capsys.readouterr()\n",
    "    assert out.startswith(\"Dy\")"
   ]
  },
  {
   "cell_type": "markdown",
   "metadata": {},
   "source": [
    "With the test written, let's check this test is not passing now:"
   ]
  },
  {
   "cell_type": "code",
   "execution_count": 8,
   "metadata": {
    "collapsed": false
   },
   "outputs": [
    {
     "name": "stdout",
     "output_type": "stream",
     "text": [
      "=============================================================================================== test session starts ===============================================================================================\n",
      "platform darwin -- Python 3.5.1, pytest-2.9.1, py-1.4.31, pluggy-0.3.1\n",
      "benchmark: 3.0.0 (defaults: timer=time.perf_counter disable_gc=False min_rounds=5 min_time=5.00us max_time=1.00s calibration_precision=10 warmup=False warmup_iterations=100000)\n",
      "rootdir: /Users/ifosch/src/github.com/BCNDojos/pyDojos/factor-out, inifile: \n",
      "plugins: benchmark-3.0.0\n",
      "collected 1 items\n",
      "\n",
      "test_weather.py F\n",
      "\n",
      "==================================================================================================== FAILURES =====================================================================================================\n",
      "______________________________________________________________________________________________ test_process_weather _______________________________________________________________________________________________\n",
      "\n",
      "capsys = <_pytest.capture.CaptureFixture object at 0x104849940>\n",
      "\n",
      "    def test_process_weather(capsys):\n",
      "        weather.process()\n",
      "        out, err = capsys.readouterr()\n",
      ">       assert out.startswith(\"Dy\")\n",
      "E       assert <built-in method startswith of str object at 0x1003acab0>('Dy')\n",
      "E        +  where <built-in method startswith of str object at 0x1003acab0> = ''.startswith\n",
      "\n",
      "test_weather.py:6: AssertionError\n",
      "============================================================================================ 1 failed in 0.01 seconds =============================================================================================\n"
     ]
    }
   ],
   "source": [
    "%%bash\n",
    "py.test test_weather.py"
   ]
  },
  {
   "cell_type": "markdown",
   "metadata": {},
   "source": [
    "When doing TDD, we should never write tests, or assertions, while there are previous ones not passing.\n",
    "Also, a strict TDD approach, expects the code to be simple enough to satisfy tests.\n",
    "So a possible code to solve this, could be this following one:"
   ]
  },
  {
   "cell_type": "markdown",
   "metadata": {
    "collapsed": false
   },
   "source": [
    "```python\n",
    "def process():\n",
    "    print(\"Dy\")\n",
    "```"
   ]
  },
  {
   "cell_type": "code",
   "execution_count": 9,
   "metadata": {
    "collapsed": false
   },
   "outputs": [
    {
     "name": "stdout",
     "output_type": "stream",
     "text": [
      "Overwriting weather.py\n"
     ]
    }
   ],
   "source": [
    "%%writefile weather.py\n",
    "def process():\n",
    "    print(\"Dy\")"
   ]
  },
  {
   "cell_type": "markdown",
   "metadata": {},
   "source": [
    "This silly code, effectively passes the test:"
   ]
  },
  {
   "cell_type": "code",
   "execution_count": 10,
   "metadata": {
    "collapsed": false
   },
   "outputs": [
    {
     "name": "stdout",
     "output_type": "stream",
     "text": [
      "=============================================================================================== test session starts ===============================================================================================\n",
      "platform darwin -- Python 3.5.1, pytest-2.9.1, py-1.4.31, pluggy-0.3.1\n",
      "benchmark: 3.0.0 (defaults: timer=time.perf_counter disable_gc=False min_rounds=5 min_time=5.00us max_time=1.00s calibration_precision=10 warmup=False warmup_iterations=100000)\n",
      "rootdir: /Users/ifosch/src/github.com/BCNDojos/pyDojos/factor-out, inifile: \n",
      "plugins: benchmark-3.0.0\n",
      "collected 1 items\n",
      "\n",
      "test_weather.py .\n",
      "\n",
      "============================================================================================ 1 passed in 0.00 seconds =============================================================================================\n"
     ]
    }
   ],
   "source": [
    "%%bash\n",
    "py.test test_weather.py"
   ]
  },
  {
   "cell_type": "markdown",
   "metadata": {},
   "source": [
    "So, following such strict TDD approach, should imply to add a new test or assertion to enforce more accurated results.\n",
    "To exemplify this, the following change in the test will assert the output contains more than one line:"
   ]
  },
  {
   "cell_type": "markdown",
   "metadata": {
    "collapsed": false
   },
   "source": [
    "```python\n",
    "import weather\n",
    "\n",
    "def test_process_weather(capsys):\n",
    "    weather.process()\n",
    "    out, err = capsys.readouterr()\n",
    "    assert out.startswith(\"Dy\")\n",
    "    assert len(out.split(\"\\n\")) > 2\n",
    "```"
   ]
  },
  {
   "cell_type": "code",
   "execution_count": 11,
   "metadata": {
    "collapsed": false
   },
   "outputs": [
    {
     "name": "stdout",
     "output_type": "stream",
     "text": [
      "Overwriting test_weather.py\n"
     ]
    }
   ],
   "source": [
    "%%writefile test_weather.py\n",
    "import weather\n",
    "\n",
    "def test_process_weather(capsys):\n",
    "    weather.process()\n",
    "    out, err = capsys.readouterr()\n",
    "    assert out.startswith(\"Dy\")\n",
    "    assert len(out.split(\"\\n\")) > 2"
   ]
  },
  {
   "cell_type": "markdown",
   "metadata": {},
   "source": [
    "So, now the tests will be red again:"
   ]
  },
  {
   "cell_type": "code",
   "execution_count": 12,
   "metadata": {
    "collapsed": false
   },
   "outputs": [
    {
     "name": "stdout",
     "output_type": "stream",
     "text": [
      "=============================================================================================== test session starts ===============================================================================================\n",
      "platform darwin -- Python 3.5.1, pytest-2.9.1, py-1.4.31, pluggy-0.3.1\n",
      "benchmark: 3.0.0 (defaults: timer=time.perf_counter disable_gc=False min_rounds=5 min_time=5.00us max_time=1.00s calibration_precision=10 warmup=False warmup_iterations=100000)\n",
      "rootdir: /Users/ifosch/src/github.com/BCNDojos/pyDojos/factor-out, inifile: \n",
      "plugins: benchmark-3.0.0\n",
      "collected 1 items\n",
      "\n",
      "test_weather.py F\n",
      "\n",
      "==================================================================================================== FAILURES =====================================================================================================\n",
      "______________________________________________________________________________________________ test_process_weather _______________________________________________________________________________________________\n",
      "\n",
      "capsys = <_pytest.capture.CaptureFixture object at 0x1013aa4e0>\n",
      "\n",
      "    def test_process_weather(capsys):\n",
      "        weather.process()\n",
      "        out, err = capsys.readouterr()\n",
      "        assert out.startswith(\"Dy\")\n",
      ">       assert len(out.split(\"\\n\")) > 2\n",
      "E       assert 2 > 2\n",
      "E        +  where 2 = len(['Dy', ''])\n",
      "E        +    where ['Dy', ''] = <built-in method split of str object at 0x1049b9a40>('\\n')\n",
      "E        +      where <built-in method split of str object at 0x1049b9a40> = 'Dy\\n'.split\n",
      "\n",
      "test_weather.py:7: AssertionError\n",
      "============================================================================================ 1 failed in 0.01 seconds =============================================================================================\n"
     ]
    }
   ],
   "source": [
    "%%bash\n",
    "py.test test_weather.py"
   ]
  },
  {
   "cell_type": "markdown",
   "metadata": {},
   "source": [
    "Of course, to make this new assertion pass, we could just add new lines to the output... but following this trend here, it would make this iteration unnecessarily long, so we'll go for a more straight forward solution:"
   ]
  },
  {
   "cell_type": "markdown",
   "metadata": {
    "collapsed": false
   },
   "source": [
    "```python\n",
    "def process():\n",
    "    file = open('weather.dat')\n",
    "    print(\"\".join(file.readlines()).strip())\n",
    "    file.close()\n",
    "```"
   ]
  },
  {
   "cell_type": "markdown",
   "metadata": {},
   "source": [
    "Here, we're using the standard library to `open` the file, read all lines with `readlines`, `strip` all spaces and new line characters from both sides of the line, and `join` the resulting data with an empty string, to print this out."
   ]
  },
  {
   "cell_type": "code",
   "execution_count": 13,
   "metadata": {
    "collapsed": false
   },
   "outputs": [
    {
     "name": "stdout",
     "output_type": "stream",
     "text": [
      "Overwriting weather.py\n"
     ]
    }
   ],
   "source": [
    "%%writefile weather.py\n",
    "def process():\n",
    "    file = open('weather.dat')\n",
    "    print(\"\".join(file.readlines()).strip())\n",
    "    file.close()"
   ]
  },
  {
   "cell_type": "markdown",
   "metadata": {},
   "source": [
    "Now this code will pass the tests:"
   ]
  },
  {
   "cell_type": "code",
   "execution_count": 14,
   "metadata": {
    "collapsed": false
   },
   "outputs": [
    {
     "name": "stdout",
     "output_type": "stream",
     "text": [
      "=============================================================================================== test session starts ===============================================================================================\n",
      "platform darwin -- Python 3.5.1, pytest-2.9.1, py-1.4.31, pluggy-0.3.1\n",
      "benchmark: 3.0.0 (defaults: timer=time.perf_counter disable_gc=False min_rounds=5 min_time=5.00us max_time=1.00s calibration_precision=10 warmup=False warmup_iterations=100000)\n",
      "rootdir: /Users/ifosch/src/github.com/BCNDojos/pyDojos/factor-out, inifile: \n",
      "plugins: benchmark-3.0.0\n",
      "collected 1 items\n",
      "\n",
      "test_weather.py .\n",
      "\n",
      "============================================================================================ 1 passed in 0.01 seconds =============================================================================================\n"
     ]
    }
   ],
   "source": [
    "%%bash\n",
    "py.test test_weather.py"
   ]
  },
  {
   "cell_type": "markdown",
   "metadata": {},
   "source": [
    "As last requirement for this iteration, we want just to get the lines with data, not headers, or empty lines:"
   ]
  },
  {
   "cell_type": "markdown",
   "metadata": {
    "collapsed": false
   },
   "source": [
    "```python\n",
    "import weather\n",
    "\n",
    "def test_process_weather(capsys):\n",
    "    weather.process()\n",
    "    out, err = capsys.readouterr()\n",
    "    assert out.startswith(\"1\")\n",
    "    assert len(out.split(\"\\n\")) > 2\n",
    "```"
   ]
  },
  {
   "cell_type": "code",
   "execution_count": 15,
   "metadata": {
    "collapsed": false
   },
   "outputs": [
    {
     "name": "stdout",
     "output_type": "stream",
     "text": [
      "Overwriting test_weather.py\n"
     ]
    }
   ],
   "source": [
    "%%writefile test_weather.py\n",
    "import weather\n",
    "\n",
    "def test_process_weather(capsys):\n",
    "    weather.process()\n",
    "    out, err = capsys.readouterr()\n",
    "    assert out.startswith(\"1\")\n",
    "    assert len(out.split(\"\\n\")) > 2"
   ]
  },
  {
   "cell_type": "markdown",
   "metadata": {},
   "source": [
    "So, now, the test will not pass again:"
   ]
  },
  {
   "cell_type": "code",
   "execution_count": 16,
   "metadata": {
    "collapsed": false
   },
   "outputs": [
    {
     "name": "stdout",
     "output_type": "stream",
     "text": [
      "=============================================================================================== test session starts ===============================================================================================\n",
      "platform darwin -- Python 3.5.1, pytest-2.9.1, py-1.4.31, pluggy-0.3.1\n",
      "benchmark: 3.0.0 (defaults: timer=time.perf_counter disable_gc=False min_rounds=5 min_time=5.00us max_time=1.00s calibration_precision=10 warmup=False warmup_iterations=100000)\n",
      "rootdir: /Users/ifosch/src/github.com/BCNDojos/pyDojos/factor-out, inifile: \n",
      "plugins: benchmark-3.0.0\n",
      "collected 1 items\n",
      "\n",
      "test_weather.py F\n",
      "\n",
      "==================================================================================================== FAILURES =====================================================================================================\n",
      "______________________________________________________________________________________________ test_process_weather _______________________________________________________________________________________________\n",
      "\n",
      "capsys = <_pytest.capture.CaptureFixture object at 0x1048bec18>\n",
      "\n",
      "    def test_process_weather(capsys):\n",
      "        weather.process()\n",
      "        out, err = capsys.readouterr()\n",
      ">       assert out.startswith(\"1\")\n",
      "E       assert <built-in method startswith of str object at 0x105099e00>('1')\n",
      "E        +  where <built-in method startswith of str object at 0x105099e00> = 'Dy MxT   MnT   AvT   HDDay  AvDP 1HrP TPcpn WxType PDir AvSp Dir MxS SkyC MxR MnR AvSLP\\n\\n   1  88    59    74      ...    240  6.0 220  17  4.8 200 41 1022.7\\n  mo  82.9  60.5  71.7    16  58.8       0.00              6.9          5.3\\n'.startswith\n",
      "\n",
      "test_weather.py:6: AssertionError\n",
      "============================================================================================ 1 failed in 0.01 seconds =============================================================================================\n"
     ]
    }
   ],
   "source": [
    "%%bash\n",
    "py.test test_weather.py"
   ]
  },
  {
   "cell_type": "markdown",
   "metadata": {},
   "source": [
    "Assuming that the header and empty lines could be differ in other versions of the data file, we'll try the approach of considering any line starting with a number (for the day) as data line.\n",
    "To do that, we'll use the standard `re` module, to match these lines for printing:"
   ]
  },
  {
   "cell_type": "markdown",
   "metadata": {
    "collapsed": false
   },
   "source": [
    "```python\n",
    "import re\n",
    "\n",
    "def process():\n",
    "    file = open('weather.dat')\n",
    "    pattern = r\"[0-9]+.*\"\n",
    "    for line in file.readlines():\n",
    "        match = re.match(pattern, line.strip())\n",
    "        if match:\n",
    "            print(line.strip())\n",
    "    file.close()\n",
    "```"
   ]
  },
  {
   "cell_type": "markdown",
   "metadata": {},
   "source": [
    "Here we use `re.match` to ensure the pattern is applied from the beginning of the string, meaning, it just start with some numbers, at least, 1.\n",
    "The result will be `None`, which evaluates to `False`, is the pattern is not satisfied, what should happen with the header, empty, and footer lines.\n",
    "For the rest of the lines, the data ones, that will return a match object, which evaluates to `True`."
   ]
  },
  {
   "cell_type": "code",
   "execution_count": 17,
   "metadata": {
    "collapsed": false
   },
   "outputs": [
    {
     "name": "stdout",
     "output_type": "stream",
     "text": [
      "Overwriting weather.py\n"
     ]
    }
   ],
   "source": [
    "%%writefile weather.py\n",
    "import re\n",
    "\n",
    "def process():\n",
    "    file = open('weather.dat')\n",
    "    pattern = r\"[0-9]+.*\"\n",
    "    for line in file.readlines():\n",
    "        match = re.match(pattern, line.strip())\n",
    "        if match:\n",
    "            print(line.strip())\n",
    "    file.close()"
   ]
  },
  {
   "cell_type": "markdown",
   "metadata": {},
   "source": [
    "This new code now passes the tests:"
   ]
  },
  {
   "cell_type": "code",
   "execution_count": 18,
   "metadata": {
    "collapsed": false
   },
   "outputs": [
    {
     "name": "stdout",
     "output_type": "stream",
     "text": [
      "=============================================================================================== test session starts ===============================================================================================\n",
      "platform darwin -- Python 3.5.1, pytest-2.9.1, py-1.4.31, pluggy-0.3.1\n",
      "benchmark: 3.0.0 (defaults: timer=time.perf_counter disable_gc=False min_rounds=5 min_time=5.00us max_time=1.00s calibration_precision=10 warmup=False warmup_iterations=100000)\n",
      "rootdir: /Users/ifosch/src/github.com/BCNDojos/pyDojos/factor-out, inifile: \n",
      "plugins: benchmark-3.0.0\n",
      "collected 1 items\n",
      "\n",
      "test_weather.py .\n",
      "\n",
      "============================================================================================ 1 passed in 0.01 seconds =============================================================================================\n"
     ]
    }
   ],
   "source": [
    "%%bash\n",
    "py.test test_weather.py"
   ]
  },
  {
   "cell_type": "markdown",
   "metadata": {},
   "source": [
    "Probably at this point, we could do some refactoring for improving the code that is reading.\n",
    "For this example, we chose to strictly avoid premature optimization, but to be true, this could probably be done at this point safely.\n",
    "Possible optimization refactoring is done within the third iteration."
   ]
  },
  {
   "cell_type": "markdown",
   "metadata": {},
   "source": [
    "## Data munching iteration"
   ]
  },
  {
   "cell_type": "markdown",
   "metadata": {},
   "source": [
    "Next step should consist in getting the data desired for each data line in the file:"
   ]
  },
  {
   "cell_type": "markdown",
   "metadata": {
    "collapsed": false
   },
   "source": [
    "```python\n",
    "import weather\n",
    "\n",
    "def test_process_weather(capsys):\n",
    "    weather.process()\n",
    "    out, err = capsys.readouterr()\n",
    "    assert out.startswith(\"1\")\n",
    "    output_lines = out.split(\"\\n\")\n",
    "    assert len(output_lines) > 2\n",
    "    assert output_lines[0] == \"1 59\"\n",
    "```"
   ]
  },
  {
   "cell_type": "code",
   "execution_count": 19,
   "metadata": {
    "collapsed": false
   },
   "outputs": [
    {
     "name": "stdout",
     "output_type": "stream",
     "text": [
      "Overwriting test_weather.py\n"
     ]
    }
   ],
   "source": [
    "%%writefile test_weather.py\n",
    "import weather\n",
    "\n",
    "def test_process_weather(capsys):\n",
    "    weather.process()\n",
    "    out, err = capsys.readouterr()\n",
    "    assert out.startswith(\"1\")\n",
    "    output_lines = out.split(\"\\n\")\n",
    "    assert len(output_lines) > 2\n",
    "    assert output_lines[0] == \"1 59\""
   ]
  },
  {
   "cell_type": "markdown",
   "metadata": {},
   "source": [
    "So the test will be red again:"
   ]
  },
  {
   "cell_type": "code",
   "execution_count": 20,
   "metadata": {
    "collapsed": false
   },
   "outputs": [
    {
     "name": "stdout",
     "output_type": "stream",
     "text": [
      "=============================================================================================== test session starts ===============================================================================================\n",
      "platform darwin -- Python 3.5.1, pytest-2.9.1, py-1.4.31, pluggy-0.3.1\n",
      "benchmark: 3.0.0 (defaults: timer=time.perf_counter disable_gc=False min_rounds=5 min_time=5.00us max_time=1.00s calibration_precision=10 warmup=False warmup_iterations=100000)\n",
      "rootdir: /Users/ifosch/src/github.com/BCNDojos/pyDojos/factor-out, inifile: \n",
      "plugins: benchmark-3.0.0\n",
      "collected 1 items\n",
      "\n",
      "test_weather.py F\n",
      "\n",
      "==================================================================================================== FAILURES =====================================================================================================\n",
      "______________________________________________________________________________________________ test_process_weather _______________________________________________________________________________________________\n",
      "\n",
      "capsys = <_pytest.capture.CaptureFixture object at 0x103dccb00>\n",
      "\n",
      "    def test_process_weather(capsys):\n",
      "        weather.process()\n",
      "        out, err = capsys.readouterr()\n",
      "        assert out.startswith(\"1\")\n",
      "        output_lines = out.split(\"\\n\")\n",
      "        assert len(output_lines) > 2\n",
      ">       assert output_lines[0] == \"1 59\"\n",
      "E       assert '1  88    59 ... 93 23 1004.5' == '1 59'\n",
      "E         - 1  88    59    74          53.8       0.00 F       280  9.6 270  17  1.6  93 23 1004.5\n",
      "E         + 1 59\n",
      "\n",
      "test_weather.py:9: AssertionError\n",
      "============================================================================================ 1 failed in 0.01 seconds =============================================================================================\n"
     ]
    }
   ],
   "source": [
    "%%bash\n",
    "py.test test_weather.py"
   ]
  },
  {
   "cell_type": "markdown",
   "metadata": {},
   "source": [
    "One good way to get this, is to change the regular expression to catch both the day and minimum temperature:"
   ]
  },
  {
   "cell_type": "markdown",
   "metadata": {
    "collapsed": false
   },
   "source": [
    "```python\n",
    "import re\n",
    "\n",
    "def process():\n",
    "    file = open('weather.dat')\n",
    "    pattern = r\"(?P<day>[0-9]+)\\s+[0-9]+\\s+(?P<min>[0-9]+).*\"\n",
    "    for line in file.readlines():\n",
    "        match = re.match(pattern, line.strip())\n",
    "        if match:\n",
    "            print(\"{} {}\".format(match.group('day'), match.group('min')))\n",
    "    file.close()\n",
    "```"
   ]
  },
  {
   "cell_type": "markdown",
   "metadata": {},
   "source": [
    "Here we're using parentheses to capture specific data from the lines, so we can get the data matching the regular expressions between those from the resulting match object.\n",
    "Also the expressions between parentheses, are named, so the way to catch these groups will be through these names."
   ]
  },
  {
   "cell_type": "code",
   "execution_count": 21,
   "metadata": {
    "collapsed": false
   },
   "outputs": [
    {
     "name": "stdout",
     "output_type": "stream",
     "text": [
      "Overwriting weather.py\n"
     ]
    }
   ],
   "source": [
    "%%writefile weather.py\n",
    "import re\n",
    "\n",
    "def process():\n",
    "    file = open('weather.dat')\n",
    "    pattern = r\"(?P<day>[0-9]+)\\s+[0-9]+\\s+(?P<min>[0-9]+).*\"\n",
    "    for line in file.readlines():\n",
    "        match = re.match(pattern, line.strip())\n",
    "        if match:\n",
    "            print(\"{} {}\".format(match.group('day'), match.group('min')))\n",
    "    file.close()"
   ]
  },
  {
   "cell_type": "markdown",
   "metadata": {},
   "source": [
    "Now the tests will be passing:"
   ]
  },
  {
   "cell_type": "code",
   "execution_count": 22,
   "metadata": {
    "collapsed": false
   },
   "outputs": [
    {
     "name": "stdout",
     "output_type": "stream",
     "text": [
      "=============================================================================================== test session starts ===============================================================================================\n",
      "platform darwin -- Python 3.5.1, pytest-2.9.1, py-1.4.31, pluggy-0.3.1\n",
      "benchmark: 3.0.0 (defaults: timer=time.perf_counter disable_gc=False min_rounds=5 min_time=5.00us max_time=1.00s calibration_precision=10 warmup=False warmup_iterations=100000)\n",
      "rootdir: /Users/ifosch/src/github.com/BCNDojos/pyDojos/factor-out, inifile: \n",
      "plugins: benchmark-3.0.0\n",
      "collected 1 items\n",
      "\n",
      "test_weather.py .\n",
      "\n",
      "============================================================================================ 1 passed in 0.01 seconds =============================================================================================\n"
     ]
    }
   ],
   "source": [
    "%%bash\n",
    "py.test test_weather.py"
   ]
  },
  {
   "cell_type": "markdown",
   "metadata": {},
   "source": [
    "Now we'll change the test to ensure it just prints the expected answer:"
   ]
  },
  {
   "cell_type": "markdown",
   "metadata": {
    "collapsed": false
   },
   "source": [
    "```python\n",
    "import weather\n",
    "\n",
    "def test_process_weather(capsys):\n",
    "    weather.process()\n",
    "    out, err = capsys.readouterr()\n",
    "    assert out == \"9 32\\n\"\n",
    "```"
   ]
  },
  {
   "cell_type": "code",
   "execution_count": 23,
   "metadata": {
    "collapsed": false
   },
   "outputs": [
    {
     "name": "stdout",
     "output_type": "stream",
     "text": [
      "Overwriting test_weather.py\n"
     ]
    }
   ],
   "source": [
    "%%writefile test_weather.py\n",
    "import weather\n",
    "\n",
    "def test_process_weather(capsys):\n",
    "    weather.process()\n",
    "    out, err = capsys.readouterr()\n",
    "    assert out == \"9 32\\n\""
   ]
  },
  {
   "cell_type": "markdown",
   "metadata": {},
   "source": [
    "Since the code still return the first and third columns for all rows, this test will not pass:"
   ]
  },
  {
   "cell_type": "code",
   "execution_count": 24,
   "metadata": {
    "collapsed": false
   },
   "outputs": [
    {
     "name": "stdout",
     "output_type": "stream",
     "text": [
      "=============================================================================================== test session starts ===============================================================================================\n",
      "platform darwin -- Python 3.5.1, pytest-2.9.1, py-1.4.31, pluggy-0.3.1\n",
      "benchmark: 3.0.0 (defaults: timer=time.perf_counter disable_gc=False min_rounds=5 min_time=5.00us max_time=1.00s calibration_precision=10 warmup=False warmup_iterations=100000)\n",
      "rootdir: /Users/ifosch/src/github.com/BCNDojos/pyDojos/factor-out, inifile: \n",
      "plugins: benchmark-3.0.0\n",
      "collected 1 items\n",
      "\n",
      "test_weather.py F\n",
      "\n",
      "==================================================================================================== FAILURES =====================================================================================================\n",
      "______________________________________________________________________________________________ test_process_weather _______________________________________________________________________________________________\n",
      "\n",
      "capsys = <_pytest.capture.CaptureFixture object at 0x10498c6d8>\n",
      "\n",
      "    def test_process_weather(capsys):\n",
      "        weather.process()\n",
      "        out, err = capsys.readouterr()\n",
      ">       assert out == \"9 32\\n\"\n",
      "E       assert '1 59\\n2 63\\n...9 66\\n30 45\\n' == '9 32\\n'\n",
      "E         - 1 59\n",
      "E         - 2 63\n",
      "E         - 3 55\n",
      "E         - 4 59\n",
      "E         - 5 66\n",
      "E         - 6 61\n",
      "E         - 7 57\n",
      "E         - 8 54\n",
      "E           9 32\n",
      "E         - 10 64\n",
      "E         - 11 59\n",
      "E         - 12 73\n",
      "E         - 13 59\n",
      "E         - 14 59\n",
      "E         - 15 55\n",
      "E         - 16 59\n",
      "E         - 17 57\n",
      "E         - 18 52\n",
      "E         - 19 61\n",
      "E         - 20 57\n",
      "E         - 21 59\n",
      "E         - 22 64\n",
      "E         - 23 68\n",
      "E         - 24 77\n",
      "E         - 25 72\n",
      "E         - 27 72\n",
      "E         - 28 68\n",
      "E         - 29 66\n",
      "E         - 30 45\n",
      "\n",
      "test_weather.py:6: AssertionError\n",
      "============================================================================================ 1 failed in 0.01 seconds =============================================================================================\n"
     ]
    }
   ],
   "source": [
    "%%bash\n",
    "py.test test_weather.py"
   ]
  },
  {
   "cell_type": "markdown",
   "metadata": {},
   "source": [
    "So the code needs to be modified to satisfy this now.\n",
    "That can be accomplished by checking the temperature iteratively while reading the file, and capturing the day and updating the temperature when a minor temperature is found.\n",
    "Once the loop is completed, it will print the data found:"
   ]
  },
  {
   "cell_type": "markdown",
   "metadata": {
    "collapsed": false
   },
   "source": [
    "```python\n",
    "import re\n",
    "\n",
    "def process():\n",
    "    file = open('weather.dat')\n",
    "    pattern = r\"(?P<day>[0-9]+)\\s+[0-9]+\\s+(?P<min>[0-9]+).*\"\n",
    "    day = 0\n",
    "    temp = 1000\n",
    "    for line in file.readlines():\n",
    "        match = re.match(pattern, line.strip())\n",
    "        if match:\n",
    "            if int(match.group('min')) < temp:\n",
    "                day = match.group('day')\n",
    "                temp = int(match.group('min'))\n",
    "    print(\"{} {}\".format(day, temp))\n",
    "    file.close()\n",
    "```"
   ]
  },
  {
   "cell_type": "code",
   "execution_count": 25,
   "metadata": {
    "collapsed": false
   },
   "outputs": [
    {
     "name": "stdout",
     "output_type": "stream",
     "text": [
      "Overwriting weather.py\n"
     ]
    }
   ],
   "source": [
    "%%writefile weather.py\n",
    "import re\n",
    "\n",
    "def process():\n",
    "    file = open('weather.dat')\n",
    "    pattern = r\"(?P<day>[0-9]+)\\s+[0-9]+\\s+(?P<min>[0-9]+).*\"\n",
    "    day = 0\n",
    "    temp = 1000\n",
    "    for line in file.readlines():\n",
    "        match = re.match(pattern, line.strip())\n",
    "        if match:\n",
    "            if int(match.group('min')) < temp:\n",
    "                day = match.group('day')\n",
    "                temp = int(match.group('min'))\n",
    "    print(\"{} {}\".format(day, temp))\n",
    "    file.close()"
   ]
  },
  {
   "cell_type": "markdown",
   "metadata": {},
   "source": [
    "Now the test should pass:"
   ]
  },
  {
   "cell_type": "code",
   "execution_count": 26,
   "metadata": {
    "collapsed": false
   },
   "outputs": [
    {
     "name": "stdout",
     "output_type": "stream",
     "text": [
      "=============================================================================================== test session starts ===============================================================================================\n",
      "platform darwin -- Python 3.5.1, pytest-2.9.1, py-1.4.31, pluggy-0.3.1\n",
      "benchmark: 3.0.0 (defaults: timer=time.perf_counter disable_gc=False min_rounds=5 min_time=5.00us max_time=1.00s calibration_precision=10 warmup=False warmup_iterations=100000)\n",
      "rootdir: /Users/ifosch/src/github.com/BCNDojos/pyDojos/factor-out, inifile: \n",
      "plugins: benchmark-3.0.0\n",
      "collected 1 items\n",
      "\n",
      "test_weather.py .\n",
      "\n",
      "============================================================================================ 1 passed in 0.01 seconds =============================================================================================\n"
     ]
    }
   ],
   "source": [
    "%%bash\n",
    "py.test test_weather.py"
   ]
  },
  {
   "cell_type": "markdown",
   "metadata": {},
   "source": [
    "## Refactoring file reading"
   ]
  },
  {
   "cell_type": "markdown",
   "metadata": {},
   "source": [
    "In the last iteration, while having a working solution, we'll refactor the code to make it more idiomatic and efficient, without modifying nor breaking the test:"
   ]
  },
  {
   "cell_type": "markdown",
   "metadata": {
    "collapsed": false
   },
   "source": [
    "```python\n",
    "import re\n",
    "\n",
    "def process():\n",
    "    pattern = r\"(?P<day>[0-9]+)\\s+[0-9]+\\s+(?P<min>[0-9]+).*\"\n",
    "    day = 0\n",
    "    temp = 1000\n",
    "    with open('weather.dat') as file:\n",
    "        for line in file.readlines():\n",
    "            match = re.match(pattern, line.strip())\n",
    "            if match:\n",
    "                if int(match.group('min')) < temp:\n",
    "                    day = match.group('day')\n",
    "                    temp = int(match.group('min'))\n",
    "    print(\"{} {}\".format(day, temp))\n",
    "```"
   ]
  },
  {
   "cell_type": "markdown",
   "metadata": {},
   "source": [
    "A first refactor that can be done, is just idiomatic.\n",
    "It is just changing how we open the file, making it unnecessary to explicitly close the file.\n",
    "By using the `with open('weather.dat') as file:` construct, Python will automatically close the file by the end of the block for us."
   ]
  },
  {
   "cell_type": "code",
   "execution_count": 27,
   "metadata": {
    "collapsed": false
   },
   "outputs": [
    {
     "name": "stdout",
     "output_type": "stream",
     "text": [
      "Overwriting weather.py\n"
     ]
    }
   ],
   "source": [
    "%%writefile weather.py\n",
    "import re\n",
    "\n",
    "def process():\n",
    "    pattern = r\"(?P<day>[0-9]+)\\s+[0-9]+\\s+(?P<min>[0-9]+).*\"\n",
    "    day = 0\n",
    "    temp = 1000\n",
    "    with open('weather.dat') as file:\n",
    "        for line in file.readlines():\n",
    "            match = re.match(pattern, line.strip())\n",
    "            if match:\n",
    "                if int(match.group('min')) < temp:\n",
    "                    day = match.group('day')\n",
    "                    temp = int(match.group('min'))\n",
    "    print(\"{} {}\".format(day, temp))"
   ]
  },
  {
   "cell_type": "markdown",
   "metadata": {},
   "source": [
    "Once this refactor is done, we need to ensure it is still passing the test:"
   ]
  },
  {
   "cell_type": "code",
   "execution_count": 28,
   "metadata": {
    "collapsed": false
   },
   "outputs": [
    {
     "name": "stdout",
     "output_type": "stream",
     "text": [
      "=============================================================================================== test session starts ===============================================================================================\n",
      "platform darwin -- Python 3.5.1, pytest-2.9.1, py-1.4.31, pluggy-0.3.1\n",
      "benchmark: 3.0.0 (defaults: timer=time.perf_counter disable_gc=False min_rounds=5 min_time=5.00us max_time=1.00s calibration_precision=10 warmup=False warmup_iterations=100000)\n",
      "rootdir: /Users/ifosch/src/github.com/BCNDojos/pyDojos/factor-out, inifile: \n",
      "plugins: benchmark-3.0.0\n",
      "collected 1 items\n",
      "\n",
      "test_weather.py .\n",
      "\n",
      "============================================================================================ 1 passed in 0.01 seconds =============================================================================================\n"
     ]
    }
   ],
   "source": [
    "%%bash\n",
    "py.test test_weather.py"
   ]
  },
  {
   "cell_type": "markdown",
   "metadata": {},
   "source": [
    "## Refactoring data collection"
   ]
  },
  {
   "cell_type": "markdown",
   "metadata": {},
   "source": [
    "About how we are reading lines, the `readlines` method is not the best choice, since it's not memory efficient and pretty much slower.\n",
    "The best approach to get this kind of loop, is to iterate directly on the file object:"
   ]
  },
  {
   "cell_type": "markdown",
   "metadata": {
    "collapsed": false
   },
   "source": [
    "```python\n",
    "import re\n",
    "\n",
    "def process():\n",
    "    pattern = r\"(?P<day>[0-9]+)\\s+[0-9]+\\s+(?P<min>[0-9]+).*\"\n",
    "    day = 0\n",
    "    temp = 1000\n",
    "    with open('weather.dat') as file:\n",
    "        for line in file:\n",
    "            match = re.match(pattern, line.strip())\n",
    "            if match:\n",
    "                if int(match.group('min')) < temp:\n",
    "                    day = match.group('day')\n",
    "                    temp = int(match.group('min'))\n",
    "    print(\"{} {}\".format(day, temp))\n",
    "```"
   ]
  },
  {
   "cell_type": "code",
   "execution_count": 29,
   "metadata": {
    "collapsed": false
   },
   "outputs": [
    {
     "name": "stdout",
     "output_type": "stream",
     "text": [
      "Overwriting weather.py\n"
     ]
    }
   ],
   "source": [
    "%%writefile weather.py\n",
    "import re\n",
    "\n",
    "def process():\n",
    "    pattern = r\"(?P<day>[0-9]+)\\s+[0-9]+\\s+(?P<min>[0-9]+).*\"\n",
    "    day = 0\n",
    "    temp = 1000\n",
    "    with open('weather.dat') as file:\n",
    "        for line in file:\n",
    "            match = re.match(pattern, line.strip())\n",
    "            if match:\n",
    "                if int(match.group('min')) < temp:\n",
    "                    day = match.group('day')\n",
    "                    temp = int(match.group('min'))\n",
    "    print(\"{} {}\".format(day, temp))"
   ]
  },
  {
   "cell_type": "markdown",
   "metadata": {},
   "source": [
    "Which still passes the test:"
   ]
  },
  {
   "cell_type": "code",
   "execution_count": 30,
   "metadata": {
    "collapsed": false
   },
   "outputs": [
    {
     "name": "stdout",
     "output_type": "stream",
     "text": [
      "=============================================================================================== test session starts ===============================================================================================\n",
      "platform darwin -- Python 3.5.1, pytest-2.9.1, py-1.4.31, pluggy-0.3.1\n",
      "benchmark: 3.0.0 (defaults: timer=time.perf_counter disable_gc=False min_rounds=5 min_time=5.00us max_time=1.00s calibration_precision=10 warmup=False warmup_iterations=100000)\n",
      "rootdir: /Users/ifosch/src/github.com/BCNDojos/pyDojos/factor-out, inifile: \n",
      "plugins: benchmark-3.0.0\n",
      "collected 1 items\n",
      "\n",
      "test_weather.py .\n",
      "\n",
      "============================================================================================ 1 passed in 0.01 seconds =============================================================================================\n"
     ]
    }
   ],
   "source": [
    "%%bash\n",
    "py.test test_weather.py"
   ]
  },
  {
   "cell_type": "markdown",
   "metadata": {},
   "source": [
    "## Refactoring data parsing"
   ]
  },
  {
   "cell_type": "markdown",
   "metadata": {},
   "source": [
    "Another good point could be to change usage of `re`, which we're using to cache columns from space separated rows, in favor of using simple plain `split`.\n",
    "This optimization should be pretty clear, since using `split`, all the regular expression evaluation is taken out of the processing, but taking a peek on benchmarking for processing times using `pytest-benchmark` could be interesting.\n",
    "So we'll need to `pip install pytest-benchmark`, and add a new test function:"
   ]
  },
  {
   "cell_type": "markdown",
   "metadata": {
    "collapsed": false
   },
   "source": [
    "```python\n",
    "import weather\n",
    "\n",
    "def test_process_weather(capsys):\n",
    "    weather.process()\n",
    "    out, err = capsys.readouterr()\n",
    "    assert out == \"9 32\\n\"\n",
    "\n",
    "def test_benchmark_process_weather(benchmark):\n",
    "    benchmark(weather.process)\n",
    "```"
   ]
  },
  {
   "cell_type": "markdown",
   "metadata": {},
   "source": [
    "In case you're thinking why the use of benchmark is done in a separate test function, the reasoning is that `benchmark` repeats the function run more than once, and then the output would not be just one single line.\n",
    "One other way to do that would be to make the test function return another function decorated with benchmark, but this would make an unnecessary function call."
   ]
  },
  {
   "cell_type": "code",
   "execution_count": 31,
   "metadata": {
    "collapsed": false
   },
   "outputs": [
    {
     "name": "stdout",
     "output_type": "stream",
     "text": [
      "Overwriting test_weather.py\n"
     ]
    }
   ],
   "source": [
    "%%writefile test_weather.py\n",
    "import weather\n",
    "\n",
    "def test_process_weather(capsys):\n",
    "    weather.process()\n",
    "    out, err = capsys.readouterr()\n",
    "    assert out == \"9 32\\n\"\n",
    "\n",
    "def test_benchmark_process_weather(benchmark):\n",
    "    benchmark(weather.process)"
   ]
  },
  {
   "cell_type": "markdown",
   "metadata": {},
   "source": [
    "Since the code still return the first and third columns for all rows, this test will not pass:"
   ]
  },
  {
   "cell_type": "code",
   "execution_count": 32,
   "metadata": {
    "collapsed": false
   },
   "outputs": [
    {
     "name": "stdout",
     "output_type": "stream",
     "text": [
      "=============================================================================================== test session starts ===============================================================================================\n",
      "platform darwin -- Python 3.5.1, pytest-2.9.1, py-1.4.31, pluggy-0.3.1\n",
      "benchmark: 3.0.0 (defaults: timer=time.perf_counter disable_gc=False min_rounds=5 min_time=5.00us max_time=1.00s calibration_precision=10 warmup=False warmup_iterations=100000)\n",
      "rootdir: /Users/ifosch/src/github.com/BCNDojos/pyDojos/factor-out, inifile: \n",
      "plugins: benchmark-3.0.0\n",
      "collected 2 items\n",
      "\n",
      "test_weather.py ..\n",
      "\n",
      "\n",
      "\r",
      "Computing stats ...\r",
      "Computing stats ... group 1/1\r",
      "Computing stats ... group 1/1: min\r",
      "Computing stats ... group 1/1: min (1/1)\r",
      "Computing stats ... group 1/1: min (1/1)\r",
      "Computing stats ... group 1/1: max\r",
      "Computing stats ... group 1/1: max (1/1)\r",
      "Computing stats ... group 1/1: max (1/1)\r",
      "Computing stats ... group 1/1: mean\r",
      "Computing stats ... group 1/1: mean (1/1)\r",
      "Computing stats ... group 1/1: mean (1/1)\r",
      "Computing stats ... group 1/1: median\r",
      "Computing stats ... group 1/1: median (1/1)\r",
      "Computing stats ... group 1/1: median (1/1)\r",
      "Computing stats ... group 1/1: iqr\r",
      "Computing stats ... group 1/1: iqr (1/1)\r",
      "Computing stats ... group 1/1: iqr (1/1)\r",
      "Computing stats ... group 1/1: stddev\r",
      "Computing stats ... group 1/1: stddev (1/1)\r",
      "Computing stats ... group 1/1: stddev (1/1)\r",
      "Computing stats ... group 1/1: stddev: outliers\r",
      "Computing stats ... group 1/1: stddev: outliers (1/1)\r",
      "Computing stats ... group 1/1: stddev: rounds\r",
      "Computing stats ... group 1/1: stddev: rounds (1/1)\r",
      "Computing stats ... group 1/1: stddev: iterations\r",
      "Computing stats ... group 1/1: stddev: iterations (1/1)\r",
      "--------------------------------------------------- benchmark: 1 tests --------------------------------------------------\n",
      "Name (time in us)                      Min       Max      Mean   StdDev   Median     IQR  Outliers(*)  Rounds  Iterations\n",
      "-------------------------------------------------------------------------------------------------------------------------\n",
      "test_benchmark_process_weather     95.5989  261.8269  103.1045  13.7875  97.7521  3.3795      549;829    4359           1\n",
      "-------------------------------------------------------------------------------------------------------------------------\n",
      "\n",
      "(*) Outliers: 1 Standard Deviation from Mean; 1.5 IQR (InterQuartile Range) from 1st Quartile and 3rd Quartile.\n",
      "============================================================================================ 2 passed in 1.50 seconds =============================================================================================\n"
     ]
    }
   ],
   "source": [
    "%%bash\n",
    "py.test test_weather.py"
   ]
  },
  {
   "cell_type": "markdown",
   "metadata": {},
   "source": [
    "The output of the tests are slightly different now, since it includes a performance report table for the benchmarked function.\n",
    "Most of the statistics shown are pretty clear, but there are these two, `IQR` and `Outliers` which are pretty useful to compare not so different versions of the code.\n",
    "When the function is so fast and improvements so small that usual stats, like `Min`, `Max`, and so on, are not definitely indicators of improvement, usually, `IQR` and `Outliers` are much better to signal such improvements."
   ]
  },
  {
   "cell_type": "markdown",
   "metadata": {},
   "source": [
    "So the improvement in the code, for this, would be to use `split` on the data line to get the different columns:"
   ]
  },
  {
   "cell_type": "markdown",
   "metadata": {
    "collapsed": false
   },
   "source": [
    "```python\n",
    "def process():\n",
    "    day = 0\n",
    "    temp = 1000\n",
    "    with open('weather.dat') as file:\n",
    "        for line in file:\n",
    "            columns = line.replace(\"*\", \"\").split()\n",
    "            try:\n",
    "                if len(columns) > 0 and int(columns[2]) < temp:\n",
    "                    day = columns[0]\n",
    "                    temp = int(columns[2])\n",
    "            except ValueError:\n",
    "                pass\n",
    "    print(\"{} {}\".format(day, temp))\n",
    "```"
   ]
  },
  {
   "cell_type": "markdown",
   "metadata": {},
   "source": [
    "This change, also implies:\n",
    "* Some numbers in the columns are marked with an `*`. The `re` version was taking this out, but this new version needs to explicitly take this out, what can be accomplished by replacing `*` with an empty string.\n",
    "* The previous `if match` assertion needs to be replaced by another criteria, to check if `columns` is not an empty string.\n",
    "* The data accessors from the match object, now need to be replaced by list accessors to the corresponding columns.\n",
    "* ValueError exception need to be captured for lines with string columns, like the header one."
   ]
  },
  {
   "cell_type": "code",
   "execution_count": 33,
   "metadata": {
    "collapsed": false
   },
   "outputs": [
    {
     "name": "stdout",
     "output_type": "stream",
     "text": [
      "Overwriting weather.py\n"
     ]
    }
   ],
   "source": [
    "%%writefile weather.py\n",
    "def process():\n",
    "    day = 0\n",
    "    temp = 1000\n",
    "    with open('weather.dat') as file:\n",
    "        for line in file:\n",
    "            columns = line.replace(\"*\", \"\").split()\n",
    "            try:\n",
    "                if len(columns) > 0 and int(columns[2]) < temp:\n",
    "                    day = columns[0]\n",
    "                    temp = int(columns[2])\n",
    "            except ValueError:\n",
    "                pass\n",
    "    print(\"{} {}\".format(day, temp))"
   ]
  },
  {
   "cell_type": "code",
   "execution_count": 34,
   "metadata": {
    "collapsed": false
   },
   "outputs": [
    {
     "name": "stdout",
     "output_type": "stream",
     "text": [
      "=============================================================================================== test session starts ===============================================================================================\n",
      "platform darwin -- Python 3.5.1, pytest-2.9.1, py-1.4.31, pluggy-0.3.1\n",
      "benchmark: 3.0.0 (defaults: timer=time.perf_counter disable_gc=False min_rounds=5 min_time=5.00us max_time=1.00s calibration_precision=10 warmup=False warmup_iterations=100000)\n",
      "rootdir: /Users/ifosch/src/github.com/BCNDojos/pyDojos/factor-out, inifile: \n",
      "plugins: benchmark-3.0.0\n",
      "collected 2 items\n",
      "\n",
      "test_weather.py ..\n",
      "\n",
      "\n",
      "\r",
      "Computing stats ...\r",
      "Computing stats ... group 1/1\r",
      "Computing stats ... group 1/1: min\r",
      "Computing stats ... group 1/1: min (1/1)\r",
      "Computing stats ... group 1/1: min (1/1)\r",
      "Computing stats ... group 1/1: max\r",
      "Computing stats ... group 1/1: max (1/1)\r",
      "Computing stats ... group 1/1: max (1/1)\r",
      "Computing stats ... group 1/1: mean\r",
      "Computing stats ... group 1/1: mean (1/1)\r",
      "Computing stats ... group 1/1: mean (1/1)\r",
      "Computing stats ... group 1/1: median\r",
      "Computing stats ... group 1/1: median (1/1)\r",
      "Computing stats ... group 1/1: median (1/1)\r",
      "Computing stats ... group 1/1: iqr\r",
      "Computing stats ... group 1/1: iqr (1/1)\r",
      "Computing stats ... group 1/1: iqr (1/1)\r",
      "Computing stats ... group 1/1: stddev\r",
      "Computing stats ... group 1/1: stddev (1/1)\r",
      "Computing stats ... group 1/1: stddev (1/1)\r",
      "Computing stats ... group 1/1: stddev: outliers\r",
      "Computing stats ... group 1/1: stddev: outliers (1/1)\r",
      "Computing stats ... group 1/1: stddev: rounds\r",
      "Computing stats ... group 1/1: stddev: rounds (1/1)\r",
      "Computing stats ... group 1/1: stddev: iterations\r",
      "Computing stats ... group 1/1: stddev: iterations (1/1)\r",
      "--------------------------------------------------- benchmark: 1 tests --------------------------------------------------\n",
      "Name (time in us)                      Min       Max      Mean   StdDev   Median     IQR  Outliers(*)  Rounds  Iterations\n",
      "-------------------------------------------------------------------------------------------------------------------------\n",
      "test_benchmark_process_weather     97.4252  301.1422  103.1828  10.0994  99.8909  2.7922      339;509    3327           1\n",
      "-------------------------------------------------------------------------------------------------------------------------\n",
      "\n",
      "(*) Outliers: 1 Standard Deviation from Mean; 1.5 IQR (InterQuartile Range) from 1st Quartile and 3rd Quartile.\n",
      "============================================================================================ 2 passed in 1.38 seconds =============================================================================================\n"
     ]
    }
   ],
   "source": [
    "%%bash\n",
    "py.test test_weather.py"
   ]
  },
  {
   "cell_type": "markdown",
   "metadata": {},
   "source": [
    "So for many of the standard statistics, this version is not better, it could even considered worst, but `IQR` metric are much better, meaning that the difference among longer running execution rounds are much lesser.\n",
    "Also, `StdDev` and `Outliers` show up the quantity of cases taking more than 1 standard deviation from mean are much less and faster than in the previous run.\n",
    "So these should point to a performance improvement, though pretty slight."
   ]
  }
 ],
 "metadata": {
  "kernelspec": {
   "display_name": "Python 3",
   "language": "python",
   "name": "python3"
  },
  "language_info": {
   "codemirror_mode": {
    "name": "ipython",
    "version": 3
   },
   "file_extension": ".py",
   "mimetype": "text/x-python",
   "name": "python",
   "nbconvert_exporter": "python",
   "pygments_lexer": "ipython3",
   "version": "3.5.1"
  }
 },
 "nbformat": 4,
 "nbformat_minor": 0
}
