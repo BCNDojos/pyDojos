{
 "cells": [
  {
   "cell_type": "markdown",
   "metadata": {
    "slideshow": {
     "slide_type": "slide"
    }
   },
   "source": [
    "# Gilded Rose Refactoring Kata"
   ]
  },
  {
   "cell_type": "markdown",
   "metadata": {
    "slideshow": {
     "slide_type": "slide"
    }
   },
   "source": [
    "## The Gilded Rose Inn\n",
    "\n",
    "Hi and welcome to team Gilded Rose.\n",
    "\n",
    "As you know, we are a small inn with a prime location in a prominent city ran by a friendly innkeeper named Allison.\n",
    "We also buy and sell only the finest goods.\n",
    "Unfortunately, our goods are constantly degrading in quality as they approach their sell by date.\n",
    "We have a system in place that updates our inventory for us.\n",
    "It was developed by a no-nonsense type named Leeroy, who has moved on to new adventures.\n",
    "First an introduction to our system:\n",
    "\n",
    "* All items have a `sell_in` value which denotes the number of days we have to sell the item\n",
    "* All items have a `quality` value which denotes how valuable the item is\n",
    "* At the end of each day our system lowers both values for every item"
   ]
  },
  {
   "cell_type": "markdown",
   "metadata": {
    "slideshow": {
     "slide_type": "subslide"
    }
   },
   "source": [
    "Pretty simple, right? Well this is where it gets interesting:\n",
    "\n",
    "* Once the sell by date has passed, `quality` degrades twice as fast\n",
    "* The `quality` of an item is never negative\n",
    "* “Aged Brie” actually increases in `quality` the older it gets\n",
    "* The `quality` of an item is never more than 50\n",
    "* “Sulfuras...”, being a legendary item, never has to be sold or decreases in `quality`\n",
    "* “Backstage passes...”, like aged brie, increases in `quality` as it’s `sell_in` value approaches; `quality` increases by 2 when there are 10 days or less and by 3 when there are 5 days or less but `quality` drops to 0 after the concert\n",
    "\n",
    "Feel free to make any changes to the `update_quality` method and add any new code as long as everything still works correctly.\n",
    "However, do not alter the `Item` class or `items` property as those belong to the goblin in the corner who will insta-rage and one-shot you as he doesn’t believe in shared code ownership (you can make the `update_quality` method and `items` property static if you like, we’ll cover for you)."
   ]
  },
  {
   "cell_type": "markdown",
   "metadata": {
    "slideshow": {
     "slide_type": "slide"
    }
   },
   "source": [
    "### Get your gear!\n",
    "For this quest, you have been provided with some items that will help you..."
   ]
  },
  {
   "cell_type": "markdown",
   "metadata": {
    "slideshow": {
     "slide_type": "subslide"
    }
   },
   "source": [
    "You've been provided with a fixture generator, which generates example runs with many cases. You can use it like this, the argument is the number of days to count for update:\n",
    "```bash\n",
    "    $ python generate_fixture.py 1\n",
    "    -------- day 0 --------\n",
    "    name, sellIn, quality\n",
    "    +5 Dexterity Vest, 10, 20\n",
    "    Aged Brie, 2, 0\n",
    "    Elixir of the Mongoose, 5, 7\n",
    "    Sulfuras, Hand of Ragnaros, 0, 80\n",
    "    Sulfuras, Hand of Ragnaros, -1, 80\n",
    "    Backstage passes to a TAFKAL80ETC concert, 15, 20\n",
    "    Backstage passes to a TAFKAL80ETC concert, 10, 49\n",
    "    Backstage passes to a TAFKAL80ETC concert, 5, 49\n",
    "    Conjured Mana Cake, 3, 6\n",
    "\n",
    "    -------- day 1 --------\n",
    "    name, sellIn, quality\n",
    "    +5 Dexterity Vest, 9, 19\n",
    "    Aged Brie, 1, 1\n",
    "    Elixir of the Mongoose, 4, 6\n",
    "    Sulfuras, Hand of Ragnaros, 0, 80\n",
    "    Sulfuras, Hand of Ragnaros, -1, 80\n",
    "    Backstage passes to a TAFKAL80ETC concert, 14, 21\n",
    "    Backstage passes to a TAFKAL80ETC concert, 9, 50\n",
    "    Backstage passes to a TAFKAL80ETC concert, 4, 50\n",
    "    Conjured Mana Cake, 2, 5\n",
    "```"
   ]
  },
  {
   "cell_type": "markdown",
   "metadata": {
    "slideshow": {
     "slide_type": "subslide"
    }
   },
   "source": [
    "You are strongly recommended to run this command with an appropriate number of days as argument, redirecting the output to a `golden_master.txt` file.\n",
    "That way, while refactoring, you'll be able to check the output of the following command to ensure everything is ok:\n",
    "\n",
    "```bash\n",
    "    $ bash run_tests\n",
    "    ================================================ test session starts ========================================\n",
    "    platform darwin -- Python 3.5.2, pytest-3.0.3, py-1.4.31, pluggy-0.4.0\n",
    "    rootdir: /Users/ifosch/src/github.com/BCNDojos/pyDojos3/gilded-rose, inifile: \n",
    "    collected 7 items \n",
    "\n",
    "    test_gilded_rose.py .\n",
    "    ============================================== 7 passed in 0.05 seconds =====================================\n",
    "```"
   ]
  },
  {
   "cell_type": "markdown",
   "metadata": {},
   "source": [
    "Before going on, you should also fill up the `test_gilded_rose.py` with tests for the all use cases... Be careful, there'll be dragons!"
   ]
  },
  {
   "cell_type": "markdown",
   "metadata": {
    "slideshow": {
     "slide_type": "slide"
    }
   },
   "source": [
    "### Getting down the dungeon\n",
    "Once you get your tests completed and your golden_master ready, you can go ahead and start refactoring the `update_quality` method... Remember running your tests often and good luck!"
   ]
  },
  {
   "cell_type": "markdown",
   "metadata": {
    "slideshow": {
     "slide_type": "slide"
    }
   },
   "source": [
    "### The return to The Gilded Rose Inn\n",
    "\n",
    "Your task now is to add the new feature to our system so that we can begin selling a new category of items.\n",
    "We have recently signed a supplier of conjured items.\n",
    "This requires an update to our system:\n",
    "\n",
    "* “Conjured” items degrade in `quality` twice as fast as normal items\n",
    "\n",
    "Same rules on `Items` class and `items` property apply here."
   ]
  }
 ],
 "metadata": {
  "anaconda-cloud": {},
  "celltoolbar": "Slideshow",
  "kernelspec": {
   "display_name": "Python [conda env:gilded-rose]",
   "language": "python",
   "name": "conda-env-gilded-rose-py"
  },
  "language_info": {
   "codemirror_mode": {
    "name": "ipython",
    "version": 3
   },
   "file_extension": ".py",
   "mimetype": "text/x-python",
   "name": "python",
   "nbconvert_exporter": "python",
   "pygments_lexer": "ipython3",
   "version": "3.5.2"
  }
 },
 "nbformat": 4,
 "nbformat_minor": 1
}
