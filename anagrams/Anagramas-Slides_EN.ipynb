{
 "cells": [
  {
   "cell_type": "markdown",
   "metadata": {
    "slideshow": {
     "slide_type": "slide"
    }
   },
   "source": [
    "# Anagrams"
   ]
  },
  {
   "cell_type": "markdown",
   "metadata": {
    "slideshow": {
     "slide_type": "slide"
    }
   },
   "source": [
    "The preliminar exercise to solve consists in return *ALL* possible anagrams that can be obtained from a given string. For example, using a 2 char long word, for the input:\n",
    "\n",
    "    ab\n",
    "\n",
    "it should return:\n",
    "\n",
    "    ['ba', 'ab']\n"
   ]
  },
  {
   "cell_type": "markdown",
   "metadata": {
    "slideshow": {
     "slide_type": "subslide"
    }
   },
   "source": [
    "##REMEMBER SOME RULES:    \n",
    "  * It's a pair programming exercise.\n",
    "  * Enforce TDD usage to solve the exercise proposed.\n",
    "  * Avoid discussing not tested code.\n",
    "  * Don't hesitate to **ASK** for help and to solve problems arising.\n",
    "  * TO ENJOY DOING IT!!\n",
    "  * Learn something new.\n",
    "  * Try to start with the simpler case and iterate doing small (BABY) steps.\n",
    "  * Keep in mind that requirements and restrictions may evolve during the session."
   ]
  },
  {
   "cell_type": "markdown",
   "metadata": {
    "slideshow": {
     "slide_type": "slide"
    }
   },
   "source": [
    "## Base anagramize function and test"
   ]
  },
  {
   "cell_type": "markdown",
   "metadata": {
    "slideshow": {
     "slide_type": "fragment"
    }
   },
   "source": [
    "In this iteration the `anagramize` function will setup the basic test and code structure without doing actually nothing. For this call:\n",
    "\n",
    "    result = anagramize('')\n",
    "    \n",
    "the return value should be:\n",
    "\n",
    "    ['']"
   ]
  },
  {
   "cell_type": "markdown",
   "metadata": {
    "slideshow": {
     "slide_type": "subslide"
    }
   },
   "source": [
    "### First test"
   ]
  },
  {
   "cell_type": "markdown",
   "metadata": {
    "slideshow": {
     "slide_type": "fragment"
    }
   },
   "source": [
    "In order to bootstrap the TDD process, one of the members of the pair, should write the first test, fill in the required code to satisfy dependencies and syntax errors, and check the test fails:"
   ]
  },
  {
   "cell_type": "code",
   "execution_count": 1,
   "metadata": {
    "collapsed": false,
    "slideshow": {
     "slide_type": "subslide"
    }
   },
   "outputs": [
    {
     "name": "stdout",
     "output_type": "stream",
     "text": [
      "Overwriting anagrams_tests.py\n"
     ]
    }
   ],
   "source": [
    "%%writefile anagrams_tests.py\n",
    "import unittest\n",
    "import anagrams\n",
    "\n",
    "class TestAnagrams(unittest.TestCase):\n",
    "        \n",
    "    def test_anagramize_empty(self):\n",
    "            '''Tests anagrams for empty string'''\n",
    "            self.assertEqual([''], anagrams.anagramize(''))\n",
    "            \n",
    "if __name__ == \"__main__\":\n",
    "    unittest.main()"
   ]
  },
  {
   "cell_type": "code",
   "execution_count": 2,
   "metadata": {
    "collapsed": false,
    "slideshow": {
     "slide_type": "fragment"
    }
   },
   "outputs": [
    {
     "name": "stderr",
     "output_type": "stream",
     "text": [
      ".\n",
      "----------------------------------------------------------------------\n",
      "Ran 1 test in 0.000s\n",
      "\n",
      "OK\n"
     ]
    }
   ],
   "source": [
    "%%bash\n",
    "python anagrams_tests.py"
   ]
  },
  {
   "cell_type": "markdown",
   "metadata": {
    "slideshow": {
     "slide_type": "fragment"
    }
   },
   "source": [
    "This is an error since there's no `anagrams` module, so to fix that, it's required to create the file:"
   ]
  },
  {
   "cell_type": "code",
   "execution_count": 3,
   "metadata": {
    "collapsed": false,
    "slideshow": {
     "slide_type": "fragment"
    }
   },
   "outputs": [
    {
     "name": "stdout",
     "output_type": "stream",
     "text": [
      "Overwriting anagrams.py\n"
     ]
    }
   ],
   "source": [
    "%%writefile anagrams.py\n",
    "# This is the anagrams module for the kata"
   ]
  },
  {
   "cell_type": "code",
   "execution_count": 4,
   "metadata": {
    "collapsed": false,
    "slideshow": {
     "slide_type": "subslide"
    }
   },
   "outputs": [
    {
     "name": "stderr",
     "output_type": "stream",
     "text": [
      "E\n",
      "======================================================================\n",
      "ERROR: test_anagramize_empty (__main__.TestAnagrams)\n",
      "Tests anagrams for empty string\n",
      "----------------------------------------------------------------------\n",
      "Traceback (most recent call last):\n",
      "  File \"anagrams_tests.py\", line 8, in test_anagramize_empty\n",
      "    self.assertEqual([''], anagrams.anagramize(''))\n",
      "AttributeError: 'module' object has no attribute 'anagramize'\n",
      "\n",
      "----------------------------------------------------------------------\n",
      "Ran 1 test in 0.000s\n",
      "\n",
      "FAILED (errors=1)\n"
     ]
    }
   ],
   "source": [
    "%%bash\n",
    "python anagrams_tests.py"
   ]
  },
  {
   "cell_type": "markdown",
   "metadata": {
    "slideshow": {
     "slide_type": "fragment"
    }
   },
   "source": [
    "Now, the `unittest` library gets an error since the `anagrams` module is actually empty. Before giving the keyboard to the partner, this should give only failures, not errors:"
   ]
  },
  {
   "cell_type": "code",
   "execution_count": 5,
   "metadata": {
    "collapsed": false,
    "slideshow": {
     "slide_type": "fragment"
    }
   },
   "outputs": [
    {
     "name": "stdout",
     "output_type": "stream",
     "text": [
      "Overwriting anagrams.py\n"
     ]
    }
   ],
   "source": [
    "%%writefile anagrams.py\n",
    "def anagramize(word):\n",
    "    pass"
   ]
  },
  {
   "cell_type": "code",
   "execution_count": 6,
   "metadata": {
    "collapsed": false,
    "slideshow": {
     "slide_type": "subslide"
    }
   },
   "outputs": [
    {
     "name": "stderr",
     "output_type": "stream",
     "text": [
      "F\n",
      "======================================================================\n",
      "FAIL: test_anagramize_empty (__main__.TestAnagrams)\n",
      "Tests anagrams for empty string\n",
      "----------------------------------------------------------------------\n",
      "Traceback (most recent call last):\n",
      "  File \"anagrams_tests.py\", line 8, in test_anagramize_empty\n",
      "    self.assertEqual([''], anagrams.anagramize(''))\n",
      "AssertionError: [''] != None\n",
      "\n",
      "----------------------------------------------------------------------\n",
      "Ran 1 test in 0.000s\n",
      "\n",
      "FAILED (failures=1)\n"
     ]
    }
   ],
   "source": [
    "%%bash\n",
    "python anagrams_tests.py"
   ]
  },
  {
   "cell_type": "markdown",
   "metadata": {
    "slideshow": {
     "slide_type": "fragment"
    }
   },
   "source": [
    "Now that we have tests in red, the couple in the pair can start fixing the code to have these passed..."
   ]
  },
  {
   "cell_type": "markdown",
   "metadata": {
    "slideshow": {
     "slide_type": "fragment"
    }
   },
   "source": [
    "### Solving first test"
   ]
  },
  {
   "cell_type": "markdown",
   "metadata": {
    "slideshow": {
     "slide_type": "fragment"
    }
   },
   "source": [
    "To do that, the most simple and basic code to satisfy the test must be added to the `anagrams` module, without modifying the tests:"
   ]
  },
  {
   "cell_type": "code",
   "execution_count": 7,
   "metadata": {
    "collapsed": false,
    "slideshow": {
     "slide_type": "fragment"
    }
   },
   "outputs": [
    {
     "name": "stdout",
     "output_type": "stream",
     "text": [
      "Overwriting anagrams.py\n"
     ]
    }
   ],
   "source": [
    "%%writefile anagrams.py\n",
    "def anagramize(word): \n",
    "    return ['']"
   ]
  },
  {
   "cell_type": "code",
   "execution_count": 8,
   "metadata": {
    "collapsed": false,
    "slideshow": {
     "slide_type": "subslide"
    }
   },
   "outputs": [
    {
     "name": "stderr",
     "output_type": "stream",
     "text": [
      ".\n",
      "----------------------------------------------------------------------\n",
      "Ran 1 test in 0.000s\n",
      "\n",
      "OK\n"
     ]
    }
   ],
   "source": [
    "%%bash\n",
    "python anagrams_tests.py"
   ]
  },
  {
   "cell_type": "markdown",
   "metadata": {
    "slideshow": {
     "slide_type": "fragment"
    }
   },
   "source": [
    "This code is just the most simple and basic code to satisfy current test implemented, so the test passes. If the code was more complex and could be refactorized, it would be the time for it, since all tests are green. Although, since it's still too simple, it's time to write another test."
   ]
  },
  {
   "cell_type": "markdown",
   "metadata": {
    "slideshow": {
     "slide_type": "slide"
    }
   },
   "source": [
    "## Anagramize function for 1 character long words"
   ]
  },
  {
   "cell_type": "markdown",
   "metadata": {
    "slideshow": {
     "slide_type": "fragment"
    }
   },
   "source": [
    "During this iteration, support for one character long words must be added. So, for the call:\n",
    "\n",
    "    result = anagramize('a')\n",
    "    \n",
    "the return value should be:\n",
    "\n",
    "    ['a']\n",
    "    \n",
    "Remember that previous test must be satisfied."
   ]
  },
  {
   "cell_type": "code",
   "execution_count": 9,
   "metadata": {
    "collapsed": false,
    "slideshow": {
     "slide_type": "subslide"
    }
   },
   "outputs": [
    {
     "name": "stdout",
     "output_type": "stream",
     "text": [
      "Overwriting anagrams_tests.py\n"
     ]
    }
   ],
   "source": [
    "%%writefile anagrams_tests.py\n",
    "import unittest\n",
    "import anagrams\n",
    "\n",
    "class TestAnagrams(unittest.TestCase):\n",
    "\n",
    "    def test_anagramize_empty(self):\n",
    "        '''Tests anagrams for empty string'''\n",
    "        self.assertEqual([''], anagrams.anagramize(''))\n",
    "\n",
    "    def test_anagramize_1_char(self):\n",
    "        '''Tests anagrams for 1 char length string'''\n",
    "        self.assertEqual(['a'], anagrams.anagramize('a'))\n",
    "            \n",
    "if __name__ == \"__main__\":\n",
    "    unittest.main()"
   ]
  },
  {
   "cell_type": "code",
   "execution_count": 10,
   "metadata": {
    "collapsed": false,
    "slideshow": {
     "slide_type": "fragment"
    }
   },
   "outputs": [
    {
     "name": "stderr",
     "output_type": "stream",
     "text": [
      "F.\n",
      "======================================================================\n",
      "FAIL: test_anagramize_1_char (__main__.TestAnagrams)\n",
      "Tests anagrams for 1 char length string\n",
      "----------------------------------------------------------------------\n",
      "Traceback (most recent call last):\n",
      "  File \"anagrams_tests.py\", line 12, in test_anagramize_1_char\n",
      "    self.assertEqual(['a'], anagrams.anagramize('a'))\n",
      "AssertionError: Lists differ: ['a'] != ['']\n",
      "\n",
      "First differing element 0:\n",
      "a\n",
      "\n",
      "\n",
      "- ['a']\n",
      "?   -\n",
      "\n",
      "+ ['']\n",
      "\n",
      "----------------------------------------------------------------------\n",
      "Ran 2 tests in 0.001s\n",
      "\n",
      "FAILED (failures=1)\n"
     ]
    }
   ],
   "source": [
    "%%bash\n",
    "python anagrams_tests.py"
   ]
  },
  {
   "cell_type": "markdown",
   "metadata": {
    "slideshow": {
     "slide_type": "fragment"
    }
   },
   "source": [
    "The modification to satisfy this new code must not break the other ones:"
   ]
  },
  {
   "cell_type": "code",
   "execution_count": 11,
   "metadata": {
    "collapsed": false,
    "slideshow": {
     "slide_type": "fragment"
    }
   },
   "outputs": [
    {
     "name": "stdout",
     "output_type": "stream",
     "text": [
      "Overwriting anagrams.py\n"
     ]
    }
   ],
   "source": [
    "%%writefile anagrams.py\n",
    "def anagramize(word): \n",
    "    return [word]"
   ]
  },
  {
   "cell_type": "code",
   "execution_count": 12,
   "metadata": {
    "collapsed": false,
    "slideshow": {
     "slide_type": "fragment"
    }
   },
   "outputs": [
    {
     "name": "stderr",
     "output_type": "stream",
     "text": [
      "..\n",
      "----------------------------------------------------------------------\n",
      "Ran 2 tests in 0.000s\n",
      "\n",
      "OK\n"
     ]
    }
   ],
   "source": [
    "%%bash\n",
    "python anagrams_tests.py"
   ]
  },
  {
   "cell_type": "markdown",
   "metadata": {
    "slideshow": {
     "slide_type": "slide"
    }
   },
   "source": [
    "## Anagramize function for up to 3 characters long words"
   ]
  },
  {
   "cell_type": "markdown",
   "metadata": {
    "slideshow": {
     "slide_type": "fragment"
    }
   },
   "source": [
    "The function `anagramize` must satisfy the cases for 2 and 3 character long words, like:\n",
    "\n",
    "    result = anagramize('ab') # result == ['ba', 'ab']\n",
    "    result = anagramize('abc') # result == ['abc', 'cba', 'bac', 'bca', 'acb', 'cab']"
   ]
  },
  {
   "cell_type": "markdown",
   "metadata": {
    "slideshow": {
     "slide_type": "slide"
    }
   },
   "source": [
    "## Anagramize function for up to 9 characters long words"
   ]
  },
  {
   "cell_type": "markdown",
   "metadata": {
    "collapsed": false,
    "slideshow": {
     "slide_type": "fragment"
    }
   },
   "source": [
    "Now the `anagramize` function should be able to support up to 9 characters long words. It's also the time to improve and try to generalize both tests and code, but remember the red-green-refactor loop."
   ]
  },
  {
   "cell_type": "markdown",
   "metadata": {
    "slideshow": {
     "slide_type": "slide"
    }
   },
   "source": [
    "## Repeating safe anagramize function"
   ]
  },
  {
   "cell_type": "markdown",
   "metadata": {
    "slideshow": {
     "slide_type": "fragment"
    }
   },
   "source": [
    "In this iteration, anagramize must be improved by adding repeating anagrams removal, like this:\n",
    "\n",
    "    result = anagramize('abb')\n",
    "    result != ['abb', 'bab', 'bba', 'bab', 'bba', 'bab']\n",
    "    result == ['abb', 'bab', 'bba']"
   ]
  },
  {
   "cell_type": "markdown",
   "metadata": {
    "slideshow": {
     "slide_type": "slide"
    }
   },
   "source": [
    "## Repeated safe dictionary based anagramize function"
   ]
  },
  {
   "cell_type": "markdown",
   "metadata": {
    "slideshow": {
     "slide_type": "fragment"
    }
   },
   "source": [
    "Finally, `anagramize` function should include the ability to check the anagrams generated are actual words. To do that, the `enchant` library will be used, which may be installed with the following command:\n",
    "\n",
    "    pip install pyenchant\n",
    "\n",
    "Then, to use it within the code, for word validation it's as easy as using these three steps:\n",
    "\n",
    "    import enchant\n",
    "    \n",
    "    dictionary = enchant.Dict(\"en_US\")\n",
    "    if dictionary.check(\"code\"):\n",
    "        print(\"Yay! Code exists!\")"
   ]
  },
  {
   "cell_type": "code",
   "execution_count": null,
   "metadata": {
    "collapsed": true,
    "slideshow": {
     "slide_type": "skip"
    }
   },
   "outputs": [],
   "source": []
  }
 ],
 "metadata": {
  "celltoolbar": "Slideshow",
  "kernelspec": {
   "display_name": "Python 3",
   "language": "python",
   "name": "python3"
  },
  "language_info": {
   "codemirror_mode": {
    "name": "ipython",
    "version": 3
   },
   "file_extension": ".py",
   "mimetype": "text/x-python",
   "name": "python",
   "nbconvert_exporter": "python",
   "pygments_lexer": "ipython3",
   "version": "3.4.3"
  }
 },
 "nbformat": 4,
 "nbformat_minor": 0
}
