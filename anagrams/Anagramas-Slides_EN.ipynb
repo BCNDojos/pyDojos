{
 "cells": [
  {
   "cell_type": "markdown",
   "metadata": {
    "slideshow": {
     "slide_type": "slide"
    }
   },
   "source": [
    "# Anagrams"
   ]
  },
  {
   "cell_type": "markdown",
   "metadata": {
    "slideshow": {
     "slide_type": "slide"
    }
   },
   "source": [
    "The preliminar exercise to solve consists in return *ALL* possible anagrams that can be obtained from a given string. For example, using a 2 char long word, for the input:\n",
    "\n",
    "    ab\n",
    "\n",
    "it should return:\n",
    "\n",
    "    ['ba', 'ab']\n"
   ]
  },
  {
   "cell_type": "markdown",
   "metadata": {
    "slideshow": {
     "slide_type": "subslide"
    }
   },
   "source": [
    "##REMEMBER SOME RULES:    \n",
    "  * It's a pair programming exercise.\n",
    "  * Enforce TDD usage to solve the exercise proposed.\n",
    "  * Avoid discussing not tested code.\n",
    "  * Don't hesitate to **ASK** for help and to solve problems arising.\n",
    "  * TO ENJOY DOING IT!!\n",
    "  * Learn something new.\n",
    "  * Try to start with the simpler case and iterate doing small (BABY) steps.\n",
    "  * Keep in mind that requirements and restrictions may evolve during the session."
   ]
  },
  {
   "cell_type": "markdown",
   "metadata": {
    "slideshow": {
     "slide_type": "slide"
    }
   },
   "source": [
    "## Base anagramize function and test"
   ]
  },
  {
   "cell_type": "markdown",
   "metadata": {
    "slideshow": {
     "slide_type": "fragment"
    }
   },
   "source": [
    "In this iteration the `anagramize` function will setup the basic test and code structure without doing actually nothing. For this call:\n",
    "\n",
    "    result = anagramize('')\n",
    "    \n",
    "the return value should be:\n",
    "\n",
    "    ['']"
   ]
  },
  {
   "cell_type": "markdown",
   "metadata": {
    "slideshow": {
     "slide_type": "slide"
    }
   },
   "source": [
    "## Anagramize function for 1 character long words"
   ]
  },
  {
   "cell_type": "markdown",
   "metadata": {
    "slideshow": {
     "slide_type": "fragment"
    }
   },
   "source": [
    "During this iteration, support for one character long words must be added. So, for the call:\n",
    "\n",
    "    result = anagramize('a')\n",
    "    \n",
    "the return value should be:\n",
    "\n",
    "    ['a']\n",
    "    \n",
    "Remember that previous test must be satisfied."
   ]
  },
  {
   "cell_type": "markdown",
   "metadata": {
    "slideshow": {
     "slide_type": "slide"
    }
   },
   "source": [
    "## Anagramize function for up to 3 characters long words"
   ]
  },
  {
   "cell_type": "markdown",
   "metadata": {
    "slideshow": {
     "slide_type": "fragment"
    }
   },
   "source": [
    "The function `anagramize` must satisfy the cases for 2 and 3 character long words, like:\n",
    "\n",
    "    result = anagramize('ab') # result == ['ba', 'ab']\n",
    "    result = anagramize('abc') # result == ['abc', 'cba', 'bac', 'bca', 'acb', 'cab']"
   ]
  },
  {
   "cell_type": "markdown",
   "metadata": {
    "slideshow": {
     "slide_type": "slide"
    }
   },
   "source": [
    "## Anagramize function for up to 9 characters long words"
   ]
  },
  {
   "cell_type": "markdown",
   "metadata": {
    "collapsed": false,
    "slideshow": {
     "slide_type": "fragment"
    }
   },
   "source": [
    "Now the `anagramize` function should be able to support up to 9 characters long words. It's also the time to improve and try to generalize both tests and code, but remember the red-green-refactor loop."
   ]
  },
  {
   "cell_type": "markdown",
   "metadata": {
    "slideshow": {
     "slide_type": "slide"
    }
   },
   "source": [
    "## Repeating safe anagramize function"
   ]
  },
  {
   "cell_type": "markdown",
   "metadata": {
    "slideshow": {
     "slide_type": "fragment"
    }
   },
   "source": [
    "In this iteration, anagramize must be improved by adding repeating anagrams removal, like this:\n",
    "\n",
    "    result = anagramize('abb')\n",
    "    result != ['abb', 'bab', 'bba', 'bab', 'bba', 'bab']\n",
    "    result == ['abb', 'bab', 'bba']"
   ]
  },
  {
   "cell_type": "markdown",
   "metadata": {
    "slideshow": {
     "slide_type": "slide"
    }
   },
   "source": [
    "## Repeated safe dictionary based anagramize function"
   ]
  },
  {
   "cell_type": "markdown",
   "metadata": {
    "slideshow": {
     "slide_type": "fragment"
    }
   },
   "source": [
    "Finally, `anagramize` function should include the ability to check the anagrams generated are actual words. To do that, the `enchant` library will be used, which may be installed with the following command:\n",
    "\n",
    "    pip install pyenchant\n",
    "\n",
    "Then, to use it within the code, for word validation it's as easy as using these three steps:\n",
    "\n",
    "    import enchant\n",
    "    \n",
    "    dictionary = enchant.Dict(\"en_US\")\n",
    "    if dictionary.check(\"code\"):\n",
    "        print(\"Yay! Code exists!\")"
   ]
  },
  {
   "cell_type": "code",
   "execution_count": null,
   "metadata": {
    "collapsed": false,
    "slideshow": {
     "slide_type": "skip"
    }
   },
   "outputs": [],
   "source": []
  }
 ],
 "metadata": {
  "celltoolbar": "Slideshow",
  "kernelspec": {
   "display_name": "Python 3",
   "language": "python",
   "name": "python3"
  },
  "language_info": {
   "codemirror_mode": {
    "name": "ipython",
    "version": 3
   },
   "file_extension": ".py",
   "mimetype": "text/x-python",
   "name": "python",
   "nbconvert_exporter": "python",
   "pygments_lexer": "ipython3",
   "version": "3.4.3"
  }
 },
 "nbformat": 4,
 "nbformat_minor": 0
}
