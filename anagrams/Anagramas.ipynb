{
 "metadata": {
  "celltoolbar": "Slideshow",
  "name": "",
  "signature": "sha256:3d2b3696aaa9985f7bed6510f8f1f33ada8d56398ac6dec7a1768ac0790b3497"
 },
 "nbformat": 3,
 "nbformat_minor": 0,
 "worksheets": [
  {
   "cells": [
    {
     "cell_type": "markdown",
     "metadata": {
      "slideshow": {
       "slide_type": "slide"
      }
     },
     "source": [
      "<center>\n",
      "<h1>CODING DOJO:</h1>  \n",
      "<h1>Anagramas</h1>\n",
      "</center>"
     ]
    },
    {
     "cell_type": "markdown",
     "metadata": {
      "slideshow": {
       "slide_type": "slide"
      }
     },
     "source": [
      "El problema consiste en dada una cadena de caracteres, por ejemplo **'abc'** debemos obtener todos sus posibles anagramas.\n",
      "\n",
      "**INPUT: 'abc'**  \n",
      "**OPTPUT: ['abc', 'acb', 'bac', 'bca', 'cab', 'cba']**\n",
      "\n",
      "Antes de poneros manos a la obra recordad en pensar el caso mas sencillo (BABY STEPS) y pensad bien los test. Si los pens\u00e1is bien seguramente casi no los tendr\u00e9is que modificar (o muy poco) en toda la sesi\u00f3n. \n",
      "\n",
      "###Los requisitos/restricciones pueden ir variando a lo largo de la sesi\u00f3n."
     ]
    },
    {
     "cell_type": "markdown",
     "metadata": {
      "slideshow": {
       "slide_type": "slide"
      }
     },
     "source": [
      "##Veamos vuestros primeros \"BABY STEPS\":"
     ]
    },
    {
     "cell_type": "code",
     "collapsed": false,
     "input": [
      "def anagramize(word): \n",
      "    return"
     ],
     "language": "python",
     "metadata": {
      "slideshow": {
       "slide_type": "fragment"
      }
     },
     "outputs": [],
     "prompt_number": 1
    },
    {
     "cell_type": "markdown",
     "metadata": {
      "slideshow": {
       "slide_type": "fragment"
      }
     },
     "source": [
      "###A partir de nuestra funci\u00f3n inicial pensemos en el test m\u00e1s b\u00e1sico que deberia pasar?"
     ]
    },
    {
     "cell_type": "code",
     "collapsed": false,
     "input": [
      "import unittest\n",
      "from unittest import TestCase\n",
      "\n",
      "class TestAnagrams(unittest.TestCase):\n",
      "    def test_anagramize_empty(self):\n",
      "            '''Tests anagrams for empty string'''\n",
      "            self.assertEqual([''], anagramize(''))"
     ],
     "language": "python",
     "metadata": {
      "slideshow": {
       "slide_type": "subslide"
      }
     },
     "outputs": [],
     "prompt_number": 2
    },
    {
     "cell_type": "code",
     "collapsed": false,
     "input": [
      "def suite():\n",
      "    \n",
      "    testcases = [TestAnagrams]\n",
      "    \n",
      "    suites = unittest.TestSuite([unittest.TestLoader().loadTestsFromTestCase(testcase) for testcase in testcases])\n",
      "    return suites  "
     ],
     "language": "python",
     "metadata": {
      "slideshow": {
       "slide_type": "skip"
      }
     },
     "outputs": [],
     "prompt_number": 3
    },
    {
     "cell_type": "code",
     "collapsed": false,
     "input": [
      "# use the TextTestRunner to run suite\n",
      "testresults = unittest.TextTestRunner().run(suite()) "
     ],
     "language": "python",
     "metadata": {
      "slideshow": {
       "slide_type": "fragment"
      }
     },
     "outputs": [
      {
       "output_type": "stream",
       "stream": "stderr",
       "text": [
        "F"
       ]
      },
      {
       "output_type": "stream",
       "stream": "stderr",
       "text": [
        "\n",
        "======================================================================\n",
        "FAIL: test_anagramize_empty (__main__.TestAnagrams)\n",
        "Tests anagrams for empty string\n",
        "----------------------------------------------------------------------\n",
        "Traceback (most recent call last):\n",
        "  File \"<ipython-input-2-aefd05d33131>\", line 7, in test_anagramize_empty\n",
        "    self.assertEqual([''], anagramize(''))\n",
        "AssertionError: [''] != None\n",
        "\n",
        "----------------------------------------------------------------------\n",
        "Ran 1 test in 0.001s\n",
        "\n",
        "FAILED (failures=1)\n"
       ]
      }
     ],
     "prompt_number": 4
    },
    {
     "cell_type": "markdown",
     "metadata": {
      "slideshow": {
       "slide_type": "fragment"
      }
     },
     "source": [
      "##Todo empieza aqu\u00ed, con un test ROTO (sem\u00e1foro ROJO)"
     ]
    },
    {
     "cell_type": "markdown",
     "metadata": {
      "slideshow": {
       "slide_type": "slide"
      }
     },
     "source": [
      "##Cu\u00e1l ser\u00e1 el pr\u00f3ximo paso?"
     ]
    },
    {
     "cell_type": "code",
     "collapsed": false,
     "input": [
      "def anagramize(word): \n",
      "    return ['']"
     ],
     "language": "python",
     "metadata": {
      "slideshow": {
       "slide_type": "fragment"
      }
     },
     "outputs": [],
     "prompt_number": 5
    },
    {
     "cell_type": "markdown",
     "metadata": {
      "slideshow": {
       "slide_type": "fragment"
      }
     },
     "source": [
      "##Volvemos a correr el test anterior"
     ]
    },
    {
     "cell_type": "code",
     "collapsed": false,
     "input": [
      "testresults = unittest.TextTestRunner().run(suite()) "
     ],
     "language": "python",
     "metadata": {
      "slideshow": {
       "slide_type": "fragment"
      }
     },
     "outputs": [
      {
       "output_type": "stream",
       "stream": "stderr",
       "text": [
        "."
       ]
      },
      {
       "output_type": "stream",
       "stream": "stderr",
       "text": [
        "\n",
        "----------------------------------------------------------------------\n",
        "Ran 1 test in 0.001s\n",
        "\n",
        "OK\n"
       ]
      }
     ],
     "prompt_number": 6
    },
    {
     "cell_type": "markdown",
     "metadata": {
      "slideshow": {
       "slide_type": "fragment"
      }
     },
     "source": [
      "##Perfecto! Ya estamos en sem\u00e1foro VERDE!"
     ]
    },
    {
     "cell_type": "markdown",
     "metadata": {
      "slideshow": {
       "slide_type": "slide"
      }
     },
     "source": [
      "#Cu\u00e1l cre\u00e9is que es el pr\u00f3ximo paso l\u00f3gico?"
     ]
    },
    {
     "cell_type": "markdown",
     "metadata": {
      "slideshow": {
       "slide_type": "fragment"
      }
     },
     "source": [
      "##A\u00f1adir un nuevo test que rompa la soluci\u00f3n actual"
     ]
    },
    {
     "cell_type": "code",
     "collapsed": false,
     "input": [
      "class TestAnagrams(unittest.TestCase):\n",
      "    def test_anagramize_empty(self):\n",
      "            '''Tests anagrams for empty string'''\n",
      "            self.assertEqual([''], anagramize(''))\n",
      "\n",
      "    def test_anagramize_1_char(self):\n",
      "            '''Tests anagrams for 1 char length string'''\n",
      "            self.assertEqual(['a'], anagramize('a'))"
     ],
     "language": "python",
     "metadata": {
      "slideshow": {
       "slide_type": "fragment"
      }
     },
     "outputs": [],
     "prompt_number": 7
    },
    {
     "cell_type": "markdown",
     "metadata": {
      "slideshow": {
       "slide_type": "slide"
      }
     },
     "source": [
      "##Volvemos a correr el test"
     ]
    },
    {
     "cell_type": "code",
     "collapsed": false,
     "input": [
      "testresults = unittest.TextTestRunner().run(suite())"
     ],
     "language": "python",
     "metadata": {
      "slideshow": {
       "slide_type": "fragment"
      }
     },
     "outputs": [
      {
       "output_type": "stream",
       "stream": "stderr",
       "text": [
        "F"
       ]
      },
      {
       "output_type": "stream",
       "stream": "stderr",
       "text": [
        "."
       ]
      },
      {
       "output_type": "stream",
       "stream": "stderr",
       "text": [
        "\n",
        "======================================================================\n",
        "FAIL: test_anagramize_1_char (__main__.TestAnagrams)\n",
        "Tests anagrams for 1 char length string\n",
        "----------------------------------------------------------------------\n",
        "Traceback (most recent call last):\n",
        "  File \"<ipython-input-7-a1daf5b94cbb>\", line 8, in test_anagramize_1_char\n",
        "    self.assertEqual(['a'], anagramize('a'))\n",
        "AssertionError: Lists differ: ['a'] != ['']\n",
        "\n",
        "First differing element 0:\n",
        "a\n",
        "\n",
        "\n",
        "- ['a']\n",
        "?   -\n",
        "\n",
        "+ ['']\n",
        "\n",
        "----------------------------------------------------------------------\n",
        "Ran 2 tests in 0.001s\n",
        "\n",
        "FAILED (failures=1)\n"
       ]
      }
     ],
     "prompt_number": 8
    },
    {
     "cell_type": "markdown",
     "metadata": {
      "slideshow": {
       "slide_type": "slide"
      }
     },
     "source": [
      "<center>\n",
      "<h1>Ahora os toca a vosotros</h1>\n",
      "</center>\n",
      "<h4>Deb\u00e9is arreglar el c\u00f3digo para pasar el test</h4>\n",
      "<h4>Realizad los pasos para que nuestra funci\u00f3n retorne correctamente el anagrama para palabras de longitud = 1 (con los test correspondientes)</h4>"
     ]
    },
    {
     "cell_type": "code",
     "collapsed": false,
     "input": [
      "def anagramize(word): \n",
      "    return [word]"
     ],
     "language": "python",
     "metadata": {
      "slideshow": {
       "slide_type": "skip"
      }
     },
     "outputs": [],
     "prompt_number": 9
    },
    {
     "cell_type": "markdown",
     "metadata": {
      "slideshow": {
       "slide_type": "slide"
      }
     },
     "source": [
      "<center>\n",
      "<h1>RETROSPECTIVA HASTA AQU\u00cd</h1>\n",
      "</center>"
     ]
    },
    {
     "cell_type": "markdown",
     "metadata": {
      "slideshow": {
       "slide_type": "slide"
      }
     },
     "source": [
      "##Vamos un paso m\u00e1s all\u00e1, un test para 2 car\u00e1cteres."
     ]
    },
    {
     "cell_type": "code",
     "collapsed": false,
     "input": [
      "class TestAnagrams(unittest.TestCase):\n",
      "    def test_anagramize_empty(self):\n",
      "            '''Tests anagrams for empty string'''\n",
      "            self.assertEqual([''], anagramize(''))\n",
      "\n",
      "    def test_anagramize_1_char(self):\n",
      "            '''Tests anagrams for 1 char length string'''\n",
      "            self.assertEqual(['a'], anagramize('a'))\n",
      "\n",
      "\n",
      "    def test_anagramize_2_chars(self):\n",
      "            '''Tests anagrams for 2 char lenght string'''\n",
      "            self.assertEqual(['ab', 'ba'], anagramize('ab'))"
     ],
     "language": "python",
     "metadata": {
      "slideshow": {
       "slide_type": "fragment"
      }
     },
     "outputs": [],
     "prompt_number": 10
    },
    {
     "cell_type": "code",
     "collapsed": false,
     "input": [
      "testresults = unittest.TextTestRunner().run(suite())"
     ],
     "language": "python",
     "metadata": {
      "slideshow": {
       "slide_type": "subslide"
      }
     },
     "outputs": [
      {
       "output_type": "stream",
       "stream": "stderr",
       "text": [
        "."
       ]
      },
      {
       "output_type": "stream",
       "stream": "stderr",
       "text": [
        "F"
       ]
      },
      {
       "output_type": "stream",
       "stream": "stderr",
       "text": [
        "."
       ]
      },
      {
       "output_type": "stream",
       "stream": "stderr",
       "text": [
        "\n",
        "======================================================================\n",
        "FAIL: test_anagramize_2_chars (__main__.TestAnagrams)\n",
        "Tests anagrams for 2 char lenght string\n",
        "----------------------------------------------------------------------\n",
        "Traceback (most recent call last):\n",
        "  File \"<ipython-input-10-45bfbc31c79a>\", line 13, in test_anagramize_2_chars\n",
        "    self.assertEqual(['ab', 'ba'], anagramize('ab'))\n",
        "AssertionError: Lists differ: ['ab', 'ba'] != ['ab']\n",
        "\n",
        "First list contains 1 additional elements.\n",
        "First extra element 1:\n",
        "ba\n",
        "\n",
        "- ['ab', 'ba']\n",
        "+ ['ab']\n",
        "\n",
        "----------------------------------------------------------------------\n",
        "Ran 3 tests in 0.005s\n",
        "\n",
        "FAILED (failures=1)\n"
       ]
      }
     ],
     "prompt_number": 11
    },
    {
     "cell_type": "markdown",
     "metadata": {
      "slideshow": {
       "slide_type": "slide"
      }
     },
     "source": [
      "<center>\n",
      "<h1>Ahora os toca a vosotros</h1>\n",
      "</center>\n",
      "\n",
      "<h3>Deb\u00e9is arreglar el c\u00f3digo para pasar el test</h3>\n",
      "<h3>Cre\u00e9is que se puede mejorar el test?</h3>"
     ]
    },
    {
     "cell_type": "markdown",
     "metadata": {
      "slideshow": {
       "slide_type": "slide"
      }
     },
     "source": [
      "<center>\n",
      "<h1>RETROSPECTIVA HASTA AQU\u00cd</h1>\n",
      "</center>"
     ]
    },
    {
     "cell_type": "markdown",
     "metadata": {
      "slideshow": {
       "slide_type": "slide"
      }
     },
     "source": [
      "<center>\n",
      "<h2>C\u00f3mo deber\u00edamos seguir para obtener el anagrama</h2>\n",
      "<h2>de una palabra de 3 car\u00e1cteres?</h2>\n",
      "</center>"
     ]
    },
    {
     "cell_type": "markdown",
     "metadata": {
      "slideshow": {
       "slide_type": "fragment"
      }
     },
     "source": [
      "<center>\n",
      "<h3>Ejem, pero sin utilizar librerias extras</h3>\n",
      "</center>"
     ]
    },
    {
     "cell_type": "markdown",
     "metadata": {
      "slideshow": {
       "slide_type": "slide"
      }
     },
     "source": [
      "<center>\n",
      "<h1>RETROSPECTIVA HASTA AQU\u00cd</h1>\n",
      "<h3>Veamos una posible soluci\u00f3n</h3>\n",
      "</center>"
     ]
    },
    {
     "cell_type": "markdown",
     "metadata": {
      "slideshow": {
       "slide_type": "subslide"
      }
     },
     "source": [
      "##Veamos una posible solucion al problema:"
     ]
    },
    {
     "cell_type": "markdown",
     "metadata": {
      "slideshow": {
       "slide_type": "fragment"
      }
     },
     "source": [
      "La podemos llamar soluci\u00f3n a \"Pico y Pala\" "
     ]
    },
    {
     "cell_type": "code",
     "collapsed": false,
     "input": [
      "def anagramize(word): \n",
      "    if len(word) < 2: \n",
      "        return [word] \n",
      "    \n",
      "    elif len(word) < 3: \n",
      "        return [word, word[::-1]] \n",
      "    \n",
      "    else: \n",
      "        return [ word, \n",
      "                word[0] + word[2] + word[1], \n",
      "                word[1] + word[0] + word[2], \n",
      "                word[1] + word[2] + word[0], \n",
      "                word[2] + word[0] + word[1], \n",
      "                word[::-1]]"
     ],
     "language": "python",
     "metadata": {
      "slideshow": {
       "slide_type": "fragment"
      }
     },
     "outputs": [],
     "prompt_number": 12
    },
    {
     "cell_type": "code",
     "collapsed": false,
     "input": [
      "class TestAnagrams(unittest.TestCase):\n",
      "    \n",
      "    #tests anteriores\n",
      "    \n",
      "    def test_anagramize_3_chars(self):\n",
      "        self.assertEqual(6,len(anagramize('abc'))) #hay 6 soluciones y son diferentes\n",
      "        for word in anagramize('abc'):\n",
      "            self.assertEqual(3,len(word))\n",
      "            for char in set('abc'):\n",
      "                self.assertIn(char,word)"
     ],
     "language": "python",
     "metadata": {
      "slideshow": {
       "slide_type": "subslide"
      }
     },
     "outputs": [],
     "prompt_number": 13
    },
    {
     "cell_type": "code",
     "collapsed": false,
     "input": [
      "testresults = unittest.TextTestRunner().run(suite())"
     ],
     "language": "python",
     "metadata": {
      "slideshow": {
       "slide_type": "fragment"
      }
     },
     "outputs": [
      {
       "output_type": "stream",
       "stream": "stderr",
       "text": [
        "."
       ]
      },
      {
       "output_type": "stream",
       "stream": "stderr",
       "text": [
        "\n",
        "----------------------------------------------------------------------\n",
        "Ran 1 test in 0.001s\n",
        "\n",
        "OK\n"
       ]
      }
     ],
     "prompt_number": 14
    },
    {
     "cell_type": "markdown",
     "metadata": {
      "slideshow": {
       "slide_type": "fragment"
      }
     },
     "source": [
      "####NO ES UNA SOLUCION ELEGANTE PERO FUNCIONA Y PASA LOS TEST!!"
     ]
    },
    {
     "cell_type": "markdown",
     "metadata": {
      "slideshow": {
       "slide_type": "slide"
      }
     },
     "source": [
      "<center>\n",
      "<h1>Ahora os toca a vosotros</h1>\n",
      "\n",
      "<h3>Os atrev\u00e9is a llegar a la soluci\u00f3n para cadenas de hasta longitud = 9?</h3>\n",
      "<h3>Con los pasos que cre\u00e1is necesarios</h3>\n",
      "</center>"
     ]
    },
    {
     "cell_type": "markdown",
     "metadata": {
      "slideshow": {
       "slide_type": "slide"
      }
     },
     "source": [
      "<center>\n",
      "<h1>RETROSPECTIVA HASTA AQU\u00cd</h1>\n",
      "<h3>Veamos algunas posibles soluciones</h3>\n",
      "</center>"
     ]
    },
    {
     "cell_type": "markdown",
     "metadata": {
      "slideshow": {
       "slide_type": "subslide"
      }
     },
     "source": [
      "<center>\n",
      "<h1>Veamos soluciones </h1>\n",
      "<h1>MUY ELEGANTES</h1>\n",
      "</center>"
     ]
    },
    {
     "cell_type": "markdown",
     "metadata": {
      "slideshow": {
       "slide_type": "subslide"
      }
     },
     "source": [
      "###Soluci\u00f3n ulizando funciones recursivas"
     ]
    },
    {
     "cell_type": "code",
     "collapsed": false,
     "input": [
      "def anagramize(word):\n",
      "    anagrams = []\n",
      "    \n",
      "    if len(word) < 2:\n",
      "        anagrams = [word]\n",
      "        \n",
      "    else:\n",
      "        for i,char in enumerate(word):\n",
      "            for perm in anagramize(word[:i]+word[i+1:]):\n",
      "                anagrams += [char + perm]\n",
      "                \n",
      "    return anagrams"
     ],
     "language": "python",
     "metadata": {
      "slideshow": {
       "slide_type": "fragment"
      }
     },
     "outputs": [],
     "prompt_number": 15
    },
    {
     "cell_type": "code",
     "collapsed": false,
     "input": [
      "anagramize('abc')"
     ],
     "language": "python",
     "metadata": {
      "slideshow": {
       "slide_type": "fragment"
      }
     },
     "outputs": [
      {
       "metadata": {},
       "output_type": "pyout",
       "prompt_number": 16,
       "text": [
        "['abc', 'acb', 'bac', 'bca', 'cab', 'cba']"
       ]
      }
     ],
     "prompt_number": 16
    },
    {
     "cell_type": "markdown",
     "metadata": {
      "slideshow": {
       "slide_type": "subslide"
      }
     },
     "source": [
      "###Soluci\u00f3n ulizando generadores"
     ]
    },
    {
     "cell_type": "code",
     "collapsed": false,
     "input": [
      "def anagramize(word):\n",
      "    \n",
      "    if len(word) < 2:\n",
      "        yield word\n",
      "        \n",
      "    else:\n",
      "        for perm in anagramize(word[1:]):\n",
      "            for i in range(len(word)):\n",
      "                yield perm[:i] + word[0:1] + perm[i:]"
     ],
     "language": "python",
     "metadata": {
      "slideshow": {
       "slide_type": "fragment"
      }
     },
     "outputs": [],
     "prompt_number": 17
    },
    {
     "cell_type": "code",
     "collapsed": false,
     "input": [
      "print [i for i in anagramize('abc')]"
     ],
     "language": "python",
     "metadata": {
      "slideshow": {
       "slide_type": "fragment"
      }
     },
     "outputs": [
      {
       "output_type": "stream",
       "stream": "stdout",
       "text": [
        "['abc', 'bac', 'bca', 'acb', 'cab', 'cba']\n"
       ]
      }
     ],
     "prompt_number": 18
    },
    {
     "cell_type": "code",
     "collapsed": false,
     "input": [
      "list(anagramize('abc'))"
     ],
     "language": "python",
     "metadata": {
      "slideshow": {
       "slide_type": "fragment"
      }
     },
     "outputs": [
      {
       "metadata": {},
       "output_type": "pyout",
       "prompt_number": 19,
       "text": [
        "['abc', 'bac', 'bca', 'acb', 'cab', 'cba']"
       ]
      }
     ],
     "prompt_number": 19
    },
    {
     "cell_type": "code",
     "collapsed": false,
     "input": [
      "f=anagramize('abc')\n",
      "f.next()"
     ],
     "language": "python",
     "metadata": {
      "slideshow": {
       "slide_type": "fragment"
      }
     },
     "outputs": [
      {
       "metadata": {},
       "output_type": "pyout",
       "prompt_number": 20,
       "text": [
        "'abc'"
       ]
      }
     ],
     "prompt_number": 20
    },
    {
     "cell_type": "code",
     "collapsed": false,
     "input": [
      "f.next()"
     ],
     "language": "python",
     "metadata": {
      "slideshow": {
       "slide_type": "fragment"
      }
     },
     "outputs": [
      {
       "metadata": {},
       "output_type": "pyout",
       "prompt_number": 21,
       "text": [
        "'bac'"
       ]
      }
     ],
     "prompt_number": 21
    },
    {
     "cell_type": "markdown",
     "metadata": {
      "slideshow": {
       "slide_type": "subslide"
      }
     },
     "source": [
      "##Veamos un posible SUPER test:"
     ]
    },
    {
     "cell_type": "code",
     "collapsed": false,
     "input": [
      "from math import factorial\n",
      "from string import ascii_lowercase\n",
      "from random import sample\n",
      "\n",
      "class TestAnagrams(unittest.TestCase):\n",
      "    #tests anteriores\n",
      "    \n",
      "    def test_anagramize_variable_length(self):\n",
      "        '''Tests anagrams for empty string'''\n",
      "        alphabet = ascii_lowercase\n",
      "        for length in range(3, 10):\n",
      "            word = ''.join(sample(alphabet, length))\n",
      "            anagrams = anagramize(word)\n",
      "            anagrams_no = factorial(length)\n",
      "            self.assertEqual(anagrams_no, len(set(anagrams)))\n",
      "            for anagram in anagrams:\n",
      "                self.assertEqual(length, len(anagram))\n",
      "                for char in set(word):\n",
      "                    self.assertIn(char, anagram)"
     ],
     "language": "python",
     "metadata": {
      "slideshow": {
       "slide_type": "fragment"
      }
     },
     "outputs": [],
     "prompt_number": 22
    },
    {
     "cell_type": "code",
     "collapsed": false,
     "input": [
      "testresults = unittest.TextTestRunner().run(suite())"
     ],
     "language": "python",
     "metadata": {
      "slideshow": {
       "slide_type": "fragment"
      }
     },
     "outputs": [
      {
       "output_type": "stream",
       "stream": "stderr",
       "text": [
        "."
       ]
      },
      {
       "output_type": "stream",
       "stream": "stderr",
       "text": [
        "\n",
        "----------------------------------------------------------------------\n",
        "Ran 1 test in 0.347s\n",
        "\n",
        "OK\n"
       ]
      }
     ],
     "prompt_number": 23
    },
    {
     "cell_type": "markdown",
     "metadata": {
      "slideshow": {
       "slide_type": "slide"
      }
     },
     "source": [
      "<center>\n",
      "<h2>C\u00f3mo resoldria yo el problema?</h2>\n",
      "<h3>Seguramente utilizando librerias extras (intertools)</h3>\n",
      "</center>"
     ]
    },
    {
     "cell_type": "code",
     "collapsed": false,
     "input": [
      "import itertools\n",
      "\n",
      "def anagramize(word):\n",
      "    return [''.join(i) for i in itertools.permutations(word, len(word))]   "
     ],
     "language": "python",
     "metadata": {
      "slideshow": {
       "slide_type": "fragment"
      }
     },
     "outputs": [],
     "prompt_number": 24
    },
    {
     "cell_type": "code",
     "collapsed": false,
     "input": [
      "anagramize('abc')"
     ],
     "language": "python",
     "metadata": {
      "slideshow": {
       "slide_type": "fragment"
      }
     },
     "outputs": [
      {
       "metadata": {},
       "output_type": "pyout",
       "prompt_number": 25,
       "text": [
        "['abc', 'acb', 'bac', 'bca', 'cab', 'cba']"
       ]
      }
     ],
     "prompt_number": 25
    },
    {
     "cell_type": "markdown",
     "metadata": {
      "slideshow": {
       "slide_type": "slide"
      }
     },
     "source": [
      "#Finalmente...   \n",
      "###Debemos resolver el problema sin que aparezcan anagramas repetidos\n",
      "\n",
      "Veamos un ejemplo:\n",
      "\n",
      "**INPUT: 'abb'**  \n",
      "**OUTPUT: ['abb', 'bab', 'bba']**"
     ]
    },
    {
     "cell_type": "markdown",
     "metadata": {
      "slideshow": {
       "slide_type": "slide"
      }
     },
     "source": [
      "<center>\n",
      "<h1>RETROSPECTIVA HASTA AQU\u00cd</h1>\n",
      "<h3>Veamos una posible solucion</h3>\n",
      "</center>"
     ]
    },
    {
     "cell_type": "code",
     "collapsed": false,
     "input": [
      "def anagramize_pro(characters): \n",
      "    anagrams = anagramize(characters)\n",
      "    print list(set(anagrams))"
     ],
     "language": "python",
     "metadata": {
      "slideshow": {
       "slide_type": "subslide"
      }
     },
     "outputs": [],
     "prompt_number": 26
    },
    {
     "cell_type": "code",
     "collapsed": false,
     "input": [
      "anagramize_pro('abb')"
     ],
     "language": "python",
     "metadata": {
      "slideshow": {
       "slide_type": "skip"
      }
     },
     "outputs": [
      {
       "output_type": "stream",
       "stream": "stdout",
       "text": [
        "['abb', 'bab', 'bba']\n"
       ]
      }
     ],
     "prompt_number": 27
    },
    {
     "cell_type": "markdown",
     "metadata": {
      "slideshow": {
       "slide_type": "slide"
      }
     },
     "source": [
      "#Para pensar...\n",
      "###C\u00f3mo podr\u00edamos devolver los anagramas correspondientes a palabras v\u00e1lidas en un idioma?"
     ]
    },
    {
     "cell_type": "code",
     "collapsed": false,
     "input": [
      "!ipython nbconvert --to slides Anagramas.ipynb --post serve"
     ],
     "language": "python",
     "metadata": {
      "slideshow": {
       "slide_type": "skip"
      }
     },
     "outputs": [
      {
       "output_type": "stream",
       "stream": "stdout",
       "text": [
        "[NbConvertApp] Using existing profile dir: u'/home/nuria/.ipython/profile_default'\r\n"
       ]
      },
      {
       "output_type": "stream",
       "stream": "stdout",
       "text": [
        "[NbConvertApp] Converting notebook Anagramas.ipynb to slides\r\n",
        "[NbConvertApp] Support files will be in Anagramas_files/\r\n"
       ]
      },
      {
       "output_type": "stream",
       "stream": "stdout",
       "text": [
        "[NbConvertApp] Loaded template slides_reveal.tpl\r\n"
       ]
      },
      {
       "output_type": "stream",
       "stream": "stdout",
       "text": [
        "/usr/local/lib/python2.7/dist-packages/IPython/nbconvert/filters/markdown.py:78: UserWarning: Node.js 0.9.12 or later wasn't found.\r\n",
        "Nbconvert will try to use Pandoc instead.\r\n",
        "  \"Nbconvert will try to use Pandoc instead.\")\r\n"
       ]
      },
      {
       "output_type": "stream",
       "stream": "stdout",
       "text": [
        "/usr/local/lib/python2.7/dist-packages/IPython/nbconvert/utils/pandoc.py:63: RuntimeWarning: You are using an old version of pandoc (1.9.1)\r\n",
        "Recommended version is 1.12.1.\r\n",
        "Try updating.http://johnmacfarlane.net/pandoc/installing.html.\r\n",
        "Continuing with doubts...\r\n",
        "  check_pandoc_version()\r\n"
       ]
      },
      {
       "output_type": "stream",
       "stream": "stdout",
       "text": [
        "[NbConvertApp] Writing 238869 bytes to Anagramas.slides.html\r\n",
        "[NbConvertApp] Redirecting reveal.js requests to https://cdn.jsdelivr.net/reveal.js/2.5.0\r\n"
       ]
      },
      {
       "output_type": "stream",
       "stream": "stdout",
       "text": [
        "Serving your slides at http://127.0.0.1:8000/Anagramas.slides.html\r\n",
        "Use Control-C to stop this server\r\n"
       ]
      },
      {
       "output_type": "stream",
       "stream": "stdout",
       "text": [
        "WARNING:tornado.access:404 GET /custom.css (127.0.0.1) 0.82ms\r\n"
       ]
      },
      {
       "output_type": "stream",
       "stream": "stdout",
       "text": [
        "WARNING:tornado.access:404 GET /custom.css (127.0.0.1) 0.75ms\r\n"
       ]
      },
      {
       "output_type": "stream",
       "stream": "stdout",
       "text": [
        "WARNING:tornado.access:404 GET /favicon.ico (127.0.0.1) 0.68ms\r\n",
        "WARNING:tornado.access:404 GET /favicon.ico (127.0.0.1) 0.72ms\r\n"
       ]
      },
      {
       "output_type": "stream",
       "stream": "stdout",
       "text": [
        "^C\r\n",
        "Interrupted\r\n",
        "\r\n"
       ]
      }
     ],
     "prompt_number": 53
    },
    {
     "cell_type": "code",
     "collapsed": false,
     "input": [],
     "language": "python",
     "metadata": {
      "slideshow": {
       "slide_type": "skip"
      }
     },
     "outputs": []
    }
   ],
   "metadata": {}
  }
 ]
}