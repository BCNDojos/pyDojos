{
 "cells": [
  {
   "cell_type": "markdown",
   "metadata": {
    "slideshow": {
     "slide_type": "slide"
    }
   },
   "source": [
    "# Intro to `pytest` and TDD on anagrams kata\n",
    "\n",
    "## - Go to github.com/BCNDojos/pyDojos/Anagrams\n",
    "## - Click on `Anagrams-with-pytest.ipynb`"
   ]
  },
  {
   "cell_type": "code",
   "execution_count": 1,
   "metadata": {
    "collapsed": true,
    "slideshow": {
     "slide_type": "skip"
    }
   },
   "outputs": [],
   "source": [
    "%load_ext ipython_pytest"
   ]
  },
  {
   "cell_type": "markdown",
   "metadata": {
    "slideshow": {
     "slide_type": "subslide"
    }
   },
   "source": [
    "## About py.test\n",
    "\n",
    "#### - Created by [Holger Krekel](https://twitter.com/hpk42)\n",
    "#### - Very pythonic, based in Python's `assert`\n",
    "#### - Integrates with other testing libraries in Python, like nosetest, unittest, ...\n",
    "#### - Include many features, like mocking, test detection, fixtures, parametrization, ...\n",
    "#### - See [pytest.org](pytest.org)\n"
   ]
  },
  {
   "cell_type": "markdown",
   "metadata": {
    "slideshow": {
     "slide_type": "subslide"
    }
   },
   "source": [
    "## Test detection\n",
    "\n",
    "#### - files are called test_*.py\n",
    "#### - functions are called test_*\n",
    "#### - classes are called Test*, running methods called test_*"
   ]
  },
  {
   "cell_type": "markdown",
   "metadata": {
    "slideshow": {
     "slide_type": "slide"
    }
   },
   "source": [
    "## Anagrams kata\n",
    "\n",
    "The preliminar exercise to solve consists in return ALL possible anagrams that can be obtained from a given string. For example, using a 2 characters word, for the input:\n",
    "```\n",
    "ab\n",
    "```\n",
    "it should return:\n",
    "```\n",
    "['ba', 'ab']\n",
    "```"
   ]
  },
  {
   "cell_type": "markdown",
   "metadata": {
    "slideshow": {
     "slide_type": "slide"
    }
   },
   "source": [
    "## First iteration: Empty word\n",
    "\n",
    "#### Remember [Baby Steps](http://slides.com/ignasifoschalonso/coding-dojo-intro#/1/6) from the TDD/Dojo slides?\n",
    "#### Let's solve the case for an empty word (`''`)\n",
    "#### The call `anagrams('')` must return `[]`"
   ]
  },
  {
   "cell_type": "markdown",
   "metadata": {
    "slideshow": {
     "slide_type": "subslide"
    }
   },
   "source": [
    "## First iteration: Syntax errors\n",
    "\n",
    "#### - Create `test_anagrams.py`\n",
    "```python\n",
    "def test_anagrams():\n",
    "    assert anagrams('') == []\n",
    "```\n",
    "#### - Run `py.test`\n",
    "```bash\n",
    "py.test\n",
    "```"
   ]
  },
  {
   "cell_type": "markdown",
   "metadata": {
    "slideshow": {
     "slide_type": "subslide"
    }
   },
   "source": [
    "## What happened????"
   ]
  },
  {
   "cell_type": "code",
   "execution_count": 2,
   "metadata": {
    "collapsed": false,
    "slideshow": {
     "slide_type": "subslide"
    }
   },
   "outputs": [
    {
     "name": "stdout",
     "output_type": "stream",
     "text": [
      "====================================================== test session starts =======================================================\n",
      "platform darwin -- Python 3.5.2, pytest-3.0.5, py-1.4.32, pluggy-0.4.0\n",
      "rootdir: /private/var/folders/d4/ql2mwrt96qncsk5bdtgr6nsh0000gn/T/tmp1axprymc, inifile: \n",
      "collected 1 items\n",
      "\n",
      "_ipytesttmp.py F\n",
      "\n",
      "============================================================ FAILURES ============================================================\n",
      "_________________________________________________________ test_anagrams __________________________________________________________\n",
      "\n",
      "    def test_anagrams():\n",
      ">       assert anagrams('') == []\n",
      "E       NameError: name 'anagrams' is not defined\n",
      "\n",
      "_ipytesttmp.py:2: NameError\n",
      "==================================================== 1 failed in 0.07 seconds ====================================================\n"
     ]
    }
   ],
   "source": [
    "%%pytest\n",
    "def test_anagrams():\n",
    "    assert anagrams('') == []"
   ]
  },
  {
   "cell_type": "markdown",
   "metadata": {
    "slideshow": {
     "slide_type": "subslide"
    }
   },
   "source": [
    "## First iteration: Red step\n",
    "\n",
    "#### - Create `anagrams.py`\n",
    "```python\n",
    "def anagrams(word):\n",
    "    pass\n",
    "```\n",
    "#### - Fix `test_anagrams.py`\n",
    "```python\n",
    "from anagrams import anagrams\n",
    "\n",
    "def test_anagrams():\n",
    "    assert anagrams('') == []\n",
    "```\n",
    "#### - Run `py.test`"
   ]
  },
  {
   "cell_type": "code",
   "execution_count": 3,
   "metadata": {
    "collapsed": false,
    "slideshow": {
     "slide_type": "subslide"
    }
   },
   "outputs": [
    {
     "name": "stdout",
     "output_type": "stream",
     "text": [
      "====================================================== test session starts =======================================================\n",
      "platform darwin -- Python 3.5.2, pytest-3.0.5, py-1.4.32, pluggy-0.4.0\n",
      "rootdir: /private/var/folders/d4/ql2mwrt96qncsk5bdtgr6nsh0000gn/T/tmptp5vk7qm, inifile: \n",
      "collected 1 items\n",
      "\n",
      "_ipytesttmp.py F\n",
      "\n",
      "============================================================ FAILURES ============================================================\n",
      "_________________________________________________________ test_anagrams __________________________________________________________\n",
      "\n",
      "    def test_anagrams():\n",
      ">       assert anagrams('') == []\n",
      "E       assert None == []\n",
      "E        +  where None = anagrams('')\n",
      "\n",
      "_ipytesttmp.py:6: AssertionError\n",
      "==================================================== 1 failed in 0.03 seconds ====================================================\n"
     ]
    }
   ],
   "source": [
    "%%pytest\n",
    "\n",
    "def anagrams(word):\n",
    "    pass\n",
    "\n",
    "def test_anagrams():\n",
    "    assert anagrams('') == []"
   ]
  },
  {
   "cell_type": "markdown",
   "metadata": {
    "slideshow": {
     "slide_type": "subslide"
    }
   },
   "source": [
    "## First iteration: Green step\n",
    "\n",
    "#### - Fix `anagrams` to satisfy the test... remember [KISS](http://slides.com/ignasifoschalonso/coding-dojo-intro#/4)\n",
    "```python\n",
    "def anagrams(word):\n",
    "    return []\n",
    "```\n",
    "#### - Run `py.test`"
   ]
  },
  {
   "cell_type": "code",
   "execution_count": 4,
   "metadata": {
    "collapsed": false,
    "slideshow": {
     "slide_type": "subslide"
    }
   },
   "outputs": [
    {
     "name": "stdout",
     "output_type": "stream",
     "text": [
      "====================================================== test session starts =======================================================\n",
      "platform darwin -- Python 3.5.2, pytest-3.0.5, py-1.4.32, pluggy-0.4.0\n",
      "rootdir: /private/var/folders/d4/ql2mwrt96qncsk5bdtgr6nsh0000gn/T/tmpdqb_k10p, inifile: \n",
      "collected 1 items\n",
      "\n",
      "_ipytesttmp.py .\n",
      "\n",
      "==================================================== 1 passed in 0.01 seconds ====================================================\n"
     ]
    }
   ],
   "source": [
    "%%pytest\n",
    "\n",
    "def anagrams(word):\n",
    "    return []\n",
    "\n",
    "def test_anagrams():\n",
    "    assert anagrams('') == []"
   ]
  },
  {
   "cell_type": "markdown",
   "metadata": {
    "slideshow": {
     "slide_type": "slide"
    }
   },
   "source": [
    "## Second iteration: Single letter word\n",
    "\n",
    "#### Let's add the case for a single letter word (`'a'`)\n",
    "#### The call `anagrams('a')` must return `['a']`"
   ]
  },
  {
   "cell_type": "markdown",
   "metadata": {
    "slideshow": {
     "slide_type": "subslide"
    }
   },
   "source": [
    "## Second iteration: Red step\n",
    "\n",
    "#### - Update `test_anagrams.py`\n",
    "```python\n",
    "def test_anagrams():\n",
    "    assert anagrams('') == []\n",
    "    assert anagrams('a') == ['a']\n",
    "```\n",
    "#### - Run `py.test`"
   ]
  },
  {
   "cell_type": "code",
   "execution_count": 5,
   "metadata": {
    "collapsed": false,
    "slideshow": {
     "slide_type": "subslide"
    }
   },
   "outputs": [
    {
     "name": "stdout",
     "output_type": "stream",
     "text": [
      "====================================================== test session starts =======================================================\n",
      "platform darwin -- Python 3.5.2, pytest-3.0.5, py-1.4.32, pluggy-0.4.0\n",
      "rootdir: /private/var/folders/d4/ql2mwrt96qncsk5bdtgr6nsh0000gn/T/tmpq3ray_s2, inifile: \n",
      "collected 1 items\n",
      "\n",
      "_ipytesttmp.py F\n",
      "\n",
      "============================================================ FAILURES ============================================================\n",
      "_________________________________________________________ test_anagrams __________________________________________________________\n",
      "\n",
      "    def test_anagrams():\n",
      "        assert anagrams('') == []\n",
      ">       assert anagrams('a') == ['a']\n",
      "E       assert [] == ['a']\n",
      "E         Right contains more items, first extra item: 'a'\n",
      "E         Use -v to get the full diff\n",
      "\n",
      "_ipytesttmp.py:7: AssertionError\n",
      "==================================================== 1 failed in 0.03 seconds ====================================================\n"
     ]
    }
   ],
   "source": [
    "%%pytest\n",
    "\n",
    "def anagrams(word):\n",
    "    return []\n",
    "\n",
    "def test_anagrams():\n",
    "    assert anagrams('') == []\n",
    "    assert anagrams('a') == ['a']"
   ]
  },
  {
   "cell_type": "markdown",
   "metadata": {
    "slideshow": {
     "slide_type": "subslide"
    }
   },
   "source": [
    "## Second iteration: Green step\n",
    "\n",
    "#### - Fix `anagrams` to satisfy the test\n",
    "```python\n",
    "def anagrams(word):\n",
    "    if len(word) > 0:\n",
    "        return [word]\n",
    "    return []\n",
    "```\n",
    "#### - Run `py.test`"
   ]
  },
  {
   "cell_type": "code",
   "execution_count": 6,
   "metadata": {
    "collapsed": false,
    "slideshow": {
     "slide_type": "subslide"
    }
   },
   "outputs": [
    {
     "name": "stdout",
     "output_type": "stream",
     "text": [
      "====================================================== test session starts =======================================================\n",
      "platform darwin -- Python 3.5.2, pytest-3.0.5, py-1.4.32, pluggy-0.4.0\n",
      "rootdir: /private/var/folders/d4/ql2mwrt96qncsk5bdtgr6nsh0000gn/T/tmp96tpyiik, inifile: \n",
      "collected 1 items\n",
      "\n",
      "_ipytesttmp.py .\n",
      "\n",
      "==================================================== 1 passed in 0.01 seconds ====================================================\n"
     ]
    }
   ],
   "source": [
    "%%pytest\n",
    "\n",
    "def anagrams(word):\n",
    "    if len(word) > 0:\n",
    "        return [word]\n",
    "    return []\n",
    "\n",
    "def test_anagrams():\n",
    "    assert anagrams('') == []\n",
    "    assert anagrams('a') == ['a']"
   ]
  },
  {
   "cell_type": "markdown",
   "metadata": {
    "slideshow": {
     "slide_type": "slide"
    }
   },
   "source": [
    "## Third iteration: 2 letters word\n",
    "\n",
    "#### Let's add the case for a two letters word (`'ab'`)\n",
    "#### The call `anagrams('ab')` must return `['ab', 'ba']`"
   ]
  },
  {
   "cell_type": "markdown",
   "metadata": {
    "slideshow": {
     "slide_type": "subslide"
    }
   },
   "source": [
    "## Third iteration: Red step\n",
    "\n",
    "#### - Update `test_anagrams.py`\n",
    "```python\n",
    "def test_anagrams():\n",
    "    assert anagrams('') == []\n",
    "    assert anagrams('a') == ['a']\n",
    "    assert anagrams('ab') == ['ab', 'ba']\n",
    "```\n",
    "#### - Run `py.test`"
   ]
  },
  {
   "cell_type": "code",
   "execution_count": 7,
   "metadata": {
    "collapsed": false,
    "slideshow": {
     "slide_type": "subslide"
    }
   },
   "outputs": [
    {
     "name": "stdout",
     "output_type": "stream",
     "text": [
      "====================================================== test session starts =======================================================\n",
      "platform darwin -- Python 3.5.2, pytest-3.0.5, py-1.4.32, pluggy-0.4.0\n",
      "rootdir: /private/var/folders/d4/ql2mwrt96qncsk5bdtgr6nsh0000gn/T/tmpq_udkal6, inifile: \n",
      "collected 1 items\n",
      "\n",
      "_ipytesttmp.py F\n",
      "\n",
      "============================================================ FAILURES ============================================================\n",
      "_________________________________________________________ test_anagrams __________________________________________________________\n",
      "\n",
      "    def test_anagrams():\n",
      "        assert anagrams('') == []\n",
      "        assert anagrams('a') == ['a']\n",
      ">       assert anagrams('ab') == ['ab', 'ba']\n",
      "E       assert ['ab'] == ['ab', 'ba']\n",
      "E         Right contains more items, first extra item: 'ba'\n",
      "E         Use -v to get the full diff\n",
      "\n",
      "_ipytesttmp.py:10: AssertionError\n",
      "==================================================== 1 failed in 0.04 seconds ====================================================\n"
     ]
    }
   ],
   "source": [
    "%%pytest\n",
    "\n",
    "def anagrams(word):\n",
    "    if len(word) > 0:\n",
    "        return [word]\n",
    "    return []\n",
    "\n",
    "def test_anagrams():\n",
    "    assert anagrams('') == []\n",
    "    assert anagrams('a') == ['a']\n",
    "    assert anagrams('ab') == ['ab', 'ba']"
   ]
  },
  {
   "cell_type": "markdown",
   "metadata": {
    "slideshow": {
     "slide_type": "subslide"
    }
   },
   "source": [
    "## Third iteration: Green step\n",
    "\n",
    "#### - Fix `anagrams` to satisfy the test... remember [KISS](http://slides.com/ignasifoschalonso/coding-dojo-intro#/4)!!!\n",
    "```python\n",
    "def anagrams(word):\n",
    "    if len(word) > 0:\n",
    "        if len(word) > 1:\n",
    "            return [word, word[::-1]]\n",
    "        return [word]\n",
    "    return []\n",
    "```\n",
    "#### - Run `py.test`"
   ]
  },
  {
   "cell_type": "code",
   "execution_count": 8,
   "metadata": {
    "collapsed": false,
    "slideshow": {
     "slide_type": "subslide"
    }
   },
   "outputs": [
    {
     "name": "stdout",
     "output_type": "stream",
     "text": [
      "====================================================== test session starts =======================================================\n",
      "platform darwin -- Python 3.5.2, pytest-3.0.5, py-1.4.32, pluggy-0.4.0\n",
      "rootdir: /private/var/folders/d4/ql2mwrt96qncsk5bdtgr6nsh0000gn/T/tmpwgn8qeuz, inifile: \n",
      "collected 1 items\n",
      "\n",
      "_ipytesttmp.py .\n",
      "\n",
      "==================================================== 1 passed in 0.02 seconds ====================================================\n"
     ]
    }
   ],
   "source": [
    "%%pytest\n",
    "\n",
    "def anagrams(word):\n",
    "    if len(word) > 0:\n",
    "        if len(word) > 1:\n",
    "            return [word, word[::-1]]\n",
    "        return [word]\n",
    "    return []\n",
    "\n",
    "def test_anagrams():\n",
    "    assert anagrams('') == []\n",
    "    assert anagrams('a') == ['a']\n",
    "    assert anagrams('ab') == ['ab', 'ba']"
   ]
  },
  {
   "cell_type": "markdown",
   "metadata": {
    "slideshow": {
     "slide_type": "subslide"
    }
   },
   "source": [
    "## Third iteration: Refactor step\n",
    "\n",
    "#### - Improve `anagrams`\n",
    "```python\n",
    "def anagrams(word):\n",
    "    results = []\n",
    "    if len(word) > 0:\n",
    "        results = [word]\n",
    "    if len(word) > 1:\n",
    "        results.append(word[::-1])\n",
    "    return results\n",
    "```\n",
    "#### - Run `py.test`"
   ]
  },
  {
   "cell_type": "code",
   "execution_count": 9,
   "metadata": {
    "collapsed": false,
    "slideshow": {
     "slide_type": "subslide"
    }
   },
   "outputs": [
    {
     "name": "stdout",
     "output_type": "stream",
     "text": [
      "====================================================== test session starts =======================================================\n",
      "platform darwin -- Python 3.5.2, pytest-3.0.5, py-1.4.32, pluggy-0.4.0\n",
      "rootdir: /private/var/folders/d4/ql2mwrt96qncsk5bdtgr6nsh0000gn/T/tmponhyl_bl, inifile: \n",
      "collected 1 items\n",
      "\n",
      "_ipytesttmp.py .\n",
      "\n",
      "==================================================== 1 passed in 0.01 seconds ====================================================\n"
     ]
    }
   ],
   "source": [
    "%%pytest\n",
    "\n",
    "def anagrams(word):\n",
    "    results = []\n",
    "    if len(word) > 0:\n",
    "        results = [word]\n",
    "    if len(word) > 1:\n",
    "        results.append(word[::-1])\n",
    "    return results\n",
    "\n",
    "def test_anagrams():\n",
    "    assert anagrams('') == []\n",
    "    assert anagrams('a') == ['a']\n",
    "    assert anagrams('ab') == ['ab', 'ba']"
   ]
  },
  {
   "cell_type": "markdown",
   "metadata": {
    "slideshow": {
     "slide_type": "slide"
    }
   },
   "source": [
    "## Fourth iteration: 3 letters word\n",
    "\n",
    "#### Let's add the case for a three letters word (`'abc'`)\n",
    "#### The call `anagrams('abc')` must return `['abc', 'acb', 'bac', 'bca', 'cab', 'cba']`\n",
    "#### Think about the caveats of this new case!!!"
   ]
  },
  {
   "cell_type": "markdown",
   "metadata": {
    "slideshow": {
     "slide_type": "subslide"
    }
   },
   "source": [
    "## Fourth iteration: Red step\n",
    "\n",
    "#### - Update `test_anagrams.py`\n",
    "```python\n",
    "def test_anagrams():\n",
    "    assert anagrams('') == []\n",
    "    assert anagrams('a') == ['a']\n",
    "    assert anagrams('ab') == ['ab', 'ba']\n",
    "    assert anagrams('abc') == ['abc', 'acb', 'bac', 'bca', 'cab', 'cba']\n",
    "```\n",
    "#### - Run `py.test`"
   ]
  },
  {
   "cell_type": "code",
   "execution_count": 10,
   "metadata": {
    "collapsed": false,
    "slideshow": {
     "slide_type": "subslide"
    }
   },
   "outputs": [
    {
     "name": "stdout",
     "output_type": "stream",
     "text": [
      "====================================================== test session starts =======================================================\n",
      "platform darwin -- Python 3.5.2, pytest-3.0.5, py-1.4.32, pluggy-0.4.0\n",
      "rootdir: /private/var/folders/d4/ql2mwrt96qncsk5bdtgr6nsh0000gn/T/tmpa3y14vz2, inifile: \n",
      "collected 1 items\n",
      "\n",
      "_ipytesttmp.py F\n",
      "\n",
      "============================================================ FAILURES ============================================================\n",
      "_________________________________________________________ test_anagrams __________________________________________________________\n",
      "\n",
      "    def test_anagrams():\n",
      "        assert anagrams('') == []\n",
      "        assert anagrams('a') == ['a']\n",
      "        assert anagrams('ab') == ['ab', 'ba']\n",
      ">       assert anagrams('abc') == ['abc', 'acb', 'bac', 'bca', 'cab', 'cba']\n",
      "E       assert ['abc', 'cba'] == ['abc', 'acb', 'bac', 'bca', 'cab', 'cba']\n",
      "E         At index 1 diff: 'cba' != 'acb'\n",
      "E         Right contains more items, first extra item: 'bac'\n",
      "E         Use -v to get the full diff\n",
      "\n",
      "_ipytesttmp.py:14: AssertionError\n",
      "==================================================== 1 failed in 0.04 seconds ====================================================\n"
     ]
    }
   ],
   "source": [
    "%%pytest\n",
    "\n",
    "def anagrams(word):\n",
    "    results = []\n",
    "    if len(word) > 0:\n",
    "        results = [word]\n",
    "    if len(word) > 1:\n",
    "        results.append(word[::-1])\n",
    "    return results\n",
    "\n",
    "def test_anagrams():\n",
    "    assert anagrams('') == []\n",
    "    assert anagrams('a') == ['a']\n",
    "    assert anagrams('ab') == ['ab', 'ba']\n",
    "    assert anagrams('abc') == ['abc', 'acb', 'bac', 'bca', 'cab', 'cba']"
   ]
  },
  {
   "cell_type": "markdown",
   "metadata": {
    "slideshow": {
     "slide_type": "subslide"
    }
   },
   "source": [
    "## Fourth iteration: Green step\n",
    "\n",
    "#### - Fix `anagrams` to satisfy the test... remember [KISS](http://slides.com/ignasifoschalonso/coding-dojo-intro#/4)!!!\n",
    "```python\n",
    "def anagrams(word):\n",
    "    results = []\n",
    "    return results\n",
    "```\n",
    "#### - Run `py.test`"
   ]
  },
  {
   "cell_type": "code",
   "execution_count": 11,
   "metadata": {
    "collapsed": false,
    "slideshow": {
     "slide_type": "subslide"
    }
   },
   "outputs": [
    {
     "name": "stdout",
     "output_type": "stream",
     "text": [
      "====================================================== test session starts =======================================================\n",
      "platform darwin -- Python 3.5.2, pytest-3.0.5, py-1.4.32, pluggy-0.4.0\n",
      "rootdir: /private/var/folders/d4/ql2mwrt96qncsk5bdtgr6nsh0000gn/T/tmpputery69, inifile: \n",
      "collected 1 items\n",
      "\n",
      "_ipytesttmp.py .\n",
      "\n",
      "==================================================== 1 passed in 0.02 seconds ====================================================\n"
     ]
    }
   ],
   "source": [
    "%%pytest\n",
    "\n",
    "def anagrams(word):\n",
    "    results = []\n",
    "    if len(word) > 0:\n",
    "        results = [word]\n",
    "    if len(word) > 1:\n",
    "        results.append(word[::-1])\n",
    "    if len(word) > 2:\n",
    "        results.append(word[::-1])\n",
    "    return results\n",
    "\n",
    "def test_anagrams():\n",
    "    assert anagrams('') == []\n",
    "    assert anagrams('a') == ['a']\n",
    "    assert anagrams('ab') == ['ab', 'ba']"
   ]
  },
  {
   "cell_type": "markdown",
   "metadata": {
    "slideshow": {
     "slide_type": "subslide"
    }
   },
   "source": [
    "## Fourth iteration: Refactor step\n",
    "\n",
    "#### - Improve `anagrams` using recursivity\n",
    "```python\n",
    "def anagrams(word):\n",
    "    results = []\n",
    "    if len(word) == 1:\n",
    "        results.append(word)\n",
    "    elif len(word) >= 2:\n",
    "        for index, letter in enumerate(word):\n",
    "            for subanagram in anagrams(word[:index] + word[index + 1:]):\n",
    "                results += [letter + subanagram]\n",
    "    return results\n",
    "```\n",
    "#### - Run `py.test`"
   ]
  },
  {
   "cell_type": "code",
   "execution_count": 12,
   "metadata": {
    "collapsed": false,
    "slideshow": {
     "slide_type": "subslide"
    }
   },
   "outputs": [
    {
     "name": "stdout",
     "output_type": "stream",
     "text": [
      "====================================================== test session starts =======================================================\n",
      "platform darwin -- Python 3.5.2, pytest-3.0.5, py-1.4.32, pluggy-0.4.0\n",
      "rootdir: /private/var/folders/d4/ql2mwrt96qncsk5bdtgr6nsh0000gn/T/tmpvdq20roa, inifile: \n",
      "collected 1 items\n",
      "\n",
      "_ipytesttmp.py .\n",
      "\n",
      "==================================================== 1 passed in 0.02 seconds ====================================================\n"
     ]
    }
   ],
   "source": [
    "%%pytest\n",
    "\n",
    "def anagrams(word):\n",
    "    results = []\n",
    "    if len(word) == 1:\n",
    "        results.append(word)\n",
    "    elif len(word) >= 2:\n",
    "        for index, letter in enumerate(word):\n",
    "            for subanagram in anagrams(word[:index] + word[index + 1:]):\n",
    "                results += [letter + subanagram]\n",
    "    return results\n",
    "\n",
    "def test_anagrams():\n",
    "    assert anagrams('') == []\n",
    "    assert anagrams('a') == ['a']\n",
    "    assert anagrams('ab') == ['ab', 'ba']\n",
    "    assert anagrams('abc') == ['abc', 'acb', 'bac', 'bca', 'cab', 'cba']"
   ]
  },
  {
   "cell_type": "markdown",
   "metadata": {
    "slideshow": {
     "slide_type": "slide"
    }
   },
   "source": [
    "## More things to consider (or ideas for a continuation workshop)\n",
    "\n",
    "#### - Are other refactorings possible?\n",
    "#### - How will these tests scale for longer words?\n",
    "#### - Repeat-free anagrams?"
   ]
  },
  {
   "cell_type": "markdown",
   "metadata": {
    "slideshow": {
     "slide_type": "slide"
    }
   },
   "source": [
    "## Links\n",
    "\n",
    "#### - [Official pytest](http://pytest.org)\n",
    "#### - [More own stuff on py.test](https://github.com/BCNDojos/pytest-intro/blob/master/01.%20Introduction%20to%20testing%20and%20pytest.ipynb)\n",
    "#### - [Dojo, TDD slides](http://slides.com/ignasifoschalonso/coding-dojo-intro#/)\n",
    "#### - [Anagrams solution with unittest](https://github.com/BCNDojos/pyDojos/blob/anagrams/anagrams/Anagramas.ipynb)"
   ]
  }
 ],
 "metadata": {
  "celltoolbar": "Slideshow",
  "kernelspec": {
   "display_name": "Python 3",
   "language": "python",
   "name": "python3"
  },
  "language_info": {
   "codemirror_mode": {
    "name": "ipython",
    "version": 3
   },
   "file_extension": ".py",
   "mimetype": "text/x-python",
   "name": "python",
   "nbconvert_exporter": "python",
   "pygments_lexer": "ipython3",
   "version": "3.5.2"
  }
 },
 "nbformat": 4,
 "nbformat_minor": 2
}
