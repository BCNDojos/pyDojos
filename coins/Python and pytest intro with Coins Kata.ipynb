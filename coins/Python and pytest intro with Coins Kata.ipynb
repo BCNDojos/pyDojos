{
 "cells": [
  {
   "cell_type": "code",
   "execution_count": 1,
   "metadata": {
    "slideshow": {
     "slide_type": "skip"
    }
   },
   "outputs": [],
   "source": [
    "%%bash\n",
    "rm person.py tests_person.py word_counter.py tests_word_counter.py"
   ]
  },
  {
   "cell_type": "markdown",
   "metadata": {
    "slideshow": {
     "slide_type": "slide"
    }
   },
   "source": [
    "# Python and pytest introduction with Coins Changer kata"
   ]
  },
  {
   "cell_type": "markdown",
   "metadata": {
    "slideshow": {
     "slide_type": "slide"
    }
   },
   "source": [
    "## About Python data containers\n",
    "\n",
    "### Tuples and lists\n",
    "\n",
    "```python\n",
    ">>> my_tuple = (1, 2, 3,)\n",
    ">>> my_list = [1, 2, 3,]\n",
    ">>> my_tuple\n",
    "(1, 2, 3)\n",
    ">>> my_list\n",
    "[1, 2, 3]\n",
    "```"
   ]
  },
  {
   "cell_type": "markdown",
   "metadata": {
    "slideshow": {
     "slide_type": "subslide"
    }
   },
   "source": [
    "#### Mutability\n",
    "\n",
    "```python\n",
    ">>> my_tuple[1] = 5\n",
    "Traceback (most recent call last)\n",
    "    ...\n",
    "TypeError: 'tuple' object does not support item assignment\n",
    ">>> my_tuple\n",
    "(1, 2, 3)\n",
    ">>> my_list[1] = 5\n",
    ">>> my_list\n",
    "[1, 5, 3]\n",
    "```"
   ]
  },
  {
   "cell_type": "markdown",
   "metadata": {
    "slideshow": {
     "slide_type": "subslide"
    }
   },
   "source": [
    "### Lists of tuples\n",
    "\n",
    "```python\n",
    ">>> my_list_of_tuples = [(\"Anna\", 27), (\"John\", 26), ]\n",
    ">>> my_list_of_tuples\n",
    "[('Anna', 27), ('John', 26)]\n",
    ">>> my_list_of_tuples[0][1]\n",
    "27\n",
    ">>> my_list_of_tuples[0][1] += 1\n",
    "Traceback (most recent call last)\n",
    "    ...\n",
    "TypeError: 'tuple' object does not support item assignment\n",
    "```"
   ]
  },
  {
   "cell_type": "markdown",
   "metadata": {
    "slideshow": {
     "slide_type": "subslide"
    }
   },
   "source": [
    "### Lists of tuples (II)\n",
    "\n",
    "```python\n",
    ">>> my_list_of_tuples[0] = (my_list_of_tuples[0][0], my_list_of_tuples[0][1] + 1)\n",
    ">>> my_list_of_tuples[0][1]\n",
    "28\n",
    ">>> for name, age in my_list_of_tuples:\n",
    ">>>     print(\"{} is {} years old\".format(name, age))\n",
    "Anna is 28 years old\n",
    "John is 26 years old\n",
    "```"
   ]
  },
  {
   "cell_type": "markdown",
   "metadata": {
    "slideshow": {
     "slide_type": "subslide"
    }
   },
   "source": [
    "### Dictionaries\n",
    "\n",
    "```python\n",
    ">>> my_dictionary = {\"Anna\": 27, \"John\": 26, }\n",
    ">>> my_dictionary\n",
    "{'Anna': 27, 'John': 26}\n",
    ">>> my_dictionary[\"Anna\"]\n",
    "27\n",
    ">>> my_dictionary[\"Anna\"] += 1\n",
    ">>> my_dictionary[\"Anna\"]\n",
    "28\n",
    "```"
   ]
  },
  {
   "cell_type": "markdown",
   "metadata": {
    "slideshow": {
     "slide_type": "subslide"
    }
   },
   "source": [
    "### Dictionaries (II)\n",
    "\n",
    "```python\n",
    ">>> for k in my_dictionary:\n",
    ">>>     print(\"{} is {} years old\".format(k, my_dictionary[k]))\n",
    "Anna is 28 years old\n",
    "John is 26 years old\n",
    "```"
   ]
  },
  {
   "cell_type": "markdown",
   "metadata": {
    "slideshow": {
     "slide_type": "subslide"
    }
   },
   "source": [
    "## About Python data containers\n",
    "\n",
    "This exercise will create a software representation of a coin changer.\n",
    "\n",
    "The coins the coin changer will use, will satisfy a denomination, associated with a value which will depend on the currency:\n",
    "\n",
    "```python\n",
    ">>> from coins import denominations\n",
    ">>> denominations\n",
    "{\"5c\": 5, \"10c\": 10, \"20c\": 20, \"50c\": 50, \"1e\": 100, \"2e\": 200,}\n",
    "```\n",
    "\n",
    "However only one currency will be implemented in this exercise."
   ]
  },
  {
   "cell_type": "markdown",
   "metadata": {
    "slideshow": {
     "slide_type": "slide"
    }
   },
   "source": [
    "## Objects - Initialization\n",
    "\n",
    "Python supports classes which can inheritate from other classes.\n",
    "By default, any class **must** inheritate from the base class `object`.\n",
    "When creating an instance of a class, the initializtion method is executed:"
   ]
  },
  {
   "cell_type": "code",
   "execution_count": 2,
   "metadata": {
    "collapsed": true
   },
   "outputs": [],
   "source": [
    "class Person(object):\n",
    "    def __init__(self, name=None, age=None):\n",
    "        self.name = name\n",
    "        self.age = age"
   ]
  },
  {
   "cell_type": "code",
   "execution_count": 3,
   "metadata": {
    "slideshow": {
     "slide_type": "subslide"
    }
   },
   "outputs": [
    {
     "name": "stdout",
     "output_type": "stream",
     "text": [
      "None is None years old\n",
      "Anna is 27 years old\n",
      "John is 26 years old\n"
     ]
    }
   ],
   "source": [
    "nobody = Person()\n",
    "anna = Person(\"Anna\", 27)\n",
    "john = Person(\"John\", 26)\n",
    "for person in [nobody, anna, john]:\n",
    "    print(\"{} is {} years old\".format(person.name, person.age))"
   ]
  },
  {
   "cell_type": "markdown",
   "metadata": {
    "slideshow": {
     "slide_type": "subslide"
    }
   },
   "source": [
    "## Testing initialization"
   ]
  },
  {
   "cell_type": "code",
   "execution_count": 4,
   "metadata": {},
   "outputs": [
    {
     "name": "stdout",
     "output_type": "stream",
     "text": [
      "Writing tests_person.py\n"
     ]
    }
   ],
   "source": [
    "%%writefile tests_person.py\n",
    "from person import Person\n",
    "\n",
    "def test_person_init():\n",
    "    person = Person(\"Anna\", 26)\n",
    "    assert person.name == \"Anna\"\n",
    "    assert person.age == 26"
   ]
  },
  {
   "cell_type": "code",
   "execution_count": 5,
   "metadata": {
    "scrolled": true,
    "slideshow": {
     "slide_type": "subslide"
    }
   },
   "outputs": [
    {
     "name": "stdout",
     "output_type": "stream",
     "text": [
      "========================================= test session starts ==========================================\n",
      "platform darwin -- Python 3.5.3, pytest-3.0.7, py-1.4.33, pluggy-0.4.0\n",
      "rootdir: /Users/ifosch/src/github.com/BCNDojos/pyDojos/coins, inifile:\n",
      "collected 0 items / 1 errors\n",
      "\n",
      "================================================ ERRORS ================================================\n",
      "___________________________________ ERROR collecting tests_person.py ___________________________________\n",
      "ImportError while importing test module '/Users/ifosch/src/github.com/BCNDojos/pyDojos/coins/tests_person.py'.\n",
      "Hint: make sure your test modules/packages have valid Python names.\n",
      "Traceback:\n",
      "tests_person.py:1: in <module>\n",
      "    from person import Person\n",
      "E   ImportError: No module named 'person'\n",
      "!!!!!!!!!!!!!!!!!!!!!!!!!!!!!!! Interrupted: 1 errors during collection !!!!!!!!!!!!!!!!!!!!!!!!!!!!!!!!\n",
      "======================================= 1 error in 0.13 seconds ========================================\n"
     ]
    }
   ],
   "source": [
    "%%bash\n",
    "py.test tests_person.py"
   ]
  },
  {
   "cell_type": "code",
   "execution_count": 6,
   "metadata": {
    "slideshow": {
     "slide_type": "subslide"
    }
   },
   "outputs": [
    {
     "name": "stdout",
     "output_type": "stream",
     "text": [
      "Writing person.py\n"
     ]
    }
   ],
   "source": [
    "%%writefile person.py\n",
    "class Person(object):\n",
    "    def __init__(self, name, age):\n",
    "        self.name = name\n",
    "        self.age = age"
   ]
  },
  {
   "cell_type": "code",
   "execution_count": 7,
   "metadata": {
    "scrolled": true,
    "slideshow": {
     "slide_type": "subslide"
    }
   },
   "outputs": [
    {
     "name": "stdout",
     "output_type": "stream",
     "text": [
      "========================================= test session starts ==========================================\n",
      "platform darwin -- Python 3.5.3, pytest-3.0.7, py-1.4.33, pluggy-0.4.0\n",
      "rootdir: /Users/ifosch/src/github.com/BCNDojos/pyDojos/coins, inifile:\n",
      "collected 1 items\n",
      "\n",
      "tests_person.py .\n",
      "\n",
      "======================================= 1 passed in 0.01 seconds =======================================\n"
     ]
    }
   ],
   "source": [
    "%%bash\n",
    "py.test tests_person.py"
   ]
  },
  {
   "cell_type": "markdown",
   "metadata": {
    "slideshow": {
     "slide_type": "subslide"
    }
   },
   "source": [
    "## Testing cases and documenting - Parametrization and messages"
   ]
  },
  {
   "cell_type": "code",
   "execution_count": 8,
   "metadata": {},
   "outputs": [
    {
     "name": "stdout",
     "output_type": "stream",
     "text": [
      "Overwriting tests_person.py\n"
     ]
    }
   ],
   "source": [
    "%%writefile tests_person.py\n",
    "import pytest\n",
    "from person import Person\n",
    "\n",
    "cases = [(\"Anna\", 26), (\"John\", 27),]\n",
    "\n",
    "@pytest.mark.parametrize(\"name, age\", cases)\n",
    "def test_person_init(name, age):\n",
    "    person = Person(name, age)\n",
    "    assert person.name == name, \"Name is not the same\"\n",
    "    assert person.age == age, \"Age is not the same\""
   ]
  },
  {
   "cell_type": "code",
   "execution_count": 9,
   "metadata": {
    "scrolled": false,
    "slideshow": {
     "slide_type": "subslide"
    }
   },
   "outputs": [
    {
     "name": "stdout",
     "output_type": "stream",
     "text": [
      "========================================= test session starts ==========================================\n",
      "platform darwin -- Python 3.5.3, pytest-3.0.7, py-1.4.33, pluggy-0.4.0 -- /Users/ifosch/.miniconda3/envs/coins-pytest/bin/python\n",
      "cachedir: .cache\n",
      "rootdir: /Users/ifosch/src/github.com/BCNDojos/pyDojos/coins, inifile:\n",
      "collecting ... collected 2 items\n",
      "\n",
      "tests_person.py::test_person_init[Anna-26] PASSED\n",
      "tests_person.py::test_person_init[John-27] PASSED\n",
      "\n",
      "======================================= 2 passed in 0.01 seconds =======================================\n"
     ]
    }
   ],
   "source": [
    "%%bash\n",
    "py.test -v tests_person.py"
   ]
  },
  {
   "cell_type": "markdown",
   "metadata": {
    "slideshow": {
     "slide_type": "subslide"
    }
   },
   "source": [
    "## Objects - Initialization\n",
    "\n",
    "The coin changer will contain a specific relation of coin denominations and amounts of each coin:\n",
    "\n",
    "```python\n",
    ">>> from coins import Coins\n",
    ">>> coinChanger = Coins({\"5c\": 10, \"10c\": 20,})\n",
    "```\n",
    "\n",
    "Of course, the coin changer can be initialized to an empty set of coins:\n",
    "\n",
    "```python\n",
    ">>> anotherCoinChanger = Coins()\n",
    "```"
   ]
  },
  {
   "cell_type": "markdown",
   "metadata": {
    "slideshow": {
     "slide_type": "slide"
    }
   },
   "source": [
    "## Objects - Special methods - Length\n",
    "\n",
    "Some objects can contain data and sometimes, it makes sense for these classes to provide a length method, returning the number of elements contained in the object, that can be used like this:\n",
    "\n",
    "```python\n",
    ">>> name = \"Anna\"\n",
    ">>> len(name)\n",
    "4\n",
    "```\n",
    "\n",
    "`len` is a function that invokes the length special method for the object, if it provides it:"
   ]
  },
  {
   "cell_type": "code",
   "execution_count": 10,
   "metadata": {
    "collapsed": true,
    "slideshow": {
     "slide_type": "subslide"
    }
   },
   "outputs": [],
   "source": [
    "class Sentence(object):\n",
    "    def __init__(self, phrase):\n",
    "        self.phrase = phrase\n",
    "\n",
    "    def __len__(self):\n",
    "        return len(self.phrase.split())"
   ]
  },
  {
   "cell_type": "code",
   "execution_count": 11,
   "metadata": {},
   "outputs": [
    {
     "data": {
      "text/plain": [
       "4"
      ]
     },
     "execution_count": 11,
     "metadata": {},
     "output_type": "execute_result"
    }
   ],
   "source": [
    "my_sentence = Sentence(\"This is a sentence\")\n",
    "len(my_sentence)"
   ]
  },
  {
   "cell_type": "markdown",
   "metadata": {
    "slideshow": {
     "slide_type": "subslide"
    }
   },
   "source": [
    "## Objects - Special methods - Length\n",
    "\n",
    "This coin changer must provide a way to know the total amount of coins it contains:\n",
    "\n",
    "```python\n",
    ">>> len(coinChanger)\n",
    "30\n",
    "```"
   ]
  },
  {
   "cell_type": "markdown",
   "metadata": {
    "slideshow": {
     "slide_type": "slide"
    }
   },
   "source": [
    "## Objects - Special methods - Get item\n",
    "\n",
    "Another usual use case on a class containing data is to be able to get an item:\n",
    "\n",
    "```python\n",
    ">>> my_list = [1, 2, 3,]\n",
    ">>> my_list[2]\n",
    "3\n",
    "```"
   ]
  },
  {
   "cell_type": "code",
   "execution_count": 12,
   "metadata": {
    "collapsed": true,
    "slideshow": {
     "slide_type": "subslide"
    }
   },
   "outputs": [],
   "source": [
    "class Sentence(object):\n",
    "    def __init__(self, phrase):\n",
    "        self.phrase = phrase\n",
    "\n",
    "    def __getitem__(self, index):\n",
    "        return self.phrase.split()[index]"
   ]
  },
  {
   "cell_type": "code",
   "execution_count": 13,
   "metadata": {},
   "outputs": [
    {
     "data": {
      "text/plain": [
       "'another'"
      ]
     },
     "execution_count": 13,
     "metadata": {},
     "output_type": "execute_result"
    }
   ],
   "source": [
    "my_sentence = Sentence(\"This is another sentence\")\n",
    "my_sentence[2]"
   ]
  },
  {
   "cell_type": "markdown",
   "metadata": {
    "slideshow": {
     "slide_type": "subslide"
    }
   },
   "source": [
    "Let's see another example, relying on a dictionary:"
   ]
  },
  {
   "cell_type": "code",
   "execution_count": 14,
   "metadata": {
    "collapsed": true
   },
   "outputs": [],
   "source": [
    "class WordCounter(object):\n",
    "    def __init__(self, phrase):\n",
    "        self.phrase = phrase\n",
    "        self.tokens = None\n",
    "        \n",
    "    def tokenize(self):\n",
    "        self.tokens = {}\n",
    "        for token in self.phrase.split():\n",
    "            if token in self.tokens:\n",
    "                self.tokens[token] += 1\n",
    "            else:\n",
    "                self.tokens[token] = 1\n",
    "        \n",
    "    def __getitem__(self, index):\n",
    "        if self.tokens is None:\n",
    "            self.tokenize()\n",
    "        return self.tokens[index]"
   ]
  },
  {
   "cell_type": "code",
   "execution_count": 15,
   "metadata": {
    "slideshow": {
     "slide_type": "subslide"
    }
   },
   "outputs": [
    {
     "data": {
      "text/plain": [
       "1"
      ]
     },
     "execution_count": 15,
     "metadata": {},
     "output_type": "execute_result"
    }
   ],
   "source": [
    "word_counter = WordCounter(\"This is another sentence with some more words and some repeated\")\n",
    "word_counter[\"This\"]"
   ]
  },
  {
   "cell_type": "code",
   "execution_count": 16,
   "metadata": {},
   "outputs": [
    {
     "data": {
      "text/plain": [
       "2"
      ]
     },
     "execution_count": 16,
     "metadata": {},
     "output_type": "execute_result"
    }
   ],
   "source": [
    "word_counter[\"some\"]"
   ]
  },
  {
   "cell_type": "markdown",
   "metadata": {
    "slideshow": {
     "slide_type": "subslide"
    }
   },
   "source": [
    "## List comprehensions\n",
    "\n",
    "List comprehensions is a Python construct that allows to generate a list, a tuple or a dictionary, depending on how it's build:\n",
    "\n",
    "```python\n",
    ">>> noprimes = [j for i in range(2, 8) for j in range(i*2, 50, i)]\n",
    ">>> primes = [x for x in range(2, 50) if x not in noprimes]\n",
    ">>> print primes\n",
    "[2, 3, 5, 7, 11, 13, 17, 19, 23, 29, 31, 37, 41, 43, 47]\n",
    "```"
   ]
  },
  {
   "cell_type": "markdown",
   "metadata": {
    "slideshow": {
     "slide_type": "subslide"
    }
   },
   "source": [
    "When the comprehension is enclosed with parenthesis, the result should be a tuple; when enclosed with curly brackets, a dict, but the construct must be appropriate:"
   ]
  },
  {
   "cell_type": "code",
   "execution_count": 17,
   "metadata": {
    "collapsed": true
   },
   "outputs": [],
   "source": [
    "class WordCounter(object):\n",
    "    def __init__(self, phrase):\n",
    "        self.phrase = phrase\n",
    "        self.tokens = None\n",
    "        \n",
    "    def tokenize(self):\n",
    "        tokenized_phrase = self.phrase.split()\n",
    "        self.tokens = {k: tokenized_phrase.count(k) for k in tokenized_phrase}\n",
    "        \n",
    "    def __getitem__(self, index):\n",
    "        if self.tokens is None:\n",
    "            self.tokenize()\n",
    "        return self.tokens[index]"
   ]
  },
  {
   "cell_type": "code",
   "execution_count": 18,
   "metadata": {
    "slideshow": {
     "slide_type": "subslide"
    }
   },
   "outputs": [
    {
     "data": {
      "text/plain": [
       "1"
      ]
     },
     "execution_count": 18,
     "metadata": {},
     "output_type": "execute_result"
    }
   ],
   "source": [
    "word_counter = WordCounter(\"This is another sentence with some more words and some repeated\")\n",
    "word_counter[\"This\"]"
   ]
  },
  {
   "cell_type": "code",
   "execution_count": 19,
   "metadata": {},
   "outputs": [
    {
     "data": {
      "text/plain": [
       "2"
      ]
     },
     "execution_count": 19,
     "metadata": {},
     "output_type": "execute_result"
    }
   ],
   "source": [
    "word_counter[\"some\"]"
   ]
  },
  {
   "cell_type": "markdown",
   "metadata": {
    "slideshow": {
     "slide_type": "subslide"
    }
   },
   "source": [
    "## Existance\n",
    "\n",
    "Data containers are usually required to be queried about the presence or existance of an element:\n",
    "\n",
    "```python\n",
    ">>> my_list = [1, 2, 3,]\n",
    ">>> 3 in my_list\n",
    "True\n",
    ">>> 4 in my_list\n",
    "False\n",
    "```\n",
    "\n",
    "This is implemented through another special method called `__contains__`.\n",
    "This exercise doesn't require to implement it, but will be using this."
   ]
  },
  {
   "cell_type": "code",
   "execution_count": 20,
   "metadata": {
    "collapsed": true,
    "slideshow": {
     "slide_type": "subslide"
    }
   },
   "outputs": [],
   "source": [
    "class WordCounter(object):\n",
    "    def __init__(self, phrase):\n",
    "        self.phrase = phrase\n",
    "        self.tokens = None\n",
    "        \n",
    "    def tokenize(self):\n",
    "        tokenized_phrase = self.phrase.split()\n",
    "        self.tokens = {k: tokenized_phrase.count(k) for k in tokenized_phrase}\n",
    "        \n",
    "    def __getitem__(self, index):\n",
    "        if self.tokens is None:\n",
    "            self.tokenize()\n",
    "        if index in self.tokens:\n",
    "            return self.tokens[index]\n",
    "        return 0"
   ]
  },
  {
   "cell_type": "code",
   "execution_count": 21,
   "metadata": {
    "slideshow": {
     "slide_type": "subslide"
    }
   },
   "outputs": [
    {
     "data": {
      "text/plain": [
       "0"
      ]
     },
     "execution_count": 21,
     "metadata": {},
     "output_type": "execute_result"
    }
   ],
   "source": [
    "word_counter = WordCounter(\"This is another sentence with some more words and some repeated\")\n",
    "word_counter[\"world\"]"
   ]
  },
  {
   "cell_type": "markdown",
   "metadata": {
    "slideshow": {
     "slide_type": "subslide"
    }
   },
   "source": [
    "## Objects - Special methods - Get item\n",
    "\n",
    "The coin changer will also provide the number of coins contained of a certain denomination:\n",
    "\n",
    "```python\n",
    ">>> coinChanger[\"5c\"]\n",
    "10\n",
    "```\n",
    "\n",
    "Let's consider a non-present denomination, means there are 0 coins of it."
   ]
  },
  {
   "cell_type": "markdown",
   "metadata": {
    "slideshow": {
     "slide_type": "slide"
    }
   },
   "source": [
    "## Objects - Special methods - Set item\n",
    "\n",
    "Usually, when a mutable data container allows to get an item, it also allows to set it:\n",
    "\n",
    "```python\n",
    ">>> my_list = [1, 2, 3,]\n",
    ">>> my_list[2]\n",
    "3\n",
    ">>> my_list[2] = 5\n",
    ">>> my_list[2]\n",
    "5\n",
    "```\n",
    "\n",
    "Remember immutable containers will not allow this."
   ]
  },
  {
   "cell_type": "code",
   "execution_count": 22,
   "metadata": {
    "collapsed": true,
    "slideshow": {
     "slide_type": "subslide"
    }
   },
   "outputs": [],
   "source": [
    "class WordCounter(object):\n",
    "    def __init__(self, phrase):\n",
    "        self.phrase = phrase\n",
    "        self.tokenize()\n",
    "        \n",
    "    def tokenize(self):\n",
    "        tokenized_phrase = self.phrase.split()\n",
    "        self.tokens = {k: tokenized_phrase.count(k) for k in tokenized_phrase}\n",
    "        \n",
    "    def __getitem__(self, index):\n",
    "        if index in self.tokens:\n",
    "            return self.tokens[index]\n",
    "        return 0\n",
    "    \n",
    "    def __setitem__(self, index, value):\n",
    "        self.tokens[index] = value"
   ]
  },
  {
   "cell_type": "code",
   "execution_count": 23,
   "metadata": {
    "slideshow": {
     "slide_type": "subslide"
    }
   },
   "outputs": [
    {
     "data": {
      "text/plain": [
       "1"
      ]
     },
     "execution_count": 23,
     "metadata": {},
     "output_type": "execute_result"
    }
   ],
   "source": [
    "word_counter = WordCounter(\"This is another sentence with some more words and some repeated\")\n",
    "word_counter[\"This\"]"
   ]
  },
  {
   "cell_type": "code",
   "execution_count": 24,
   "metadata": {},
   "outputs": [
    {
     "data": {
      "text/plain": [
       "2"
      ]
     },
     "execution_count": 24,
     "metadata": {},
     "output_type": "execute_result"
    }
   ],
   "source": [
    "word_counter[\"This\"] = 2\n",
    "word_counter[\"This\"]"
   ]
  },
  {
   "cell_type": "markdown",
   "metadata": {
    "slideshow": {
     "slide_type": "subslide"
    }
   },
   "source": [
    "## Objects - Special methods - Set item\n",
    "\n",
    "It will also provide a way to add more coins:\n",
    "\n",
    "```python\n",
    ">>> anotherCoinChanger[\"1e\"] += 1\n",
    "```"
   ]
  },
  {
   "cell_type": "markdown",
   "metadata": {
    "slideshow": {
     "slide_type": "slide"
    }
   },
   "source": [
    "## Exceptions\n",
    "\n",
    "Sometimes code is required to fail under certain conditions.\n",
    "The way to make these failures clear is using exceptions.\n",
    "Exceptions can be defined explicitly, although reuse of common meaning exceptions is required, making the message clarify the reason:"
   ]
  },
  {
   "cell_type": "code",
   "execution_count": 25,
   "metadata": {
    "collapsed": true,
    "slideshow": {
     "slide_type": "subslide"
    }
   },
   "outputs": [],
   "source": [
    "class WordCounter(object):\n",
    "    def __init__(self, phrase):\n",
    "        self.phrase = phrase\n",
    "        self.tokenize()\n",
    "        \n",
    "    def tokenize(self):\n",
    "        tokenized_phrase = self.phrase.split()\n",
    "        self.tokens = {k: tokenized_phrase.count(k) for k in tokenized_phrase}\n",
    "        \n",
    "    def __getitem__(self, index):\n",
    "        if not isinstance(index, str):\n",
    "            raise KeyError(\"{} is not a string\".format(index))\n",
    "        if index in self.tokens:\n",
    "            return self.tokens[index]\n",
    "        return 0\n",
    "    \n",
    "    def __setitem__(self, index, value):\n",
    "        self.tokens[index] = value"
   ]
  },
  {
   "cell_type": "code",
   "execution_count": 26,
   "metadata": {
    "slideshow": {
     "slide_type": "subslide"
    }
   },
   "outputs": [
    {
     "ename": "KeyError",
     "evalue": "'3 is not a string'",
     "output_type": "error",
     "traceback": [
      "\u001b[0;31m---------------------------------------------------------------------------\u001b[0m",
      "\u001b[0;31mKeyError\u001b[0m                                  Traceback (most recent call last)",
      "\u001b[0;32m<ipython-input-26-66350f94c625>\u001b[0m in \u001b[0;36m<module>\u001b[0;34m()\u001b[0m\n\u001b[1;32m      1\u001b[0m \u001b[0mword_counter\u001b[0m \u001b[0;34m=\u001b[0m \u001b[0mWordCounter\u001b[0m\u001b[0;34m(\u001b[0m\u001b[0;34m\"This is another sentence with some more words and some repeated\"\u001b[0m\u001b[0;34m)\u001b[0m\u001b[0;34m\u001b[0m\u001b[0m\n\u001b[0;32m----> 2\u001b[0;31m \u001b[0mword_counter\u001b[0m\u001b[0;34m[\u001b[0m\u001b[0;36m3\u001b[0m\u001b[0;34m]\u001b[0m\u001b[0;34m\u001b[0m\u001b[0m\n\u001b[0m",
      "\u001b[0;32m<ipython-input-25-a48c218ca4c9>\u001b[0m in \u001b[0;36m__getitem__\u001b[0;34m(self, index)\u001b[0m\n\u001b[1;32m     10\u001b[0m     \u001b[0;32mdef\u001b[0m \u001b[0m__getitem__\u001b[0m\u001b[0;34m(\u001b[0m\u001b[0mself\u001b[0m\u001b[0;34m,\u001b[0m \u001b[0mindex\u001b[0m\u001b[0;34m)\u001b[0m\u001b[0;34m:\u001b[0m\u001b[0;34m\u001b[0m\u001b[0m\n\u001b[1;32m     11\u001b[0m         \u001b[0;32mif\u001b[0m \u001b[0;32mnot\u001b[0m \u001b[0misinstance\u001b[0m\u001b[0;34m(\u001b[0m\u001b[0mindex\u001b[0m\u001b[0;34m,\u001b[0m \u001b[0mstr\u001b[0m\u001b[0;34m)\u001b[0m\u001b[0;34m:\u001b[0m\u001b[0;34m\u001b[0m\u001b[0m\n\u001b[0;32m---> 12\u001b[0;31m             \u001b[0;32mraise\u001b[0m \u001b[0mKeyError\u001b[0m\u001b[0;34m(\u001b[0m\u001b[0;34m\"{} is not a string\"\u001b[0m\u001b[0;34m.\u001b[0m\u001b[0mformat\u001b[0m\u001b[0;34m(\u001b[0m\u001b[0mindex\u001b[0m\u001b[0;34m)\u001b[0m\u001b[0;34m)\u001b[0m\u001b[0;34m\u001b[0m\u001b[0m\n\u001b[0m\u001b[1;32m     13\u001b[0m         \u001b[0;32mif\u001b[0m \u001b[0mindex\u001b[0m \u001b[0;32min\u001b[0m \u001b[0mself\u001b[0m\u001b[0;34m.\u001b[0m\u001b[0mtokens\u001b[0m\u001b[0;34m:\u001b[0m\u001b[0;34m\u001b[0m\u001b[0m\n\u001b[1;32m     14\u001b[0m             \u001b[0;32mreturn\u001b[0m \u001b[0mself\u001b[0m\u001b[0;34m.\u001b[0m\u001b[0mtokens\u001b[0m\u001b[0;34m[\u001b[0m\u001b[0mindex\u001b[0m\u001b[0;34m]\u001b[0m\u001b[0;34m\u001b[0m\u001b[0m\n",
      "\u001b[0;31mKeyError\u001b[0m: '3 is not a string'"
     ]
    }
   ],
   "source": [
    "word_counter = WordCounter(\"This is another sentence with some more words and some repeated\")\n",
    "word_counter[3]"
   ]
  },
  {
   "cell_type": "markdown",
   "metadata": {
    "slideshow": {
     "slide_type": "subslide"
    }
   },
   "source": [
    "## Testing exceptions\n",
    "\n",
    "When the raise of an exception is required, this should be tested accordingly:"
   ]
  },
  {
   "cell_type": "code",
   "execution_count": 27,
   "metadata": {
    "slideshow": {
     "slide_type": "subslide"
    }
   },
   "outputs": [
    {
     "name": "stdout",
     "output_type": "stream",
     "text": [
      "Writing word_counter.py\n"
     ]
    }
   ],
   "source": [
    "%%writefile word_counter.py\n",
    "class WordCounter(object):\n",
    "    def __init__(self, phrase):\n",
    "        self.phrase = phrase\n",
    "        self.tokenize()\n",
    "        \n",
    "    def tokenize(self):\n",
    "        tokenized_phrase = self.phrase.split()\n",
    "        self.tokens = {k: tokenized_phrase.count(k) for k in tokenized_phrase}\n",
    "        \n",
    "    def __getitem__(self, index):\n",
    "        if index in self.tokens:\n",
    "            return self.tokens[index]\n",
    "        return 0\n",
    "    \n",
    "    def __setitem__(self, index, value):\n",
    "        self.tokens[index] = value"
   ]
  },
  {
   "cell_type": "code",
   "execution_count": 28,
   "metadata": {
    "scrolled": true,
    "slideshow": {
     "slide_type": "subslide"
    }
   },
   "outputs": [
    {
     "name": "stdout",
     "output_type": "stream",
     "text": [
      "Writing tests_word_counter.py\n"
     ]
    }
   ],
   "source": [
    "%%writefile tests_word_counter.py\n",
    "import pytest\n",
    "from word_counter import WordCounter\n",
    "\n",
    "def test_word_counter_failure():\n",
    "    word_counter = WordCounter(\"This is another sentence with some more words and some repeated\")\n",
    "    with pytest.raises(KeyError, message=\"Invalid key type\"):\n",
    "        word_counter[3]"
   ]
  },
  {
   "cell_type": "code",
   "execution_count": 29,
   "metadata": {
    "scrolled": true,
    "slideshow": {
     "slide_type": "subslide"
    }
   },
   "outputs": [
    {
     "name": "stdout",
     "output_type": "stream",
     "text": [
      "========================================= test session starts ==========================================\n",
      "platform darwin -- Python 3.5.3, pytest-3.0.7, py-1.4.33, pluggy-0.4.0\n",
      "rootdir: /Users/ifosch/src/github.com/BCNDojos/pyDojos/coins, inifile:\n",
      "collected 1 items\n",
      "\n",
      "tests_word_counter.py F\n",
      "\n",
      "=============================================== FAILURES ===============================================\n",
      "______________________________________ test_word_counter_failure _______________________________________\n",
      "\n",
      "    def test_word_counter_failure():\n",
      "        word_counter = WordCounter(\"This is another sentence with some more words and some repeated\")\n",
      "        with pytest.raises(KeyError, message=\"Invalid key type\"):\n",
      ">           word_counter[3]\n",
      "E           Failed: Invalid key type\n",
      "\n",
      "tests_word_counter.py:7: Failed\n",
      "======================================= 1 failed in 0.03 seconds =======================================\n"
     ]
    }
   ],
   "source": [
    "%%bash\n",
    "py.test tests_word_counter.py"
   ]
  },
  {
   "cell_type": "code",
   "execution_count": 30,
   "metadata": {
    "slideshow": {
     "slide_type": "subslide"
    }
   },
   "outputs": [
    {
     "name": "stdout",
     "output_type": "stream",
     "text": [
      "Overwriting word_counter.py\n"
     ]
    }
   ],
   "source": [
    "%%writefile word_counter.py\n",
    "class WordCounter(object):\n",
    "    def __init__(self, phrase):\n",
    "        self.phrase = phrase\n",
    "        self.tokenize()\n",
    "        \n",
    "    def tokenize(self):\n",
    "        tokenized_phrase = self.phrase.split()\n",
    "        self.tokens = {k: tokenized_phrase.count(k) for k in tokenized_phrase}\n",
    "        \n",
    "    def __getitem__(self, index):\n",
    "        if not isinstance(index, str):\n",
    "            raise KeyError()\n",
    "        if index in self.tokens:\n",
    "            return self.tokens[index]\n",
    "        return 0\n",
    "    \n",
    "    def __setitem__(self, index, value):\n",
    "        self.tokens[index] = value"
   ]
  },
  {
   "cell_type": "code",
   "execution_count": 31,
   "metadata": {
    "scrolled": true,
    "slideshow": {
     "slide_type": "subslide"
    }
   },
   "outputs": [
    {
     "name": "stdout",
     "output_type": "stream",
     "text": [
      "========================================= test session starts ==========================================\n",
      "platform darwin -- Python 3.5.3, pytest-3.0.7, py-1.4.33, pluggy-0.4.0\n",
      "rootdir: /Users/ifosch/src/github.com/BCNDojos/pyDojos/coins, inifile:\n",
      "collected 1 items\n",
      "\n",
      "tests_word_counter.py .\n",
      "\n",
      "======================================= 1 passed in 0.01 seconds =======================================\n"
     ]
    }
   ],
   "source": [
    "%%bash\n",
    "py.test tests_word_counter.py"
   ]
  },
  {
   "cell_type": "markdown",
   "metadata": {
    "slideshow": {
     "slide_type": "subslide"
    }
   },
   "source": [
    "The exception message can also be checked:"
   ]
  },
  {
   "cell_type": "code",
   "execution_count": 32,
   "metadata": {
    "scrolled": true
   },
   "outputs": [
    {
     "name": "stdout",
     "output_type": "stream",
     "text": [
      "Overwriting tests_word_counter.py\n"
     ]
    }
   ],
   "source": [
    "%%writefile tests_word_counter.py\n",
    "import pytest\n",
    "from word_counter import WordCounter\n",
    "\n",
    "def test_word_counter_failure():\n",
    "    word_counter = WordCounter(\"This is another sentence with some more words and some repeated\")\n",
    "    with pytest.raises(KeyError, message=\"Invalid key type\") as exception_message:\n",
    "        word_counter[3]\n",
    "    exception_message.match(\"3 is not a string\")"
   ]
  },
  {
   "cell_type": "code",
   "execution_count": 33,
   "metadata": {
    "scrolled": true,
    "slideshow": {
     "slide_type": "subslide"
    }
   },
   "outputs": [
    {
     "name": "stdout",
     "output_type": "stream",
     "text": [
      "========================================= test session starts ==========================================\n",
      "platform darwin -- Python 3.5.3, pytest-3.0.7, py-1.4.33, pluggy-0.4.0\n",
      "rootdir: /Users/ifosch/src/github.com/BCNDojos/pyDojos/coins, inifile:\n",
      "collected 1 items\n",
      "\n",
      "tests_word_counter.py F\n",
      "\n",
      "=============================================== FAILURES ===============================================\n",
      "______________________________________ test_word_counter_failure _______________________________________\n",
      "\n",
      "    def test_word_counter_failure():\n",
      "        word_counter = WordCounter(\"This is another sentence with some more words and some repeated\")\n",
      "        with pytest.raises(KeyError, message=\"Invalid key type\") as exception_message:\n",
      "            word_counter[3]\n",
      ">       exception_message.match(\"3 is not a string\")\n",
      "E       AssertionError: Pattern '3 is not a string' not found in ''\n",
      "\n",
      "tests_word_counter.py:8: AssertionError\n",
      "======================================= 1 failed in 0.03 seconds =======================================\n"
     ]
    }
   ],
   "source": [
    "%%bash\n",
    "py.test tests_word_counter.py"
   ]
  },
  {
   "cell_type": "code",
   "execution_count": 34,
   "metadata": {
    "slideshow": {
     "slide_type": "subslide"
    }
   },
   "outputs": [
    {
     "name": "stdout",
     "output_type": "stream",
     "text": [
      "Overwriting word_counter.py\n"
     ]
    }
   ],
   "source": [
    "%%writefile word_counter.py\n",
    "class WordCounter(object):\n",
    "    def __init__(self, phrase):\n",
    "        self.phrase = phrase\n",
    "        self.tokenize()\n",
    "        \n",
    "    def tokenize(self):\n",
    "        tokenized_phrase = self.phrase.split()\n",
    "        self.tokens = {k: tokenized_phrase.count(k) for k in tokenized_phrase}\n",
    "        \n",
    "    def __getitem__(self, index):\n",
    "        if not isinstance(index, str):\n",
    "            raise KeyError(\"{} is not a string\".format(index))\n",
    "        if index in self.tokens:\n",
    "            return self.tokens[index]\n",
    "        return 0\n",
    "    \n",
    "    def __setitem__(self, index, value):\n",
    "        self.tokens[index] = value"
   ]
  },
  {
   "cell_type": "code",
   "execution_count": 35,
   "metadata": {
    "scrolled": true,
    "slideshow": {
     "slide_type": "subslide"
    }
   },
   "outputs": [
    {
     "name": "stdout",
     "output_type": "stream",
     "text": [
      "========================================= test session starts ==========================================\n",
      "platform darwin -- Python 3.5.3, pytest-3.0.7, py-1.4.33, pluggy-0.4.0\n",
      "rootdir: /Users/ifosch/src/github.com/BCNDojos/pyDojos/coins, inifile:\n",
      "collected 1 items\n",
      "\n",
      "tests_word_counter.py .\n",
      "\n",
      "======================================= 1 passed in 0.01 seconds =======================================\n"
     ]
    }
   ],
   "source": [
    "%%bash\n",
    "py.test tests_word_counter.py"
   ]
  },
  {
   "cell_type": "markdown",
   "metadata": {
    "slideshow": {
     "slide_type": "subslide"
    }
   },
   "source": [
    "## Exceptions\n",
    "\n",
    "Whenever the coin denomination used is wrong, it will return an error:\n",
    "\n",
    "```python\n",
    ">>> coinChanger[\"1d\"]\n",
    "Traceback (most recent call last):\n",
    "  ...\n",
    "KeyError: Wrong denomination \"1d\"\n",
    ">>> coinChanger[\"2d\"] = 1\n",
    "Traceback (most recent call last):\n",
    "  ...\n",
    "KeyError: Wrong denomination \"2d\"\n",
    "```"
   ]
  },
  {
   "cell_type": "markdown",
   "metadata": {
    "slideshow": {
     "slide_type": "slide"
    }
   },
   "source": [
    "## The `sum()` function\n",
    "\n",
    "The `sum(iterable[, start])` function sums `start`, which defaults to 0, and the elements of `iterable`, from left to right, and returns the total \n",
    "\n",
    "```python\n",
    ">>> sum([1, 2, 3,], 10)\n",
    "16\n",
    "```"
   ]
  },
  {
   "cell_type": "markdown",
   "metadata": {
    "slideshow": {
     "slide_type": "subslide"
    }
   },
   "source": [
    "## Objects - Properties\n",
    "\n",
    "Sometimes, objects need to provide calculated properties.\n",
    "One way of having that is to make a method to become a property:"
   ]
  },
  {
   "cell_type": "code",
   "execution_count": 36,
   "metadata": {
    "collapsed": true
   },
   "outputs": [],
   "source": [
    "class WordCounter(object):\n",
    "    def __init__(self, phrase):\n",
    "        self.phrase = phrase\n",
    "\n",
    "    @property\n",
    "    def total_words(self):\n",
    "        return len(self.phrase.split())\n",
    "\n",
    "    @property\n",
    "    def total_letters(self):\n",
    "        return len(self.phrase)"
   ]
  },
  {
   "cell_type": "code",
   "execution_count": 37,
   "metadata": {
    "slideshow": {
     "slide_type": "subslide"
    }
   },
   "outputs": [
    {
     "data": {
      "text/plain": [
       "11"
      ]
     },
     "execution_count": 37,
     "metadata": {},
     "output_type": "execute_result"
    }
   ],
   "source": [
    "word_counter = WordCounter(\"This is another sentence with some more words and some repeated\")\n",
    "word_counter.total_words"
   ]
  },
  {
   "cell_type": "code",
   "execution_count": 38,
   "metadata": {},
   "outputs": [
    {
     "data": {
      "text/plain": [
       "63"
      ]
     },
     "execution_count": 38,
     "metadata": {},
     "output_type": "execute_result"
    }
   ],
   "source": [
    "word_counter.total_letters"
   ]
  },
  {
   "cell_type": "markdown",
   "metadata": {
    "slideshow": {
     "slide_type": "subslide"
    }
   },
   "source": [
    "## Properties\n",
    "\n",
    "The coin changer will also be able to return the total value of the coins contained\n",
    "\n",
    "```python\n",
    ">>> coinChanger.value\n",
    "3.5\n",
    "```"
   ]
  },
  {
   "cell_type": "markdown",
   "metadata": {
    "slideshow": {
     "slide_type": "slide"
    }
   },
   "source": [
    "## Objects - Methods\n",
    "\n",
    "This coin changer will be able to, given a value, return a relation of coins and amounts that satisfy this value:\n",
    "\n",
    "```python\n",
    ">>> coinChanger.change(0.35)\n",
    "{\"5c\": 7}\n",
    "```"
   ]
  },
  {
   "cell_type": "markdown",
   "metadata": {
    "slideshow": {
     "slide_type": "slide"
    }
   },
   "source": [
    "## Exception (II)\n",
    "\n",
    "If the coins contained in the coin changer are not able to satisfy the value specified, it will return an error:\n",
    "\n",
    "```python\n",
    ">>> change = coinChanger.change(1.0)\n",
    "Traceback (most recent call last):\n",
    "  ...\n",
    "ValueError: Not enough coins of appopriate denominations to satisfy 1.0\n",
    "```"
   ]
  },
  {
   "cell_type": "markdown",
   "metadata": {
    "slideshow": {
     "slide_type": "slide"
    }
   },
   "source": [
    "## Ordered dictionaries\n",
    "\n",
    "Python standard dictionaries are not ordered.\n",
    "The class `OrderedDict` from `collections` module, enables to have ordered dictionaries:\n",
    "\n",
    "```python\n",
    ">>> from collections import OrderedDict\n",
    ">>> my_dict = {\"Anna\": 26, \"John\": 32, \"Alice\": 38}\n",
    ">>> print(my_dict)\n",
    "{'John': 32, 'Alice': 38, 'Anna': 26}\n",
    ">>> name_dict = OrderedDict(sorted(my_dict.items()))\n",
    ">>> print(name_dict)\n",
    "OrderedDict([('Alice', 38), ('Anna', 26), ('John', 32)])\n",
    ">>> age_dict = OrderedDict(sorted(my_dict.items(), key=lambda t: t[1]))\n",
    ">>> print(age_dict)\n",
    "OrderedDict([('Anna', 26), ('John', 32), ('Alice', 38)])\n",
    "```"
   ]
  },
  {
   "cell_type": "markdown",
   "metadata": {
    "slideshow": {
     "slide_type": "subslide"
    }
   },
   "source": [
    "## Containers and order\n",
    "\n",
    "The coin changer will try to return the optimal amount of coins:\n",
    "\n",
    "```python\n",
    ">>> change = coinChanger.change(0.35)\n",
    ">>> print(change)\n",
    "{\"5c\": 1, \"10c\": 1, \"20c\": 1}\n",
    "```"
   ]
  }
 ],
 "metadata": {
  "celltoolbar": "Slideshow",
  "kernelspec": {
   "display_name": "Python 3",
   "language": "python",
   "name": "python3"
  },
  "language_info": {
   "codemirror_mode": {
    "name": "ipython",
    "version": 3
   },
   "file_extension": ".py",
   "mimetype": "text/x-python",
   "name": "python",
   "nbconvert_exporter": "python",
   "pygments_lexer": "ipython3",
   "version": "3.5.3"
  }
 },
 "nbformat": 4,
 "nbformat_minor": 2
}
