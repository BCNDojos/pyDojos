{
 "cells": [
  {
   "cell_type": "markdown",
   "metadata": {
    "slideshow": {
     "slide_type": "slide"
    }
   },
   "source": [
    "# Coins Kata"
   ]
  },
  {
   "cell_type": "markdown",
   "metadata": {
    "slideshow": {
     "slide_type": "subslide"
    }
   },
   "source": [
    "This kata consists in implement the code for a coin changer calculator, so given an amount, and a set of coins, it will return the quantity of each coin required to give that amount."
   ]
  },
  {
   "cell_type": "markdown",
   "metadata": {
    "slideshow": {
     "slide_type": "fragment"
    }
   },
   "source": [
    "The outputs shown in this statement are only to have an idea.\n",
    "Command line is not being used, these outputs are only for a clearer reference.\n",
    "The exercise is thought to be completed in three iterations."
   ]
  },
  {
   "cell_type": "markdown",
   "metadata": {
    "slideshow": {
     "slide_type": "slide"
    }
   },
   "source": [
    "## Basic coin changer"
   ]
  },
  {
   "cell_type": "markdown",
   "metadata": {
    "slideshow": {
     "slide_type": "fragment"
    }
   },
   "source": [
    "In this iteration, the coin changer will:\n",
    "\n",
    "* receive an amount of money\n",
    "* be provided with a predefined set of coins, with the following classes: 5, 10, 20, and 50 cents, and 1, and 2 euros.\n",
    "\n",
    "For this iteration, the following rules are to be followed:\n",
    "\n",
    "* The amount will always be multiple of 5 cents, as a float number with two decimal positions.\n",
    "* The system will have coins enough of each class.\n",
    "* There's no limit on the quantity and class of coins used."
   ]
  },
  {
   "cell_type": "markdown",
   "metadata": {
    "slideshow": {
     "slide_type": "subslide"
    }
   },
   "source": [
    "For instance, let's say the amount is 25 cents, so the program could work like this:\n",
    "\n",
    "    python coins.py 0.25\n",
    "    5 x 5c\n",
    "    \n",
    "Other possible amounts would be like the following:\n",
    "\n",
    "    python coins.py 2.35\n",
    "    47 x 5c\n",
    "    python coins.py 3.00\n",
    "    60 x 5c\n",
    "    python coins.py 5.50\n",
    "    110 x 5c\n",
    "\n",
    "So, for this first iteration, the easiest path would be to provide only 5c coins."
   ]
  },
  {
   "cell_type": "markdown",
   "metadata": {
    "slideshow": {
     "slide_type": "subslide"
    }
   },
   "source": [
    "This iteration result is intended to be simple and neat, without too much complications.\n",
    "The expected time to complete this iteration is 15 to 20 minutes."
   ]
  },
  {
   "cell_type": "markdown",
   "metadata": {
    "slideshow": {
     "slide_type": "slide"
    }
   },
   "source": [
    "## Optimal coin changer"
   ]
  },
  {
   "cell_type": "markdown",
   "metadata": {
    "slideshow": {
     "slide_type": "fragment"
    }
   },
   "source": [
    "In this iteration, the result should be the optimal according to the quantity of coins it provides, so the classes should be used in such a way, that the total number of coins is the lesser possible."
   ]
  },
  {
   "cell_type": "markdown",
   "metadata": {
    "slideshow": {
     "slide_type": "fragment"
    }
   },
   "source": [
    "For the same amounts of the previous iteration examples, we should get:\n",
    "\n",
    "    python coins.py 0.25\n",
    "    1 x 20c, 1 x 5c, total 2 coins\n",
    "    python coins.py 2.35\n",
    "    1 x 2e, 1 x 20c, 1 x 10c, 1 x 5c, total 4 coins\n",
    "    python coins.py 3.00\n",
    "    1 x 2e, 1 x 1e, total 2 coins\n",
    "    python coins.py 5.50\n",
    "    2 x 2e, 1 x 1e, 1 x 50c total 4 coins"
   ]
  },
  {
   "cell_type": "markdown",
   "metadata": {
    "slideshow": {
     "slide_type": "subslide"
    }
   },
   "source": [
    "This iteration shouldn't take more than 30-45 minutes."
   ]
  },
  {
   "cell_type": "markdown",
   "metadata": {
    "slideshow": {
     "slide_type": "slide"
    }
   },
   "source": [
    "## Optimal limited coin changer"
   ]
  },
  {
   "cell_type": "markdown",
   "metadata": {
    "slideshow": {
     "slide_type": "fragment"
    }
   },
   "source": [
    "For this iteration, also the quantity of coins of each class is limited, so the program will be limited to have the following quantities:\n",
    "\n",
    "* 5 cents: 2 coins\n",
    "* 10 cents: 2 coins\n",
    "* 20 cents: 2 coins\n",
    "* 50 cents: 2 coins\n",
    "* 1 euro: 2 coins\n",
    "* 2 euro: 1 coin\n",
    "\n",
    "For this iteration, there will be no amount which will require more coins than these."
   ]
  },
  {
   "cell_type": "markdown",
   "metadata": {
    "slideshow": {
     "slide_type": "subslide"
    }
   },
   "source": [
    "For the examples followed so far, the results should be:\n",
    "\n",
    "    python coins.py 0.25\n",
    "    1 x 20c, 1 x 5c, total 2 coins\n",
    "    python coins.py 2.35\n",
    "    1 x 2e, 1 x 20c, 1 x 10c, 1 x 5c, total 4 coins\n",
    "    python coins.py 3.00\n",
    "    1 x 2e, 1 x 1e, total 2 coins\n",
    "    python coins.py 5.50\n",
    "    1 x 2e, 2 x 1e, 2 x 50c, 2 x 20c, 1 x 10c, total 8 coins"
   ]
  },
  {
   "cell_type": "markdown",
   "metadata": {
    "slideshow": {
     "slide_type": "slide"
    }
   },
   "source": [
    "## Currency defined optimal limited changer"
   ]
  },
  {
   "cell_type": "markdown",
   "metadata": {
    "collapsed": true,
    "slideshow": {
     "slide_type": "fragment"
    }
   },
   "source": [
    "In this iteration, the code will be extended to allow the changer to have defined the currency, let's say EURO and USD.\n",
    "For the US currency, the classes will be 5, 10, 25 and 5c cents, and 1 dollar.\n",
    "The coin quantity to be used is still expected to be optimal, and the possibility of having a limited set of coins is also to be considered."
   ]
  },
  {
   "cell_type": "code",
   "execution_count": null,
   "metadata": {
    "collapsed": true,
    "slideshow": {
     "slide_type": "skip"
    }
   },
   "outputs": [],
   "source": []
  }
 ],
 "metadata": {
  "celltoolbar": "Slideshow",
  "kernelspec": {
   "display_name": "Python 3",
   "language": "python",
   "name": "python3"
  },
  "language_info": {
   "codemirror_mode": {
    "name": "ipython",
    "version": 3
   },
   "file_extension": ".py",
   "mimetype": "text/x-python",
   "name": "python",
   "nbconvert_exporter": "python",
   "pygments_lexer": "ipython3",
   "version": "3.4.3"
  }
 },
 "nbformat": 4,
 "nbformat_minor": 0
}
