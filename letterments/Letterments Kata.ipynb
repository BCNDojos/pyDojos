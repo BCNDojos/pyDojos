{
 "cells": [
  {
   "cell_type": "markdown",
   "metadata": {
    "slideshow": {
     "slide_type": "slide"
    }
   },
   "source": [
    "# Letterments kata"
   ]
  },
  {
   "cell_type": "markdown",
   "metadata": {
    "slideshow": {
     "slide_type": "fragment"
    }
   },
   "source": [
    "The target of this kata is to convert a word to a list of possible strings with [periodic table element names](http://www.ptable.com/) from the original word's letters, for example:\n",
    "```\n",
    "letterments('cab') = ['Calcium Boron']\n",
    "```\n",
    "The result of the function is a list, since there are words that might have several solutions.\n",
    "In case there is no possible result at all for a word, the function will return an empty list.\n",
    "\n",
    "Solution to this kata should provide tests, further than the provided cases here.\n",
    "In order to do that, there is a [pretty extensive list of words that might be translated to elemens](https://gist.github.com/jeffThompson/7789182), which would be used."
   ]
  },
  {
   "cell_type": "markdown",
   "metadata": {
    "slideshow": {
     "slide_type": "slide"
    }
   },
   "source": [
    "Let's see some examples:"
   ]
  },
  {
   "cell_type": "code",
   "execution_count": 68,
   "metadata": {
    "collapsed": false,
    "slideshow": {
     "slide_type": "skip"
    }
   },
   "outputs": [],
   "source": [
    "cases = [\n",
    "    ('c', ['Carbon']),\n",
    "    ('z', []),\n",
    "    ('al', ['Aluminium']),\n",
    "    ('ab', []),\n",
    "    ('cab', ['Calcium Boron']),\n",
    "    ('joy', []),\n",
    "    ('bin', ['Boron Indium', 'Bismuth Nitrogen', 'Boron Iodine Nitrogen']),\n",
    "]\n",
    "\n",
    "def letterments_example(word):\n",
    "    for case in cases:\n",
    "        if case[0] == word:\n",
    "            return case"
   ]
  },
  {
   "cell_type": "code",
   "execution_count": 69,
   "metadata": {
    "collapsed": false,
    "slideshow": {
     "slide_type": "-"
    }
   },
   "outputs": [
    {
     "name": "stdout",
     "output_type": "stream",
     "text": [
      "letterments('c') = ('c', ['Carbon'])\n",
      "letterments('z') = ('z', [])\n",
      "letterments('al') = ('al', ['Aluminium'])\n",
      "letterments('ab') = ('ab', [])\n",
      "letterments('cab') = ('cab', ['Calcium Boron'])\n",
      "letterments('joy') = ('joy', [])\n",
      "letterments('bin') = ('bin', ['Boron Indium', 'Bismuth Nitrogen', 'Boron Iodine Nitrogen'])\n"
     ]
    }
   ],
   "source": [
    "for case in cases:\n",
    "    print(\"letterments('{}') = {}\".format(case[0], letterments_example(case[0])))"
   ]
  },
  {
   "cell_type": "markdown",
   "metadata": {
    "slideshow": {
     "slide_type": "slide"
    }
   },
   "source": [
    "## Tooling for this dojo"
   ]
  },
  {
   "cell_type": "markdown",
   "metadata": {},
   "source": [
    "In first place, this goodie to run our `unittest` test class has been included:"
   ]
  },
  {
   "cell_type": "code",
   "execution_count": 58,
   "metadata": {
    "collapsed": true
   },
   "outputs": [],
   "source": [
    "import sys\n",
    "import unittest\n",
    "\n",
    "def test(testClass):\n",
    "    suite = unittest.TestLoader().loadTestsFromTestCase(testClass)\n",
    "    unittest.TextTestRunner(verbosity=1, stream=sys.stderr).run(suite)"
   ]
  },
  {
   "cell_type": "markdown",
   "metadata": {
    "slideshow": {
     "slide_type": "subslide"
    }
   },
   "source": [
    "To ease to work with periodic table elements, usage of the `periodictable` module is recommended:"
   ]
  },
  {
   "cell_type": "code",
   "execution_count": 59,
   "metadata": {
    "collapsed": true
   },
   "outputs": [],
   "source": [
    "import periodictable"
   ]
  },
  {
   "cell_type": "markdown",
   "metadata": {
    "slideshow": {
     "slide_type": "-"
    }
   },
   "source": [
    "This way, a complete set of symbols and elements are already available..."
   ]
  },
  {
   "cell_type": "markdown",
   "metadata": {
    "slideshow": {
     "slide_type": "subslide"
    }
   },
   "source": [
    "... which can be queried by the `get_element_name` function.\n",
    "This function gets a symbol, and returns the capitalized element name if symbol already exists, or `None`, otherwise.\n",
    "\n",
    "**WARNING**: For some weird reason, `periodictable` includes Deuterium (D) as an element:"
   ]
  },
  {
   "cell_type": "code",
   "execution_count": 60,
   "metadata": {
    "collapsed": true
   },
   "outputs": [],
   "source": [
    "def get_element_name(symbol):\n",
    "    try:\n",
    "        return eval(\"periodictable.{}.name\".format(symbol.capitalize())).capitalize()\n",
    "    except AttributeError:\n",
    "        pass"
   ]
  },
  {
   "cell_type": "code",
   "execution_count": 70,
   "metadata": {
    "collapsed": false
   },
   "outputs": [
    {
     "name": "stdout",
     "output_type": "stream",
     "text": [
      "get_element_name('c') = Carbon\n",
      "get_element_name('z') = None\n",
      "get_element_name('al') = Aluminum\n",
      "get_element_name('ab') = None\n",
      "get_element_name('cab') = None\n",
      "get_element_name('joy') = None\n",
      "get_element_name('bin') = None\n",
      "get_element_name('d') = Deuterium\n"
     ]
    }
   ],
   "source": [
    "for case in cases:\n",
    "    print(\"get_element_name('{}') = {}\".format(case[0], get_element_name(case[0])))\n",
    "print(\"get_element_name('d') = {}\".format(get_element_name('d')))"
   ]
  },
  {
   "cell_type": "markdown",
   "metadata": {
    "slideshow": {
     "slide_type": "slide"
    }
   },
   "source": [
    "## Approaches"
   ]
  },
  {
   "cell_type": "markdown",
   "metadata": {},
   "source": [
    "Some approaches to solve this kata could be already discarded, due to complexity of the problem, but some possible options were suggested:\n",
    "\n",
    "* Brute force by iteration: Iterating over the letters in the word, to replace.\n",
    "* Brute force by split: Creating a list of possible divisions of the word, like `[['w', 'o', 'r', 'd'], []`, and iterating over these, replacing each part by elements, and discarding the incomplete ones.\n",
    "* Brute force by replacing: Using `str.replace` or regular expressions, to replace symbols by element names incrementally.\n",
    "* Using concurrency to check every possibility.\n",
    "* [Backtracking](https://en.wikipedia.org/wiki/Backtracking)"
   ]
  }
 ],
 "metadata": {
  "celltoolbar": "Slideshow",
  "kernelspec": {
   "display_name": "Python 3",
   "language": "python",
   "name": "python3"
  },
  "language_info": {
   "codemirror_mode": {
    "name": "ipython",
    "version": 3
   },
   "file_extension": ".py",
   "mimetype": "text/x-python",
   "name": "python",
   "nbconvert_exporter": "python",
   "pygments_lexer": "ipython3",
   "version": "3.4.3"
  }
 },
 "nbformat": 4,
 "nbformat_minor": 0
}
