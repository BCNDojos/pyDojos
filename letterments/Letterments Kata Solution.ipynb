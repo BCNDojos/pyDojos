{
 "cells": [
  {
   "cell_type": "markdown",
   "metadata": {
    "slideshow": {
     "slide_type": "slide"
    }
   },
   "source": [
    "# Letterments kata"
   ]
  },
  {
   "cell_type": "markdown",
   "metadata": {
    "slideshow": {
     "slide_type": "fragment"
    }
   },
   "source": [
    "The target of this kata is to convert a word to a list of possible strings with [periodic table element names](http://www.ptable.com/) from the original word's letters, for example:\n",
    "```\n",
    "letterments('cab') = ['Calcium Boron']\n",
    "```\n",
    "The result of the function is a list, since there are words that might have several solutions.\n",
    "In case there is no possible result at all for a word, the function will return an empty list.\n",
    "\n",
    "Solution to this kata should provide tests, further than the provided cases here.\n",
    "In order to do that, there is a [pretty extensive list of words that might be translated to elemens](https://gist.github.com/jeffThompson/7789182), which would be used."
   ]
  },
  {
   "cell_type": "markdown",
   "metadata": {
    "slideshow": {
     "slide_type": "slide"
    }
   },
   "source": [
    "Let's see some examples:"
   ]
  },
  {
   "cell_type": "code",
   "execution_count": 1,
   "metadata": {
    "collapsed": false,
    "slideshow": {
     "slide_type": "skip"
    }
   },
   "outputs": [],
   "source": [
    "cases = [\n",
    "    ('c', ['Carbon']),\n",
    "    ('z', []),\n",
    "    ('al', ['Aluminum']),\n",
    "    ('bo', ['Boron Oxygen']),\n",
    "    ('ab', []),\n",
    "    ('cab', ['Calcium Boron']),\n",
    "    ('joy', []),\n",
    "    ('bin', ['Boron Indium', 'Bismuth Nitrogen', 'Boron Iodine Nitrogen']),\n",
    "]\n",
    "\n",
    "def letterments_example(word):\n",
    "    for case in cases:\n",
    "        if case[0] == word:\n",
    "            return case"
   ]
  },
  {
   "cell_type": "code",
   "execution_count": 2,
   "metadata": {
    "collapsed": false,
    "slideshow": {
     "slide_type": "-"
    }
   },
   "outputs": [
    {
     "name": "stdout",
     "output_type": "stream",
     "text": [
      "letterments('c') = ('c', ['Carbon'])\n",
      "letterments('z') = ('z', [])\n",
      "letterments('al') = ('al', ['Aluminium'])\n",
      "letterments('ab') = ('ab', [])\n",
      "letterments('cab') = ('cab', ['Calcium Boron'])\n",
      "letterments('joy') = ('joy', [])\n",
      "letterments('bin') = ('bin', ['Boron Indium', 'Bismuth Nitrogen', 'Boron Iodine Nitrogen'])\n"
     ]
    }
   ],
   "source": [
    "for case in cases:\n",
    "    print(\"letterments('{}') = {}\".format(case[0], letterments_example(case[0])))"
   ]
  },
  {
   "cell_type": "markdown",
   "metadata": {
    "slideshow": {
     "slide_type": "slide"
    }
   },
   "source": [
    "## Tooling for this dojo"
   ]
  },
  {
   "cell_type": "markdown",
   "metadata": {},
   "source": [
    "In first place, this goodie to run our `unittest` test class has been included:"
   ]
  },
  {
   "cell_type": "code",
   "execution_count": 3,
   "metadata": {
    "collapsed": true
   },
   "outputs": [],
   "source": [
    "import sys\n",
    "import unittest\n",
    "\n",
    "def test(testClass):\n",
    "    suite = unittest.TestLoader().loadTestsFromTestCase(testClass)\n",
    "    unittest.TextTestRunner(verbosity=1, stream=sys.stderr).run(suite)"
   ]
  },
  {
   "cell_type": "markdown",
   "metadata": {
    "slideshow": {
     "slide_type": "subslide"
    }
   },
   "source": [
    "To ease to work with periodic table elements, usage of the `periodictable` module is recommended:"
   ]
  },
  {
   "cell_type": "code",
   "execution_count": 4,
   "metadata": {
    "collapsed": true
   },
   "outputs": [],
   "source": [
    "import periodictable"
   ]
  },
  {
   "cell_type": "markdown",
   "metadata": {
    "slideshow": {
     "slide_type": "-"
    }
   },
   "source": [
    "This way, a complete set of symbols and elements are already available..."
   ]
  },
  {
   "cell_type": "markdown",
   "metadata": {
    "slideshow": {
     "slide_type": "subslide"
    }
   },
   "source": [
    "... which can be queried by the `get_element_name` function.\n",
    "This function gets a symbol, and returns the capitalized element name if symbol already exists, or `None`, otherwise.\n",
    "\n",
    "**WARNING**: For some weird reason, `periodictable` includes Deuterium (D) as an element:"
   ]
  },
  {
   "cell_type": "code",
   "execution_count": 5,
   "metadata": {
    "collapsed": true
   },
   "outputs": [],
   "source": [
    "def get_element_name(symbol):\n",
    "    try:\n",
    "        return eval(\"periodictable.{}.name\".format(symbol.capitalize())).capitalize()\n",
    "    except AttributeError:\n",
    "        pass"
   ]
  },
  {
   "cell_type": "code",
   "execution_count": 6,
   "metadata": {
    "collapsed": false
   },
   "outputs": [
    {
     "name": "stdout",
     "output_type": "stream",
     "text": [
      "get_element_name('c') = Carbon\n",
      "get_element_name('z') = None\n",
      "get_element_name('al') = Aluminum\n",
      "get_element_name('ab') = None\n",
      "get_element_name('cab') = None\n",
      "get_element_name('joy') = None\n",
      "get_element_name('bin') = None\n",
      "get_element_name('d') = Deuterium\n"
     ]
    }
   ],
   "source": [
    "for case in cases:\n",
    "    print(\"get_element_name('{}') = {}\".format(case[0], get_element_name(case[0])))\n",
    "print(\"get_element_name('d') = {}\".format(get_element_name('d')))"
   ]
  },
  {
   "cell_type": "markdown",
   "metadata": {
    "slideshow": {
     "slide_type": "slide"
    }
   },
   "source": [
    "## Approaches"
   ]
  },
  {
   "cell_type": "markdown",
   "metadata": {},
   "source": [
    "Some approaches to solve this kata could be already discarded, due to complexity of the problem, but some possible options were suggested:\n",
    "\n",
    "* Brute force by iteration: Iterating over the letters in the word, to replace.\n",
    "* Brute force by split: Creating a list of possible divisions of the word, like `[['w', 'o', 'r', 'd'], []`, and iterating over these, replacing each part by elements, and discarding the incomplete ones.\n",
    "* Brute force by replacing: Using `str.replace` or regular expressions, to replace symbols by element names incrementally.\n",
    "* Using concurrency to check every possibility.\n",
    "* [Backtracking](https://en.wikipedia.org/wiki/Backtracking)"
   ]
  },
  {
   "cell_type": "code",
   "execution_count": 25,
   "metadata": {
    "collapsed": false
   },
   "outputs": [],
   "source": [
    "class LettermentsTest(unittest.TestCase):\n",
    "    def test_single_letter(self):\n",
    "        self.assertEqual(letterments('c'), ['Carbon'])\n",
    "        self.assertEqual(letterments('z'), [])\n",
    "\n",
    "    def test_double_letter(self):\n",
    "        self.assertEqual(letterments('al'), ['Aluminum'])\n",
    "        self.assertEqual(letterments('bo'), ['Boron Oxygen'])"
   ]
  },
  {
   "cell_type": "code",
   "execution_count": 79,
   "metadata": {
    "collapsed": false
   },
   "outputs": [],
   "source": [
    "def try_harder(word):\n",
    "    elements = []\n",
    "    if len(word) > 0:\n",
    "        a, *b = word\n",
    "        first = get_element_name(a)\n",
    "        if first is not None:\n",
    "            elements.append(first)\n",
    "            elements.append(try_harder(\"\".join(b)))\n",
    "    if len(elements) > 0:\n",
    "        return \" \".join(elements).strip()\n",
    "    else:\n",
    "        return []\n",
    "\n",
    "def letterments(word):\n",
    "    solutions = []\n",
    "    solution = get_element_name(word)\n",
    "    if solution is not None:\n",
    "        solutions.append(solution)\n",
    "    else:\n",
    "        solutions.append(try_harder(word))\n",
    "    return solutions"
   ]
  },
  {
   "cell_type": "code",
   "execution_count": 80,
   "metadata": {
    "collapsed": false
   },
   "outputs": [
    {
     "name": "stderr",
     "output_type": "stream",
     "text": [
      "EF\n",
      "======================================================================\n",
      "ERROR: test_double_letter (__main__.LettermentsTest)\n",
      "----------------------------------------------------------------------\n",
      "Traceback (most recent call last):\n",
      "  File \"<ipython-input-25-9a49f0c691a1>\", line 8, in test_double_letter\n",
      "    self.assertEqual(letterments('bo'), ['Boron Oxygen'])\n",
      "  File \"<ipython-input-79-3e27781ea93c>\", line 20, in letterments\n",
      "    solutions.append(try_harder(word))\n",
      "  File \"<ipython-input-79-3e27781ea93c>\", line 8, in try_harder\n",
      "    elements.append(try_harder(\"\".join(b)))\n",
      "  File \"<ipython-input-79-3e27781ea93c>\", line 10, in try_harder\n",
      "    return \" \".join(elements).strip()\n",
      "TypeError: sequence item 1: expected str instance, list found\n",
      "\n",
      "======================================================================\n",
      "FAIL: test_single_letter (__main__.LettermentsTest)\n",
      "----------------------------------------------------------------------\n",
      "Traceback (most recent call last):\n",
      "  File \"<ipython-input-25-9a49f0c691a1>\", line 4, in test_single_letter\n",
      "    self.assertEqual(letterments('z'), [])\n",
      "AssertionError: Lists differ: [[]] != []\n",
      "\n",
      "First list contains 1 additional elements.\n",
      "First extra element 0:\n",
      "[]\n",
      "\n",
      "- [[]]\n",
      "+ []\n",
      "\n",
      "----------------------------------------------------------------------\n",
      "Ran 2 tests in 0.001s\n",
      "\n",
      "FAILED (failures=1, errors=1)\n"
     ]
    }
   ],
   "source": [
    "test(LettermentsTest)"
   ]
  },
  {
   "cell_type": "code",
   "execution_count": null,
   "metadata": {
    "collapsed": true
   },
   "outputs": [],
   "source": []
  }
 ],
 "metadata": {
  "celltoolbar": "Slideshow",
  "kernelspec": {
   "display_name": "Python 3",
   "language": "python",
   "name": "python3"
  },
  "language_info": {
   "codemirror_mode": {
    "name": "ipython",
    "version": 3
   },
   "file_extension": ".py",
   "mimetype": "text/x-python",
   "name": "python",
   "nbconvert_exporter": "python",
   "pygments_lexer": "ipython3",
   "version": "3.4.3"
  }
 },
 "nbformat": 4,
 "nbformat_minor": 0
}
