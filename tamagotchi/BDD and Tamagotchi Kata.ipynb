{
 "cells": [
  {
   "cell_type": "markdown",
   "metadata": {
    "slideshow": {
     "slide_type": "slide"
    }
   },
   "source": [
    "# BDD\n",
    "\n",
    "\n",
    "\n",
    "\n",
    "\n",
    "\n",
    "\n",
    "\n",
    "github.com/BCNDojos/pyDojos (tamagotchi folder)"
   ]
  },
  {
   "cell_type": "markdown",
   "metadata": {
    "slideshow": {
     "slide_type": "slide"
    }
   },
   "source": [
    "## Introduction to BDD\n",
    "\n",
    "#### * BDD = TDD + DDD + OO Design\n",
    "#### * From Business/Domain\n",
    "#### * DSL to map natural language into test steps\n",
    "#### * More about what than how\n",
    "#### * Ubiquitous language"
   ]
  },
  {
   "cell_type": "markdown",
   "metadata": {
    "slideshow": {
     "slide_type": "subslide"
    }
   },
   "source": [
    "## Kinds of BDD\n",
    "\n",
    "#### Spec based\n",
    "\n",
    "    describe \"function\":\n",
    "      with \"some data\" as variable:\n",
    "        it \"returns 0\":\n",
    "            assert function(variable) == 0\n",
    "\n",
    "#### Gherkin based\n",
    "\n",
    "    Given some data\n",
    "    When I use function\n",
    "    Then I get some result"
   ]
  },
  {
   "cell_type": "markdown",
   "metadata": {
    "slideshow": {
     "slide_type": "subslide"
    }
   },
   "source": [
    "## BDD in Python: Behave (I)\n",
    "\n",
    "#### Gherkin\n",
    "\n",
    "    Feature: Addition\n",
    "    \n",
    "    As a user of a calculator\n",
    "    I want to use the addition function on two integer variables\n",
    "    So I get the addition of both as result\n",
    "    \n",
    "    Scenario: Simple addition\n",
    "    \n",
    "    Given two integer variables\n",
    "    When I use add on these\n",
    "    Then I get the addition of both"
   ]
  },
  {
   "cell_type": "markdown",
   "metadata": {
    "slideshow": {
     "slide_type": "subslide"
    }
   },
   "source": [
    "## BDD in Python: Behave (II)\n",
    "\n",
    "#### Steps\n",
    "\n",
    "    from behave import *\n",
    "    form calculator import add\n",
    "    \n",
    "    @given(\"two integer variables\")\n",
    "    def step_two_integer_variables(context):\n",
    "        context.variable1 = 2\n",
    "        context.variable2 = 2\n",
    "        \n",
    "    @when(\"I use add on these\")\n",
    "    def step_add(context):\n",
    "        context.result = add(context.variable1, context.variable2)\n",
    "        \n",
    "    @then(\"I get the addition of both\")\n",
    "    def step_result_add(context):\n",
    "        assert context.result == 4"
   ]
  },
  {
   "cell_type": "markdown",
   "metadata": {
    "slideshow": {
     "slide_type": "slide"
    }
   },
   "source": [
    "## Tamagotchi Kata\n",
    "\n",
    "http://agilekatas.co.uk/katas/Tamagotchi-Kata\n",
    "\n",
    "A Tamagotchi is a small, handheld digital pet that you can feed, play with, put to bed and clean up after. Look after it well by feeding it the right kinds of foods, showering it with attention and cleaning up after it when required, and your Tamagotchi will grow up to be a smart, well-respected member of society.\n",
    "\n",
    "To aid the quick release of this project, we require you to deliver the absolute minimum that could reasonably be called a Tamagotchi pet as soon as possible. Then we're going to add all of the good stuff- different foods and games to play, all purchasable with our own very special currency, the Kablammo."
   ]
  },
  {
   "cell_type": "markdown",
   "metadata": {
    "slideshow": {
     "slide_type": "subslide"
    }
   },
   "source": [
    "## Feeding Tamagotchi\n",
    "\n",
    "    Feature: Feeding Tamagotchi\n",
    "\n",
    "    As a Tamagotchi owner\n",
    "    I want to feed my Tamagotchi\n",
    "    So that I can satiate its hunger\n",
    "\n",
    "    Scenario: Simple feeding\n",
    "\n",
    "    Given I have a Tamagotchi\n",
    "    When I feed it\n",
    "    Then its hungriness is decreased\n",
    "    And its fullness is increased"
   ]
  },
  {
   "cell_type": "markdown",
   "metadata": {
    "slideshow": {
     "slide_type": "slide"
    }
   },
   "source": [
    "## BDD in Python: Behave (III)\n",
    "\n",
    "#### Steps\n",
    "\n",
    "    from behave import *\n",
    "    form calculator import add\n",
    "    \n",
    "    @given(\"two integer variables\")\n",
    "    def step_two_integer_variables(context):\n",
    "        context.variable1 = 2\n",
    "        context.variable2 = 2\n",
    "        \n",
    "    @when(\"I use {function} on these\")\n",
    "    def step_apply_function(context, fucntion):\n",
    "        context.result = globals[function](context.variable1, context.variable2)\n",
    "        \n",
    "    @then(\"I get the addition of both\")\n",
    "    def step_result_add(context):\n",
    "        assert context.result == 4"
   ]
  },
  {
   "cell_type": "markdown",
   "metadata": {
    "slideshow": {
     "slide_type": "subslide"
    }
   },
   "source": [
    "## BDD in Python: Behave (IV)\n",
    "\n",
    "#### Steps\n",
    "\n",
    "    from behave import *\n",
    "    form calculator import add\n",
    "    \n",
    "    @given(\"two integer variables\")\n",
    "    def step_two_integer_variables(context):\n",
    "        context.variable1 = 2\n",
    "        context.variable2 = 2\n",
    "    \n",
    "    @given(\"two variables\")\n",
    "    def step_two_variables(context):\n",
    "        context.execute_steps('''\n",
    "            Given two integer variables\n",
    "        ''')\n",
    "        \n",
    "    @when(\"I use {function} on these\")\n",
    "    def step_apply_function(context, fucntion):\n",
    "        context.result = globals[function](context.variable1, context.variable2)\n",
    "        \n",
    "    @then(\"I get the addition of both\")\n",
    "    def step_result_add(context):\n",
    "        assert context.result == 4"
   ]
  },
  {
   "cell_type": "markdown",
   "metadata": {
    "slideshow": {
     "slide_type": "subslide"
    }
   },
   "source": [
    "## Playing with Tamagotchi\n",
    "\n",
    "    Feature: Playing with Tamagotchi\n",
    "    \n",
    "    As a Tamagotchi owner\n",
    "    I want to play with my Tamagotchi\n",
    "    So that I can make it happier\n",
    "    \n",
    "    Scenario: Simple action\n",
    "    \n",
    "    Given I have a Tamagotchi\n",
    "    When I play with it\n",
    "    Then its happiness is increased\n",
    "    And its tiredness is increased"
   ]
  },
  {
   "cell_type": "markdown",
   "metadata": {
    "slideshow": {
     "slide_type": "slide"
    }
   },
   "source": [
    "## Putting Tamagotchi to bed\n",
    "\n",
    "    Feature: Putting Tamagotchi to bed\n",
    "\n",
    "    As a Tamagotchi owner\n",
    "    I want to put my Tamagotchi to bed\n",
    "    So that I can refill its energy\n",
    "\n",
    "    Scenario: Simple putting to bed\n",
    "\n",
    "    Given I have a Tamagotchi\n",
    "    When I put it to bed\n",
    "    Then its tiredness is decreased"
   ]
  },
  {
   "cell_type": "markdown",
   "metadata": {
    "slideshow": {
     "slide_type": "slide"
    }
   },
   "source": [
    "## Making Tamagotchi to poop\n",
    "\n",
    "    Feature: Making Tamagotchi to poop\n",
    "    \n",
    "    As a Tamagotchi owner\n",
    "    I want to make my Tamagotchi poop\n",
    "    So that it is more comfortable\n",
    "    \n",
    "    Scenario: Simple action\n",
    "    \n",
    "    Given I have a Tamagotchi\n",
    "    When I make it poop\n",
    "    Then its fullness is decreased"
   ]
  },
  {
   "cell_type": "markdown",
   "metadata": {
    "slideshow": {
     "slide_type": "slide"
    }
   },
   "source": [
    "## Changing Tamagotchi needs over time\n",
    "\n",
    "    Feature: Changing Tamagotchi Needs Over Time\n",
    "    \n",
    "    As a Tamagotchi owner\n",
    "    I want my Tamagotchi's needs to change over time\n",
    "    So that I have to look after it carefully\n",
    "    \n",
    "    Scenario: Time passing\n",
    "    \n",
    "    Given I have a Tamagotchi\n",
    "    When time passes\n",
    "    Then its tiredness is increased\n",
    "    And its hungriness is increased\n",
    "    And its happiness is decreased"
   ]
  }
 ],
 "metadata": {
  "celltoolbar": "Slideshow",
  "kernelspec": {
   "display_name": "Python 3",
   "language": "python",
   "name": "python3"
  },
  "language_info": {
   "codemirror_mode": {
    "name": "ipython",
    "version": 3
   },
   "file_extension": ".py",
   "mimetype": "text/x-python",
   "name": "python",
   "nbconvert_exporter": "python",
   "pygments_lexer": "ipython3",
   "version": "3.5.2"
  }
 },
 "nbformat": 4,
 "nbformat_minor": 2
}
