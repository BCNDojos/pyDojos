{
 "cells": [
  {
   "cell_type": "markdown",
   "metadata": {},
   "source": [
    "# Substitution cipher\n",
    "<img src=\"img/substitution_cipher.png\" width=\"220\" align=\"right\">\n",
    "\n",
    "- ### Task #6 example\n",
    "  [original text](https://www.iflscience.com/editors-blog/giant-penis-appears-english-hillside-overnight-because-of-course-it-has/)"
   ]
  },
  {
   "cell_type": "code",
   "execution_count": null,
   "metadata": {},
   "outputs": [],
   "source": [
    "from string import ascii_uppercase as alphabet\n",
    "\n",
    "\n",
    "encrypted_text = \"NCUMGWNCLEHYMFNCALANSGYLCHERQMULYMLVLPMNJWMCHXMXESMHPGXMJNPYLTHCALZZHEHNCLFSGYLCXLCZESMHPNYCHWPMXMCUMWMPSLWXQMULGXMESMRVMPMMLXHMPENZPLVESLCNESMPBHELFPMWPNZGUEHBMNPALCXNPYLRQMHEXOGXEQMULGXMESMRFNNTMKUMMZHCAFRPHZHUGFNGXYNEHJXLWWMLPMZHCXTMEUSMXMEUSMXWLHCEHCAXYNXLHUXLCZXNNCLCZESGXESMMEMPCLFEPLZHEHNCNJZPLVHCAWMCHXMXQMALCWMPSLWXNJUNGPXMHEXLFFLUNCXMIGMCUMNJYLFMFMZXNUHMEHMXVSLEMBMPESMPMLXNCESMRLPMGCJNPEGCLEMFRCNVMBMPRVSMPMNCMWLPEHUGFLPFRWNHCEMZMKLYWFMVLXESLENJESMUNFNXXLFWMCHXZGANGENJLZPRFLTMQMZHCLGXEPLFHLVSHUSUNGFZEMUSCHULFFRQMXMMCJPNYXWLUMVHESLANNZDNNYLCZMCSLCUMXERFMQHENJYLAHUUNGPEMXRNJANNAFMMLPESLCRVLRHEXMMYXESLEJNPYHFFMCCHLSGYLCXULCCNEPMXHXEWFLXEMPHCAESMXMEHELCHUYMYQMPXLFFNBMPESMWFLUMESMFLEMXEMKLYWFMUNYMXUNGPEMXRNJESMGTVSHUSHXNCMNJXMBMPLFUNGCEPHMXSNYMENLYLXXHBMLCUHMCEYLCVHESLCGCUNYJNPELQFRMPMUEWMCHXNCLSHFFXHZMXNYMVSMPMLXVLXNCUMWNHCEMZNGEMBMPRRMLPWMNWFMSLBMENYNVESMAPLXXLPNGCZESMAHLCEUFHJJWMCHXLCZCNNCMXMMYXENESHCTEVHUMESHXCMVLZZHEHNCENESMWMCHXWLCESMNCLWWMLPMZLXWLPENJESMENGPNJQPHELHCLSGAMURUFHCAMBMCEHEVLXCELCNJJHUHLFLUEHNCQRESMVLRQGEESMVNPTNJXNYMWPLCTXEMPXVSNYLCLAMZENUSLCAMLPLESMPFLPAMQHTMYGPLFNCLCNESMPBHPHZHLCUFHJJHCENLWMCHXHFJPLUNYQMZNHCAGXWPNGZWHUEVHEEMPUNYCZSGESDKULFULFOXEMWSMCXNCXMWEMYQMPWMPQQUCMVXESMYLCPNUTMEHXLZNPCHCALUFHJJHCHFJPLUNYQMZMBNCVSMPMWLPENJESMWPNFNCAMZURUFHCAPLUMHXELTHCAWFLUMHEWNWWMZGWNCEGMXZLRNJESHXBMPRVMMTLCZXMMYXENSLBMZMJHFMZVSLEVLXLCLEEMYWELEMCBHPNCYMCELFHXYLFNULFAPNGWNJMUNESNGASEJGFSGYLCXYLZMESMNPHAHCLFQHTMNGENJPMUFLHYMZWFLXEHULCZULPZQNLPZWPNOMUEUNNPZHCLENPXMESUNCVLRENFZPMWNPEXESLEZMXWHEMESMPGZMLVLTMCHCAESMXGZZMCWMCHXSLXUPMLEMZIGHEMLQHENJLQGDDLCZHEXXSNCMLQHEYNPMLEEMCEHNCNCENVSLEESMQHTMVLXESMPMJNPNCFREHYMVHFFEMFFHJESHXQMUNYMXLXENPRLQNGEMCBHPNCYMCELFBLFGMXNPNCMESLEXLFFLQNGEVSLEESMFNULFXVNGFZPMJMPENLXLVMHPZVHFFRHXESMPMWMPUSLCUMLYNPLFENESHXYNZMPCZLRWLPLQFMRNGUNGFZUNCJHZMCEFRXLRESLEVSMPMESMPMHXLCNWWNPEGCHERENAPLJJHEHESMPMVHFFQMLWMCHXQGEESLEXYNPMNJLYLCEPLESLCLYNPLFVSLEHXLFXNUMPELHCFREPGMHXESLEJPNYESMUMPCMLQQLXAHLCEUSLFTWNFMHCZNPXMEENESMCMESMPPMAHNCXQHTMHCZMBNCESNXMFHBHCANCESLEPNRLFESPNCMNJTHCAXESLEXUMWEMPMZHXFMESLEMLPESNJYLOMXEPRESLEXMLENJYLPXESLENESMPMZMCLCZZMYHWLPLZHXMLPMWLPEHLFENLWMCHXNCLUFHJJ\"\n",
    "print(encrypted_text)"
   ]
  },
  {
   "cell_type": "code",
   "execution_count": null,
   "metadata": {},
   "outputs": [],
   "source": [
    "dectypt_alphabet_map = {\n",
    "    'A': '?', # 11 from fifth word lon.a.o\n",
    "    'B': '?',\n",
    "    'C': '?', # 8 From first word O.ce\n",
    "    'D': '?',\n",
    "    'E': '?', # 2 second most common letter from trigraph analysis\n",
    "    'F': '?', # 4 from common double letters\n",
    "    'G': '?', # find ALLA.O.T=ABOUT\n",
    "    'H': '?', # 10 From third word t..e\n",
    "    'I': '?',\n",
    "    'J': '?', # 12 last word cli..\n",
    "    'K': '?',\n",
    "    'L': '?', # 4 third most common letter\n",
    "    'M': '?', # 1 most frequent letter\n",
    "    'N': '?', # 5 fourth most frequent letter\n",
    "    'O': '?',\n",
    "    'P': '?', # 12 from word thei.\n",
    "    'Q': '?', # 5 find ALLA.O.T=ABOUT\n",
    "    'R': '?', # 13 From humanit.\n",
    "    'S': '?', # 3 from trigraph analysis\n",
    "    'T': '?', # 14 from ma.ing\n",
    "    'U': '?', # 7 from beCause\n",
    "    'V': '?', # 12 word a.are\n",
    "    'W': '?', # 9 From the second word U.ON\n",
    "    'X': '?', # 6 from ulouS ending\n",
    "    'Y': '?', # 10 From third word t..e\n",
    "    'Z': '?', # 13 from word tues.ay\n",
    "}\n",
    "plain_text = ''\n",
    "for ch in encrypted_text:\n",
    "    plain_text += dectypt_alphabet_map[ch]\n",
    "print(plain_text)"
   ]
  },
  {
   "cell_type": "markdown",
   "metadata": {},
   "source": [
    "### Frequency Analysis\n",
    "#### Plotly to visualize data https://plot.ly"
   ]
  },
  {
   "cell_type": "code",
   "execution_count": null,
   "metadata": {},
   "outputs": [],
   "source": [
    "from plotly import graph_objs as go\n",
    "from plotly.offline import init_notebook_mode, iplot\n",
    "init_notebook_mode(connected=True)"
   ]
  },
  {
   "cell_type": "markdown",
   "metadata": {},
   "source": [
    "#### Single letter frequency analysis"
   ]
  },
  {
   "cell_type": "code",
   "execution_count": null,
   "metadata": {},
   "outputs": [],
   "source": [
    "english_letter_frequencies = { 'E': 12.1, 'T': 8.94, 'A': 8.55, 'O': 7.47, 'I': 7.33, 'N': 7.17, 'S': 6.73, 'R': 6.33, 'H': 4.96, 'L': 4.21, 'D': 3.87, 'C': 3.16, 'U': 2.68, 'M': 2.53, 'F': 2.18, 'G': 2.09, 'P': 2.07, 'W': 1.83, 'B': 1.6, 'Y': 1.72, 'V': 1.06, 'K': 0.81, 'J': 0.22, 'X': 0.19, 'Q': 0.1, 'Z': 0.11, }\n",
    "chart_letters = sorted(english_letter_frequencies, key=english_letter_frequencies.__getitem__, reverse=True)\n",
    "chart_letters_count = sorted(english_letter_frequencies.values(), reverse=True)\n",
    "iplot([go.Bar(x=chart_letters, y=chart_letters_count, marker={'color':'rgb(204,204,204)'})])"
   ]
  },
  {
   "cell_type": "code",
   "execution_count": null,
   "metadata": {},
   "outputs": [],
   "source": [
    "letter_frequencies = {}\n",
    "for letter in alphabet:\n",
    "    letter_frequencies[letter] = encrypted_text.count(letter)\n",
    "\n",
    "print(letter_frequencies)"
   ]
  },
  {
   "cell_type": "code",
   "execution_count": null,
   "metadata": {},
   "outputs": [],
   "source": [
    "chart_letters = sorted(letter_frequencies, key=letter_frequencies.__getitem__, reverse=True)\n",
    "chart_letters_count = sorted(letter_frequencies.values(), reverse=True)\n",
    "iplot([go.Bar(x=chart_letters, y=chart_letters_count)])"
   ]
  },
  {
   "cell_type": "markdown",
   "metadata": {},
   "source": [
    "#### Trigraphs frequency analysis"
   ]
  },
  {
   "cell_type": "code",
   "execution_count": null,
   "metadata": {},
   "outputs": [],
   "source": [
    "english_trigraphs_frequencies = { 'THE': 1.81, 'AND': 0.73, 'ING': 0.72, 'ION': 0.42, 'ENT': 0.42, 'HER': 0.36, 'FOR': 0.34, 'THA': 0.33, 'NTH': 0.33, 'INT': 0.32, 'ERE': 0.31, 'TIO': 0.31, 'TER': 0.30, 'ERS': 0.28, 'EST': 0.28, 'ATI': 0.26, 'HAT': 0.26, 'ATE': 0.25, 'ALL': 0.25, 'VER': 0.24, 'HES': 0.24, 'HIS': 0.24, 'ETH': 0.24, 'OFT': 0.22, 'ITH': 0.21, 'FTH': 0.21, 'STH': 0.21, 'OTH': 0.21, 'RES': 0.21, 'ONT': 0.20, }\n",
    "chart_trigraphs = sorted(english_trigraphs_frequencies, key=english_trigraphs_frequencies.__getitem__, reverse=True)\n",
    "chart_trigraphs_count = sorted(english_trigraphs_frequencies.values(), reverse=True)\n",
    "iplot([go.Bar(x=chart_trigraphs, y=chart_trigraphs_count, marker={'color':'rgb(204,204,204)'})])"
   ]
  },
  {
   "cell_type": "code",
   "execution_count": null,
   "metadata": {},
   "outputs": [],
   "source": [
    "from itertools import combinations, product\n",
    "\n",
    "\n",
    "frequencies = {}\n",
    "for letters in product(alphabet, repeat=3):\n",
    "    trigraph = ''.join(letters)\n",
    "    frequencies[trigraph] = encrypted_text.count(trigraph)\n",
    "\n",
    "\n",
    "print(len(frequencies), 'trigraphs')\n",
    "top_30_trigraphs = sorted(frequencies, key=frequencies.__getitem__, reverse=True)[:30]\n",
    "top_30_trigraphs_count = [frequencies[trigraph] for trigraph in top_30_trigraphs]\n",
    "iplot([go.Bar(x=top_30_trigraphs, y=top_30_trigraphs_count)])\n"
   ]
  },
  {
   "cell_type": "markdown",
   "metadata": {},
   "source": [
    "#### Double letters frequency analysis"
   ]
  },
  {
   "cell_type": "code",
   "execution_count": null,
   "metadata": {},
   "outputs": [],
   "source": [
    "english_doubles = { 'TT': 17.45, 'LL': 17.45, 'EE': 14.95, 'SS': 13.4, 'OO': 11.21, 'RR': 4.36, 'DD': 4.05, 'FF': 3.43, 'PP': 3.12, 'NN': 2.49, 'HH': 1.87, 'MM': 1.56, 'CC': 1.25, 'GG': 1.25, 'WW': 0.62, 'YY': 0.62, 'II': 0.31, 'AA': 0.31, 'BB': 0.31, }\n",
    "chart_doubles = sorted(english_doubles, key=english_doubles.__getitem__, reverse=True)\n",
    "chart_doubles_count = sorted(english_doubles.values(), reverse=True)\n",
    "iplot([go.Bar(x=chart_doubles, y=chart_doubles_count, marker={'color':'rgb(204,204,204)'})])"
   ]
  },
  {
   "cell_type": "code",
   "execution_count": null,
   "metadata": {},
   "outputs": [],
   "source": [
    "frequencies = {}\n",
    "doubles = [i+i for i in alphabet]\n",
    "for double in doubles:\n",
    "    frequencies[double] = encrypted_text.count(double)\n",
    "\n",
    "chart_doubles = sorted(frequencies, key=frequencies.__getitem__, reverse=True)[:19]\n",
    "chart_doubles_count = [frequencies[double] for double in chart_doubles]\n",
    "iplot([go.Bar(x=chart_doubles, y=chart_doubles_count)])"
   ]
  }
 ],
 "metadata": {
  "kernelspec": {
   "display_name": "Python 3",
   "language": "python",
   "name": "python3"
  },
  "language_info": {
   "codemirror_mode": {
    "name": "ipython",
    "version": 3
   },
   "file_extension": ".py",
   "mimetype": "text/x-python",
   "name": "python",
   "nbconvert_exporter": "python",
   "pygments_lexer": "ipython3",
   "version": "3.7.0"
  }
 },
 "nbformat": 4,
 "nbformat_minor": 2
}
