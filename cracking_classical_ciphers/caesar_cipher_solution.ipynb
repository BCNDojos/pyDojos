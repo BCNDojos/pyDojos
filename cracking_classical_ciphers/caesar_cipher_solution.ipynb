{
 "cells": [
  {
   "cell_type": "markdown",
   "metadata": {},
   "source": [
    "# Caesar cipher\n",
    "<img src=\"img/caesar_cipher.png\" width=\"220\" align=\"right\">\n",
    "\n",
    "- ### Task #1: Encode with key=`23`:\n",
    "  `HELLO WORLD!`\n",
    "- ### Task #2: Decode:\n",
    "  `OVSH TBUKV`"
   ]
  },
  {
   "cell_type": "markdown",
   "metadata": {},
   "source": [
    "### Task #1 Solution"
   ]
  },
  {
   "cell_type": "code",
   "execution_count": null,
   "metadata": {},
   "outputs": [],
   "source": [
    "from string import ascii_uppercase as alphabet\n",
    "\n",
    "\n",
    "plain_text = 'HELLO WORLD!'\n",
    "key = 23\n",
    "\n",
    "encrypted_text = ''\n",
    "for symbol in plain_text:\n",
    "    if symbol in alphabet:\n",
    "        symbol_index = alphabet.index(symbol)\n",
    "        encrypted_symbol_index = (symbol_index + key) % 26\n",
    "        encrypted_symbol = alphabet[encrypted_symbol_index]\n",
    "    else:\n",
    "        encrypted_symbol = symbol\n",
    "    encrypted_text += encrypted_symbol\n",
    "\n",
    "print(encrypted_text)"
   ]
  },
  {
   "cell_type": "markdown",
   "metadata": {},
   "source": [
    "### Task #2 Solution"
   ]
  },
  {
   "cell_type": "code",
   "execution_count": null,
   "metadata": {},
   "outputs": [],
   "source": [
    "cipher_text = 'OVSH TBUKV'\n",
    "\n",
    "\n",
    "def caesar_decrypt(cipher_text, key):\n",
    "    plain_text = ''\n",
    "    for symbol in cipher_text:\n",
    "        if symbol in alphabet:\n",
    "            symbol_index = alphabet.index(symbol)\n",
    "            decrypted_symbol_index = (symbol_index - key) % 26\n",
    "            decrypted_symbol = alphabet[decrypted_symbol_index]\n",
    "        else:\n",
    "            decrypted_symbol = symbol\n",
    "        plain_text += decrypted_symbol\n",
    "    return plain_text\n",
    "\n",
    "\n",
    "# Brute-force attack\n",
    "for key in range(26):\n",
    "    plain_text = caesar_decrypt(cipher_text, key)\n",
    "    print(plain_text, ' key:', key)"
   ]
  }
 ],
 "metadata": {
  "kernelspec": {
   "display_name": "Python 3",
   "language": "python",
   "name": "python3"
  },
  "language_info": {
   "codemirror_mode": {
    "name": "ipython",
    "version": 3
   },
   "file_extension": ".py",
   "mimetype": "text/x-python",
   "name": "python",
   "nbconvert_exporter": "python",
   "pygments_lexer": "ipython3",
   "version": "3.7.0"
  }
 },
 "nbformat": 4,
 "nbformat_minor": 2
}
