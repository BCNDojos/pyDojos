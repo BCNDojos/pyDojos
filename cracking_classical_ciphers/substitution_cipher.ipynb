{
 "cells": [
  {
   "cell_type": "markdown",
   "metadata": {},
   "source": [
    "# Substitution cipher\n",
    "<img src=\"img/substitution_cipher.png\" width=\"220\" align=\"right\">\n",
    "\n",
    "- ### Task #5: Encode with random.shuffle and random.seed(774):\n",
    "  `HELLO WORLD`\n",
    "- ### Task #6: Decrypt the cipher from here: https://goo.gl/7Rt87q"
   ]
  },
  {
   "cell_type": "markdown",
   "metadata": {},
   "source": [
    "### Task #5 Hints:"
   ]
  },
  {
   "cell_type": "code",
   "execution_count": null,
   "metadata": {},
   "outputs": [],
   "source": [
    "import random\n",
    "from string import ascii_uppercase as alphabet\n",
    "\n",
    "\n",
    "random.seed(774)\n",
    "\n",
    "substitution_alphabet = list(alphabet)\n",
    "random.shuffle(substitution_alphabet)\n",
    "substitution_alphabet = ''.join(substitution_alphabet)\n",
    "\n",
    "    \n",
    "print(alphabet)\n",
    "print(substitution_alphabet)"
   ]
  },
  {
   "cell_type": "markdown",
   "metadata": {},
   "source": [
    "A|B|C|D|E|F|G|H|I|J|K|L|M|N|O|P|Q|R|S|T|U|V|W|X|Y|Z\n",
    "-|-|-|-|-|-|-|-|-|-|-|-|-|-|-|-|-|-|-|-|-|-|-|-|-|-\n",
    "X|Y|E|L|Q|G|M|W|T|Z|R|C|K|B|N|V|U|I|H|F|O|P|S|D|A|J"
   ]
  }
 ],
 "metadata": {
  "kernelspec": {
   "display_name": "Python 3",
   "language": "python",
   "name": "python3"
  },
  "language_info": {
   "codemirror_mode": {
    "name": "ipython",
    "version": 3
   },
   "file_extension": ".py",
   "mimetype": "text/x-python",
   "name": "python",
   "nbconvert_exporter": "python",
   "pygments_lexer": "ipython3",
   "version": "3.7.0"
  }
 },
 "nbformat": 4,
 "nbformat_minor": 2
}
