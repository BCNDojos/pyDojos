{
 "cells": [
  {
   "cell_type": "markdown",
   "metadata": {},
   "source": [
    "# Vigenere cipher\n",
    "<img src=\"img/vigenere.jpg\" width=\"220\" align=\"right\">\n",
    "\n",
    "- ### Task #7: Encode with key=`BCN`:\n",
    "  `HELLO WORLD`\n",
    "- ### Task #8: Decrypt the cipher from here: https://goo.gl/7Rt87q"
   ]
  },
  {
   "cell_type": "markdown",
   "metadata": {},
   "source": [
    "### Example\n",
    "key = `MAD`  \n",
    "plain_text = `HELLO WORLD`"
   ]
  },
  {
   "cell_type": "markdown",
   "metadata": {},
   "source": [
    "1. Find column `H` and find row `M`: `T`\n",
    "2. Find column `E` and find row `A`: `E`\n",
    "3. Find column `L` and find row `D`: `O`\n",
    "---\n",
    "4. Find column `L` and find row `M`: `X`\n",
    "5. Find column `O` and find row `A`: `O`\n",
    "6. Find column `W` and find row `D`: `Z`\n",
    "---\n",
    "7. Find column `O` and find row `M`: `A`\n",
    "8. Find column `R` and find row `A`: `R`\n",
    "9. Find column `L` and find row `D`: `O`\n",
    "---\n",
    "10. Find column `D` and find row `M`: `P`"
   ]
  },
  {
   "cell_type": "markdown",
   "metadata": {},
   "source": [
    "#### Answer: TEOXO ZAROP"
   ]
  }
 ],
 "metadata": {
  "kernelspec": {
   "display_name": "Python 3",
   "language": "python",
   "name": "python3"
  },
  "language_info": {
   "codemirror_mode": {
    "name": "ipython",
    "version": 3
   },
   "file_extension": ".py",
   "mimetype": "text/x-python",
   "name": "python",
   "nbconvert_exporter": "python",
   "pygments_lexer": "ipython3",
   "version": "3.7.0"
  }
 },
 "nbformat": 4,
 "nbformat_minor": 2
}
