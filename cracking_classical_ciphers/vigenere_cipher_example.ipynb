{
 "cells": [
  {
   "cell_type": "markdown",
   "metadata": {},
   "source": [
    "# Vigenere cipher\n",
    "<img src=\"img/vigenere.jpg\" width=\"220\" align=\"right\">"
   ]
  },
  {
   "cell_type": "markdown",
   "metadata": {},
   "source": [
    "### Example"
   ]
  },
  {
   "cell_type": "code",
   "execution_count": null,
   "metadata": {},
   "outputs": [],
   "source": [
    "from string import ascii_uppercase as alphabet\n",
    "\n",
    "\n",
    "encrypted_text = 'EWLYAOCEYOGYUCRPFORCKSYYYPFIYDTBUCVFEWLGREGERGCNKAKVBLKLLDVNYQUSLOAZGFBPKZKMNTZITYVTEWLFFERNRZGHUCXVLOABLPRVOLVCFMGSVWGSKMDHRMVBZBTTUCJSQEZMIURNZDRQHUSKCSNNKZJCEEBMESKPRWJWIEYPZHUEXMRARROKRHBCRMRFBUZBYSVNBIUWAGIZZHGEXANWGHZPVWESZQEUVNMJLHGJGDVZVNYGFIEEGTCMFHUCCRPARTRDEOLMJGVOTICSVTNMIKNYOBJSRMYBYOGETWLUUOLGFIUABMSSRNIPRGRDHGRGJAXUFTJAYXJWASUUVQNSKARTGEXITQVDKVKOYLELZGGUXJZBTTNMZFAEYBJTBRHJTBRWYIERNFKEFHUEXXCOPEYBFSKPRIZBJHGBSSFTZWUCVNZPZGFIZCRHVOTBFPRFGQIKNSVANVRTNMIMBUXMUSNLOVXKVTNGVZYOCRRQXEZAFFUOXVVHFAYEVZYAYJVSFCGVSSCRKBKMQATOVFBUYXVFYILMYOPKKZKVRYGKTCHNZNFFCEXKVBGOLICZNNOURZEERIKSQDKIKVFFUZFJRRYQEHUEAAKVRCUTCSPTODVWAJKKKWBNUNKVRIXDVBBMOVKCLOAZSCQYIIEQRRZIZBYYVZFJBKKAFARHUZIWSIIIERFOSMKWZEYLVOQLEZVOPTOWEGGHGBJTBRYCISFOQVFKVNMEYOGTULFWATNMVJRNZWWOAAZBRQXIYXRFNMUCEHFOCPRHFHUCCRLOALFHUEHMJHNDBQTSVSVZVHGYUJMWBUYLFBGGUVVOETNMZFAEYBJWSYUCCSNVKBYSZARWESGHKGNCATLMVZGHXMRHRNKLRBQTNMPZYLKIMSLOAJVHBOIWEHEAXGKCJHGBPCHROVJHVNIBLOYFKIIGZAEJVHRLRQEULOABYSHKYVRHVOTICVRARBYGRRBQTSAHYWWTRRYAFARISXFFGATBRRIIIMKVNTYIUAVTZMUZLDONWWPURBKCFTOKBHBRKURWACGTDOADSWMSNWGGJZBWRGZTLOAMEQBUTBVFJAYXJVBRTMKGBRHMVGNBRWXDBSZMODYAOVJRBNZERJRYUCIOEMYIICHNJWIGJAZIKHUESQWMBUJWPCHLRRLGGPXWMCXEZPVAGOGBKOPKEWLTHRZPVFNSEWLZYLUWBABRKBYFRAZMEWAGEWLGUOATUBGEBMEGJAZIKHUESQERVVOLLOYLEQWMBUJWKVRYSIPFRLKIJSCHKZFABNKAKVNTGBKFNCZUFFRWGAGGBRHMVGLOAZNOLAIKFFQITOKCGHKJIWGIYPGSFTIWEHEORIJGBCOIKWBNONPCHRKAFARWNMISVNZPVOZEXQTOFATLPCHGKBGOETOKLZNRRGLBYUISPHUEYERFZMGGSSPOSXIWFEJWWOSROKRBVZKLYCAEEJVSFARBYCHGNNVOGUXQEUYEYAMSAOSXVFOEKBYOAOZPVFFTNMZFFWGZDGNRKUFFRPUXLZBUYNRGGEXIERZOXMRUTRKAJWIEOVKVNTKDVBGTNMLGQEVIIHZETBFTNGXQTIYTAZVOQVOAVGGHGBPCHRAVRKNYWCZQXLEBYSPAVQKOYIFIKWBNHMZBTTNMZFF'"
   ]
  },
  {
   "cell_type": "markdown",
   "metadata": {},
   "source": [
    "#### Plotly to visualize data https://plot.ly"
   ]
  },
  {
   "cell_type": "code",
   "execution_count": null,
   "metadata": {},
   "outputs": [],
   "source": [
    "from plotly import graph_objs as go\n",
    "from plotly.offline import init_notebook_mode, iplot\n",
    "init_notebook_mode(connected=True)"
   ]
  },
  {
   "cell_type": "markdown",
   "metadata": {},
   "source": [
    "### Find the key length"
   ]
  },
  {
   "cell_type": "markdown",
   "metadata": {},
   "source": [
    "#### Trigraphs frequency analysis"
   ]
  },
  {
   "cell_type": "code",
   "execution_count": null,
   "metadata": {},
   "outputs": [],
   "source": [
    "from itertools import combinations, product\n",
    "\n",
    "\n",
    "frequencies = {}\n",
    "for letters in product(alphabet, repeat=3):\n",
    "    trigraph = ''.join(letters)\n",
    "    frequencies[trigraph] = encrypted_text.count(trigraph)\n",
    "\n",
    "top_30_trigraphs = sorted(frequencies, key=frequencies.__getitem__, reverse=True)[:30]\n",
    "top_30_trigraphs_count = [frequencies[trigraph] for trigraph in top_30_trigraphs]\n",
    "iplot([go.Bar(x=top_30_trigraphs, y=top_30_trigraphs_count)])"
   ]
  },
  {
   "cell_type": "code",
   "execution_count": null,
   "metadata": {},
   "outputs": [],
   "source": [
    "import re\n",
    "\n",
    "iterator = re.compile('TNM').finditer(encrypted_text)\n",
    "previous_index = 0\n",
    "for i in iterator:\n",
    "    trigraph_position = i.span()[0]\n",
    "    print(trigraph_position)\n",
    "    print('Distance:', trigraph_position - previous_index)\n",
    "    previous_index = trigraph_position"
   ]
  },
  {
   "cell_type": "markdown",
   "metadata": {},
   "source": [
    "### Key length is probably 6\n",
    "Lets create 5 sets of letters and find most common ones"
   ]
  },
  {
   "cell_type": "code",
   "execution_count": null,
   "metadata": {},
   "outputs": [],
   "source": [
    "strings = []\n",
    "for i in range(6):\n",
    "    strings.append(encrypted_text[i::6])\n",
    "\n",
    "for s in strings:\n",
    "    letter_frequencies = {}\n",
    "    for letter in alphabet:\n",
    "        letter_frequencies[letter] = s.count(letter)\n",
    "\n",
    "    chart_letters = sorted(letter_frequencies, key=letter_frequencies.__getitem__, reverse=True)\n",
    "    chart_letters_count = sorted(letter_frequencies.values(), reverse=True)\n",
    "    iplot([go.Bar(x=chart_letters, y=chart_letters_count)])"
   ]
  },
  {
   "cell_type": "code",
   "execution_count": null,
   "metadata": {},
   "outputs": [],
   "source": [
    "from itertools import cycle\n",
    "\n",
    "\n",
    "# Don't forget to fill the key\n",
    "key = ''\n",
    "plain_text = ''\n",
    "\n",
    "vigerene_matrix = []\n",
    "for i in range(len(alphabet)):\n",
    "    row = list(alphabet[i:] + alphabet[:i])\n",
    "    vigerene_matrix.append(row)\n",
    "\n",
    "\n",
    "for letter, key_letter in zip(encrypted_text, cycle(key)):\n",
    "    decrypted_letter_index = (alphabet.index(letter) - alphabet.index(key_letter)) % 26\n",
    "    decrypted_letter = alphabet[decrypted_letter_index]\n",
    "    plain_text += decrypted_letter\n",
    "\n",
    "print(plain_text)"
   ]
  }
 ],
 "metadata": {
  "kernelspec": {
   "display_name": "Python 3",
   "language": "python",
   "name": "python3"
  },
  "language_info": {
   "codemirror_mode": {
    "name": "ipython",
    "version": 3
   },
   "file_extension": ".py",
   "mimetype": "text/x-python",
   "name": "python",
   "nbconvert_exporter": "python",
   "pygments_lexer": "ipython3",
   "version": "3.7.0"
  }
 },
 "nbformat": 4,
 "nbformat_minor": 2
}
