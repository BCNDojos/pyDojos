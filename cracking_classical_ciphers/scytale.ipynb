{
 "cells": [
  {
   "cell_type": "markdown",
   "metadata": {},
   "source": [
    "# Scytale"
   ]
  },
  {
   "cell_type": "markdown",
   "metadata": {},
   "source": [
    "<img src=\"img/scytale.png\" width=\"220\" align=\"right\">\n",
    "\n",
    "- ### Task #3: Encrypt with the key `6` this message:\n",
    "  `YESTERDAY ALL MY TROUBLES SEEMED SO FAR AWAY`\n",
    "\n",
    "&nbsp;|1|2|3|4|5|6|7\n",
    "-|-|-|-|-|-|-|-\n",
    "1|Y|E|S|T|E|R|D\n",
    "2|A|Y|A|L|L|M|\n",
    "3|Y|T|R|O|U|B|\n",
    "4|L|E|S|S|E|E|\n",
    "5|M|E|D|S|O|F|\n",
    "6|A|R|A|W|A|Y|\n",
    "\n",
    "&nbsp;|1|2|3|4|5|6|7\n",
    "-|-|-|-|-|-|-|-\n",
    "1|Y|E|S|T|E|R|D\n",
    "2|A|Y|A|L|L|M|Y\n",
    "3|T|R|O|U|B|L|E\n",
    "4|S|S|E|E|M|E|D\n",
    "5|S|O|F|A|R|A|W\n",
    "6|A|Y|·|·|·|·|·\n",
    "\n",
    "Expected result:\n",
    "`YATSSAEYRSOYSAOEFTLUEAELBMRRMLEADYEDW`"
   ]
  },
  {
   "cell_type": "markdown",
   "metadata": {},
   "source": [
    "- ### Task #4: Decrypt the scytale you have on the table or download it here: https://goo.gl/7Rt87q"
   ]
  }
 ],
 "metadata": {
  "kernelspec": {
   "display_name": "Python 3",
   "language": "python",
   "name": "python3"
  },
  "language_info": {
   "codemirror_mode": {
    "name": "ipython",
    "version": 3
   },
   "file_extension": ".py",
   "mimetype": "text/x-python",
   "name": "python",
   "nbconvert_exporter": "python",
   "pygments_lexer": "ipython3",
   "version": "3.7.0"
  }
 },
 "nbformat": 4,
 "nbformat_minor": 2
}
