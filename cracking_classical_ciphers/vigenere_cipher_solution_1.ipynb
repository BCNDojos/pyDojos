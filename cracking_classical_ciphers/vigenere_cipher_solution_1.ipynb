{
 "cells": [
  {
   "cell_type": "markdown",
   "metadata": {},
   "source": [
    "# Vigenere cipher\n",
    "<img src=\"img/vigenere.jpg\" width=\"220\" align=\"right\">\n",
    "\n",
    "- ### Task #7: Encode with key=`BCN`:\n",
    "  `HELLO WORLD`"
   ]
  },
  {
   "cell_type": "markdown",
   "metadata": {},
   "source": [
    "### Solution"
   ]
  },
  {
   "cell_type": "code",
   "execution_count": 1,
   "metadata": {},
   "outputs": [],
   "source": [
    "key = 'BCN'\n",
    "plain_text = 'HELLO WORLD'.replace(' ', '')"
   ]
  },
  {
   "cell_type": "code",
   "execution_count": 2,
   "metadata": {},
   "outputs": [],
   "source": [
    "from string import ascii_uppercase as alphabet\n",
    "from pprint import pprint\n",
    "\n",
    "\n",
    "vigerene_matrix = []\n",
    "for i in range(len(alphabet)):\n",
    "    row = list(alphabet[i:] + alphabet[:i])\n",
    "    vigerene_matrix.append(row)"
   ]
  },
  {
   "cell_type": "code",
   "execution_count": 3,
   "metadata": {},
   "outputs": [
    {
     "name": "stdout",
     "output_type": "stream",
     "text": [
      "IGYMQJPTYE\n"
     ]
    }
   ],
   "source": [
    "from itertools import cycle\n",
    "\n",
    "\n",
    "encrypted_text = ''\n",
    "\n",
    "for letter, key_letter in zip(plain_text, cycle(key)):\n",
    "    column = alphabet.index(letter)\n",
    "    row = alphabet.index(key_letter)\n",
    "    encrypted_text += vigerene_matrix[column][row]\n",
    "\n",
    "print(encrypted_text)"
   ]
  }
 ],
 "metadata": {
  "kernelspec": {
   "display_name": "Python 3",
   "language": "python",
   "name": "python3"
  },
  "language_info": {
   "codemirror_mode": {
    "name": "ipython",
    "version": 3
   },
   "file_extension": ".py",
   "mimetype": "text/x-python",
   "name": "python",
   "nbconvert_exporter": "python",
   "pygments_lexer": "ipython3",
   "version": "3.7.0"
  }
 },
 "nbformat": 4,
 "nbformat_minor": 2
}
