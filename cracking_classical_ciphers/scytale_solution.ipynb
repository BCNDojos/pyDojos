{
 "cells": [
  {
   "cell_type": "markdown",
   "metadata": {},
   "source": [
    "# Scytale\n",
    "<img src=\"img/scytale.png\" width=\"220\" align=\"right\">\n",
    "\n",
    "- ### Task #3: Encrypt with the key `6` this message:\n",
    "  `YESTERDAY ALL MY TROUBLES SEEMED SO FAR AWAY`"
   ]
  },
  {
   "cell_type": "markdown",
   "metadata": {},
   "source": [
    "&nbsp;|1|2|3|4|5|6|7\n",
    "-|-|-|-|-|-|-|-\n",
    "1|Y|E|S|T|E|R|D\n",
    "2|A|Y|A|L|L|M|\n",
    "3|Y|T|R|O|U|B|\n",
    "4|L|E|S|S|E|E|\n",
    "5|M|E|D|S|O|F|\n",
    "6|A|R|A|W|A|Y|"
   ]
  },
  {
   "cell_type": "markdown",
   "metadata": {},
   "source": [
    "### Task #3 Solution"
   ]
  },
  {
   "cell_type": "code",
   "execution_count": null,
   "metadata": {},
   "outputs": [],
   "source": [
    "KEY = 13\n",
    "plain_text = 'YESTERDAY ALL MY TROUBLES SEEMED SO FAR AWAY'\n",
    "plain_text = plain_text.replace(' ', '')\n",
    "\n",
    "print(plain_text)"
   ]
  },
  {
   "cell_type": "markdown",
   "metadata": {},
   "source": [
    "1|2|3|4|5|6|7|8|9|10|11|12|13|14|15|16|17|18|19|20|21|22|23|24|25|26|27|28|29|30|31|32|33|34|35|36|37\n",
    "-|-|-|-|-|-|-|-|-|--|--|--|--|--|--|--|--|--|--|--|--|--|--|--|--|--|--|--|--|--|--|--|--|--|--|--|--\n",
    "Y|E|S|T|E|R|D|A|Y|A |L |L |M |Y |T |R |O |U |B |L |E |S |S |E |E |M |E |D |S |O |F |A |R |A |W |A |Y"
   ]
  },
  {
   "cell_type": "code",
   "execution_count": null,
   "metadata": {},
   "outputs": [],
   "source": [
    "# fill plain text with empty spaces\n",
    "from math import ceil\n",
    "\n",
    "str_len = ceil(len(plain_text) / KEY)\n",
    "spaces = KEY * str_len - len(plain_text)\n",
    "for i in range(spaces):\n",
    "    if i == 0:\n",
    "        plain_text += '.'\n",
    "        continue\n",
    "    insert_index = - (str_len * i)\n",
    "    plain_text = plain_text[:insert_index] + '.' + plain_text[insert_index:]\n",
    "\n",
    "print(plain_text)"
   ]
  },
  {
   "cell_type": "markdown",
   "metadata": {},
   "source": [
    "1|2|3|4|5|6|7|8|9|10|11|12|13|14|15|16|17|18|19|20|21|22|23|24|25|26|27|28|29|30|31|32|33|34|35|36|37|38|39|40|41|42\n",
    "-|-|-|-|-|-|-|-|-|--|--|--|--|--|--|--|--|--|--|--|--|--|--|--|--|--|--|--|--|--|--|--|--|--|--|--|--|--|--|--|--|--\n",
    "Y|E|S|T|E|R|D|A|Y|A|L|L|M|.|Y|T|R|O|U|B|.|L|E|S|S|E|E|.|M|E|D|S|O|F|.|A|R|A|W|A|Y|."
   ]
  },
  {
   "cell_type": "code",
   "execution_count": null,
   "metadata": {},
   "outputs": [],
   "source": [
    "encrypted_text = ''\n",
    "for i in range(str_len):\n",
    "    encrypted_text += plain_text[i::str_len]\n",
    "\n",
    "print(encrypted_text)"
   ]
  },
  {
   "cell_type": "code",
   "execution_count": null,
   "metadata": {},
   "outputs": [],
   "source": [
    "encrypted_text = encrypted_text.replace('.', '')\n",
    "\n",
    "print(encrypted_text)"
   ]
  },
  {
   "cell_type": "markdown",
   "metadata": {},
   "source": [
    "### Task #4 Solution"
   ]
  },
  {
   "cell_type": "code",
   "execution_count": null,
   "metadata": {},
   "outputs": [],
   "source": [
    "encrypted_text = 'YTDLESCNSATPAEEAOWSHEYMOLYSRYVAUAAGE'\n",
    "\n",
    "\n",
    "str_len = ceil(len(encrypted_text) / KEY)\n",
    "\n",
    "for key in range(2, len(encrypted_text)+1):\n",
    "    spaces = key * str_len - len(encrypted_text)\n",
    "    encrypted_text_copy = encrypted_text + '.'*spaces\n",
    "    plain_text = ''\n",
    "    for i in range(key):\n",
    "        plain_text += encrypted_text_copy[i::key]\n",
    "    plain_text = plain_text.replace('.', '')\n",
    "    print(plain_text, 'Key:', key)\n"
   ]
  }
 ],
 "metadata": {
  "kernelspec": {
   "display_name": "Python 3",
   "language": "python",
   "name": "python3"
  },
  "language_info": {
   "codemirror_mode": {
    "name": "ipython",
    "version": 3
   },
   "file_extension": ".py",
   "mimetype": "text/x-python",
   "name": "python",
   "nbconvert_exporter": "python",
   "pygments_lexer": "ipython3",
   "version": "3.7.0"
  }
 },
 "nbformat": 4,
 "nbformat_minor": 2
}
