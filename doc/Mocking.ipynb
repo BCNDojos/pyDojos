{
 "metadata": {
  "name": "",
  "signature": "sha256:f06f04b7e83dc72d9dea1261c6bc2046f51c166272a4d356af32774eae0ae6bd"
 },
 "nbformat": 3,
 "nbformat_minor": 0,
 "worksheets": [
  {
   "cells": [
    {
     "cell_type": "heading",
     "level": 1,
     "metadata": {},
     "source": [
      "Testing: Mocking"
     ]
    },
    {
     "cell_type": "markdown",
     "metadata": {},
     "source": [
      "Mocking is a testing technique in which we create a faked element which will behave or look like another real one, so the tested element can work as expected. A very good example would be the role of the crash test dummies in car design tests."
     ]
    },
    {
     "cell_type": "heading",
     "level": 2,
     "metadata": {},
     "source": [
      "Why to mock?"
     ]
    },
    {
     "cell_type": "markdown",
     "metadata": {},
     "source": [
      "In testing, mocking is used to simulate the behavior of a real complex element which is impractical or impossible to incorporate in the test. If an element presents any of the following characteristics, it would be useful to use a mock:\n",
      "\n",
      " * It supplies non-deterministic values, like times, temperature, etc.\n",
      " * It can present states difficult to reproduce, like delays, disconnections, etc.\n",
      " * It requires an initialization which might slow the test run.\n",
      " * Its interfaces are not know, existing, or stable.\n",
      " * It would need to include information or methods exclusively for testing purposes, like measurement, or counting."
     ]
    },
    {
     "cell_type": "heading",
     "level": 2,
     "metadata": {},
     "source": [
      "How to mock?"
     ]
    },
    {
     "cell_type": "markdown",
     "metadata": {},
     "source": [
      "Mock objects have the same interface of the objects they mimic, so the objects using them are unaware they're not the real object. Most mocking frameworks allow to specify which, and in what order, methods will be invoked, with which parameters, as well as the values that should be returned."
     ]
    },
    {
     "cell_type": "heading",
     "level": 3,
     "metadata": {},
     "source": [
      "Kinds of mocks"
     ]
    },
    {
     "cell_type": "markdown",
     "metadata": {},
     "source": [
      "There are some terms to refer to mocks that usually point to subtile differences:\n",
      "\n",
      "  * **Double**: It is the generic name for a pretend object used in place of a real one, for testing purposes.\n",
      "  * **Dummy**: It's an object to be passed around but never actually used.\n",
      "  * **Fake**: These objects have working implementations, but they're taking shortcuts from the real objects.\n",
      "  * **Stub**: In that case, the object provides the interface for specific behavior expected, and corresponding canned responses.\n",
      "  * **Mock**: This kind of object is used for setting expectations, not only the interface and its responses. These expectations may intervene to determine test's failure or success.\n",
      "\n",
      "Some of these terms can be twisted, depending on the author, like using the term fake, instead of stub. So these are the widest set and definitions."
     ]
    },
    {
     "cell_type": "heading",
     "level": 2,
     "metadata": {},
     "source": [
      "Example"
     ]
    },
    {
     "cell_type": "markdown",
     "metadata": {},
     "source": [
      "In this example, we're working in a selling system which communicates with the warehouse system, to determine if there are enough quantity of the product."
     ]
    },
    {
     "cell_type": "code",
     "collapsed": false,
     "input": [
      "%%file tests.py\n",
      "import unittest\n",
      "import mock\n",
      "import pos\n",
      "\n",
      "class SellingSystemTest(unittest.TestCase):\n",
      "    def setUp(self):\n",
      "        self.warehouse = mock.Mock()\n",
      "        self.point_of_sale = pos.POS(warehouse = self.warehouse)\n",
      "\n",
      "    def test_product_existance(self):\n",
      "        self.warehouse.check_product.return_value = True\n",
      "        self.point_of_sale.add('Product A', 25)\n",
      "        self.warehouse.check_product.assert_called_with('Product A', 25)\n",
      "\n",
      "if __name__ == '__main__':\n",
      "    unittest.main()"
     ],
     "language": "python",
     "metadata": {},
     "outputs": []
    },
    {
     "cell_type": "code",
     "collapsed": false,
     "input": [
      "%%file pos.py\n",
      "class POS():\n",
      "    def __init__(self, warehouse):\n",
      "        pass\n",
      "\n",
      "    def add(self, name, quantity):\n",
      "        pass"
     ],
     "language": "python",
     "metadata": {},
     "outputs": []
    },
    {
     "cell_type": "code",
     "collapsed": false,
     "input": [
      "!python tests.py"
     ],
     "language": "python",
     "metadata": {},
     "outputs": []
    },
    {
     "cell_type": "code",
     "collapsed": false,
     "input": [
      "%%file pos.py\n",
      "class POS():\n",
      "    def __init__(self, warehouse):\n",
      "        self.warehouse = warehouse\n",
      "\n",
      "    def add(self, name, quantity):\n",
      "        self.warehouse.check_product(name, quantity)"
     ],
     "language": "python",
     "metadata": {},
     "outputs": []
    },
    {
     "cell_type": "code",
     "collapsed": false,
     "input": [
      "!python tests.py"
     ],
     "language": "python",
     "metadata": {},
     "outputs": []
    }
   ],
   "metadata": {}
  }
 ]
}